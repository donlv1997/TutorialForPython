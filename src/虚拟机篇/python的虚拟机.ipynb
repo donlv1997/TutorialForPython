{
 "cells": [
  {
   "cell_type": "markdown",
   "metadata": {},
   "source": [
    "# CPython的虚拟机\n",
    "\n",
    "CPython 使用一个基于栈的虚拟机.也就是说它完全面向栈数据结构的(你可以\"推入(push)\"一个东西到栈顶，或者从栈顶上\"弹出(pop)\"一个东西来).\n",
    "\n",
    "CPython 使用三种类型的栈:\n",
    "\n",
    "+ 调用栈(call stack)\n",
    "\n",
    "    这是运行 Python 程序的主要结构.它为每个当前活动的函数调用使用了一个东西--\"帧(frame)\".栈底是程序的入口点.每个函数调用推送一个新的帧到调用栈,每当函数调用返回后,这个帧被销毁.\n",
    "    \n",
    "+ 计算栈(evaluation stack)\n",
    "\n",
    "    也称为数据栈(data stack).在每个帧中有一个计算栈.这个栈就是 Python 函数运行的地方.运行的 Python 代码大多数是由推入到这个栈中的东西组成的,这个栈负责操作它们.然后在返回后销毁它们。\n",
    "\n",
    "+ 块栈(block stack)\n",
    "\n",
    "    在每个帧中还有一个块栈.它被 Python 用于去跟踪某些类型的控制结构--循环、`try / except 块`、以及 `with 块`，全部推入到块栈中,当你退出这些控制结构时块栈被销毁.这将帮助 Python 了解任意给定时刻哪个块是活动的.比如，一个 continue 或者 break 语句可能影响正确的块.\n",
    "    \n",
    "    \n"
   ]
  },
  {
   "cell_type": "code",
   "execution_count": null,
   "metadata": {},
   "outputs": [],
   "source": []
  }
 ],
 "metadata": {
  "kernelspec": {
   "display_name": "Python 3",
   "language": "python",
   "name": "python3"
  },
  "language_info": {
   "codemirror_mode": {
    "name": "ipython",
    "version": 3
   },
   "file_extension": ".py",
   "mimetype": "text/x-python",
   "name": "python",
   "nbconvert_exporter": "python",
   "pygments_lexer": "ipython3",
   "version": "3.6.4"
  }
 },
 "nbformat": 4,
 "nbformat_minor": 2
}
