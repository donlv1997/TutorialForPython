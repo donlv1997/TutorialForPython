{
 "cells": [
  {
   "cell_type": "markdown",
   "metadata": {},
   "source": [
    "# 标准输入输出\n",
    "\n",
    "python提供了标准输入输出的高级接口\n",
    "\n",
    "+ `input(prompt:str='')->str`\n",
    "\n",
    "`prompt`是提示文本\n",
    "\n",
    "\n",
    "+ `print(value, ..., sep=' ', end='\\n', file=sys.stdout, flush=False)`\n",
    "\n",
    "    + `file`:  默认为标准输出,但可以指定一个文件对象用于输出\n",
    "    + `sep`: 字符串插入值之间，默认为空格。\n",
    "    + `end`: 字符串附加在最后一个值之后，默认换行符。  \n",
    "    + `flush`: 是否强制冲洗替换流。\n",
    "    \n",
    "这两个接口一般也是我们从helloworld开始就接触到的东西.下面的例子展示了它的用法:"
   ]
  },
  {
   "cell_type": "code",
   "execution_count": 4,
   "metadata": {},
   "outputs": [
    {
     "name": "stdout",
     "output_type": "stream",
     "text": [
      "Overwriting src/stdio/helloworld.py\n"
     ]
    }
   ],
   "source": [
    "%%writefile src/stdio/helloworld.py\n",
    "\n",
    "def main():\n",
    "    who = input(\"你是谁?\")\n",
    "    print(f\"hello world {who}!\")\n",
    "    \n",
    "if __name__ == \"__main__\":\n",
    "    main()"
   ]
  },
  {
   "cell_type": "markdown",
   "metadata": {},
   "source": [
    "## 标准输入的低级接口\n",
    "\n",
    "实际上上面这两个接口都是高级接口,是通过封装`sys`模块下的对应接口实现的.\n",
    "\n",
    "标准输入的低级接口是`sys.stdin`,其有两个方法:\n",
    "\n",
    "+ `sys.stdin.read()`:读取数据`ctrl+d`是结束输入.`enter`是换行.故可以接受多行输入\n",
    "\n",
    "+ `sys.stdin.readline()`:会将标准输入全部获取,包括末尾的'\\n',因此用len计算长度时是把换行符'\\n'算进去了的.遇到`enter`结束,注意它是从第一个回车开始的\n",
    "\n",
    "而`sys.stdin`本身与可读文件对象具有相同的接口."
   ]
  },
  {
   "cell_type": "code",
   "execution_count": 6,
   "metadata": {},
   "outputs": [
    {
     "name": "stdout",
     "output_type": "stream",
     "text": [
      "Overwriting src/stdio/helloworld_stdin.py\n"
     ]
    }
   ],
   "source": [
    "%%writefile src/stdio/helloworld_stdin.py\n",
    "\n",
    "import sys\n",
    "\n",
    "def main():\n",
    "    print(\"你是谁?\")\n",
    "    sys.stdin.readline()\n",
    "    while True:\n",
    "        line = sys.stdin.readline() \n",
    "        if not line: \n",
    "            break \n",
    "        who = line.strip()\n",
    "        print(f\"hello world {who}!\")\n",
    "        \n",
    "    \n",
    "if __name__ == \"__main__\":\n",
    "    main()"
   ]
  },
  {
   "cell_type": "markdown",
   "metadata": {},
   "source": [
    "## 标准输出的低级接口\n",
    "\n",
    "标准输出的低级接口是`sys.stdout`,它是一个可写的文件对象.和它类似的是`sys.stderr`.`print`函数实际上就是调用的他们的`write`方法,并且`print`中也可以通过`file`参数来指定一个有`write`接口的可写文件对象来写入输出."
   ]
  },
  {
   "cell_type": "code",
   "execution_count": 8,
   "metadata": {},
   "outputs": [
    {
     "name": "stdout",
     "output_type": "stream",
     "text": [
      "Overwriting src/stdio/helloworld_stdout.py\n"
     ]
    }
   ],
   "source": [
    "%%writefile src/stdio/helloworld_stdout.py\n",
    "import sys\n",
    "def main():\n",
    "    who = input(\"你是谁?\")\n",
    "    sys.stdout.write(f\"hello world {who}!\")\n",
    "    \n",
    "if __name__ == \"__main__\":\n",
    "    main()"
   ]
  }
 ],
 "metadata": {
  "kernelspec": {
   "display_name": "Python 3",
   "language": "python",
   "name": "python3"
  },
  "language_info": {
   "codemirror_mode": {
    "name": "ipython",
    "version": 3
   },
   "file_extension": ".py",
   "mimetype": "text/x-python",
   "name": "python",
   "nbconvert_exporter": "python",
   "pygments_lexer": "ipython3",
   "version": "3.7.2"
  }
 },
 "nbformat": 4,
 "nbformat_minor": 2
}
