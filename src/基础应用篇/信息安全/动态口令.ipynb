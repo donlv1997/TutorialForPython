{
 "cells": [
  {
   "cell_type": "markdown",
   "metadata": {},
   "source": [
    "# 动态口令\n",
    "\n",
    "在前面的文章中我们介绍的工具实现了如下的功能:\n",
    "\n",
    "+ 防止信息被篡改(摘要算法)\n",
    "+ 防止未经授权第三方获取信息(加密算法)\n",
    "+ 确保信息来自特定的来源(数字签名)\n",
    "\n",
    "\n",
    "现在还留下来一个问题,如何确认消息的发送/接收方就是我们要发送去的那个人呢?这个就是身份识别问题\n",
    "\n",
    "\n",
    "密码学认为有三类要素可以确认\"你就是你\":\n",
    "\n",
    "1. 你知道的要素,比如密码、暗号等等.这件事只有你知道别人不知道\n",
    "\n",
    "2. 你拥有的要素,一把钥匙、一块手表、一件信物等等.这件东西只有你有别人没有.\n",
    "\n",
    "3. 你的生理要素如指纹、面部特征、DNA等等.这些生理特征每个人都不一样\n",
    "\n",
    "上面的这三类要素,任何单独的一个都可以确认\"你就是你\",但不够安全.如果能够两个要素联合确认,那么安全系数就大大提高了.\n",
    "\n",
    "密码属于第一类要素,比如很多银行会向用户提供U盾,要求使用时插入,这属于第二类要素,这个U盾只有你有别人没有.再比如,新开业的网上银行很可能要求用户使用摄像头\"刷脸\",与身份证比对,这属于第三类要素,你的脸来证明\"你就是你\".\n",
    "\n",
    "\n",
    "这篇文章我们讲的是第二类要素的一种实现方式--动态口令,其实不少U盾也是使用的动态口令,但恐怕应用更广的是[google authenticator](https://play.google.com/store/apps/details?id=com.google.android.apps.authenticator2&hl=zh_CN)"
   ]
  },
  {
   "cell_type": "markdown",
   "metadata": {},
   "source": [
    "## TOTP\n",
    "\n",
    "常见的动态口令生成器都使用的是TOTP算法,TOTP的全称是\"基于时间的一次性密码\"(Time-based One-time Password)它是公认的可靠解决方案,已经写入国际标准[RFC6238](https://tools.ietf.org/html/rfc6238)\n",
    "\n",
    "它的步骤如下:\n",
    "\n",
    "1. 用户开启双因素认证后服务器生成一个密钥.\n",
    "\n",
    "2. 服务器提示用户扫描二维码(或者使用其他方式)把密钥保存到用户的手机或者在出厂是秘钥拷贝到U盾.也就是说服务器和U盾/用户的手机现在都有了同一把密钥.注意,密钥必须跟U盾/手机绑定.一旦用户更换就必须生成全新的密钥.也就是说U盾/手机就成了你有别人没有的信物.\n",
    "\n",
    "3. 用户登录时U盾/手机客户端使用这个密钥和当前时间戳,生成一个哈希,其有效期默认为30秒.用户在有效期内把这个哈希提交给服务器.\n",
    "\n",
    "4. 服务器也使用密钥和当前时间戳生成一个哈希,跟用户提交的哈希比对.只要两者不一致.就拒绝登录.就可以说明自己是自己了\n",
    "\n",
    "\n",
    "\n",
    "其hash算法如下:\n",
    "\n",
    "$$TOTP = HASH(SecretKey, TC)$$\n",
    "\n",
    "其中`TC`表示一个时间计数器,其计算方式如下:\n",
    "\n",
    "$$ TC = floor((unixtime(now) − unixtime(T0)) / TS) $$\n",
    "\n",
    "`TS`为间隔也就是默认的30s,`unixtime(now)`为当前的unix时间戳,`unixtime(T0)`通常是unix时间戳的起始时间也就是1970年1月1日.\n",
    "\n",
    "python中要使用TOTP算法可以使用开源库[pyotp](https://github.com/pyauth/pyotp)"
   ]
  },
  {
   "cell_type": "code",
   "execution_count": 1,
   "metadata": {},
   "outputs": [],
   "source": [
    "import pyotp\n",
    "import time"
   ]
  },
  {
   "cell_type": "code",
   "execution_count": 2,
   "metadata": {},
   "outputs": [
    {
     "data": {
      "text/plain": [
       "'3AC3UWMVU4BSCKBA'"
      ]
     },
     "execution_count": 2,
     "metadata": {},
     "output_type": "execute_result"
    }
   ],
   "source": [
    "secret = pyotp.random_base32() #获取随机密钥，存于用户表中\n",
    "secret"
   ]
  },
  {
   "cell_type": "code",
   "execution_count": 3,
   "metadata": {},
   "outputs": [
    {
     "data": {
      "text/plain": [
       "'062759'"
      ]
     },
     "execution_count": 3,
     "metadata": {},
     "output_type": "execute_result"
    }
   ],
   "source": [
    "totp = pyotp.TOTP(secret)\n",
    "totp.now()"
   ]
  },
  {
   "cell_type": "code",
   "execution_count": 4,
   "metadata": {
    "scrolled": true
   },
   "outputs": [
    {
     "data": {
      "text/plain": [
       "False"
      ]
     },
     "execution_count": 4,
     "metadata": {},
     "output_type": "execute_result"
    }
   ],
   "source": [
    "totp.verify('492039') # => True\n",
    "time.sleep(30)\n",
    "totp.verify('492039') # => False"
   ]
  },
  {
   "cell_type": "markdown",
   "metadata": {},
   "source": [
    "### 结合google authenticator为自己的服务创建令牌\n",
    "\n",
    "`google authenticator`接收一种形式为`'otpauth://totp/{issuer_name}:{username}?secret={secret}&issuer={issuer_name}'`的url作为参数,它会通过二维码获取到这种url然后解析了保存在客户端上."
   ]
  },
  {
   "cell_type": "code",
   "execution_count": 5,
   "metadata": {},
   "outputs": [
    {
     "data": {
      "text/plain": [
       "'LF5Q4HGEX5FCGTQO'"
      ]
     },
     "execution_count": 5,
     "metadata": {},
     "output_type": "execute_result"
    }
   ],
   "source": [
    "import pyotp\n",
    "import time\n",
    "secret = pyotp.random_base32() #获取随机密钥，存于用户表中\n",
    "secret"
   ]
  },
  {
   "cell_type": "code",
   "execution_count": 6,
   "metadata": {},
   "outputs": [],
   "source": [
    "otpurl = pyotp.TOTP(secret).provisioning_uri('hsz1273327', issuer_name=\"Verfiy_Code\")"
   ]
  },
  {
   "cell_type": "code",
   "execution_count": 7,
   "metadata": {},
   "outputs": [
    {
     "data": {
      "text/plain": [
       "'otpauth://totp/Verfiy_Code:hsz1273327?secret=LF5Q4HGEX5FCGTQO&issuer=Verfiy_Code'"
      ]
     },
     "execution_count": 7,
     "metadata": {},
     "output_type": "execute_result"
    }
   ],
   "source": [
    "otpurl"
   ]
  },
  {
   "cell_type": "markdown",
   "metadata": {},
   "source": [
    "我们可以借助qrcode包创建一个二维码"
   ]
  },
  {
   "cell_type": "code",
   "execution_count": 10,
   "metadata": {},
   "outputs": [],
   "source": [
    "from qrcode import QRCode,constants\n",
    "from pathlib import Path\n",
    "def get_qrcode(secret_key,username):\n",
    "    data = pyotp.TOTP(secret_key).provisioning_uri(username, issuer_name=\"Verfiy_Code\")\n",
    "    qr = QRCode(\n",
    "        version=1,\n",
    "        error_correction=constants.ERROR_CORRECT_L,\n",
    "        box_size=6,\n",
    "        border=4\n",
    "    )\n",
    "    try:\n",
    "        qr.add_data(data)\n",
    "        qr.make(fit=True)\n",
    "        img = qr.make_image()\n",
    "        img.save(f\"./{secret_key}.png\") #保存条形码图片\n",
    "        return True\n",
    "    except Exception as e:\n",
    "        return False"
   ]
  },
  {
   "cell_type": "code",
   "execution_count": 11,
   "metadata": {},
   "outputs": [
    {
     "data": {
      "text/plain": [
       "True"
      ]
     },
     "execution_count": 11,
     "metadata": {},
     "output_type": "execute_result"
    }
   ],
   "source": [
    "get_qrcode(secret_key=secret,username=\"hsz1273327\")"
   ]
  },
  {
   "cell_type": "markdown",
   "metadata": {},
   "source": [
    "![](./LF5Q4HGEX5FCGTQO.png)"
   ]
  },
  {
   "cell_type": "markdown",
   "metadata": {},
   "source": [
    "之后打开google authenticator扫码添加即可,我们就会多一个叫Verfiy_Code的项目,我们将其中的动态令牌拿来验证"
   ]
  },
  {
   "cell_type": "code",
   "execution_count": 15,
   "metadata": {},
   "outputs": [],
   "source": [
    "import pyotp\n",
    "def Google_Verify_Result(secret_key,verifycode):\n",
    "    t = pyotp.TOTP(secret_key)\n",
    "    result = t.verify(verifycode) #对输入验证码进行校验，正确返回True\n",
    "    return result"
   ]
  },
  {
   "cell_type": "code",
   "execution_count": 18,
   "metadata": {},
   "outputs": [
    {
     "data": {
      "text/plain": [
       "True"
      ]
     },
     "execution_count": 18,
     "metadata": {},
     "output_type": "execute_result"
    }
   ],
   "source": [
    "Google_Verify_Result(secret,verifycode=\"525787\")"
   ]
  }
 ],
 "metadata": {
  "kernelspec": {
   "display_name": "Python 3",
   "language": "python",
   "name": "python3"
  },
  "language_info": {
   "codemirror_mode": {
    "name": "ipython",
    "version": 3
   },
   "file_extension": ".py",
   "mimetype": "text/x-python",
   "name": "python",
   "nbconvert_exporter": "python",
   "pygments_lexer": "ipython3",
   "version": "3.7.2"
  }
 },
 "nbformat": 4,
 "nbformat_minor": 2
}
