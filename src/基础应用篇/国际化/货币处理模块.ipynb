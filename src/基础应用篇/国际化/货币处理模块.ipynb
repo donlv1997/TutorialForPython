{
 "cells": [
  {
   "cell_type": "markdown",
   "metadata": {},
   "source": [
    "# 货币处理模块\n",
    "\n",
    "各国所用货币不同,实时汇率也不同,因此货币处理在国际化上是一个比较麻烦的事儿.\n",
    "python模块[money](https://github.com/carlospalol/money)提供了一个相对好的解决方案,可以通过pip安装它,如果想要本地化的显示功能,比如打印出`￥ xxx`这种,那还需要安装babel作为依赖"
   ]
  },
  {
   "cell_type": "markdown",
   "metadata": {},
   "source": [
    "## 单一货币结算\n",
    "\n",
    "money提供了一个类`Money`来作为定义货币种类的基类,它很适合用作单货币间的运算工具,它支持的运算有\n",
    "+ 和同一货币 支持`+,-,/ 和比较操作`\n",
    "+ 和常数 支持使用`*`\n",
    "    "
   ]
  },
  {
   "cell_type": "code",
   "execution_count": 1,
   "metadata": {
    "collapsed": true
   },
   "outputs": [],
   "source": [
    "from money import Money"
   ]
  },
  {
   "cell_type": "code",
   "execution_count": 2,
   "metadata": {
    "collapsed": true
   },
   "outputs": [],
   "source": [
    "m = Money(amount='2.22', currency='EUR')"
   ]
  },
  {
   "cell_type": "code",
   "execution_count": 3,
   "metadata": {},
   "outputs": [
    {
     "data": {
      "text/plain": [
       "EUR 2.22"
      ]
     },
     "execution_count": 3,
     "metadata": {},
     "output_type": "execute_result"
    }
   ],
   "source": [
    "m"
   ]
  },
  {
   "cell_type": "code",
   "execution_count": 4,
   "metadata": {},
   "outputs": [
    {
     "data": {
      "text/plain": [
       "Decimal('2.22')"
      ]
     },
     "execution_count": 4,
     "metadata": {},
     "output_type": "execute_result"
    }
   ],
   "source": [
    "m.amount"
   ]
  },
  {
   "cell_type": "code",
   "execution_count": 5,
   "metadata": {},
   "outputs": [
    {
     "data": {
      "text/plain": [
       "'EUR'"
      ]
     },
     "execution_count": 5,
     "metadata": {},
     "output_type": "execute_result"
    }
   ],
   "source": [
    "m.currency"
   ]
  },
  {
   "cell_type": "code",
   "execution_count": 6,
   "metadata": {},
   "outputs": [
    {
     "name": "stdout",
     "output_type": "stream",
     "text": [
      "€2.22\n"
     ]
    }
   ],
   "source": [
    "print(m.format('en_US'))"
   ]
  },
  {
   "cell_type": "markdown",
   "metadata": {},
   "source": [
    "## 币种间换算\n",
    "\n",
    "对不同货币间的运算,我们需要确定比例,这需要使用其中的`xrates`类\n",
    "\n",
    "\n",
    "`xrates`类需要先install一个抽象类来作为后端,常用的是`money.exchange.SimpleBackend`\n",
    "\n",
    "之后需要确定以哪种货币作为基准,一般都是以美元为基准\n",
    "\n",
    "然后就是已定义各种货币对美元的比例了\n"
   ]
  },
  {
   "cell_type": "code",
   "execution_count": 7,
   "metadata": {
    "collapsed": true
   },
   "outputs": [],
   "source": [
    "from decimal import Decimal\n",
    "from money import xrates\n",
    "\n",
    "xrates.install('money.exchange.SimpleBackend')\n",
    "xrates.base = 'USD'\n",
    "#注意是1美元兑换目标货币的值\n",
    "xrates.setrate('EUR', Decimal('0.9279'))\n",
    "xrates.setrate('CNY', Decimal('6.8785'))\n",
    "\n",
    "a = Money(1, 'EUR')\n",
    "b = Money(1, 'CNY')"
   ]
  },
  {
   "cell_type": "code",
   "execution_count": 8,
   "metadata": {},
   "outputs": [
    {
     "data": {
      "text/plain": [
       "CNY 7.412975536156913460502209290"
      ]
     },
     "execution_count": 8,
     "metadata": {},
     "output_type": "execute_result"
    }
   ],
   "source": [
    "a.to('CNY')"
   ]
  },
  {
   "cell_type": "markdown",
   "metadata": {},
   "source": [
    "## 更灵活的换算\n",
    "\n",
    "在前面已经定义好了换算比例的情况下,可以使用`XMoney`类来直接计算不同货币种类"
   ]
  },
  {
   "cell_type": "code",
   "execution_count": 9,
   "metadata": {
    "collapsed": true
   },
   "outputs": [],
   "source": [
    "from money import XMoney\n",
    "\n",
    "\n",
    "xrates.install('money.exchange.SimpleBackend')\n",
    "xrates.base = 'USD'\n",
    "#注意是1美元兑换目标货币的值\n",
    "xrates.setrate('EUR', Decimal('0.9279'))\n",
    "xrates.setrate('CNY', Decimal('6.8785'))\n",
    "\n",
    "\n",
    "a = XMoney(1, 'EUR')\n",
    "b = XMoney(1, 'CNY')"
   ]
  },
  {
   "cell_type": "code",
   "execution_count": 10,
   "metadata": {},
   "outputs": [
    {
     "data": {
      "text/plain": [
       "EUR 1.134898597077851275714181871"
      ]
     },
     "execution_count": 10,
     "metadata": {},
     "output_type": "execute_result"
    }
   ],
   "source": [
    "a+b"
   ]
  }
 ],
 "metadata": {
  "kernelspec": {
   "display_name": "Python 3",
   "language": "python",
   "name": "python3"
  },
  "language_info": {
   "codemirror_mode": {
    "name": "ipython",
    "version": 3
   },
   "file_extension": ".py",
   "mimetype": "text/x-python",
   "name": "python",
   "nbconvert_exporter": "python",
   "pygments_lexer": "ipython3",
   "version": "3.6.4"
  }
 },
 "nbformat": 4,
 "nbformat_minor": 1
}
