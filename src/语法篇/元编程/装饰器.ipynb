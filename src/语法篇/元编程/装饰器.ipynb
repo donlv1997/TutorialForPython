{
 "cells": [
  {
   "cell_type": "markdown",
   "metadata": {},
   "source": [
    "# 装饰器\n",
    "\n",
    "函数装饰器用于在源码中\"标记\"函数,以某种方式增强函数的行为.严格来说装饰器这种形式是一种语法糖.\n",
    "\n",
    "装饰器的特点有两个:\n",
    "\n",
    "1. 装饰器是可调用的对象,其参数是另一个可调用对象.\n",
    "2. 装饰器可能会处理被装饰的可调用对象,然后把它返回,或者将其替换成另一个可调用对象\n",
    "3. 装饰器在加载模块时立即执行\n",
    "\n",
    "装饰器的形式如下:\n",
    "\n",
    "```python\n",
    "@decorator\n",
    "def call(args):\n",
    "    pass\n",
    "    \n",
    "```\n",
    "\n",
    "它等价于\n",
    "call(args) = decorator(call(args))\n",
    "\n",
    "\n",
    "本章需要的先验知识有:\n",
    "\n",
    "+ [面向对象惯用法](/TutorialForPython/语法篇/面向对象惯用法/)\n",
    "+ [函数](/语法篇/函数/)"
   ]
  },
  {
   "cell_type": "markdown",
   "metadata": {},
   "source": [
    "## 实现装饰器\n",
    "\n",
    "下面这个例子定义了一个装饰器,用来在每次调用被装饰的函数时计时,然后把经过的时间,传入的参数和调用的结果打印出来."
   ]
  },
  {
   "cell_type": "code",
   "execution_count": 1,
   "metadata": {},
   "outputs": [],
   "source": [
    "import time\n",
    "\n",
    "def timer(func):\n",
    "    def clocked(*args,**kw):\n",
    "        t0 = time.perf_counter()\n",
    "        result = func(*args,**kw)\n",
    "        elapsed = time.perf_counter() - t0\n",
    "        name = func.__name__\n",
    "        if args:\n",
    "            arg = \",\".join(repr(arg) for arg in args)\n",
    "        if kw:\n",
    "            kws = \",\".join([repr(i)+\"=\"+repr(v) for i,v in sorted(kw.items())])\n",
    "            arg = arg+\",\"+kws\n",
    "        print(\"[used:{}s] function \".format(elapsed)+func.__name__+\"(\"+arg+\")->\"+repr(result))\n",
    "        return result\n",
    "    return clocked"
   ]
  },
  {
   "cell_type": "code",
   "execution_count": 2,
   "metadata": {},
   "outputs": [],
   "source": [
    "@timer\n",
    "def snooze(seconds):\n",
    "    time.sleep(seconds)"
   ]
  },
  {
   "cell_type": "code",
   "execution_count": 3,
   "metadata": {},
   "outputs": [
    {
     "name": "stdout",
     "output_type": "stream",
     "text": [
      "[used:2.0047967199934646s] function snooze(2)->None\n"
     ]
    }
   ],
   "source": [
    "snooze(2)"
   ]
  },
  {
   "cell_type": "code",
   "execution_count": 4,
   "metadata": {},
   "outputs": [],
   "source": [
    "@timer\n",
    "def factorial(n):\n",
    "    \"\"\"factorial\"\"\"\n",
    "    return 1 if n < 2 else n*factorial(n-1)"
   ]
  },
  {
   "cell_type": "code",
   "execution_count": 5,
   "metadata": {},
   "outputs": [
    {
     "name": "stdout",
     "output_type": "stream",
     "text": [
      "[used:7.310009095817804e-07s] function factorial(1)->1\n",
      "[used:0.0001588229788467288s] function factorial(2)->2\n",
      "[used:0.0001920460199471563s] function factorial(3)->6\n",
      "[used:0.00022201001411303878s] function factorial(4)->24\n",
      "[used:0.00025161399389617145s] function factorial(5)->120\n"
     ]
    },
    {
     "data": {
      "text/plain": [
       "120"
      ]
     },
     "execution_count": 5,
     "metadata": {},
     "output_type": "execute_result"
    }
   ],
   "source": [
    "factorial(5)"
   ]
  },
  {
   "cell_type": "code",
   "execution_count": 6,
   "metadata": {},
   "outputs": [
    {
     "data": {
      "text/plain": [
       "'clocked'"
      ]
     },
     "execution_count": 6,
     "metadata": {},
     "output_type": "execute_result"
    }
   ],
   "source": [
    "factorial.__name__"
   ]
  },
  {
   "cell_type": "markdown",
   "metadata": {},
   "source": [
    "## 包装装饰器\n",
    "\n",
    "上面的装饰器有个缺点--遮盖了被装饰函数的`__name__` 和`__doc__` 属性.这时可以使用`functools.wraps` 装饰器把相关的属性从`func`复制到`clocked`中"
   ]
  },
  {
   "cell_type": "code",
   "execution_count": 7,
   "metadata": {},
   "outputs": [],
   "source": [
    "import functools\n",
    "def timer(func):\n",
    "    @functools.wraps(func)\n",
    "    def clocked(*args,**kw):\n",
    "        t0 = time.perf_counter()\n",
    "        result = func(*args,**kw)\n",
    "        elapsed = time.perf_counter() - t0\n",
    "        name = func.__name__\n",
    "        if args:\n",
    "            arg = \",\".join(repr(arg) for arg in args)\n",
    "        if kw:\n",
    "            kws = \",\".join([repr(i)+\"=\"+repr(v) for i,v in sorted(kw.items())])\n",
    "            arg = arg+\",\"+kws\n",
    "        print(\"[used:{}s] function \".format(elapsed)+func.__name__+\"(\"+arg+\")->\"+repr(result))\n",
    "        return result\n",
    "    return clocked"
   ]
  },
  {
   "cell_type": "code",
   "execution_count": 8,
   "metadata": {},
   "outputs": [],
   "source": [
    "@timer\n",
    "def snooze(seconds):\n",
    "    time.sleep(seconds)"
   ]
  },
  {
   "cell_type": "code",
   "execution_count": 9,
   "metadata": {},
   "outputs": [
    {
     "name": "stdout",
     "output_type": "stream",
     "text": [
      "[used:2.0031150709837675s] function snooze(2)->None\n"
     ]
    }
   ],
   "source": [
    "snooze(2)"
   ]
  },
  {
   "cell_type": "code",
   "execution_count": 10,
   "metadata": {},
   "outputs": [],
   "source": [
    "@timer\n",
    "def factorial(n):\n",
    "    \"\"\"factorial\"\"\"\n",
    "    return 1 if n < 2 else n*factorial(n-1)"
   ]
  },
  {
   "cell_type": "code",
   "execution_count": 11,
   "metadata": {},
   "outputs": [
    {
     "name": "stdout",
     "output_type": "stream",
     "text": [
      "[used:6.059999577701092e-07s] function factorial(1)->1\n",
      "[used:0.00015848499606363475s] function factorial(2)->2\n",
      "[used:0.0001919149945024401s] function factorial(3)->6\n",
      "[used:0.0002199050213675946s] function factorial(4)->24\n",
      "[used:0.00024739297805354s] function factorial(5)->120\n",
      "[used:0.0002766310062725097s] function factorial(6)->720\n"
     ]
    },
    {
     "data": {
      "text/plain": [
       "720"
      ]
     },
     "execution_count": 11,
     "metadata": {},
     "output_type": "execute_result"
    }
   ],
   "source": [
    "factorial(6)"
   ]
  },
  {
   "cell_type": "code",
   "execution_count": 12,
   "metadata": {},
   "outputs": [
    {
     "data": {
      "text/plain": [
       "'factorial'"
      ]
     },
     "execution_count": 12,
     "metadata": {},
     "output_type": "execute_result"
    }
   ],
   "source": [
    "factorial.__name__"
   ]
  },
  {
   "cell_type": "markdown",
   "metadata": {},
   "source": [
    "## 带参数的装饰器\n",
    "\n",
    "我们修改之前的timer,希望它可以添加一个参数,用于指定秒数的精确位数.这样就需要写一个带参数的装饰器.\n",
    "\n",
    "带参数的装饰器我们还需要再在外面套一层用来返回我们的装饰器函数."
   ]
  },
  {
   "cell_type": "code",
   "execution_count": 13,
   "metadata": {},
   "outputs": [],
   "source": [
    "import time\n",
    "import functools\n",
    "def timer(rd=3):\n",
    "    def decorate(func):\n",
    "        @functools.wraps(func)\n",
    "        def clocked(*args,**kw):\n",
    "            t0 = time.perf_counter()\n",
    "            result = func(*args,**kw)\n",
    "            rs = time.perf_counter() - t0\n",
    "            elapsed = round(rs ,rd)\n",
    "            name = func.__name__\n",
    "            if args:\n",
    "                arg = \",\".join(repr(arg) for arg in args)\n",
    "            if kw:\n",
    "                kws = \",\".join([repr(i)+\"=\"+repr(v) for i,v in sorted(kw.items())])\n",
    "                arg = arg+\",\"+kws\n",
    "            print(\"[used:{}s] function \".format(elapsed)+func.__name__+\"(\"+arg+\")->\"+repr(result))\n",
    "            return result\n",
    "        return clocked\n",
    "    return decorate"
   ]
  },
  {
   "cell_type": "code",
   "execution_count": 14,
   "metadata": {},
   "outputs": [],
   "source": [
    "@timer()\n",
    "def factorial(n):\n",
    "    \"\"\"factorial\"\"\"\n",
    "    return 1 if n < 2 else n*factorial(n-1)"
   ]
  },
  {
   "cell_type": "code",
   "execution_count": 15,
   "metadata": {},
   "outputs": [
    {
     "name": "stdout",
     "output_type": "stream",
     "text": [
      "[used:0.0s] function factorial(1)->1\n",
      "[used:0.0s] function factorial(2)->2\n"
     ]
    },
    {
     "data": {
      "text/plain": [
       "2"
      ]
     },
     "execution_count": 15,
     "metadata": {},
     "output_type": "execute_result"
    }
   ],
   "source": [
    "factorial(2)"
   ]
  },
  {
   "cell_type": "code",
   "execution_count": 16,
   "metadata": {},
   "outputs": [],
   "source": [
    "@timer(7)\n",
    "def factorial(n):\n",
    "    \"\"\"factorial\"\"\"\n",
    "    return 1 if n < 2 else n*factorial(n-1)"
   ]
  },
  {
   "cell_type": "code",
   "execution_count": 17,
   "metadata": {},
   "outputs": [
    {
     "name": "stdout",
     "output_type": "stream",
     "text": [
      "[used:7e-07s] function factorial(1)->1\n",
      "[used:0.000142s] function factorial(2)->2\n"
     ]
    },
    {
     "data": {
      "text/plain": [
       "2"
      ]
     },
     "execution_count": 17,
     "metadata": {},
     "output_type": "execute_result"
    }
   ],
   "source": [
    "factorial(2)"
   ]
  },
  {
   "cell_type": "code",
   "execution_count": 18,
   "metadata": {},
   "outputs": [
    {
     "data": {
      "text/plain": [
       "'factorial'"
      ]
     },
     "execution_count": 18,
     "metadata": {},
     "output_type": "execute_result"
    }
   ],
   "source": [
    "factorial.__name__"
   ]
  },
  {
   "cell_type": "code",
   "execution_count": 19,
   "metadata": {},
   "outputs": [
    {
     "data": {
      "text/plain": [
       "'factorial'"
      ]
     },
     "execution_count": 19,
     "metadata": {},
     "output_type": "execute_result"
    }
   ],
   "source": [
    "factorial.__doc__"
   ]
  },
  {
   "cell_type": "markdown",
   "metadata": {},
   "source": [
    "当然了返回装饰器函数的对象只要是可执行对象就行.因此或许用类来实现看起来会更加自然一些"
   ]
  },
  {
   "cell_type": "code",
   "execution_count": 20,
   "metadata": {},
   "outputs": [],
   "source": [
    "class timer:\n",
    "    def __call__(self,func):\n",
    "        @functools.wraps(func)\n",
    "        def clocked(*args,**kw):\n",
    "            t0 = time.perf_counter()\n",
    "            result = func(*args,**kw)\n",
    "            rs = time.perf_counter() - t0\n",
    "            elapsed = round(rs ,self.rd)\n",
    "            name = func.__name__\n",
    "            if args:\n",
    "                arg = \",\".join(repr(arg) for arg in args)\n",
    "            if kw:\n",
    "                kws = \",\".join([repr(i)+\"=\"+repr(v) for i,v in sorted(kw.items())])\n",
    "                arg = arg+\",\"+kws\n",
    "            print(\"[used:{}s] function \".format(elapsed)+func.__name__+\"(\"+arg+\")->\"+repr(result))\n",
    "            return result\n",
    "        return clocked\n",
    "    def __init__(self,rd=3):\n",
    "        self.rd = rd"
   ]
  },
  {
   "cell_type": "code",
   "execution_count": 21,
   "metadata": {},
   "outputs": [],
   "source": [
    "@timer(7)\n",
    "def factorial(n):\n",
    "    \"\"\"factorial\"\"\"\n",
    "    return 1 if n < 2 else n*factorial(n-1)"
   ]
  },
  {
   "cell_type": "code",
   "execution_count": 22,
   "metadata": {},
   "outputs": [
    {
     "name": "stdout",
     "output_type": "stream",
     "text": [
      "[used:4e-07s] function factorial(1)->1\n",
      "[used:8.65e-05s] function factorial(2)->2\n",
      "[used:0.0001159s] function factorial(3)->6\n"
     ]
    },
    {
     "data": {
      "text/plain": [
       "6"
      ]
     },
     "execution_count": 22,
     "metadata": {},
     "output_type": "execute_result"
    }
   ],
   "source": [
    "factorial(3)"
   ]
  },
  {
   "cell_type": "code",
   "execution_count": 23,
   "metadata": {},
   "outputs": [
    {
     "data": {
      "text/plain": [
       "'factorial'"
      ]
     },
     "execution_count": 23,
     "metadata": {},
     "output_type": "execute_result"
    }
   ],
   "source": [
    "factorial.__name__"
   ]
  },
  {
   "cell_type": "markdown",
   "metadata": {},
   "source": [
    "但从开销角度来看,显然使用函数闭包实现带参数装饰器会比使用带`__call__`方法的类实例来的更加好,毕竟函数一旦定义,调用的开销远比实例化一个类小的多,但如果需要实现一些复杂的状态管理功能,这种开销或许也是值得的."
   ]
  },
  {
   "cell_type": "markdown",
   "metadata": {},
   "source": [
    "## 类装饰器\n",
    "\n",
    "装饰器除了可以装饰函数,也可以装饰类,原理也差不多,参数是一个类,而返回的也是一个类,下面以之前的LineItem作为例子讲解如何定义和使用类装饰器."
   ]
  },
  {
   "cell_type": "markdown",
   "metadata": {},
   "source": [
    "### 定制描述符的类装饰器\n",
    "\n",
    "在[特性与描述符部分]()的倒数第二个`LineItem`例子中储存属性的名称不具有描述性,即属性(如weight)的值存储在名为`_Quantity#0`的实例属性中,这样的名称不便于调试的问题.单靠描述符无法存储属性名字,因为实例化描述符时无法得知托管属性(即绑定到描述符上的类属性,例如前述示例中的weight)的名称.\n",
    "可是,一旦组建好整个类,而且把描述符绑定到类属性上之后,我们就可以审查类,并为描述符设置合理的储存属性名称.`LineItem`类的`__new__`方法可以做到这一点,因此，在`__init__`方法中使用描述符时,储存属性已经设置了正确的名称,\n",
    "\n",
    "为了解决这个问题而使用`__new__` 方法纯属白费力气--每次新建`LineItem`实例时都会运行`__new__` 方法中的逻辑,可是，一旦`LineItem`类构建好了,描述符与托管属性之间的绑定就不会变了.因此,我们要在创建类时设置储存属性的名称.\n",
    "\n",
    "\n",
    "使用3.6的新接口`__set_name__`,类装饰器或元类都可以做到这一点.这边的例子使用类装饰器"
   ]
  },
  {
   "cell_type": "code",
   "execution_count": 24,
   "metadata": {},
   "outputs": [],
   "source": [
    "def entity(cls):\n",
    "    for key, attr in cls.__dict__.items():\n",
    "        if isinstance(attr, Validated):\n",
    "            type_name = type(attr).__name__\n",
    "            attr.storage_name = '_{}#{}'.format(type_name, key)\n",
    "    return cls"
   ]
  },
  {
   "cell_type": "code",
   "execution_count": 25,
   "metadata": {},
   "outputs": [],
   "source": [
    "import abc\n",
    "class AutoStorage:\n",
    "    __counter = 0\n",
    "    def __init__(self):\n",
    "        cls = self.__class__\n",
    "        prefix = cls.__name__\n",
    "        index = cls.__counter\n",
    "        self.storage_name = '_{}#{}'.format(prefix, index)\n",
    "        cls.__counter += 1\n",
    "    def __get__(self, instance, owner):\n",
    "        if instance is None:\n",
    "            return self\n",
    "        else:\n",
    "            return getattr(instance, self.storage_name)\n",
    "    def __set__(self, instance, value):\n",
    "        setattr(instance, self.storage_name, value)\n",
    "        \n",
    "    def __set_name__(self, owner, name):\n",
    "        self.name = name\n",
    "class Validated(abc.ABC, AutoStorage): \n",
    "    def __set__(self, instance, value):\n",
    "        value = self.validate(instance, value)\n",
    "        super().__set__(instance, value)\n",
    "    @abc.abstractmethod\n",
    "    def validate(self, instance, value):\n",
    "        \"\"\"return validated value or raise ValueError\"\"\"\n",
    "        pass\n",
    "class Quantity(Validated): \n",
    "    \"\"\"a number greater than zero\"\"\"\n",
    "    def validate(self, instance, value):\n",
    "        if value <= 0:\n",
    "            raise ValueError('value must be > 0')\n",
    "        return value\n",
    "    \n",
    "class NonBlank(Validated):\n",
    "    def validate(self, instance, value):\n",
    "        value = value.strip()\n",
    "        if len(value) == 0:\n",
    "            raise ValueError('value cannot be empty or blank')\n",
    "        return value"
   ]
  },
  {
   "cell_type": "code",
   "execution_count": 26,
   "metadata": {},
   "outputs": [],
   "source": [
    "@entity\n",
    "class LineItem:\n",
    "    description = NonBlank()\n",
    "    weight = Quantity()\n",
    "    price = Quantity()\n",
    "    def __init__(self, description, weight, price):\n",
    "        self.description = description\n",
    "        self.weight = weight\n",
    "        self.price = price\n",
    "    def subtotal(self):\n",
    "        return self.weight * self.price"
   ]
  },
  {
   "cell_type": "code",
   "execution_count": 27,
   "metadata": {},
   "outputs": [
    {
     "data": {
      "text/plain": [
       "['_NonBlank#description', '_Quantity#price', '_Quantity#weight']"
      ]
     },
     "execution_count": 27,
     "metadata": {},
     "output_type": "execute_result"
    }
   ],
   "source": [
    "raisins = LineItem('Golden raisins', 10, 6.95)\n",
    "dir(raisins)[:3]"
   ]
  },
  {
   "cell_type": "code",
   "execution_count": 28,
   "metadata": {},
   "outputs": [
    {
     "data": {
      "text/plain": [
       "'_NonBlank#description'"
      ]
     },
     "execution_count": 28,
     "metadata": {},
     "output_type": "execute_result"
    }
   ],
   "source": [
    "LineItem.description.storage_name"
   ]
  },
  {
   "cell_type": "markdown",
   "metadata": {},
   "source": [
    "类装饰器能以较简单的方式做到元类做的事情——创建类时定制类.\n",
    "\n",
    "但类装饰器也有个重大缺点:只对直接依附的类有效.这意味着,被装饰的类的子类可能继承也可能不继承装饰器所做的改动,具体情况视改动的方式而定."
   ]
  },
  {
   "cell_type": "markdown",
   "metadata": {},
   "source": [
    "## 标准库中的装饰器\n",
    "\n",
    "Python内置了三个用于装饰方法的函数:`property`、`classmethod` 和`staticmethod`.这三个在面向对象惯用法部分讲.\n",
    "\n",
    "而剩下的装饰器中\n",
    "\n",
    "+ `functools.total_ordering`是用来装饰类的\n",
    "+ `functools.lru_cache`,`functools.singledispatch`是用来装饰函数/方法的\n"
   ]
  },
  {
   "cell_type": "markdown",
   "metadata": {},
   "source": [
    "### `functools.total_ordering`自动添加比较特殊方法\n",
    "\n",
    "`functools.total_ordering`装饰器可以装饰一个类,只要其中有实现`__lt__`、`__le__`、`__gt__`、`__ge__`中的至少一个,它就会将其他的补全"
   ]
  },
  {
   "cell_type": "code",
   "execution_count": 29,
   "metadata": {},
   "outputs": [
    {
     "name": "stdout",
     "output_type": "stream",
     "text": [
      "['__class__', '__delattr__', '__dict__', '__dir__', '__doc__', '__eq__', '__format__', '__ge__', '__getattribute__', '__gt__', '__hash__', '__init__', '__init_subclass__', '__le__', '__lt__', '__module__', '__ne__', '__new__', '__reduce__', '__reduce_ex__', '__repr__', '__setattr__', '__sizeof__', '__str__', '__subclasshook__', '__weakref__']\n"
     ]
    }
   ],
   "source": [
    "from functools import total_ordering\n",
    "@total_ordering\n",
    "class Student:\n",
    "    def __eq__(self, other):\n",
    "        return ((self.lastname.lower(), self.firstname.lower()) ==\n",
    "                (other.lastname.lower(), other.firstname.lower()))\n",
    "    def __lt__(self, other):\n",
    "        return ((self.lastname.lower(), self.firstname.lower()) <\n",
    "                (other.lastname.lower(), other.firstname.lower()))\n",
    "print(dir(Student))"
   ]
  },
  {
   "cell_type": "markdown",
   "metadata": {},
   "source": [
    "### 使用`functools.lru_cache(maxsize=128, typed=False)`做备忘\n",
    "\n",
    "\n",
    "`functools.lru_cache` 是非常实用的装饰器,它实现了备忘（`memoization`）功能.这是一项优化技术,它把耗时的函数的结果保存起来,避免传入相同的参数时重复计算.LRU 三个字母是\"Least Recently Used\"的缩写,表明缓存不会无限制增长,一段时间不用的缓存条目会被扔掉.\n",
    "\n",
    "+ `maxsize`参数指定存储多少个调用的结果.缓存满了之后,旧的结果会被扔掉,腾出空间.为了得到最佳性能,maxsize 应该设为2的幂.\n",
    "+ typed 参数如果设为True,把不同参数类型得到的结果分开保存,即把通常认为相等的浮点数和整数参数(如1 和1.0)区分开.\n",
    "\n",
    "因为`lru_cache`使用字典存储结果,而且键根据调用时传入的定位参数和关键字参数创建,所以被`lru_cache` 装饰的函数,它的所有参数都必须是可散列的.\n",
    "\n",
    "生成第n个斐波纳契数这种慢速递归函数适合使用`lru_cache`"
   ]
  },
  {
   "cell_type": "code",
   "execution_count": 30,
   "metadata": {},
   "outputs": [],
   "source": [
    "@timer(7)\n",
    "def fibonacci(n):\n",
    "    if n < 2:\n",
    "        return n\n",
    "    return fibonacci(n-2) + fibonacci(n-1)"
   ]
  },
  {
   "cell_type": "code",
   "execution_count": 31,
   "metadata": {},
   "outputs": [
    {
     "name": "stdout",
     "output_type": "stream",
     "text": [
      "[used:5e-07s] function fibonacci(0)->0\n",
      "[used:9e-07s] function fibonacci(1)->1\n",
      "[used:0.0001972s] function fibonacci(2)->1\n",
      "[used:5e-07s] function fibonacci(1)->1\n",
      "[used:5e-07s] function fibonacci(0)->0\n",
      "[used:5e-07s] function fibonacci(1)->1\n",
      "[used:6.06e-05s] function fibonacci(2)->1\n",
      "[used:0.0001216s] function fibonacci(3)->2\n",
      "[used:0.0003805s] function fibonacci(4)->3\n",
      "[used:5e-07s] function fibonacci(1)->1\n",
      "[used:4e-07s] function fibonacci(0)->0\n",
      "[used:5e-07s] function fibonacci(1)->1\n",
      "[used:5.92e-05s] function fibonacci(2)->1\n",
      "[used:0.0001174s] function fibonacci(3)->2\n",
      "[used:4e-07s] function fibonacci(0)->0\n",
      "[used:6e-07s] function fibonacci(1)->1\n",
      "[used:5.86e-05s] function fibonacci(2)->1\n",
      "[used:4e-07s] function fibonacci(1)->1\n",
      "[used:5e-07s] function fibonacci(0)->0\n",
      "[used:6e-07s] function fibonacci(1)->1\n",
      "[used:5.96e-05s] function fibonacci(2)->1\n",
      "[used:0.0001193s] function fibonacci(3)->2\n",
      "[used:0.0002366s] function fibonacci(4)->3\n",
      "[used:0.0004132s] function fibonacci(5)->5\n",
      "[used:0.0008534s] function fibonacci(6)->8\n"
     ]
    },
    {
     "data": {
      "text/plain": [
       "8"
      ]
     },
     "execution_count": 31,
     "metadata": {},
     "output_type": "execute_result"
    }
   ],
   "source": [
    "fibonacci(6)"
   ]
  },
  {
   "cell_type": "markdown",
   "metadata": {},
   "source": [
    "浪费时间的地方很明显:`fibonacci(1)`调用了8 次,`fibonacci(2)`调用了5 次……但是,如果增加两行代码,使用lru_cache,性能会显著改善"
   ]
  },
  {
   "cell_type": "code",
   "execution_count": 32,
   "metadata": {},
   "outputs": [],
   "source": [
    "from functools import lru_cache"
   ]
  },
  {
   "cell_type": "code",
   "execution_count": 33,
   "metadata": {},
   "outputs": [],
   "source": [
    "@lru_cache()\n",
    "@timer(7)\n",
    "def fibonacci(n):\n",
    "    if n < 2:\n",
    "        return n\n",
    "    return fibonacci(n-2) + fibonacci(n-1)"
   ]
  },
  {
   "cell_type": "code",
   "execution_count": 34,
   "metadata": {},
   "outputs": [
    {
     "name": "stdout",
     "output_type": "stream",
     "text": [
      "[used:4e-07s] function fibonacci(0)->0\n",
      "[used:4e-07s] function fibonacci(1)->1\n",
      "[used:7.52e-05s] function fibonacci(2)->1\n",
      "[used:9e-07s] function fibonacci(3)->2\n",
      "[used:0.0001163s] function fibonacci(4)->3\n",
      "[used:6e-07s] function fibonacci(5)->5\n",
      "[used:0.0001564s] function fibonacci(6)->8\n"
     ]
    },
    {
     "data": {
      "text/plain": [
       "8"
      ]
     },
     "execution_count": 34,
     "metadata": {},
     "output_type": "execute_result"
    }
   ],
   "source": [
    "fibonacci(6)"
   ]
  },
  {
   "cell_type": "markdown",
   "metadata": {},
   "source": [
    "***PS:装饰器的叠放顺序也是有讲究的,它是从下向上执行的,因此最终执行的结果是最上面一层的包装.***"
   ]
  },
  {
   "cell_type": "markdown",
   "metadata": {},
   "source": [
    "### 使用`functools.singledispatch`实现单分配泛函\n",
    "\n",
    "假设我们在开发一个调试Web应用的工具,我们想生成HTML,显示不同类型的Python对象,我们可能会编写这样的函数:\n",
    "\n",
    "```python\n",
    "import html\n",
    "def htmlize(obj):\n",
    "    content = html.escape(repr(obj))\n",
    "    return '<pre>{}</pre>'.format(content)\n",
    "```\n",
    "\n",
    "这个函数适用于任何Python类型,但是现在我们想做个扩展,让它使用特别的方式显示某些类型.\n",
    "\n",
    "+ str：把内部的换行符替换为`\\<br\\>\\n`；不使用`\\<pre\\>`，而是使用`\\<p\\>`。\n",
    "+ int：以十进制和十六进制显示数字。\n",
    "+ list：输出一个HTML列表，根据各个元素的类型进行格式化。\n",
    "\n",
    "\n",
    "因为Python不支持重载方法或函数,所以我们不能使用不同的签名定义`htmlize`的变体,也无法使用不同的方式处理不同的数据类型.在Python中,一种常见的做法是把`htmlize`变成一个分派函数,使用一串`if/elif/elif`,调用专门的函数,如`htmlize_str`,`htmlize_int`,等等,这样不便于模块的用户扩展,还显得笨拙:时间一长，分派函数`htmlize`会变得很大,而且它与各个专门函数之间的耦合也很紧密.\n",
    "\n",
    "`functools.singledispatch`装饰器可以把整体方案拆分成多个模块,甚至可以为你无法修改的类提供专门的函数.使用`@singledispatch` 装饰的普通函数会变成泛函数(`generic function`):根据第一个参数的类型,以不同方式执行相同操作的一组函数."
   ]
  },
  {
   "cell_type": "code",
   "execution_count": 35,
   "metadata": {},
   "outputs": [],
   "source": [
    "from functools import singledispatch\n",
    "from collections import abc\n",
    "import numbers\n",
    "import html\n",
    "@singledispatch \n",
    "def htmlize(obj):\n",
    "    content = html.escape(repr(obj))\n",
    "    return '<pre>{}</pre>'.format(content)\n",
    "@htmlize.register(str) \n",
    "def _(text): \n",
    "    content = html.escape(text).replace('\\n', '<br>\\n')\n",
    "    return '<p>{0}</p>'.format(content)\n",
    "@htmlize.register(numbers.Integral) \n",
    "def _(n):\n",
    "    return '<pre>{0} (0x{0:x})</pre>'.format(n)\n",
    "@htmlize.register(tuple) \n",
    "@htmlize.register(abc.MutableSequence)\n",
    "def _(seq):\n",
    "    inner = '</li>\\n<li>'.join(htmlize(item) for item in seq)\n",
    "    return '<ul>\\n<li>' + inner + '</li>\\n</ul>'"
   ]
  },
  {
   "cell_type": "code",
   "execution_count": 36,
   "metadata": {},
   "outputs": [
    {
     "data": {
      "text/plain": [
       "'<pre>123 (0x7b)</pre>'"
      ]
     },
     "execution_count": 36,
     "metadata": {},
     "output_type": "execute_result"
    }
   ],
   "source": [
    "htmlize(123)"
   ]
  },
  {
   "cell_type": "code",
   "execution_count": 37,
   "metadata": {},
   "outputs": [
    {
     "data": {
      "text/plain": [
       "'<p>123</p>'"
      ]
     },
     "execution_count": 37,
     "metadata": {},
     "output_type": "execute_result"
    }
   ],
   "source": [
    "htmlize('123')"
   ]
  },
  {
   "cell_type": "code",
   "execution_count": 38,
   "metadata": {},
   "outputs": [
    {
     "data": {
      "text/plain": [
       "'<ul>\\n<li><pre>1 (0x1)</pre></li>\\n<li><pre>2 (0x2)</pre></li>\\n<li><pre>3 (0x3)</pre></li>\\n</ul>'"
      ]
     },
     "execution_count": 38,
     "metadata": {},
     "output_type": "execute_result"
    }
   ],
   "source": [
    "htmlize([1,2,3])"
   ]
  },
  {
   "cell_type": "markdown",
   "metadata": {},
   "source": [
    "只要可能,注册的专门函数应该处理抽象基类(如`numbers.Integral`和`abc.MutableSequence`),不要处理具体实现(如int 和list).这样,代码支持的兼容类型更广泛.例如,Python扩展可以子类化`numbers.Integral`,使用固定的位数实现`int` 类型."
   ]
  },
  {
   "cell_type": "markdown",
   "metadata": {},
   "source": [
    "`singledispatch`机制的一个显著特征是,你可以在系统的任何地方和任何模块中注册专门函数.如果后来在新的模块中定义了新的类型,可以轻松地添加一个新的专门函数来处理那个类型.此外,你还可以为不是自己编写的或者不能修改的类添加自定义函数.\n",
    "\n",
    "`singledispatch` 是经过深思熟虑之后才添加到标准库中的,它提供的特性很多,这里无法一一说明.这个机制最好的文档是[PEP 443 — Single-dispatch generic functions](https://www.python.org/dev/peps/pep-0443/).\n",
    "\n",
    "`@singledispatch`不是为了把Java的那种方法重载带入Python.在一个类中为同一个方法定义多个重载变体,比在一个函数中使用一长串`if/elif/elif/elif`块要更好.但是这两种方案都有缺陷,因为它们让代码单元(类或函数)承担的职责太多.`@singledispath`的优点是支持模块化扩展:各个模块可以为它支持的各个类型注册一个专门函数."
   ]
  }
 ],
 "metadata": {
  "kernelspec": {
   "display_name": "Python 3",
   "language": "python",
   "name": "python3"
  },
  "language_info": {
   "codemirror_mode": {
    "name": "ipython",
    "version": 3
   },
   "file_extension": ".py",
   "mimetype": "text/x-python",
   "name": "python",
   "nbconvert_exporter": "python",
   "pygments_lexer": "ipython3",
   "version": "3.6.4"
  }
 },
 "nbformat": 4,
 "nbformat_minor": 2
}
