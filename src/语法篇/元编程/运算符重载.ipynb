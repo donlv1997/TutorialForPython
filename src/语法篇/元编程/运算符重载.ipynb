{
 "cells": [
  {
   "cell_type": "markdown",
   "metadata": {},
   "source": [
    "# 运算符重载\n",
    "\n",
    "运算符重载在任何语言中都算得上是高级特性,因为它可以改变语言本身即元编程. Python支持有限的运算符重载,并有几个特殊的运算符可以改变类的一些特性.\n",
    "\n",
    "本节需要的先验知识有:\n",
    "\n",
    "+ [面向对象惯用法](/语法篇/面向对象惯用法/)\n",
    "\n",
    "# 受限制的运算符重载\n",
    "\n",
    "在某些圈子中,运算符重载的名声并不好.这个语言特性可能(已经)被滥用,让程序员困惑,导致缺陷和意料之外的性能瓶颈.但是,如果使用得当,API会变得好用,代码会变得易于阅读.Python施加了一些限制,做好了灵活性、可用性和安全性方面的平衡：\n",
    "\n",
    "+ 不能重载内置类型的运算符\n",
    "+ 不能新建运算符,只能重载现有的\n",
    "+ 某些运算符不能重载——is、and、or 和not（不过位运算符&、| 和~ 可以）\n",
    "\n",
    "下面是python所有可以重载的运算符以及对应的特殊方法:\n",
    "\n",
    "一元运算符|特殊方法\n",
    "---|---\n",
    "`+`|`__pos__`\n",
    "`-`|`__neg__`\n",
    "`~`|`__invert__`\n",
    "`abs(...)`|`__abs__`\n",
    "\n",
    "\n",
    "二元运算符|特殊方法\n",
    "---|---\n",
    "`+`|\t`__add__,__radd__`\n",
    "`+=`|\t`__iaddr__`\n",
    "`-`|\t`__sub__,__rsub__`\n",
    "`*`|\t`__mul__,__rmul__`\n",
    "`/`|\t`__div__,__rdiv__,__truediv__,__rtruediv__`\n",
    "`//`|`\t__floordiv__,__rfloordiv__`\n",
    "`%`|\t`__mod__,__rmod__`\n",
    "`**`|\t`__pow__,__rpow__`\n",
    "`<<`|\t`__lshift__,__rlshift__`\n",
    "`>>`|\t`__rshift__,__rrshift__`\n",
    "`&`|\t`__and__,__rand__`\n",
    "`^`|\t`__xor__,__rxor__`\n",
    "`l`|\t`__or__,__ror_`\n",
    "`-=`|\t`__isub__`\n",
    "`*=`|\t`__imul__`\n",
    "`/=`|`__idiv__,__itruediv__`\n",
    "`//=`|\t`__ifloordiv__`\n",
    "`%=`\t|`__imod__`\n",
    "`**=`|\t`__ipow__`\n",
    "`<<=`|\t`__ilshift__`\n",
    "`>>=`\t|`__irshift__`\n",
    "`&=`\t|`__iand__`\n",
    "`^=`|\t`__ixor__`\n",
    "`l=`|\t`__ior__`\n",
    "`==`|\t`__eq__`\n",
    "`!=`,`<>`|\t`__ne__`\n",
    "`>`|\t`__get__`\n",
    "`<`|\t`__lt__`\n",
    "`>=`|\t`__ge__`\n",
    "`<=`|\t`__le__`\n",
    "`@`| `__matmul__()`,`__rmatmul__()`\n",
    "`@=`|`__imatmul__()` \n"
   ]
  },
  {
   "cell_type": "markdown",
   "metadata": {},
   "source": [
    "例: 定义一个数组类,实现减法索引打印等操作"
   ]
  },
  {
   "cell_type": "code",
   "execution_count": 1,
   "metadata": {
    "collapsed": true
   },
   "outputs": [],
   "source": [
    "class Array:\n",
    "    def __init__(self,*args):#构造函数\n",
    "        self.value = args\n",
    "    def __sub__(self,other):#减法运算符\n",
    "        if isinstance(other,(int ,float)):\n",
    "            new = Array(*list(map(lambda x : x-other,self.value)))\n",
    "            return new\n",
    "        if isinstance(other,Array):\n",
    "            new = Array(*list(map(lambda x,y : x-y,self.value,other.value)))\n",
    "            return new\n",
    "        else:\n",
    "            raise ValueError(\"Illegal operations\")\n",
    "    def __repr__(self):#打印\n",
    "        return \"Array: \"+str(self.value)\n",
    "    def __str__(self):#字符串化\n",
    "        return \"Array: \"+str(self.value)\n",
    "    def __getitem__(self,index):#索引分片,有了分片也就有了迭代,但不如迭代器好\n",
    "        new =  Array(*self.value[index])\n",
    "        return new"
   ]
  },
  {
   "cell_type": "code",
   "execution_count": 2,
   "metadata": {},
   "outputs": [
    {
     "data": {
      "text/plain": [
       "Array: (9, 18, 27, 36)"
      ]
     },
     "execution_count": 2,
     "metadata": {},
     "output_type": "execute_result"
    }
   ],
   "source": [
    "arr1=Array(1,2,3,4)\n",
    "arr2=Array(10,20,30,40)\n",
    "arr2-arr1"
   ]
  }
 ],
 "metadata": {
  "kernelspec": {
   "display_name": "Python 3",
   "language": "python",
   "name": "python3"
  },
  "language_info": {
   "codemirror_mode": {
    "name": "ipython",
    "version": 3
   },
   "file_extension": ".py",
   "mimetype": "text/x-python",
   "name": "python",
   "nbconvert_exporter": "python",
   "pygments_lexer": "ipython3",
   "version": "3.6.4"
  }
 },
 "nbformat": 4,
 "nbformat_minor": 2
}
