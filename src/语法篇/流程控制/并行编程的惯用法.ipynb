{
 "cells": [
  {
   "cell_type": "markdown",
   "metadata": {},
   "source": [
    "# 并行编程的惯用法\n",
    "\n",
    "\n",
    "人们通常认为并行等同于多核,但现代计算机在不同层次上都使用了并行技术.比如说,单核的运行速度现今仍能每年不断提升的原因是--单核包含的晶体管数量,如同摩尔定律预测的那样变得越来越多,而单核在位级和指令级两个层次上都能够并行地使用这些晶体管资源.\n",
    "\n",
    "+ 位级(bit-level)并行\n",
    "\n",
    "    为什么32位计算机的运行速度比8位计算机更快？因为并行.对于两个32位数的加法,8位计算机必须进行多次8位计算,而32位计算机可以一步完成,即并行地处理32位数的4字节.\n",
    "\n",
    "    计算机的发展经历了8位、16位、32位,现在正处于64位时代.然而由位升级带来的性能改善是存在瓶颈的,这也正是短期内我们无法步入128位时代的原因.\n",
    "\n",
    "+ 指令级(instruction-level)并行\n",
    "\n",
    "    现代CPU的并行度很高,其中使用的技术包括流水线、乱序执行和猜测执行等.\n",
    "\n",
    "    程序员通常可以不关心处理器内部并行的细节,因为尽管处理器内部的并行度很高,但是经过精心设计,从外部看上去所有处理都像是串行的.\n",
    "\n",
    "    而这种\"看上去像串行\"的设计逐渐变得不适用.处理器的设计者们为单核提升速度变得越来越困难.进入多核时代,我们必须面对的情况是--无论是表面上还是实质上,指令都不再串行执行了.\n",
    "\n",
    "+ 数据级(data)并行\n",
    "\n",
    "    数据级并行(也称为\"单指令多数据\",SIMD)架构,可以并行地在大量数据上施加同一操作.这并不适合解决所有问题,但在适合的场景却可以大展身手.\n",
    "\n",
    "    图像处理就是一种适合进行数据级并行的场景.比如为了增加图片亮度就需要增加每一个像素的亮度.现代GPU(图形处理器)也因图像处理的特点而演化成了极其强大的数据并行处理器.\n",
    "\n",
    "+ 任务级(task-level)并行\n",
    "\n",
    "    终于来到了大家所认为的并行形式——多处理器.从程序员的角度来看,多处理器架构最明显的分类特征是其内存模型(共享内存模型或分布式内存模型).\n",
    "\n",
    "    + 对于共享内存的多处理器系统,每个处理器都能访问整个内存,处理器之间的通信主要通过内存进行.\n",
    "\n",
    "    + 对于分布式内存的多处理器系统,每个处理器都有自己的内存,处理器之间的通信主要通过网络进行.\n",
    "\n",
    "    通过内存通信比通过网络通信更简单更快速,所以用共享内存编程往往更容易.然而当处理器个数逐渐增多,共享内存就会遭遇性能瓶颈——此时不得不转向分布式内存.如果要开发一个容错系统,就要使用多台计算机以规避硬件故障对系统的影响,此时也必须借助于分布式内存."
   ]
  },
  {
   "cell_type": "markdown",
   "metadata": {},
   "source": [
    "## 并行方式如何选择\n",
    "\n",
    "首先python的多线程和协程都是共享内存式的,而多进程虽然是在同一机器上,但各个进程间并不共享内存,因此是分布式的.\n",
    "\n",
    "看起来多进程,多线程,协程都是以并行的方式运行的,那么我们该如何选择使用什么技术呢?\n",
    "\n",
    "+ 首先我们可以简单的通过分析目标功能来选择,如果我们的项目主要是计算密集型的,比如是并行计算多个数据是否是质数这类,那么没得选,只有多进程才可以做到最大化利用cpu资源,另外两个都只能跑满一个cpu核心.\n",
    "\n",
    "+ 接着就是主要是io操作的任务了,io密集型任务首选当然是协程,也只有协程可以搞定[10k](http://www.kegel.com/c10k.html)问题,但python的默认I/O多是同步I/O,因此在所需依赖无法满足的情况下只能使用多线程方式替代.\n",
    "\n",
    "协程和多线程都最多跑满一个核心,但其机制是完全不一样的,协程是用户组织代码,因此是写成顺序执行的异步执行,说白了还是在顺序执行,只是线程运行哪段代码会在协程间跳转执行,打个比方有点像拉链,只要有一个齿坏了,整个过程就会卡住.\n",
    "\n",
    "但多线程则完全不同,一个线程卡死了并不会影响其他线程."
   ]
  },
  {
   "cell_type": "markdown",
   "metadata": {},
   "source": [
    "## 并行编程的常用同步机制(原语)\n",
    "\n",
    "python包含多种同步机制,这些工具使用思路上是一致的,因此无论是协程,线程还是进程都可以使用,只是使用的模块会有些许不同,用途也会有写不同"
   ]
  },
  {
   "cell_type": "markdown",
   "metadata": {},
   "source": [
    "### 信号量 Semaphore\n",
    "\n",
    "在并行编程中,为了防止不同的过程(线程/进程/协程)同时对一个公用的资源进行修改,需要进行同时访问的数量(通常是1).信号量同步基于内部计数器,每调用一次acquire(),计数器减1;每调用一次release(),计数器加1.计数器的值永远不会小于0.当计数器为0时.acquire()调用被阻塞,直到其他线程来调用release().Semaphore支持上下文管理协议\n",
    "\n",
    "Semaphore的接口有两个:\n",
    "\n",
    "+ `acquire()` 获取一个信号量,协程中这个方法是一个协程\n",
    "+ `release()` 释放一个信号量\n",
    "+ **`locked()` 协程中独有,用来判断是否被锁定**\n",
    "\n",
    "\n",
    "信号量有两种:\n",
    "\n",
    "+ Semaphore \n",
    "\n",
    "    标准信号量\n",
    "    \n",
    "+ BoundedSemaphore\n",
    "\n",
    "    有界信号量,它会检查内部计数器的值,并保证它不会大于初始值,如果超了,就引发一个`ValueError`\n",
    "    \n",
    "多数情况下,semaphore用于守护限制访问(但不限于1)的资源,如果`semaphore`被`release()`过多次,这意味着存在bug.\n",
    "\n",
    "\n",
    "信号量在线程,进程,协程中的使用的模块并不一样:\n",
    "\n",
    "+ 协程--`asynico.Semaphore(value=1, *, loop=None)`\n",
    "\n",
    "+ 线程--`threading.Semaphore(value=1)`\n",
    "\n",
    "+ 进程--`multiprocessing.Semaphore([value])`"
   ]
  },
  {
   "cell_type": "markdown",
   "metadata": {},
   "source": [
    "协程版本"
   ]
  },
  {
   "cell_type": "code",
   "execution_count": 1,
   "metadata": {},
   "outputs": [
    {
     "name": "stdout",
     "output_type": "stream",
     "text": [
      "fetch(3) = 3\n",
      "fetch(4) = 4\n",
      "fetch(9) = 9\n",
      "fetch(10) = 10\n",
      "fetch(1) = 1\n",
      "fetch(6) = 6\n",
      "fetch(5) = 5\n",
      "fetch(11) = 11\n",
      "fetch(0) = 0\n",
      "fetch(2) = 2\n",
      "fetch(7) = 7\n",
      "fetch(8) = 8\n"
     ]
    },
    {
     "data": {
      "text/plain": [
       "({<Task finished coro=<print_result() done, defined at <ipython-input-1-02b773a0950a>:11> result=None>,\n",
       "  <Task finished coro=<print_result() done, defined at <ipython-input-1-02b773a0950a>:11> result=None>,\n",
       "  <Task finished coro=<print_result() done, defined at <ipython-input-1-02b773a0950a>:11> result=None>,\n",
       "  <Task finished coro=<print_result() done, defined at <ipython-input-1-02b773a0950a>:11> result=None>,\n",
       "  <Task finished coro=<print_result() done, defined at <ipython-input-1-02b773a0950a>:11> result=None>,\n",
       "  <Task finished coro=<print_result() done, defined at <ipython-input-1-02b773a0950a>:11> result=None>,\n",
       "  <Task finished coro=<print_result() done, defined at <ipython-input-1-02b773a0950a>:11> result=None>,\n",
       "  <Task finished coro=<print_result() done, defined at <ipython-input-1-02b773a0950a>:11> result=None>,\n",
       "  <Task finished coro=<print_result() done, defined at <ipython-input-1-02b773a0950a>:11> result=None>,\n",
       "  <Task finished coro=<print_result() done, defined at <ipython-input-1-02b773a0950a>:11> result=None>,\n",
       "  <Task finished coro=<print_result() done, defined at <ipython-input-1-02b773a0950a>:11> result=None>,\n",
       "  <Task finished coro=<print_result() done, defined at <ipython-input-1-02b773a0950a>:11> result=None>},\n",
       " set())"
      ]
     },
     "execution_count": 1,
     "metadata": {},
     "output_type": "execute_result"
    }
   ],
   "source": [
    "import aiohttp\n",
    "import asyncio\n",
    "NUMBERS = range(12)\n",
    "URL = 'http://httpbin.org/get?a={}'\n",
    "sema = asyncio.Semaphore(3)\n",
    "async def fetch_async(a):\n",
    "    async with aiohttp.request('GET', URL.format(a)) as r:\n",
    "        data = await r.json()\n",
    "    return data['args']['a']\n",
    "\n",
    "async def print_result(a):\n",
    "    async with sema:\n",
    "        r = await fetch_async(a)\n",
    "        print('fetch({}) = {}'.format(a, r))\n",
    "#loop = asyncio.new_event_loop()\n",
    "#asyncio.set_event_loop(loop)\n",
    "loop = asyncio.get_event_loop()\n",
    "f = asyncio.wait([print_result(num) for num in NUMBERS])\n",
    "loop.run_until_complete(f)\n"
   ]
  },
  {
   "cell_type": "markdown",
   "metadata": {},
   "source": [
    "多线程版本"
   ]
  },
  {
   "cell_type": "code",
   "execution_count": 2,
   "metadata": {},
   "outputs": [
    {
     "name": "stdout",
     "output_type": "stream",
     "text": [
      "0 acquire sema\n",
      "1 acquire sema\n",
      "2 acquire sema\n",
      "2 release sema3 acquire sema\n",
      "\n",
      "0 release sema\n",
      "4 acquire sema\n",
      "3 release sema\n",
      "4 release sema\n",
      "1 release sema\n"
     ]
    }
   ],
   "source": [
    "import time\n",
    "from random import random\n",
    "from threading import Thread, Semaphore\n",
    "sema = Semaphore(3)\n",
    "def foo(tid):\n",
    "    with sema:\n",
    "        print('{} acquire sema'.format(tid))\n",
    "        wt = random() * 2\n",
    "        time.sleep(wt)\n",
    "    print('{} release sema'.format(tid))\n",
    "threads = []\n",
    "for i in range(5):\n",
    "    t = Thread(target=foo, args=(i,))\n",
    "    threads.append(t)\n",
    "    t.start()\n",
    "for t in threads:\n",
    "    t.join()\n"
   ]
  },
  {
   "cell_type": "markdown",
   "metadata": {},
   "source": [
    "多进程"
   ]
  },
  {
   "cell_type": "code",
   "execution_count": 3,
   "metadata": {},
   "outputs": [
    {
     "name": "stdout",
     "output_type": "stream",
     "text": [
      "Overwriting src/semaphore.py\n"
     ]
    }
   ],
   "source": [
    "%%writefile src/semaphore.py\n",
    "from multiprocessing import Process, Semaphore\n",
    "\n",
    "def foo(tid,sema):\n",
    "    import time\n",
    "    from random import random\n",
    "    with sema:\n",
    "        print('{} acquire sema'.format(tid))\n",
    "        wt = random() * 2\n",
    "        time.sleep(wt)\n",
    "    print('{} release sema'.format(tid))\n",
    "    \n",
    "if __name__ == \"__main__\":\n",
    "    sema = Semaphore(3)\n",
    "    processes = []\n",
    "    for i in range(5):\n",
    "        t = Process(target=foo, args=(i,sema))\n",
    "        processes.append(t)\n",
    "\n",
    "    for t in processes:     \n",
    "        t.start()\n",
    "    for t in processes:\n",
    "        t.join()\n"
   ]
  },
  {
   "cell_type": "code",
   "execution_count": 4,
   "metadata": {},
   "outputs": [
    {
     "name": "stdout",
     "output_type": "stream",
     "text": [
      "0 acquire sema\n",
      "1 acquire sema\n",
      "2 acquire sema\n",
      "2 release sema\n",
      "3 acquire sema\n",
      "0 release sema\n",
      "4 acquire sema\n",
      "1 release sema\n",
      "3 release sema\n",
      "4 release sema\n"
     ]
    }
   ],
   "source": [
    "!python src/semaphore.py"
   ]
  },
  {
   "cell_type": "markdown",
   "metadata": {},
   "source": [
    "### 锁Lock\n",
    "\n",
    "Lock也可以叫做互斥锁,其实相当于信号量为1.\n",
    "\n",
    "在多线程中锁的作用是用于锁定读写,以确认同一个资源同一时间只能被一个操作访问.\n",
    "\n",
    "python中锁有两种\n",
    "\n",
    "+ Lock\n",
    "\n",
    "    标准锁\n",
    "\n",
    "+ RLock\n",
    "\n",
    "    可重入锁,可以由同一个过程多次获取.在内部,除了原始锁使用的锁定/解锁状态之外,它还使用\"拥有过程\"和\"递归级别\"的概念.在锁定状态下,某些过程拥有锁;在解锁状态下,没有线程拥有它.\n",
    "\n",
    "我们先看一个不加锁的例子:"
   ]
  },
  {
   "cell_type": "code",
   "execution_count": 5,
   "metadata": {},
   "outputs": [
    {
     "name": "stdout",
     "output_type": "stream",
     "text": [
      "10\n"
     ]
    }
   ],
   "source": [
    "import time\n",
    "from threading import Thread\n",
    "value = 0\n",
    "def getlock():\n",
    "    global value\n",
    "    new = value + 1\n",
    "    time.sleep(0.001)  # 使用sleep让线程有机会切换\n",
    "    value = new\n",
    "threads = []\n",
    "for i in range(100):\n",
    "    t = Thread(target=getlock)\n",
    "    t.start()\n",
    "    threads.append(t)\n",
    "for t in threads:\n",
    "    t.join()\n",
    "print(value)\n"
   ]
  },
  {
   "cell_type": "markdown",
   "metadata": {},
   "source": [
    "不加锁的情况下,结果会远远的小于100.那我们加上互斥锁看看"
   ]
  },
  {
   "cell_type": "code",
   "execution_count": 6,
   "metadata": {
    "scrolled": true
   },
   "outputs": [
    {
     "name": "stdout",
     "output_type": "stream",
     "text": [
      "100\n"
     ]
    }
   ],
   "source": [
    "import time\n",
    "from threading import Thread, Lock\n",
    "value = 0\n",
    "lock = Lock()\n",
    "def getlock():\n",
    "    global value\n",
    "    with lock:\n",
    "        new = value + 1\n",
    "        time.sleep(0.001)\n",
    "        value = new\n",
    "threads = []\n",
    "for i in range(100):\n",
    "    t = Thread(target=getlock)\n",
    "    t.start()\n",
    "    threads.append(t)\n",
    "for t in threads:\n",
    "    t.join()\n",
    "print(value)"
   ]
  },
  {
   "cell_type": "markdown",
   "metadata": {},
   "source": [
    "锁作为一种特殊信号量,它的接口与Semaphore一致.在线程,进程,协程中的使用的模块分别为:\n",
    "\n",
    "+ 协程--`asynico.Lock(*,loop=None)`\n",
    "\n",
    "+ 线程--`threading.Lock(value=1)`\n",
    "\n",
    "+ 进程--`multiprocessing.Lock([value])`"
   ]
  },
  {
   "cell_type": "markdown",
   "metadata": {},
   "source": [
    "在协程中,实际上协程并没有抢占资源的情况,因此此处的锁更多的是用来作为一个全局的变量锁定一些流程用"
   ]
  },
  {
   "cell_type": "code",
   "execution_count": 7,
   "metadata": {},
   "outputs": [
    {
     "name": "stdout",
     "output_type": "stream",
     "text": [
      "l2 waiting for the lock\n",
      "l1 waiting for the lock\n",
      "callback releasing lock\n",
      "l2 acquired lock\n",
      "l2 released lock\n",
      "l1 acquired lock\n",
      "l1 released lock\n"
     ]
    }
   ],
   "source": [
    "import asyncio\n",
    "import functools\n",
    "def unlock(lock):\n",
    "    print('callback releasing lock')\n",
    "    lock.release()\n",
    "async def test(locker, lock):\n",
    "    print('{} waiting for the lock'.format(locker))\n",
    "    with await lock:\n",
    "        print('{} acquired lock'.format(locker))\n",
    "    print('{} released lock'.format(locker))\n",
    "async def main(loop):\n",
    "    lock = asyncio.Lock()\n",
    "    await lock.acquire()\n",
    "    loop.call_later(0.1, functools.partial(unlock, lock))\n",
    "    await asyncio.wait([test('l1', lock), test('l2', lock)])\n",
    "\n",
    "loop = asyncio.new_event_loop()\n",
    "asyncio.set_event_loop(loop)\n",
    "loop.run_until_complete(main(loop))\n",
    "loop.close()"
   ]
  },
  {
   "cell_type": "markdown",
   "metadata": {},
   "source": [
    "而针对于多进程,锁同样起到一个全局信号的作用,比如多个进程处理同一个文件,就需要加锁来限制"
   ]
  },
  {
   "cell_type": "code",
   "execution_count": 8,
   "metadata": {},
   "outputs": [
    {
     "name": "stdout",
     "output_type": "stream",
     "text": [
      "Overwriting src/lock.py\n"
     ]
    }
   ],
   "source": [
    "%%writefile src/lock.py\n",
    "import multiprocessing  \n",
    "import sys  \n",
    "  \n",
    "def worker_with(lock, f):  \n",
    "    with lock:  \n",
    "        with open(f,\"a+\") as fs:\n",
    "            fs.write('Lock acquired via with\\n')  \n",
    "\n",
    "if __name__ == '__main__':\n",
    "    f = \"source/file.txt\"  \n",
    "    lock = multiprocessing.Lock()  \n",
    "    w = multiprocessing.Process(target=worker_with, args=(lock, f))  \n",
    "    w.start()  \n",
    "    w.join()"
   ]
  },
  {
   "cell_type": "code",
   "execution_count": 9,
   "metadata": {},
   "outputs": [],
   "source": [
    "!python src/lock.py"
   ]
  },
  {
   "cell_type": "markdown",
   "metadata": {},
   "source": [
    "### 事件\n",
    "\n",
    "一个过程发送/传递事件,所谓事件是指的一个保存标记状态的对象,如果内部标记为True则表示事件发生了,反之就是没发生\n",
    "\n",
    "事件的接口包括:\n",
    "\n",
    "+ clear()\n",
    "\n",
    "事件内部标记为False\n",
    "\n",
    "+ is_set()\n",
    "\n",
    "返回事件的内部标记\n",
    "\n",
    "+ set()\n",
    "\n",
    "调用则设置内部标记为True\n",
    "\n",
    "+ wait()\n",
    "\n",
    "等待事件被标记为True,协程中该接口为协程\n",
    "\n",
    "另外的过程等待事件的触发.我们用「生产者/消费者」模型的例子.\n",
    "\n"
   ]
  },
  {
   "cell_type": "markdown",
   "metadata": {},
   "source": [
    "协程"
   ]
  },
  {
   "cell_type": "code",
   "execution_count": 1,
   "metadata": {},
   "outputs": [
    {
     "name": "stdout",
     "output_type": "stream",
     "text": [
      "producing 1/10\n",
      "producing 2/10\n",
      "1 popped from list \n",
      "producing 3/10\n",
      "2 popped from list \n",
      "producing 4/10\n",
      "3 popped from list \n",
      "producing 5/10\n",
      "4 popped from list \n",
      "producing 6/10\n",
      "5 popped from list \n",
      "producing 7/10\n",
      "producing 8/10\n",
      "7 popped from list \n",
      "producing 9/10\n",
      "8 popped from list \n",
      "producing 10/10\n",
      "9 popped from list \n",
      "10 popped from list \n"
     ]
    },
    {
     "ename": "KeyboardInterrupt",
     "evalue": "",
     "output_type": "error",
     "traceback": [
      "\u001b[0;31m---------------------------------------------------------------------------\u001b[0m",
      "\u001b[0;31mKeyboardInterrupt\u001b[0m                         Traceback (most recent call last)",
      "\u001b[0;32m<ipython-input-1-66684945b853>\u001b[0m in \u001b[0;36m<module>\u001b[0;34m()\u001b[0m\n\u001b[1;32m     31\u001b[0m \u001b[0mproducer_coro\u001b[0m \u001b[0;34m=\u001b[0m \u001b[0mproduce\u001b[0m\u001b[0;34m(\u001b[0m\u001b[0mevent\u001b[0m\u001b[0;34m,\u001b[0m \u001b[0;36m10\u001b[0m\u001b[0;34m)\u001b[0m\u001b[0;34m\u001b[0m\u001b[0m\n\u001b[1;32m     32\u001b[0m \u001b[0mconsumer_coro\u001b[0m \u001b[0;34m=\u001b[0m \u001b[0mconsume\u001b[0m\u001b[0;34m(\u001b[0m\u001b[0mevent\u001b[0m\u001b[0;34m)\u001b[0m\u001b[0;34m\u001b[0m\u001b[0m\n\u001b[0;32m---> 33\u001b[0;31m \u001b[0mloop\u001b[0m\u001b[0;34m.\u001b[0m\u001b[0mrun_until_complete\u001b[0m\u001b[0;34m(\u001b[0m\u001b[0masyncio\u001b[0m\u001b[0;34m.\u001b[0m\u001b[0mgather\u001b[0m\u001b[0;34m(\u001b[0m\u001b[0mproducer_coro\u001b[0m\u001b[0;34m,\u001b[0m \u001b[0mconsumer_coro\u001b[0m\u001b[0;34m)\u001b[0m\u001b[0;34m)\u001b[0m\u001b[0;34m\u001b[0m\u001b[0m\n\u001b[0m\u001b[1;32m     34\u001b[0m \u001b[0mloop\u001b[0m\u001b[0;34m.\u001b[0m\u001b[0mclose\u001b[0m\u001b[0;34m(\u001b[0m\u001b[0;34m)\u001b[0m\u001b[0;34m\u001b[0m\u001b[0m\n",
      "\u001b[0;32m~/anaconda3/lib/python3.6/asyncio/base_events.py\u001b[0m in \u001b[0;36mrun_until_complete\u001b[0;34m(self, future)\u001b[0m\n\u001b[1;32m    452\u001b[0m         \u001b[0mfuture\u001b[0m\u001b[0;34m.\u001b[0m\u001b[0madd_done_callback\u001b[0m\u001b[0;34m(\u001b[0m\u001b[0m_run_until_complete_cb\u001b[0m\u001b[0;34m)\u001b[0m\u001b[0;34m\u001b[0m\u001b[0m\n\u001b[1;32m    453\u001b[0m         \u001b[0;32mtry\u001b[0m\u001b[0;34m:\u001b[0m\u001b[0;34m\u001b[0m\u001b[0m\n\u001b[0;32m--> 454\u001b[0;31m             \u001b[0mself\u001b[0m\u001b[0;34m.\u001b[0m\u001b[0mrun_forever\u001b[0m\u001b[0;34m(\u001b[0m\u001b[0;34m)\u001b[0m\u001b[0;34m\u001b[0m\u001b[0m\n\u001b[0m\u001b[1;32m    455\u001b[0m         \u001b[0;32mexcept\u001b[0m\u001b[0;34m:\u001b[0m\u001b[0;34m\u001b[0m\u001b[0m\n\u001b[1;32m    456\u001b[0m             \u001b[0;32mif\u001b[0m \u001b[0mnew_task\u001b[0m \u001b[0;32mand\u001b[0m \u001b[0mfuture\u001b[0m\u001b[0;34m.\u001b[0m\u001b[0mdone\u001b[0m\u001b[0;34m(\u001b[0m\u001b[0;34m)\u001b[0m \u001b[0;32mand\u001b[0m \u001b[0;32mnot\u001b[0m \u001b[0mfuture\u001b[0m\u001b[0;34m.\u001b[0m\u001b[0mcancelled\u001b[0m\u001b[0;34m(\u001b[0m\u001b[0;34m)\u001b[0m\u001b[0;34m:\u001b[0m\u001b[0;34m\u001b[0m\u001b[0m\n",
      "\u001b[0;32m~/anaconda3/lib/python3.6/asyncio/base_events.py\u001b[0m in \u001b[0;36mrun_forever\u001b[0;34m(self)\u001b[0m\n\u001b[1;32m    419\u001b[0m             \u001b[0mevents\u001b[0m\u001b[0;34m.\u001b[0m\u001b[0m_set_running_loop\u001b[0m\u001b[0;34m(\u001b[0m\u001b[0mself\u001b[0m\u001b[0;34m)\u001b[0m\u001b[0;34m\u001b[0m\u001b[0m\n\u001b[1;32m    420\u001b[0m             \u001b[0;32mwhile\u001b[0m \u001b[0;32mTrue\u001b[0m\u001b[0;34m:\u001b[0m\u001b[0;34m\u001b[0m\u001b[0m\n\u001b[0;32m--> 421\u001b[0;31m                 \u001b[0mself\u001b[0m\u001b[0;34m.\u001b[0m\u001b[0m_run_once\u001b[0m\u001b[0;34m(\u001b[0m\u001b[0;34m)\u001b[0m\u001b[0;34m\u001b[0m\u001b[0m\n\u001b[0m\u001b[1;32m    422\u001b[0m                 \u001b[0;32mif\u001b[0m \u001b[0mself\u001b[0m\u001b[0;34m.\u001b[0m\u001b[0m_stopping\u001b[0m\u001b[0;34m:\u001b[0m\u001b[0;34m\u001b[0m\u001b[0m\n\u001b[1;32m    423\u001b[0m                     \u001b[0;32mbreak\u001b[0m\u001b[0;34m\u001b[0m\u001b[0m\n",
      "\u001b[0;32m~/anaconda3/lib/python3.6/asyncio/base_events.py\u001b[0m in \u001b[0;36m_run_once\u001b[0;34m(self)\u001b[0m\n\u001b[1;32m   1393\u001b[0m                            timeout * 1e3, dt * 1e3)\n\u001b[1;32m   1394\u001b[0m         \u001b[0;32melse\u001b[0m\u001b[0;34m:\u001b[0m\u001b[0;34m\u001b[0m\u001b[0m\n\u001b[0;32m-> 1395\u001b[0;31m             \u001b[0mevent_list\u001b[0m \u001b[0;34m=\u001b[0m \u001b[0mself\u001b[0m\u001b[0;34m.\u001b[0m\u001b[0m_selector\u001b[0m\u001b[0;34m.\u001b[0m\u001b[0mselect\u001b[0m\u001b[0;34m(\u001b[0m\u001b[0mtimeout\u001b[0m\u001b[0;34m)\u001b[0m\u001b[0;34m\u001b[0m\u001b[0m\n\u001b[0m\u001b[1;32m   1396\u001b[0m         \u001b[0mself\u001b[0m\u001b[0;34m.\u001b[0m\u001b[0m_process_events\u001b[0m\u001b[0;34m(\u001b[0m\u001b[0mevent_list\u001b[0m\u001b[0;34m)\u001b[0m\u001b[0;34m\u001b[0m\u001b[0m\n\u001b[1;32m   1397\u001b[0m \u001b[0;34m\u001b[0m\u001b[0m\n",
      "\u001b[0;32m~/anaconda3/lib/python3.6/selectors.py\u001b[0m in \u001b[0;36mselect\u001b[0;34m(self, timeout)\u001b[0m\n\u001b[1;32m    575\u001b[0m             \u001b[0mready\u001b[0m \u001b[0;34m=\u001b[0m \u001b[0;34m[\u001b[0m\u001b[0;34m]\u001b[0m\u001b[0;34m\u001b[0m\u001b[0m\n\u001b[1;32m    576\u001b[0m             \u001b[0;32mtry\u001b[0m\u001b[0;34m:\u001b[0m\u001b[0;34m\u001b[0m\u001b[0m\n\u001b[0;32m--> 577\u001b[0;31m                 \u001b[0mkev_list\u001b[0m \u001b[0;34m=\u001b[0m \u001b[0mself\u001b[0m\u001b[0;34m.\u001b[0m\u001b[0m_kqueue\u001b[0m\u001b[0;34m.\u001b[0m\u001b[0mcontrol\u001b[0m\u001b[0;34m(\u001b[0m\u001b[0;32mNone\u001b[0m\u001b[0;34m,\u001b[0m \u001b[0mmax_ev\u001b[0m\u001b[0;34m,\u001b[0m \u001b[0mtimeout\u001b[0m\u001b[0;34m)\u001b[0m\u001b[0;34m\u001b[0m\u001b[0m\n\u001b[0m\u001b[1;32m    578\u001b[0m             \u001b[0;32mexcept\u001b[0m \u001b[0mInterruptedError\u001b[0m\u001b[0;34m:\u001b[0m\u001b[0;34m\u001b[0m\u001b[0m\n\u001b[1;32m    579\u001b[0m                 \u001b[0;32mreturn\u001b[0m \u001b[0mready\u001b[0m\u001b[0;34m\u001b[0m\u001b[0m\n",
      "\u001b[0;31mKeyboardInterrupt\u001b[0m: "
     ]
    }
   ],
   "source": [
    "import asyncio\n",
    "import random\n",
    "\n",
    "\n",
    "async def produce(event, n):\n",
    "    for x in range(1, n + 1):\n",
    "        # produce an item\n",
    "        print('producing {}/{}'.format(x, n))\n",
    "        # simulate i/o operation using sleep\n",
    "        await asyncio.sleep(random.random())\n",
    "        l.append(x)\n",
    "        event.set()\n",
    "\n",
    "\n",
    "async def consume(event):\n",
    "    while True:\n",
    "\n",
    "        item = await event.wait()\n",
    "        if item == False:\n",
    "            break\n",
    "\n",
    "        integer = l.pop()\n",
    "        print('{} popped from list '.format(integer))\n",
    "        event.clear()\n",
    "        await asyncio.sleep(random.random())\n",
    "\n",
    "loop = asyncio.new_event_loop()\n",
    "asyncio.set_event_loop(loop)\n",
    "l = []\n",
    "event = asyncio.Event(loop=loop)\n",
    "producer_coro = produce(event, 10)\n",
    "consumer_coro = consume(event)\n",
    "loop.run_until_complete(asyncio.gather(producer_coro, consumer_coro))\n",
    "loop.close()"
   ]
  },
  {
   "cell_type": "code",
   "execution_count": 2,
   "metadata": {},
   "outputs": [
    {
     "name": "stdout",
     "output_type": "stream",
     "text": [
      "85 appended to list \n",
      "85 popped from list by c1\n",
      "67 appended to list \n",
      "67 popped from list by c2\n"
     ]
    },
    {
     "name": "stderr",
     "output_type": "stream",
     "text": [
      "/Users/huangsizhe/anaconda3/lib/python3.6/site-packages/ipykernel_launcher.py:29: RuntimeWarning: coroutine 'consumer' was never awaited\n"
     ]
    },
    {
     "name": "stdout",
     "output_type": "stream",
     "text": [
      "66 appended to list \n",
      "66 popped from list by c2\n",
      "81 appended to list \n",
      "81 popped from list by c2\n",
      "57 appended to list \n",
      "57 popped from list by c2\n",
      "97 appended to list \n",
      "97 popped from list by c2\n",
      "53 appended to list \n",
      "53 popped from list by c1\n",
      "43 appended to list \n",
      "43 popped from list by c2\n",
      "24 appended to list \n",
      "24 popped from list by c2\n"
     ]
    },
    {
     "name": "stderr",
     "output_type": "stream",
     "text": [
      "/Users/huangsizhe/anaconda3/lib/python3.6/asyncio/events.py:145: RuntimeWarning: coroutine 'consumer' was never awaited\n",
      "  self._callback(*self._args)\n"
     ]
    }
   ],
   "source": [
    "import time\n",
    "import asyncio\n",
    "from random import randint,choice\n",
    "\n",
    "TIMEOUT = 2\n",
    "async def consumer(name,event, l):\n",
    "    if await event.wait():\n",
    "        try:\n",
    "            integer = l.pop()\n",
    "            print('{} popped from list by {}'.format(integer, name))\n",
    "            event.clear()  # 重置事件状态\n",
    "        except IndexError:  # 为了让刚启动时容错\n",
    "            pass\n",
    "    \n",
    "            \n",
    "async def producer():\n",
    "    for i in range(1,10):\n",
    "        interger = randint(10, 100)\n",
    "        yield interger\n",
    "        \n",
    "async def main():\n",
    "    event = asyncio.Event()\n",
    "    l = []\n",
    "    async for i in producer():\n",
    "        l.append(i)\n",
    "        print('{} appended to list '.format(i))\n",
    "        event.set() # 设置事件\n",
    "        consumers = [consumer( name,event ,l)\n",
    "                 for _, name in enumerate(('c1', 'c2'))]\n",
    "        \n",
    "        await choice(consumers)\n",
    "        await asyncio.sleep(1)\n",
    "\n",
    "\n",
    "loop = asyncio.new_event_loop()\n",
    "asyncio.set_event_loop(loop)\n",
    "\n",
    "loop.run_until_complete(main())\n",
    "loop.close()"
   ]
  },
  {
   "cell_type": "markdown",
   "metadata": {},
   "source": [
    "线程"
   ]
  },
  {
   "cell_type": "code",
   "execution_count": 3,
   "metadata": {},
   "outputs": [
    {
     "name": "stdout",
     "output_type": "stream",
     "text": [
      "23 appended to list by producer1\n",
      "23 popped from list by consumer1\n",
      "80 appended to list by producer1\n",
      "80 popped from list by consumer1\n",
      "67 appended to list by producer1\n",
      "67 popped from list by consumer1\n",
      "49 appended to list by producer1\n",
      "49 popped from list by consumer1\n",
      "96 appended to list by producer1\n",
      "96 popped from list by consumer1\n",
      "91 appended to list by producer1\n",
      "91 popped from list by consumer2\n",
      "55 appended to list by producer1\n",
      "55 popped from list by consumer2\n",
      "29 appended to list by producer1\n",
      "29 popped from list by consumer1\n",
      "31 appended to list by producer1\n",
      "31 popped from list by consumer1\n",
      "36 appended to list by producer1\n",
      "36 popped from list by consumer2\n"
     ]
    }
   ],
   "source": [
    "import time\n",
    "import threading\n",
    "from random import randint\n",
    "\n",
    "TIMEOUT = 2\n",
    "def consumer(event, l):\n",
    "    t = threading.currentThread()\n",
    "    while 1:\n",
    "        try:\n",
    "            event_is_set = event.wait(TIMEOUT)\n",
    "        except Exception as e:\n",
    "            print(e)\n",
    "            break\n",
    "        if event_is_set:\n",
    "            try:\n",
    "                integer = l.pop()\n",
    "                print('{} popped from list by {}'.format(integer, t.name))\n",
    "                event.clear()  # 重置事件状态\n",
    "            except IndexError:  # 为了让刚启动时容错\n",
    "                pass\n",
    "        else:\n",
    "            break\n",
    "def producer(event, l):\n",
    "    t = threading.currentThread()\n",
    "    for i in range(10):\n",
    "        integer = randint(10, 100)\n",
    "        l.append(integer)\n",
    "        print('{} appended to list by {}'.format(integer, t.name))\n",
    "        event.set() # 设置事件\n",
    "        time.sleep(1)\n",
    "        \n",
    "event = threading.Event()\n",
    "l = []\n",
    "threads = []\n",
    "for name in ('consumer1', 'consumer2'):\n",
    "    t = threading.Thread(name=name, target=consumer, args=(event, l))\n",
    "    t.start()\n",
    "    threads.append(t)\n",
    "p = threading.Thread(name='producer1', target=producer, args=(event, l))\n",
    "p.start()\n",
    "threads.append(p)\n",
    "for t in threads:\n",
    "    t.join()"
   ]
  },
  {
   "cell_type": "markdown",
   "metadata": {},
   "source": [
    "### 条件Condition\n",
    "\n",
    "条件用于信号通信,它的除了拥有锁的所有接口外,还有接口:\n",
    "\n",
    "\n",
    "+ `notify(n=1)`\n",
    "\n",
    "    释放出通知,让使用相同Condition对象的几个过程知道这个条件已被激活\n",
    "\n",
    "+ `notify_all()`\n",
    "\n",
    "    释放出通知,让使用相同Condition对象的所有过程知道这个条件已被激活\n",
    "\n",
    "+ `wait()`\n",
    "\n",
    "    等待使用相同Condition对象的过程的通知.\n",
    "\n",
    "+ `wait_for(predicate)`\n",
    "    \n",
    "    相当于\n",
    "    ```python\n",
    "    while not predicate():\n",
    "        cv.wait()\n",
    "    ```\n",
    "\n",
    "一个过程等待特定条件,而另一个过程发出特定条件满足的信号.最好说明的例子就是「生产者/消费者」模型："
   ]
  },
  {
   "cell_type": "markdown",
   "metadata": {},
   "source": [
    "协程方式"
   ]
  },
  {
   "cell_type": "code",
   "execution_count": 4,
   "metadata": {
    "scrolled": true
   },
   "outputs": [
    {
     "name": "stdout",
     "output_type": "stream",
     "text": [
      "Making resource available\n",
      "c1: Resource is available to consumer\n",
      "c2: Resource is available to consumer\n"
     ]
    }
   ],
   "source": [
    "import asyncio\n",
    "import functools\n",
    "async def consumer(cond, name, second):\n",
    "    await asyncio.sleep(second)\n",
    "    async with cond:\n",
    "        await cond.wait()\n",
    "        print('{}: Resource is available to consumer'.format(name))\n",
    "        \n",
    "async def producer(cond):\n",
    "    await asyncio.sleep(2)\n",
    "    async with cond:\n",
    "        print('Making resource available')\n",
    "        cond.notify_all()\n",
    "        \n",
    "        \n",
    "async def main(loop):\n",
    "    condition = asyncio.Condition()\n",
    "    task = loop.create_task(producer(condition))\n",
    "    consumers = [consumer(condition, name, index)\n",
    "                 for index, name in enumerate(('c1', 'c2'))]\n",
    "    await asyncio.wait(consumers)\n",
    "    task.cancel()\n",
    "    \n",
    "    \n",
    "loop = asyncio.new_event_loop()\n",
    "asyncio.set_event_loop(loop)\n",
    "loop.run_until_complete(main(loop))\n",
    "loop.close()"
   ]
  },
  {
   "cell_type": "markdown",
   "metadata": {},
   "source": [
    "线程方式"
   ]
  },
  {
   "cell_type": "code",
   "execution_count": 5,
   "metadata": {},
   "outputs": [
    {
     "name": "stdout",
     "output_type": "stream",
     "text": [
      "p: Making resource available\n",
      "c1: Resource is available to consumer\n",
      "c2: Resource is available to consumer\n"
     ]
    }
   ],
   "source": [
    "\n",
    "import time\n",
    "import threading\n",
    "def consumer(cond):\n",
    "    t = threading.currentThread()\n",
    "    with cond:\n",
    "        cond.wait()  # wait()方法创建了一个名为waiter的锁，\n",
    "        #并且设置锁的状态为locked。这个waiter锁用于线程间的通讯\n",
    "        print('{}: Resource is available to consumer'.format(t.name))\n",
    "def producer(cond):\n",
    "    t = threading.currentThread()\n",
    "    with cond:\n",
    "        print('{}: Making resource available'.format(t.name))\n",
    "        cond.notify_all()  # 释放waiter锁，唤醒消费者\n",
    "condition = threading.Condition()\n",
    "c1 = threading.Thread(name='c1', target=consumer, args=(condition,))\n",
    "c2 = threading.Thread(name='c2', target=consumer, args=(condition,))\n",
    "p = threading.Thread(name='p', target=producer, args=(condition,))\n",
    "c1.start()\n",
    "time.sleep(1)\n",
    "c2.start()\n",
    "time.sleep(1)\n",
    "p.start()"
   ]
  },
  {
   "cell_type": "markdown",
   "metadata": {},
   "source": [
    "进程方式"
   ]
  },
  {
   "cell_type": "code",
   "execution_count": 6,
   "metadata": {},
   "outputs": [
    {
     "name": "stdout",
     "output_type": "stream",
     "text": [
      "Overwriting src/cond.py\n"
     ]
    }
   ],
   "source": [
    "%%writefile src/cond.py\n",
    "import time\n",
    "import multiprocessing\n",
    "def consumer(cond):\n",
    "    t = multiprocessing.current_process()\n",
    "    with cond:\n",
    "        cond.wait()  # wait()方法创建了一个名为waiter的锁，\n",
    "        #并且设置锁的状态为locked。这个waiter锁用于线程间的通讯\n",
    "        print('{}: Resource is available to consumer'.format(t.name))\n",
    "def producer(cond):\n",
    "    t = multiprocessing.current_process()\n",
    "    with cond:\n",
    "        print('{}: Making resource available'.format(t.name))\n",
    "        cond.notify_all()  # 释放waiter锁，唤醒消费者\n",
    "        \n",
    "if __name__=='__main__':\n",
    "    condition = multiprocessing.Condition()\n",
    "    c1 = multiprocessing.Process(name='c1', target=consumer, args=(condition,))\n",
    "    c2 = multiprocessing.Process(name='c2', target=consumer, args=(condition,))\n",
    "    p = multiprocessing.Process(name='p', target=producer, args=(condition,))\n",
    "    c1.start()\n",
    "    time.sleep(1)\n",
    "    c2.start()\n",
    "    time.sleep(1)\n",
    "    p.start()"
   ]
  },
  {
   "cell_type": "code",
   "execution_count": 7,
   "metadata": {},
   "outputs": [
    {
     "name": "stdout",
     "output_type": "stream",
     "text": [
      "p: Making resource available\r\n",
      "c1: Resource is available to consumer\r\n",
      "c2: Resource is available to consumer\r\n"
     ]
    }
   ],
   "source": [
    "!python src/cond.py"
   ]
  },
  {
   "cell_type": "markdown",
   "metadata": {},
   "source": [
    "## 队列\n",
    "\n",
    "使用队列是最常见的同步方式.也是生产者消费者模式最常见使用的工具\n",
    "\n",
    "队列的接口有:\n",
    "\n",
    "+ `qsize()`\n",
    "\n",
    "返回队列的大致大小\n",
    "\n",
    "+ `empty()`\n",
    "\n",
    "如果队列为空返回True\n",
    "\n",
    "+ `full()`\n",
    "\n",
    "如果队列满了,则返回空\n",
    "\n",
    "+ `put(item, block=True, timeout=None)`\n",
    "\n",
    "将元素放入队列,协程中是协程\n",
    "\n",
    "+ `put_nowait(item)`\n",
    "\n",
    "立即将元素放入队列\n",
    "\n",
    "+ `get(block=True, timeout=None)`\n",
    "\n",
    "获取元素,并且在队列中删除该元素,协程中是协程\n",
    "\n",
    "+ `get_nowait()`\n",
    "\n",
    "立即获取元素,并且在队列中删除该元素\n",
    "\n",
    "+ `task_done()`\n",
    "\n",
    "表明以前入队的任务是否已经完成。\n",
    "\n",
    "+ `join()`\n",
    "\n",
    "阻塞直到队列中的所有项目都被获取和处理.协程中是协程\n",
    "\n",
    "\n",
    "常见的队列有两种:\n",
    "\n",
    "+ `queue`\n",
    "\n",
    "先进先出队列\n",
    "\n",
    "+ `LifoQueue`\n",
    "\n",
    "先进后出队列\n",
    "\n",
    "+ `PriorityQueue`\n",
    "\n",
    "优先权队列,放入的元素必须是Tuple[int,Any],第一位就是权重\n",
    "\n",
    "对不同方式使用的队列为:\n",
    "\n",
    "+ 协程--`asyncio.Queue(maxsize)`\n",
    "\n",
    "+ 线程--`queue.Queue(maxsize)`\n",
    "\n",
    "+ 进程--`multiprocessing.Queue(maxsize)`\n",
    "\n",
    "\n",
    "\n",
    "依然用生产消费模式做例子"
   ]
  },
  {
   "cell_type": "markdown",
   "metadata": {},
   "source": [
    "协程"
   ]
  },
  {
   "cell_type": "code",
   "execution_count": 8,
   "metadata": {},
   "outputs": [
    {
     "name": "stdout",
     "output_type": "stream",
     "text": [
      "put :76\n",
      "put :25\n",
      "put :98\n",
      "put :35\n",
      "put :6\n",
      "put :9\n",
      "[PRI:6] 6 * 2 = 12\n",
      "[PRI:9] 9 * 2 = 18\n",
      "[PRI:25] 25 * 2 = 50\n",
      "[PRI:35] 35 * 2 = 70\n",
      "[PRI:76] 76 * 2 = 152\n",
      "[PRI:98] 98 * 2 = 196\n"
     ]
    }
   ],
   "source": [
    "import asyncio\n",
    "import random\n",
    "\n",
    "def double(n):\n",
    "    return n * 2\n",
    "\n",
    "async def producer(queue, n):\n",
    "    count = 0\n",
    "    while True:\n",
    "        if count > 5:\n",
    "            break\n",
    "        pri = randint(0, 100)\n",
    "        print('put :{}'.format(pri))\n",
    "        await queue.put((pri, double, pri))  # (priority, func, args)\n",
    "        count += 1\n",
    "\n",
    "\n",
    "\n",
    "async def consumer(queue):\n",
    "    while True:\n",
    "        pri, task, arg = await queue.get()\n",
    "        print('[PRI:{}] {} * 2 = {}'.format(pri, arg, task(arg)))\n",
    "        await asyncio.sleep(random.random())\n",
    "        queue.task_done()\n",
    "\n",
    "\n",
    "async def run(n):\n",
    "    queue = asyncio.PriorityQueue(10)\n",
    "    # schedule the consumer\n",
    "    consume = asyncio.ensure_future(consumer(queue))\n",
    "    # run the producer and wait for completion\n",
    "    await producer(queue, n)\n",
    "    # wait until the consumer has processed all items\n",
    "    await queue.join()\n",
    "    # the consumer is still awaiting for an item, cancel it\n",
    "    consume.cancel()\n",
    "\n",
    "loop = asyncio.new_event_loop()\n",
    "asyncio.set_event_loop(loop)\n",
    "loop.run_until_complete(run(10))\n",
    "loop.close()"
   ]
  },
  {
   "cell_type": "markdown",
   "metadata": {},
   "source": [
    "线程"
   ]
  },
  {
   "cell_type": "code",
   "execution_count": 9,
   "metadata": {},
   "outputs": [
    {
     "name": "stdout",
     "output_type": "stream",
     "text": [
      "put :61\n",
      "put :63\n",
      "put :10\n",
      "put :8\n",
      "put :69\n",
      "put :98\n",
      "[PRI:8] 8 * 2 = 16\n",
      "[PRI:10] 10 * 2 = 20\n",
      "[PRI:61] 61 * 2 = 122\n",
      "[PRI:63] 63 * 2 = 126\n",
      "[PRI:69] 69 * 2 = 138\n",
      "[PRI:98] 98 * 2 = 196\n"
     ]
    }
   ],
   "source": [
    "import time\n",
    "import threading\n",
    "from random import randint\n",
    "from queue import PriorityQueue\n",
    "\n",
    "q = PriorityQueue(10)\n",
    "\n",
    "def double(n):\n",
    "    return n * 2\n",
    "def producer():\n",
    "    count = 0\n",
    "    while True:\n",
    "        if count > 5:\n",
    "            break\n",
    "        pri = randint(0, 100)\n",
    "        print('put :{}'.format(pri))\n",
    "        q.put((pri, double, pri))  # (priority, func, args)\n",
    "        count += 1\n",
    "def consumer():\n",
    "    while True:\n",
    "        if q.empty():\n",
    "            break\n",
    "        pri, task, arg = q.get()\n",
    "        print('[PRI:{}] {} * 2 = {}'.format(pri, arg, task(arg)))\n",
    "        q.task_done()\n",
    "        time.sleep(0.1)\n",
    "        \n",
    "t = threading.Thread(target=producer)\n",
    "t.start()\n",
    "time.sleep(1)\n",
    "t = threading.Thread(target=consumer)\n",
    "t.start()\n"
   ]
  },
  {
   "cell_type": "markdown",
   "metadata": {
    "collapsed": true
   },
   "source": [
    "进程"
   ]
  },
  {
   "cell_type": "code",
   "execution_count": 10,
   "metadata": {},
   "outputs": [
    {
     "name": "stdout",
     "output_type": "stream",
     "text": [
      "put :17\n",
      "put :42\n",
      "put :82\n",
      "put :43\n",
      "put :1\n",
      "put :47\n",
      "[PRI:17] 17 * 2 = 34\n",
      "[PRI:42] 42 * 2 = 84\n",
      "[PRI:82] 82 * 2 = 164\n",
      "[PRI:43] 43 * 2 = 86\n",
      "[PRI:1] 1 * 2 = 2\n",
      "[PRI:47] 47 * 2 = 94\n"
     ]
    }
   ],
   "source": [
    "import time\n",
    "from multiprocessing import Process\n",
    "from random import randint\n",
    "from multiprocessing import JoinableQueue\n",
    "\n",
    "q = JoinableQueue(10)\n",
    "\n",
    "def double(n):\n",
    "    return n * 2\n",
    "def producer():\n",
    "    count = 0\n",
    "    while True:\n",
    "        if count > 5:\n",
    "            break\n",
    "        pri = randint(0, 100)\n",
    "        print('put :{}'.format(pri))\n",
    "        q.put((pri, double, pri))  # (priority, func, args)\n",
    "        count += 1\n",
    "def consumer():\n",
    "    while True:\n",
    "        if q.empty():\n",
    "            break\n",
    "        pri, task, arg = q.get()\n",
    "        print('[PRI:{}] {} * 2 = {}'.format(pri, arg, task(arg)))\n",
    "        q.task_done()\n",
    "        time.sleep(0.1)\n",
    "        \n",
    "\n",
    "t = Process(target=producer)\n",
    "t.start()\n",
    "time.sleep(1)\n",
    "t = Process(target=consumer)\n",
    "t.start()"
   ]
  }
 ],
 "metadata": {
  "kernelspec": {
   "display_name": "Python 3",
   "language": "python",
   "name": "python3"
  },
  "language_info": {
   "codemirror_mode": {
    "name": "ipython",
    "version": 3
   },
   "file_extension": ".py",
   "mimetype": "text/x-python",
   "name": "python",
   "nbconvert_exporter": "python",
   "pygments_lexer": "ipython3",
   "version": "3.7.3"
  }
 },
 "nbformat": 4,
 "nbformat_minor": 2
}
