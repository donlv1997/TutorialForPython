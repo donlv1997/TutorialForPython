{
 "cells": [
  {
   "cell_type": "markdown",
   "metadata": {},
   "source": [
    "# 导入时与运行时\n",
    "\n",
    "我们得知道Python解释器什么时候计算各个代码块.Python程序员会区分\"导入时\"和\"运行时\",不过这两个术语没有严格的定义,而且二者之间存在着灰色地带.\n",
    "毕竟导入动作是可以在运行时执行的.\n",
    "\n",
    "在导入时,解释器会从上到下一次性解析完`.py`模块的源码,然后生成用于执行的字节码,需要注意的是导入模块是从来是最小化导入,如果父模块的`__init__.py`中没有导入其下的子模块,那么直接导入父模块的话子模块是不会被导入的(也不会生成子模块的`.pyc`).如果导入时句法有错误,就在此时报告.\n",
    "\n",
    "导入也有一个缓存机制,其判别方式是依靠比对文件的更新时间戳,如果本地的`__pycache__`文件夹中有最新的`.pyc` 文件，解释器会跳过上述导入步骤,因为已经有运行所需的字节码了.\n",
    "\n",
    "编译肯定是导入时的活动,不过那个时期还会做些其他事,因为Python中的语句几乎都是可执行的,也就是说语句可能会运行用户代码,修改用户程序的状态.尤其是`import`语句,它不只是声明,在进程中首次导入模块时,还会运行所导入模块中的全部顶层代码——以后导入相同的模块则使用缓存,只做名称绑定.那些顶层代码可以做任何事，包括通常在\"运行时\"做的事，例如连接数据库. 因此，“导入时”与“运行时”之间的界线是模糊的：\n",
    "`import`语句可以触发任何\"运行时\"行为.\n",
    "\n",
    "\n",
    "模块导入主要做的是讲函数和类的定义体加入模块的全局命名空间.\n",
    "\n",
    "+ 函数\n",
    "    导入模块时,解释器会执行顶层的`def`语句,可是这么做有什么作用呢？解释器会编译函数的定义体(首次导入模块时),把函数对象绑定到对应的全局名称上,但是显然解释器不会执行函数的定义体通常这意味着解释器在导入时定义顶层函数,但是仅当在运行时调用函数时才会执行函数的定义体.\n",
    "\n",
    "+ 类\n",
    "    在导入时,解释器会执行每个类的定义体,甚至会执行嵌套类的定义体.执行类定义体的结果是,定义了类的属性和方法,并构建了类对象.从这个意义上理解,类的定义体属于“顶层代码”，因为它在导入时运行.\n",
    "\n",
    "上述说明模糊又抽象，下面通过练习理解各个时期所做的事情。"
   ]
  },
  {
   "cell_type": "code",
   "execution_count": 1,
   "metadata": {},
   "outputs": [
    {
     "name": "stdout",
     "output_type": "stream",
     "text": [
      "Overwriting evalsupport.py\n"
     ]
    }
   ],
   "source": [
    "%%writefile evalsupport.py\n",
    "print('<[100]> evalsupport module start')\n",
    "def deco_alpha(cls):\n",
    "    print('<[200]> deco_alpha')\n",
    "    def inner_1(self):\n",
    "        print('<[300]> deco_alpha:inner_1')\n",
    "    cls.method_y = inner_1\n",
    "    return cls\n",
    "class MetaAleph(type):\n",
    "    print('<[400]> MetaAleph body')\n",
    "    def __init__(cls, name, bases, dic):\n",
    "        print('<[500]> MetaAleph.__init__')\n",
    "        def inner_2(self):\n",
    "            print('<[600]> MetaAleph.__init__:inner_2')\n",
    "        cls.method_z = inner_2\n",
    "    print('<[700]> evalsupport module end')"
   ]
  },
  {
   "cell_type": "code",
   "execution_count": 2,
   "metadata": {
    "scrolled": true
   },
   "outputs": [
    {
     "name": "stdout",
     "output_type": "stream",
     "text": [
      "Overwriting evaltime.py\n"
     ]
    }
   ],
   "source": [
    "%%writefile evaltime.py\n",
    "from evalsupport import deco_alpha\n",
    "print('<[1]> evaltime module start')\n",
    "\n",
    "class ClassOne():\n",
    "    print('<[2]> ClassOne body')\n",
    "    def __init__(self):\n",
    "        print('<[3]> ClassOne.__init__')\n",
    "    def __del__(self):\n",
    "        print('<[4]> ClassOne.__del__')\n",
    "\n",
    "    def method_x(self):\n",
    "        print('<[5]> ClassOne.method_x')\n",
    "    class ClassTwo(object):\n",
    "        print('<[6]> ClassTwo body')\n",
    "@deco_alpha\n",
    "class ClassThree():\n",
    "    print('<[7]> ClassThree body')\n",
    "    def method_y(self):\n",
    "        print('<[8]> ClassThree.method_y')\n",
    "        \n",
    "class ClassFour(ClassThree):\n",
    "    print('<[9]> ClassFour body')\n",
    "    def method_y(self):\n",
    "        print('<[10]> ClassFour.method_y')\n",
    "if __name__ == '__main__':\n",
    "    print('<[11]> ClassOne tests', 30 * '.')\n",
    "    one = ClassOne()\n",
    "    one.method_x()\n",
    "    print('<[12]> ClassThree tests', 30 * '.')\n",
    "    three = ClassThree()\n",
    "    three.method_y()\n",
    "    print('<[13]> ClassFour tests', 30 * '.')\n",
    "    four = ClassFour()\n",
    "    four.method_y()\n",
    "print('<[14]> evaltime module end')"
   ]
  },
  {
   "cell_type": "markdown",
   "metadata": {},
   "source": [
    "场景1: 导入模块\n",
    "\n",
    "+ 解释器会执行所导入模块及其依赖（evalsupport）中的每个类定义体。\n",
    "+ 解释器先计算类的定义体，然后调用依附在类上的装饰器函数，这是合理的行为，因为必须先构建类对象，装饰器才有类对象可处理。\n",
    "+ 在这个场景中，只运行了一个用户定义的函数或方法——`deco_alpha`装饰器。"
   ]
  },
  {
   "cell_type": "code",
   "execution_count": 3,
   "metadata": {},
   "outputs": [
    {
     "name": "stdout",
     "output_type": "stream",
     "text": [
      "<[100]> evalsupport module start\n",
      "<[400]> MetaAleph body\n",
      "<[700]> evalsupport module end\n",
      "<[1]> evaltime module start\n",
      "<[2]> ClassOne body\n",
      "<[6]> ClassTwo body\n",
      "<[7]> ClassThree body\n",
      "<[200]> deco_alpha\n",
      "<[9]> ClassFour body\n",
      "<[14]> evaltime module end\n"
     ]
    }
   ],
   "source": [
    "import evaltime"
   ]
  },
  {
   "cell_type": "markdown",
   "metadata": {},
   "source": [
    "场景2:执行`evaltime.py`\n",
    "\n",
    "场景2 主要想说明的是，类装饰器可能对子类没有影响.在示例中， 我们把`ClassFour`定义为`ClassThree`的子类.`ClassThree`类上依附的`@deco_alpha`装饰器把`method_y`方法替换掉了，但是这对`ClassFour`类根本没有影响.\n",
    "当然，如果`ClassFour.method_y`方法使用`super(...)`调用`ClassThree.method_y`方法，我们便会看到装饰器起作用，执行`inner_1`函数.\n"
   ]
  },
  {
   "cell_type": "code",
   "execution_count": 4,
   "metadata": {},
   "outputs": [
    {
     "name": "stdout",
     "output_type": "stream",
     "text": [
      "<[100]> evalsupport module start\r\n",
      "<[400]> MetaAleph body\r\n",
      "<[700]> evalsupport module end\r\n",
      "<[1]> evaltime module start\r\n",
      "<[2]> ClassOne body\r\n",
      "<[6]> ClassTwo body\r\n",
      "<[7]> ClassThree body\r\n",
      "<[200]> deco_alpha\r\n",
      "<[9]> ClassFour body\r\n",
      "<[11]> ClassOne tests ..............................\r\n",
      "<[3]> ClassOne.__init__\r\n",
      "<[5]> ClassOne.method_x\r\n",
      "<[12]> ClassThree tests ..............................\r\n",
      "<[300]> deco_alpha:inner_1\r\n",
      "<[13]> ClassFour tests ..............................\r\n",
      "<[10]> ClassFour.method_y\r\n",
      "<[14]> evaltime module end\r\n",
      "<[4]> ClassOne.__del__\r\n"
     ]
    }
   ],
   "source": [
    "!python evaltime.py"
   ]
  },
  {
   "cell_type": "code",
   "execution_count": null,
   "metadata": {},
   "outputs": [],
   "source": []
  }
 ],
 "metadata": {
  "kernelspec": {
   "display_name": "Python 3",
   "language": "python",
   "name": "python3"
  },
  "language_info": {
   "codemirror_mode": {
    "name": "ipython",
    "version": 3
   },
   "file_extension": ".py",
   "mimetype": "text/x-python",
   "name": "python",
   "nbconvert_exporter": "python",
   "pygments_lexer": "ipython3",
   "version": "3.6.4"
  }
 },
 "nbformat": 4,
 "nbformat_minor": 2
}
