{
 "cells": [
  {
   "cell_type": "markdown",
   "metadata": {},
   "source": [
    "# `*`模块加载特殊内容\n",
    "\n",
    "从加载机制上看其实python解释器可以加载任何内容,只要定义好相应的finder和loader即可.这种扩展方式叫做`import hook`,官方其实也提供了几个`import hook`来实现一些特殊需求.本文将介绍这个"
   ]
  },
  {
   "cell_type": "markdown",
   "metadata": {},
   "source": [
    "## 模块加载数据\n",
    "\n",
    "就和C/C++中一些常量数据甚至文件内容直接写在头文件中可以加快运行时的速度一样,在python的导入时直接将需要的数据导入其实也是一种提高运行时效率的方法.\n",
    "\n",
    "python中有标准库`pkgutil.get_data(package,path)`,可以帮我们实现这个需求.\n",
    "\n",
    "我们有一个html文件叫\"base.html\"这边我们使用`pkgutil`来加载它\n",
    "\n",
    "1. 将其放入一个模块内\n",
    "    我们将其放入一个叫data_demo的模块中\n",
    "    ```shell\n",
    "    data_demo-|\n",
    "              |-__init__.py\n",
    "              |-base.html\n",
    "    ```\n",
    "    \n",
    "2. 使用pkgutil.get_data加载数据"
   ]
  },
  {
   "cell_type": "code",
   "execution_count": 5,
   "metadata": {},
   "outputs": [
    {
     "name": "stdout",
     "output_type": "stream",
     "text": [
      "<!DOCTYPE HTML PUBLIC \"-//IETF//DTD HTML//EN\">\n",
      "<html> <head>\n",
      "<title>PyMOTW Template</title>\n",
      "</head>\n",
      "\n",
      "<body>\n",
      "<h1>Example Template</h1>\n",
      "\n",
      "<p>This is a sample data file.</p>\n",
      "\n",
      "</body>\n",
      "</html>\n"
     ]
    }
   ],
   "source": [
    "import pkgutil\n",
    "\n",
    "template = pkgutil.get_data('data_demo', 'base.html')\n",
    "print(template.decode('utf-8'))"
   ]
  },
  {
   "cell_type": "markdown",
   "metadata": {},
   "source": [
    "### 加载zip包中的数据模块\n",
    "\n",
    "python默认就可以加载zip包中的模块.这也就为大文件的导入提供了方便.\n",
    "\n",
    "\n",
    "我们将`data_demo`文件中的文件打包到zip归档中\n",
    "\n",
    "```shell\n",
    "zipdata_demo.zip--|\n",
    "                  |-data_demo-|\n",
    "                              |-__init__.py\n",
    "                              |-base.html\n",
    "```\n",
    "然后还是使用`pkgutil`来读取数据,注意需要先将`zipdata_demo.zip`加入模块可以访问的位置"
   ]
  },
  {
   "cell_type": "code",
   "execution_count": 6,
   "metadata": {},
   "outputs": [],
   "source": [
    "import pkgutil\n",
    "import sys\n",
    "sys.path.insert(0, 'zipdata_demo.zip')"
   ]
  },
  {
   "cell_type": "code",
   "execution_count": 7,
   "metadata": {},
   "outputs": [],
   "source": [
    "import data_demo"
   ]
  },
  {
   "cell_type": "code",
   "execution_count": 8,
   "metadata": {},
   "outputs": [
    {
     "name": "stdout",
     "output_type": "stream",
     "text": [
      "<!DOCTYPE HTML PUBLIC \"-//IETF//DTD HTML//EN\">\n",
      "<html> <head>\n",
      "<title>PyMOTW Template</title>\n",
      "</head>\n",
      "\n",
      "<body>\n",
      "<h1>Example Template</h1>\n",
      "\n",
      "<p>This is a sample data file.</p>\n",
      "\n",
      "</body>\n",
      "</html>\n"
     ]
    }
   ],
   "source": [
    "emplate = pkgutil.get_data('data_demo', 'base.html')\n",
    "print(emplate.decode('utf-8'))"
   ]
  },
  {
   "cell_type": "markdown",
   "metadata": {},
   "source": [
    "## 模块加载zip包中的python模块\n",
    "\n",
    "上面的例子我们可以看到python自带加载zip中模块的能力,但每次加载都要显式的写上代码这样相当的不优雅\n",
    "\n",
    "```python\n",
    "import sys\n",
    "sys.path.insert(0, 'xxxx.zip')\n",
    "```\n",
    "\n",
    "python提供了标准库`zipimport`来解决这个问题"
   ]
  },
  {
   "cell_type": "code",
   "execution_count": 1,
   "metadata": {},
   "outputs": [],
   "source": [
    "import zipimport\n",
    "\n",
    "importer = zipimport.zipimporter('zipdata_demo.zip')\n",
    "module = importer.load_module('data_demo')"
   ]
  },
  {
   "cell_type": "code",
   "execution_count": 2,
   "metadata": {},
   "outputs": [
    {
     "data": {
      "text/plain": [
       "['zipdata_demo.zip/data_demo']"
      ]
     },
     "execution_count": 2,
     "metadata": {},
     "output_type": "execute_result"
    }
   ],
   "source": [
    "module.__path__"
   ]
  },
  {
   "cell_type": "code",
   "execution_count": 4,
   "metadata": {},
   "outputs": [
    {
     "name": "stdout",
     "output_type": "stream",
     "text": [
      "<!DOCTYPE HTML PUBLIC \"-//IETF//DTD HTML//EN\">\n",
      "<html> <head>\n",
      "<title>PyMOTW Template</title>\n",
      "</head>\n",
      "\n",
      "<body>\n",
      "<h1>Example Template</h1>\n",
      "\n",
      "<p>This is a sample data file.</p>\n",
      "\n",
      "</body>\n",
      "</html>\n"
     ]
    }
   ],
   "source": [
    "import pkgutil\n",
    "emplate = pkgutil.get_data('data_demo', 'base.html')\n",
    "print(emplate.decode('utf-8'))"
   ]
  }
 ],
 "metadata": {
  "kernelspec": {
   "display_name": "Python 3",
   "language": "python",
   "name": "python3"
  },
  "language_info": {
   "codemirror_mode": {
    "name": "ipython",
    "version": 3
   },
   "file_extension": ".py",
   "mimetype": "text/x-python",
   "name": "python",
   "nbconvert_exporter": "python",
   "pygments_lexer": "ipython3",
   "version": "3.6.4"
  }
 },
 "nbformat": 4,
 "nbformat_minor": 2
}
