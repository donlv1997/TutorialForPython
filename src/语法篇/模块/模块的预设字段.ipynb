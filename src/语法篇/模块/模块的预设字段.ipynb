{
 "cells": [
  {
   "cell_type": "markdown",
   "metadata": {},
   "source": [
    "# 模块的预设字段\n",
    "\n",
    "python中所有东西都是对象,模块也不例外,在一个模块被导入后它就是作为一个对象而存在的,但这个对象有点特殊\n",
    "\n",
    "1. 无论加载多少次,它都是唯一对象.\n",
    "2. 每个模块都有一些特殊的字段,和python中类的魔术命令差不多,他们可以用来对模块自省\n",
    "\n",
    "本文主要介绍这些特殊字段\n",
    "\n",
    "我们以一个模块作为例子来观察.其结构如下:\n",
    "\n",
    "```shell\n",
    "module_test|\n",
    "           |-__init__.py\n",
    "           |-a|\n",
    "              |-__init__.py\n",
    "              |-b.py\n",
    "```\n",
    "\n",
    "\n",
    "其中`module_test.__init__.py`为:\n",
    "\n",
    "```python\n",
    "\"\"\"这就是一个测试.\"\"\"\n",
    "from pathlib import Path\n",
    "\n",
    "path=Path(__file__)\n",
    "if path.exists():\n",
    "    dir_path = path.absolute().parent\n",
    "    __path__.append(str(dir_path.joinpath(\"a\")))\n",
    "```\n",
    "\n",
    "b.py为\n",
    "\n",
    "```python\n",
    "def func():\n",
    "    return 1\n",
    "\n",
    "\n",
    "__all__ = [\"func\"]\n",
    "```"
   ]
  },
  {
   "cell_type": "code",
   "execution_count": 1,
   "metadata": {},
   "outputs": [],
   "source": [
    "import module_test"
   ]
  },
  {
   "cell_type": "code",
   "execution_count": 2,
   "metadata": {},
   "outputs": [],
   "source": [
    "from module_test import a"
   ]
  },
  {
   "cell_type": "markdown",
   "metadata": {},
   "source": [
    "## `__name__`字段用于自省模块的名字\n",
    "\n",
    "一旦某个模块被导入后,他的`__name__`字段就会保存从其所在包的起点位置到自身的引用关系以组成自身的名字.这个规则有点类似java中的模块概念.\n",
    "\n",
    "特别的是所有的入口模块其名都为`__main__`\n"
   ]
  },
  {
   "cell_type": "code",
   "execution_count": 3,
   "metadata": {},
   "outputs": [
    {
     "name": "stdout",
     "output_type": "stream",
     "text": [
      "__main__\n",
      "module_test\n",
      "module_test.a\n"
     ]
    }
   ],
   "source": [
    "print(__name__)\n",
    "print(module_test.__name__)\n",
    "print(a.__name__)"
   ]
  },
  {
   "cell_type": "markdown",
   "metadata": {},
   "source": [
    "## `__doc__`字段用于自省模块的docstring\n",
    "\n",
    "模块的`__doc__`字段用于自省模块的docstring,"
   ]
  },
  {
   "cell_type": "code",
   "execution_count": 4,
   "metadata": {},
   "outputs": [
    {
     "name": "stdout",
     "output_type": "stream",
     "text": [
      "这就是一个测试.\n"
     ]
    }
   ],
   "source": [
    "print(module_test.__doc__)"
   ]
  },
  {
   "cell_type": "markdown",
   "metadata": {},
   "source": [
    "## `__all__`字段用于设置模块的导入范围\n",
    "\n",
    "`__all__`是用于限制模块使用`from xxxx import *`这样形式的模块导入语法的导入对象范围的字段.在要进行限制的模块下设置\n",
    "\n",
    "```python\n",
    "__all__:List[str] = [\"asfd\"]\n",
    "```\n",
    "使用与对象同名的字符串指代可以进行导入的对象.这样这种语法下就可以对导入进行限制,一定程度上防止命名空间被污染"
   ]
  },
  {
   "cell_type": "markdown",
   "metadata": {},
   "source": [
    "## `__path__`字段用于自省模块的所在绝对地址\n",
    "\n",
    "这个关键字只对package有意义,入口模块是没有这个字段的,访问也会报错,需要注意.\n",
    "\n",
    "`__path__`字段是在加载时被创建的,可以记录其所在的绝对地址.,注意它是一个List[str]数据.\n",
    "\n",
    "`__path__`字段会影响导入时对包中包含的模块和子包的搜索.比如在module_test中为`__path__`添加一个子模块的路径,他就会同时导入这个子模块"
   ]
  },
  {
   "cell_type": "code",
   "execution_count": 5,
   "metadata": {},
   "outputs": [
    {
     "data": {
      "text/plain": [
       "['/Users/huangsizhe/WORKSPACE/github/hsz1273327/TutorialForPython/ipynbs/语法篇/模块/module_test',\n",
       " '/Users/huangsizhe/WORKSPACE/github/hsz1273327/TutorialForPython/ipynbs/语法篇/模块/module_test/a']"
      ]
     },
     "execution_count": 5,
     "metadata": {},
     "output_type": "execute_result"
    }
   ],
   "source": [
    "module_test.__path__"
   ]
  },
  {
   "cell_type": "markdown",
   "metadata": {},
   "source": [
    "## `__file__`用于自省被引用模块文件的路径\n",
    "\n",
    "如果当前文件包含在`sys.path`里面，那么，`__file__`返回一个相对路径;\n",
    "\n",
    "如果当前文件不包含在`sys.path`里面，那么`__file__`返回一个绝对路径."
   ]
  },
  {
   "cell_type": "code",
   "execution_count": 6,
   "metadata": {},
   "outputs": [
    {
     "data": {
      "text/plain": [
       "'/Users/huangsizhe/WORKSPACE/github/hsz1273327/TutorialForPython/ipynbs/语法篇/模块/module_test/__init__.py'"
      ]
     },
     "execution_count": 6,
     "metadata": {},
     "output_type": "execute_result"
    }
   ],
   "source": [
    "module_test.__file__"
   ]
  },
  {
   "cell_type": "markdown",
   "metadata": {},
   "source": [
    "## `__package__`用于自省所在的包位置\n",
    "\n",
    "`__package__`只有package中才会有,入口模块中`__package__`为空.`__package__`主要是为了相对引用而设置的一个属性, 如果所在的文件是一个package的话, 它和`__name__`的值是一样的, 如果是子模块的话, 它的值就跟父模块一致"
   ]
  },
  {
   "cell_type": "code",
   "execution_count": 7,
   "metadata": {},
   "outputs": [
    {
     "name": "stdout",
     "output_type": "stream",
     "text": [
      "module_test\n",
      "module_test.a\n"
     ]
    }
   ],
   "source": [
    "print(module_test.__package__)\n",
    "print(a.__package__)"
   ]
  },
  {
   "cell_type": "markdown",
   "metadata": {},
   "source": [
    "## `__spec__`模块规范对象\n",
    "\n"
   ]
  },
  {
   "cell_type": "code",
   "execution_count": 8,
   "metadata": {},
   "outputs": [
    {
     "data": {
      "text/plain": [
       "ModuleSpec(name='module_test', loader=<_frozen_importlib_external.SourceFileLoader object at 0x10666c7b8>, origin='/Users/huangsizhe/WORKSPACE/github/hsz1273327/TutorialForPython/ipynbs/语法篇/模块/module_test/__init__.py', submodule_search_locations=['/Users/huangsizhe/WORKSPACE/github/hsz1273327/TutorialForPython/ipynbs/语法篇/模块/module_test', '/Users/huangsizhe/WORKSPACE/github/hsz1273327/TutorialForPython/ipynbs/语法篇/模块/module_test/a'])"
      ]
     },
     "execution_count": 8,
     "metadata": {},
     "output_type": "execute_result"
    }
   ],
   "source": [
    "module_test.__spec__"
   ]
  },
  {
   "cell_type": "markdown",
   "metadata": {},
   "source": [
    "## `__loader__`模块加载器\n",
    "\n",
    "模块使用模块加载器加载进python的虚拟机,而`__loader__`则是自省导入时使用加载器的字段.此处不多扩展,在下一篇中我们会详细介绍模块的加载流程以及如何利用这一流程做一些特殊的事情."
   ]
  },
  {
   "cell_type": "code",
   "execution_count": 9,
   "metadata": {},
   "outputs": [
    {
     "data": {
      "text/plain": [
       "<_frozen_importlib_external.SourceFileLoader at 0x10666c7b8>"
      ]
     },
     "execution_count": 9,
     "metadata": {},
     "output_type": "execute_result"
    }
   ],
   "source": [
    "module_test.__loader__"
   ]
  },
  {
   "cell_type": "markdown",
   "metadata": {},
   "source": [
    "## `__cached__` 模块是否已经缓存\n",
    "\n",
    "如果已经缓存的话,则会保存模块对应`.pyc`的绝对地址"
   ]
  },
  {
   "cell_type": "code",
   "execution_count": 10,
   "metadata": {},
   "outputs": [
    {
     "data": {
      "text/plain": [
       "'/Users/huangsizhe/WORKSPACE/github/hsz1273327/TutorialForPython/ipynbs/语法篇/模块/module_test/__pycache__/__init__.cpython-36.pyc'"
      ]
     },
     "execution_count": 10,
     "metadata": {},
     "output_type": "execute_result"
    }
   ],
   "source": [
    "module_test.__cached__"
   ]
  },
  {
   "cell_type": "markdown",
   "metadata": {},
   "source": [
    "## `__dict__`用于自省模块中所有字段\n",
    "\n",
    "和python的其他对象一样,`__dict__`用于自省模块对象中所有的字段."
   ]
  },
  {
   "cell_type": "markdown",
   "metadata": {},
   "source": [
    "本文只是先将这些字段罗列出来便于查找后面的小节中我们会详细介绍模块的加载流程."
   ]
  }
 ],
 "metadata": {
  "kernelspec": {
   "display_name": "Python 3",
   "language": "python",
   "name": "python3"
  },
  "language_info": {
   "codemirror_mode": {
    "name": "ipython",
    "version": 3
   },
   "file_extension": ".py",
   "mimetype": "text/x-python",
   "name": "python",
   "nbconvert_exporter": "python",
   "pygments_lexer": "ipython3",
   "version": "3.6.4"
  }
 },
 "nbformat": 4,
 "nbformat_minor": 2
}
