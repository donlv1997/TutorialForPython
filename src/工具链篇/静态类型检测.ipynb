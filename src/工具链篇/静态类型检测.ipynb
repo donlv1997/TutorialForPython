{
 "cells": [
  {
   "cell_type": "markdown",
   "metadata": {},
   "source": [
    "# `*`类型注释和检验\n",
    "\n",
    "python3.5起就支持函数的类型注释(pep 484),它的结构如下:"
   ]
  },
  {
   "cell_type": "code",
   "execution_count": 1,
   "metadata": {},
   "outputs": [],
   "source": [
    "def func(arg:int)->int:\n",
    "    pass"
   ]
  },
  {
   "cell_type": "markdown",
   "metadata": {},
   "source": [
    "***ps:类型注释只是注释,python解释器并不会处理它,要让它有类型检验的功能还要有其他工具配合.***\n",
    "\n",
    "函数的参数类型保存在它的`__annotations__`属性上"
   ]
  },
  {
   "cell_type": "code",
   "execution_count": 2,
   "metadata": {},
   "outputs": [
    {
     "data": {
      "text/plain": [
       "{'arg': int, 'return': int}"
      ]
     },
     "execution_count": 2,
     "metadata": {},
     "output_type": "execute_result"
    }
   ],
   "source": [
    "func.__annotations__"
   ]
  },
  {
   "cell_type": "markdown",
   "metadata": {},
   "source": [
    "## `*`自定义泛型注解\n",
    "\n",
    "\n",
    "类型注释可以直接使用系统自带的类和自己定义的类,但对于泛型注解就力不从心了,对于这种需求,python内置了typing模块来帮助泛型注释"
   ]
  },
  {
   "cell_type": "markdown",
   "metadata": {},
   "source": [
    "### 协程注释"
   ]
  },
  {
   "cell_type": "code",
   "execution_count": 3,
   "metadata": {},
   "outputs": [],
   "source": [
    "async def spam(ignored: int) -> str:\n",
    "    return 'spam'\n",
    "\n",
    "async def foo() -> None:\n",
    "    bar = await spam(42)  # type: str"
   ]
  },
  {
   "cell_type": "markdown",
   "metadata": {},
   "source": [
    "### 类型别名"
   ]
  },
  {
   "cell_type": "code",
   "execution_count": 4,
   "metadata": {},
   "outputs": [],
   "source": [
    "Url = str\n",
    "def retry(url: Url, retry_count: int) -> None:\n",
    "    pass"
   ]
  },
  {
   "cell_type": "markdown",
   "metadata": {},
   "source": [
    "### 可调用类型"
   ]
  },
  {
   "cell_type": "code",
   "execution_count": 5,
   "metadata": {},
   "outputs": [],
   "source": [
    "from typing import Callable\n",
    "\n",
    "def feeder(get_next_item: Callable[[], str]) -> None:\n",
    "    pass\n",
    "\n",
    "def async_query(on_success: Callable[[int], None],\n",
    "                on_error: Callable[[int, Exception], None]) -> None:\n",
    "    pass"
   ]
  },
  {
   "cell_type": "markdown",
   "metadata": {},
   "source": [
    "### 生成器类型"
   ]
  },
  {
   "cell_type": "code",
   "execution_count": 6,
   "metadata": {},
   "outputs": [],
   "source": [
    "from typing import Generator\n",
    "def echo_round() -> Generator[int, float, str]:\n",
    "    res = yield\n",
    "    while res:\n",
    "        res = yield round(res)\n",
    "    return 'OK'"
   ]
  },
  {
   "cell_type": "code",
   "execution_count": 7,
   "metadata": {},
   "outputs": [],
   "source": [
    "from typing import Mapping, Set\n",
    "\n",
    "def notify_by_email(employees: Set[int], overrides: Mapping[str, str]) -> None:\n",
    "    pass"
   ]
  },
  {
   "cell_type": "markdown",
   "metadata": {},
   "source": [
    "### 泛型"
   ]
  },
  {
   "cell_type": "code",
   "execution_count": 8,
   "metadata": {},
   "outputs": [],
   "source": [
    "from typing import Sequence, TypeVar\n",
    "\n",
    "T = TypeVar('T')      # Declare type variable\n",
    "\n",
    "def first(l: Sequence[T]) -> T:   # Generic function\n",
    "    return l[0]"
   ]
  },
  {
   "cell_type": "markdown",
   "metadata": {},
   "source": [
    "### 受限泛型"
   ]
  },
  {
   "cell_type": "code",
   "execution_count": 9,
   "metadata": {},
   "outputs": [],
   "source": [
    "from typing import TypeVar\n",
    "\n",
    "AnyStr = TypeVar('AnyStr', str, bytes)#必须是str或者bytes\n",
    "\n",
    "def concat(x: AnyStr, y: AnyStr) -> AnyStr:\n",
    "    return x + y"
   ]
  },
  {
   "cell_type": "markdown",
   "metadata": {},
   "source": [
    "###  Union类型\n",
    "\n",
    "Union类型常用于可选类型\n"
   ]
  },
  {
   "cell_type": "code",
   "execution_count": 10,
   "metadata": {},
   "outputs": [],
   "source": [
    "from typing import Union\n",
    "def handle_employees(e: Union[int, Sequence[int]]) -> None:\n",
    "    if isinstance(e, Employee):\n",
    "        e = [e]"
   ]
  },
  {
   "cell_type": "markdown",
   "metadata": {},
   "source": [
    "### Optional类型\n",
    "\n",
    "Optional类型通常表示这个被注释的参数是可以为None的."
   ]
  },
  {
   "cell_type": "code",
   "execution_count": 11,
   "metadata": {},
   "outputs": [],
   "source": [
    "from typing import Optional\n",
    "def option_demo(x:int,y: Optional[int]=None) -> int:\n",
    "    if y:\n",
    "        return x+y\n",
    "    else:\n",
    "        return x"
   ]
  },
  {
   "cell_type": "markdown",
   "metadata": {},
   "source": [
    "### 用户自定义泛型"
   ]
  },
  {
   "cell_type": "code",
   "execution_count": 12,
   "metadata": {},
   "outputs": [],
   "source": [
    "from typing import TypeVar, Generic\n",
    "from typing import Iterable\n",
    "class Logger:\n",
    "    pass\n",
    "\n",
    "T = TypeVar('T')\n",
    "\n",
    "class LoggedVar(Generic[T]):\n",
    "    def __init__(self, value: T, name: str, logger: Logger) -> None:\n",
    "        self.name = name\n",
    "        self.logger = logger\n",
    "        self.value = value\n",
    "\n",
    "    def set(self, new: T) -> None:\n",
    "        self.log('Set ' + repr(self.value))\n",
    "        self.value = new\n",
    "\n",
    "    def get(self) -> T:\n",
    "        self.log('Get ' + repr(self.value))\n",
    "        return self.value\n",
    "\n",
    "    def log(self, message: str) -> None:\n",
    "        self.logger.info('{}: {}'.format(self.name,message))\n",
    "        \n",
    "\n",
    "\n",
    "def zero_all_vars(vars: Iterable[LoggedVar[int]]) -> None:\n",
    "    for var in vars:\n",
    "        var.set(0)"
   ]
  },
  {
   "cell_type": "markdown",
   "metadata": {},
   "source": [
    "### any类型\n",
    "\n",
    "any类型和ts中一样,代表任意类型都可以"
   ]
  },
  {
   "cell_type": "markdown",
   "metadata": {},
   "source": [
    "### 方法重载"
   ]
  },
  {
   "cell_type": "code",
   "execution_count": 13,
   "metadata": {},
   "outputs": [],
   "source": [
    "from typing import overload\n",
    "\n",
    "class bytes:\n",
    "    @overload\n",
    "    def __getitem__(self, i: int) -> int: ...\n",
    "    @overload\n",
    "    def __getitem__(self, s: slice) -> bytes: ..."
   ]
  },
  {
   "cell_type": "markdown",
   "metadata": {},
   "source": [
    "### 变量注解[3.6]\n",
    "\n",
    "3.6版本起变量类型也可以注释了(pep 526),这看起来就像c语言一样,然而它依然还是注释"
   ]
  },
  {
   "cell_type": "code",
   "execution_count": 14,
   "metadata": {},
   "outputs": [],
   "source": [
    "from typing import Optional,List\n",
    "foo: Optional[int]\n",
    "bar: List[str] = []"
   ]
  },
  {
   "cell_type": "code",
   "execution_count": 15,
   "metadata": {},
   "outputs": [],
   "source": [
    "from typing import ClassVar\n",
    "\n",
    "class C:\n",
    "    x: int  # instance variable\n",
    "    y: ClassVar[int]  # class variable\n",
    "    z = None  # type: ClassVar[int]\n",
    "\n",
    "    def foo(self) -> None:\n",
    "        self.x = 0  # OK\n",
    "        self.y = 0  # Error: Cannot assign to class variable \"y\" via instance\n",
    "\n",
    "C.y = 0  # This is OK"
   ]
  },
  {
   "cell_type": "markdown",
   "metadata": {},
   "source": [
    "模块,类中的的变量注解同样保存在`__annotations__`中"
   ]
  },
  {
   "cell_type": "code",
   "execution_count": 16,
   "metadata": {},
   "outputs": [
    {
     "data": {
      "text/plain": [
       "{'x': int, 'y': typing.ClassVar[int]}"
      ]
     },
     "execution_count": 16,
     "metadata": {},
     "output_type": "execute_result"
    }
   ],
   "source": [
    "C.__annotations__"
   ]
  },
  {
   "cell_type": "code",
   "execution_count": 17,
   "metadata": {},
   "outputs": [],
   "source": [
    "c = C()"
   ]
  },
  {
   "cell_type": "code",
   "execution_count": 18,
   "metadata": {},
   "outputs": [
    {
     "data": {
      "text/plain": [
       "{'x': int, 'y': typing.ClassVar[int]}"
      ]
     },
     "execution_count": 18,
     "metadata": {},
     "output_type": "execute_result"
    }
   ],
   "source": [
    "c.__annotations__"
   ]
  },
  {
   "cell_type": "code",
   "execution_count": 19,
   "metadata": {},
   "outputs": [
    {
     "data": {
      "text/plain": [
       "{'bar': typing.List[str], 'foo': typing.Union[int, NoneType]}"
      ]
     },
     "execution_count": 19,
     "metadata": {},
     "output_type": "execute_result"
    }
   ],
   "source": [
    "__annotations__"
   ]
  },
  {
   "cell_type": "markdown",
   "metadata": {},
   "source": [
    "## 静态类型检验\n",
    "\n",
    "python解释器并不会做静态类型检验,我们可以利用[mypy](http://mypy-lang.org/)来实现"
   ]
  },
  {
   "cell_type": "code",
   "execution_count": 20,
   "metadata": {},
   "outputs": [
    {
     "name": "stdout",
     "output_type": "stream",
     "text": [
      "Overwriting src/C2/mypytest.py\n"
     ]
    }
   ],
   "source": [
    "%%writefile src/C2/mypytest.py\n",
    "\n",
    "from typing import Callable\n",
    "\n",
    "def twice(i: int, next: Callable[[int], int]) -> int:\n",
    "    return next(next(i))\n",
    "\n",
    "def add(i: int) -> str:#写成返回str,这样就会报错!\n",
    "    return i + 1\n",
    "\n",
    "print(twice(3, add))   # 5"
   ]
  },
  {
   "cell_type": "code",
   "execution_count": 21,
   "metadata": {},
   "outputs": [
    {
     "name": "stdout",
     "output_type": "stream",
     "text": [
      "src/C2/mypytest.py:8: error: Incompatible return value type (got \"int\", expected \"str\")\r\n",
      "src/C2/mypytest.py:10: error: Argument 2 to \"twice\" has incompatible type \"Callable[[int], str]\"; expected \"Callable[[int], int]\"\r\n"
     ]
    }
   ],
   "source": [
    "!mypy src/C2/mypytest.py"
   ]
  },
  {
   "cell_type": "markdown",
   "metadata": {},
   "source": [
    "## `*`运行时类型检测\n",
    "\n",
    "标准库自带的typing只能用于静态检测,当我们需要运行时检测时可以借助[enforce](https://github.com/RussBaz/enforce)来实现.enforce使用装饰器语法,\n",
    "它提供了装饰器 `@runtime_validation` 用于运行时进行类型检测.同时提供了工具`is_type_of_type`来对类型和申明类型进行比较.\n",
    "\n",
    "\n",
    "需要注意的是`is_type_of_type`对通过cloudpickle的对象无效"
   ]
  },
  {
   "cell_type": "code",
   "execution_count": 22,
   "metadata": {},
   "outputs": [
    {
     "name": "stdout",
     "output_type": "stream",
     "text": [
      "Looking in indexes: http://pypi.douban.com/simple\n",
      "Requirement already satisfied: enforce in /Users/huangsizhe/anaconda3/lib/python3.6/site-packages (0.3.4)\n",
      "Requirement already satisfied: wrapt in /Users/huangsizhe/anaconda3/lib/python3.6/site-packages (from enforce) (1.10.11)\n",
      "\u001b[31mccxt 1.13.123 has requirement certifi>=2018.1.18, but you'll have certifi 2016.2.28 which is incompatible.\u001b[0m\n",
      "\u001b[31mccxt 1.13.123 has requirement requests>=2.18.4, but you'll have requests 2.14.2 which is incompatible.\u001b[0m\n"
     ]
    }
   ],
   "source": [
    "!pip install enforce"
   ]
  },
  {
   "cell_type": "code",
   "execution_count": 23,
   "metadata": {},
   "outputs": [],
   "source": [
    "import enforce\n",
    "\n",
    "@enforce.runtime_validation \n",
    "class A:\n",
    "    test:str\n",
    "    def __init__(self,text:str)->None:\n",
    "        self.text = text\n",
    "        \n",
    "@enforce.runtime_validation\n",
    "def foo(text: str) -> A:\n",
    "    return A(text)"
   ]
  },
  {
   "cell_type": "code",
   "execution_count": 24,
   "metadata": {},
   "outputs": [],
   "source": [
    "a = foo(\"asd\")"
   ]
  },
  {
   "cell_type": "code",
   "execution_count": 25,
   "metadata": {},
   "outputs": [
    {
     "ename": "RuntimeTypeError",
     "evalue": "\n  The following runtime type errors were encountered:\n       Argument 'text' was not of type <class 'str'>. Actual type was int.",
     "output_type": "error",
     "traceback": [
      "\u001b[0;31m---------------------------------------------------------------------------\u001b[0m",
      "\u001b[0;31mRuntimeTypeError\u001b[0m                          Traceback (most recent call last)",
      "\u001b[0;32m<ipython-input-25-a3104ecab128>\u001b[0m in \u001b[0;36m<module>\u001b[0;34m()\u001b[0m\n\u001b[0;32m----> 1\u001b[0;31m \u001b[0mb\u001b[0m \u001b[0;34m=\u001b[0m \u001b[0mfoo\u001b[0m\u001b[0;34m(\u001b[0m\u001b[0;36m123\u001b[0m\u001b[0;34m)\u001b[0m\u001b[0;34m\u001b[0m\u001b[0m\n\u001b[0m",
      "\u001b[0;32m~/anaconda3/lib/python3.6/site-packages/enforce/decorators.py\u001b[0m in \u001b[0;36muniversal\u001b[0;34m(wrapped, instance, args, kwargs)\u001b[0m\n\u001b[1;32m    102\u001b[0m \u001b[0;34m\u001b[0m\u001b[0m\n\u001b[1;32m    103\u001b[0m             \u001b[0;31m# First, check argument types (every key not labelled 'return')\u001b[0m\u001b[0;34m\u001b[0m\u001b[0;34m\u001b[0m\u001b[0m\n\u001b[0;32m--> 104\u001b[0;31m             \u001b[0m_args\u001b[0m\u001b[0;34m,\u001b[0m \u001b[0m_kwargs\u001b[0m\u001b[0;34m,\u001b[0m \u001b[0m_\u001b[0m \u001b[0;34m=\u001b[0m \u001b[0menforcer\u001b[0m\u001b[0;34m.\u001b[0m\u001b[0mvalidate_inputs\u001b[0m\u001b[0;34m(\u001b[0m\u001b[0mparameters\u001b[0m\u001b[0;34m)\u001b[0m\u001b[0;34m\u001b[0m\u001b[0m\n\u001b[0m\u001b[1;32m    105\u001b[0m \u001b[0;34m\u001b[0m\u001b[0m\n\u001b[1;32m    106\u001b[0m             \u001b[0;32mif\u001b[0m \u001b[0minstance_method\u001b[0m\u001b[0;34m:\u001b[0m\u001b[0;34m\u001b[0m\u001b[0m\n",
      "\u001b[0;32m~/anaconda3/lib/python3.6/site-packages/enforce/enforcers.py\u001b[0m in \u001b[0;36mvalidate_inputs\u001b[0;34m(self, input_data)\u001b[0m\n\u001b[1;32m     84\u001b[0m \u001b[0;34m\u001b[0m\u001b[0m\n\u001b[1;32m     85\u001b[0m         \u001b[0mexception_text\u001b[0m \u001b[0;34m=\u001b[0m \u001b[0mparse_errors\u001b[0m\u001b[0;34m(\u001b[0m\u001b[0mself\u001b[0m\u001b[0;34m.\u001b[0m\u001b[0mvalidator\u001b[0m\u001b[0;34m.\u001b[0m\u001b[0merrors\u001b[0m\u001b[0;34m,\u001b[0m \u001b[0mself\u001b[0m\u001b[0;34m.\u001b[0m\u001b[0mhints\u001b[0m\u001b[0;34m)\u001b[0m\u001b[0;34m\u001b[0m\u001b[0m\n\u001b[0;32m---> 86\u001b[0;31m         \u001b[0;32mraise\u001b[0m \u001b[0mRuntimeTypeError\u001b[0m\u001b[0;34m(\u001b[0m\u001b[0mexception_text\u001b[0m\u001b[0;34m)\u001b[0m\u001b[0;34m\u001b[0m\u001b[0m\n\u001b[0m\u001b[1;32m     87\u001b[0m \u001b[0;34m\u001b[0m\u001b[0m\n\u001b[1;32m     88\u001b[0m     \u001b[0;32mdef\u001b[0m \u001b[0mvalidate_outputs\u001b[0m\u001b[0;34m(\u001b[0m\u001b[0mself\u001b[0m\u001b[0;34m,\u001b[0m \u001b[0moutput_data\u001b[0m\u001b[0;34m:\u001b[0m \u001b[0mT\u001b[0m\u001b[0;34m)\u001b[0m \u001b[0;34m->\u001b[0m \u001b[0mT\u001b[0m\u001b[0;34m:\u001b[0m\u001b[0;34m\u001b[0m\u001b[0m\n",
      "\u001b[0;31mRuntimeTypeError\u001b[0m: \n  The following runtime type errors were encountered:\n       Argument 'text' was not of type <class 'str'>. Actual type was int."
     ]
    }
   ],
   "source": [
    "b = foo(123)"
   ]
  }
 ],
 "metadata": {
  "kernelspec": {
   "display_name": "Python 3",
   "language": "python",
   "name": "python3"
  },
  "language_info": {
   "codemirror_mode": {
    "name": "ipython",
    "version": 3
   },
   "file_extension": ".py",
   "mimetype": "text/x-python",
   "name": "python",
   "nbconvert_exporter": "python",
   "pygments_lexer": "ipython3",
   "version": "3.7.0"
  }
 },
 "nbformat": 4,
 "nbformat_minor": 2
}
