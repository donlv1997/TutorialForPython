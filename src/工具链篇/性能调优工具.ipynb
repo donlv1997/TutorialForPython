{
 "cells": [
  {
   "cell_type": "markdown",
   "metadata": {},
   "source": [
    "# 性能调优\n",
    "\n",
    "在代码可以实现功能且健壮不出错的前提下,我们往往会有优化性能的需求\n",
    "\n",
    "性能调优大约可以在运行时间和运行内存占用两方面来考量,下面介绍的工具定位精度由粗到细,也分为这两个方面"
   ]
  },
  {
   "cell_type": "markdown",
   "metadata": {},
   "source": [
    "## 测试整体运行时间\n",
    "\n",
    "Python中的timeit是测试代码执行效率的工具.可以用命令行直接测试脚本,也可以测试代码字符串的效率,当然最简单的还是直接用ipython的内置timeit魔法命令测某段代码的效率"
   ]
  },
  {
   "cell_type": "code",
   "execution_count": 1,
   "metadata": {},
   "outputs": [
    {
     "data": {
      "text/plain": [
       "0.32536690100096166"
      ]
     },
     "execution_count": 1,
     "metadata": {},
     "output_type": "execute_result"
    }
   ],
   "source": [
    "import timeit\n",
    "t = timeit.Timer('map(lambda x: x**2,range(1000))')\n",
    "t.timeit()"
   ]
  },
  {
   "cell_type": "code",
   "execution_count": 2,
   "metadata": {},
   "outputs": [
    {
     "name": "stdout",
     "output_type": "stream",
     "text": [
      "20000000 loops, best of 5: 10.3 nsec per loop\r\n"
     ]
    }
   ],
   "source": [
    "!python -m timeit -s \"map(lambda x: x**2,range(1000))\""
   ]
  },
  {
   "cell_type": "markdown",
   "metadata": {},
   "source": [
    "## 函数级性能瓶颈定位\n",
    "\n",
    "python的标准库中有一个可以实现性能瓶颈定位的模块叫cprofile,他是一个开销极小的C扩展.用它可以实现函数级的性能分析,配合`pstats`模块还可以输出分析报告\n",
    "\n",
    "\n",
    "### 使用单独模块分析"
   ]
  },
  {
   "cell_type": "code",
   "execution_count": 3,
   "metadata": {},
   "outputs": [
    {
     "name": "stdout",
     "output_type": "stream",
     "text": [
      "Overwriting examples/profile/profile_test.py\n"
     ]
    }
   ],
   "source": [
    "%%writefile examples/profile/profile_test.py\n",
    "def foo():\n",
    "    sum = 0\n",
    "    for i in range(10000):\n",
    "        sum += i\n",
    "    return sum\n",
    "if __name__==\"__main__\":\n",
    "    try :\n",
    "        import profile\n",
    "    except:\n",
    "        import cProfile as profile\n",
    "        \n",
    "    profile.run(\"foo()\")"
   ]
  },
  {
   "cell_type": "code",
   "execution_count": 4,
   "metadata": {},
   "outputs": [
    {
     "name": "stdout",
     "output_type": "stream",
     "text": [
      "         5 function calls in 0.016 seconds\r\n",
      "\r\n",
      "   Ordered by: standard name\r\n",
      "\r\n",
      "   ncalls  tottime  percall  cumtime  percall filename:lineno(function)\r\n",
      "        1    0.000    0.000    0.001    0.001 :0(exec)\r\n",
      "        1    0.016    0.016    0.016    0.016 :0(setprofile)\r\n",
      "        1    0.000    0.000    0.001    0.001 <string>:1(<module>)\r\n",
      "        1    0.000    0.000    0.016    0.016 profile:0(foo())\r\n",
      "        0    0.000             0.000          profile:0(profiler)\r\n",
      "        1    0.001    0.001    0.001    0.001 profile_test.py:1(foo)\r\n",
      "\r\n",
      "\r\n"
     ]
    }
   ],
   "source": [
    "!python examples/profile/profile_test.py"
   ]
  },
  {
   "cell_type": "markdown",
   "metadata": {},
   "source": [
    "### 使用命令行分析"
   ]
  },
  {
   "cell_type": "code",
   "execution_count": 5,
   "metadata": {},
   "outputs": [
    {
     "name": "stdout",
     "output_type": "stream",
     "text": [
      "Overwriting examples/profile/profile_test_foo.py\n"
     ]
    }
   ],
   "source": [
    "%%writefile examples/profile/profile_test_foo.py\n",
    "#coding:utf-8\n",
    "def foo():\n",
    "    sum = 0\n",
    "    for i in range(10000):\n",
    "        sum += i\n",
    "    return sum\n",
    "if __name__==\"__main__\":\n",
    "    foo()"
   ]
  },
  {
   "cell_type": "code",
   "execution_count": 6,
   "metadata": {},
   "outputs": [
    {
     "name": "stdout",
     "output_type": "stream",
     "text": [
      "         4 function calls in 0.001 seconds\r\n",
      "\r\n",
      "   Ordered by: standard name\r\n",
      "\r\n",
      "   ncalls  tottime  percall  cumtime  percall filename:lineno(function)\r\n",
      "        1    0.000    0.000    0.001    0.001 profile_test_foo.py:1(<module>)\r\n",
      "        1    0.001    0.001    0.001    0.001 profile_test_foo.py:2(foo)\r\n",
      "        1    0.000    0.000    0.001    0.001 {built-in method builtins.exec}\r\n",
      "        1    0.000    0.000    0.000    0.000 {method 'disable' of '_lsprof.Profiler' objects}\r\n",
      "\r\n",
      "\r\n"
     ]
    }
   ],
   "source": [
    "!python -m cProfile examples/profile/profile_test_foo.py"
   ]
  },
  {
   "cell_type": "markdown",
   "metadata": {},
   "source": [
    "### 统计项说明\n",
    "\n",
    "统计项|说明\n",
    "---|---\n",
    "ncalls| 函数被调用次数\n",
    "tottime|函数总计运行时间,不含调用函数运行时间\n",
    "cumtime|函数总计运行时间,含调用的函数运行时间\n",
    "percall|函数运行一次平均时间,等于tottime(cumtime)/ncalls\n",
    "`filename:lineno`|函数所在文件名,函数的行号,函数名"
   ]
  },
  {
   "cell_type": "markdown",
   "metadata": {},
   "source": [
    "### 与pstats结合提供多种形式的报表"
   ]
  },
  {
   "cell_type": "code",
   "execution_count": 7,
   "metadata": {},
   "outputs": [
    {
     "name": "stdout",
     "output_type": "stream",
     "text": [
      "Overwriting examples/profile/profile_test_pstats.py\n"
     ]
    }
   ],
   "source": [
    "%%writefile examples/profile/profile_test_pstats.py\n",
    "def foo():\n",
    "    sum = 0\n",
    "    for i in range(10000):\n",
    "        sum += i\n",
    "    return sum\n",
    "if __name__==\"__main__\":\n",
    "    try :\n",
    "        import profile\n",
    "    except:\n",
    "        import cProfile as profile\n",
    "        \n",
    "    profile.run(\"foo()\",\"foo.txt\")\n",
    "    import pstats\n",
    "    p = pstats.Stats(\"foo.txt\")\n",
    "    p.sort_stats(\"time\").print_stats()"
   ]
  },
  {
   "cell_type": "code",
   "execution_count": 8,
   "metadata": {},
   "outputs": [
    {
     "name": "stdout",
     "output_type": "stream",
     "text": [
      "Fri May 26 11:14:16 2023    foo.txt\r\n",
      "\r\n",
      "         5 function calls in 0.001 seconds\r\n",
      "\r\n",
      "   Ordered by: internal time\r\n",
      "\r\n",
      "   ncalls  tottime  percall  cumtime  percall filename:lineno(function)\r\n",
      "        1    0.001    0.001    0.001    0.001 /Users/mac/WORKSPACE/GITHUB/BLOG/TutorialForPython/src/工具链篇/examples/profile/profile_test_pstats.py:1(foo)\r\n",
      "        1    0.000    0.000    0.000    0.000 :0(setprofile)\r\n",
      "        1    0.000    0.000    0.001    0.001 profile:0(foo())\r\n",
      "        1    0.000    0.000    0.001    0.001 :0(exec)\r\n",
      "        1    0.000    0.000    0.001    0.001 <string>:1(<module>)\r\n",
      "        0    0.000             0.000          profile:0(profiler)\r\n",
      "\r\n",
      "\r\n"
     ]
    }
   ],
   "source": [
    "!python examples/profile/profile_test_pstats.py"
   ]
  },
  {
   "cell_type": "markdown",
   "metadata": {},
   "source": [
    "stats有许多函数,可以提供不同的报表\n",
    "\n",
    "+ stats函数说明\n",
    "\n",
    "函数|说明\n",
    "---|---\n",
    "strip_dirs()|除去文件名前名的路径信息\n",
    "add(filename,[...])|把profile输出的文件加入stats实例中统计\n",
    "dump_stats(filename)|把stats统计结果保存到文件\n",
    "sort_stats(key,[...])|最重要的,可以给profile统计结果排序\n",
    "reverse_order()|数据反排序\n",
    "print_stats([restriction,...])|把报表输出到stdout\n",
    "print_callers([restriction,...])|输出调用指定函数的相关信息\n",
    "print_callees([restriction,...])|输出指定函数调用过的函数的相关信息\n",
    "\n",
    "+ sort_stats可接受的参数\n",
    "\n",
    "参数|说明\n",
    "---|---\n",
    "ncalls|被调次数\n",
    "cumulative|函数运行总时间\n",
    "file|文件名\n",
    "module|模块名\n",
    "pcalls|简单统计\n",
    "line|行号\n",
    "name|函数名\n",
    "nfl|name,file,line\n",
    "stdname|标准函数名\n",
    "time|函数内部运行时间"
   ]
  },
  {
   "cell_type": "markdown",
   "metadata": {},
   "source": [
    "## 语句级性能瓶颈定位\n",
    "\n",
    "cprofiler只能追踪到哪个函数是性能瓶颈,而函数中哪条语句是性能瓶颈就追踪不到了,对于语句级性能瓶颈定位,python并没有官方工具,但github上有位大神制作了[line_profiler](https://github.com/rkern/line_profiler),这个工具可以实现这一功能,它也几乎可以说是python的半标准工具之一了.\n",
    "\n",
    "因为不是标准库中的内容,所以需要pip安装.\n",
    "\n",
    "使用方法十分简单,在需要分析的函数上面加上装饰器`@profile`即可(注意不用import任何东西,这条装饰器在定位好后应该删除以保证代码可以运行)"
   ]
  },
  {
   "cell_type": "code",
   "execution_count": 9,
   "metadata": {},
   "outputs": [
    {
     "name": "stdout",
     "output_type": "stream",
     "text": [
      "Overwriting examples/profile/line_profile_test.py\n"
     ]
    }
   ],
   "source": [
    "%%writefile examples/profile/line_profile_test.py\n",
    "\n",
    "@profile\n",
    "def foo():\n",
    "    sum = 0\n",
    "    for i in range(10000):\n",
    "        sum += i\n",
    "    return sum\n",
    "if __name__==\"__main__\":\n",
    "    foo()"
   ]
  },
  {
   "cell_type": "code",
   "execution_count": 10,
   "metadata": {},
   "outputs": [
    {
     "name": "stdout",
     "output_type": "stream",
     "text": [
      "Wrote profile results to line_profile_test.py.lprof\r\n",
      "Timer unit: 1e-06 s\r\n",
      "\r\n",
      "Total time: 0.006936 s\r\n",
      "File: examples/profile/line_profile_test.py\r\n",
      "Function: foo at line 2\r\n",
      "\r\n",
      "Line #      Hits         Time  Per Hit   % Time  Line Contents\r\n",
      "==============================================================\r\n",
      "     2                                           @profile\r\n",
      "     3                                           def foo():\r\n",
      "     4         1          0.0      0.0      0.0      sum = 0\r\n",
      "     5     10000       3599.0      0.4     51.9      for i in range(10000):\r\n",
      "     6     10000       3336.0      0.3     48.1          sum += i\r\n",
      "     7         1          1.0      1.0      0.0      return sum\r\n",
      "\r\n"
     ]
    }
   ],
   "source": [
    "!python3 -m kernprof -l -v examples/profile/line_profile_test.py"
   ]
  },
  {
   "cell_type": "markdown",
   "metadata": {},
   "source": [
    "## 内存分析\n",
    "\n",
    "[memory_profiler](https://pypi.python.org/pypi/memory_profiler/)是用来分析内存使用情况和追踪内存泄露的工具.它用法比较接近`line_profiler`\n",
    "\n",
    "由于不是标准库中的模块,它需要pip安装.\n",
    "\n",
    "\n",
    "需要注意的是windows下需要在script文件夹下将`mprof`文件改名为`mprof.py`并在同一目录下创建一个`mprof.bat`文件编辑为如下内容\n",
    "\n",
    "```shell\n",
    "@echo off\n",
    "python \"%~dpn0.py\" %*\n",
    "```\n",
    "\n",
    "它的使用及其简单:"
   ]
  },
  {
   "cell_type": "code",
   "execution_count": 11,
   "metadata": {},
   "outputs": [
    {
     "name": "stdout",
     "output_type": "stream",
     "text": [
      "Writing examples/profile/memory_test.py\n"
     ]
    }
   ],
   "source": [
    "%%writefile examples/profile/memory_test.py\n",
    "from memory_profiler import profile\n",
    "@profile\n",
    "def foo():\n",
    "    sum = 0\n",
    "    for i in range(10000):\n",
    "        sum += i\n",
    "    return sum\n",
    "if __name__==\"__main__\":\n",
    "    try :\n",
    "        import profile as cProfile\n",
    "    except:\n",
    "        import cProfile \n",
    "        \n",
    "    cProfile.run(\"foo()\",\"foo.txt\")\n",
    "    import pstats\n",
    "    p = pstats.Stats(\"foo.txt\")\n",
    "    p.sort_stats(\"time\").print_stats()"
   ]
  },
  {
   "cell_type": "code",
   "execution_count": 13,
   "metadata": {
    "scrolled": false
   },
   "outputs": [
    {
     "name": "stdout",
     "output_type": "stream",
     "text": [
      "Filename: /Users/mac/WORKSPACE/GITHUB/BLOG/TutorialForPython/src/工具链篇/examples/profile/memory_test.py\r\n",
      "\r\n",
      "Line #    Mem usage    Increment  Occurrences   Line Contents\r\n",
      "=============================================================\r\n",
      "     2     42.3 MiB     42.3 MiB           1   @profile\r\n",
      "     3                                         def foo():\r\n",
      "     4     42.3 MiB      0.0 MiB           1       sum = 0\r\n",
      "     5     42.3 MiB      0.0 MiB       10001       for i in range(10000):\r\n",
      "     6     42.3 MiB      0.0 MiB       10000           sum += i\r\n",
      "     7     42.3 MiB      0.0 MiB           1       return sum\r\n",
      "\r\n",
      "\r\n",
      "Fri May 26 11:15:00 2023    foo.txt\r\n",
      "\r\n",
      "         115647 function calls (114516 primitive calls) in 1.009 seconds\r\n",
      "\r\n",
      "   Ordered by: internal time\r\n",
      "\r\n",
      "   ncalls  tottime  percall  cumtime  percall filename:lineno(function)\r\n",
      "        1    0.585    0.585    0.585    0.585 /Users/mac/WORKSPACE/GITHUB/BLOG/TutorialForPython/src/工具链篇/examples/profile/memory_test.py:2(foo)\r\n",
      "     5244    0.054    0.000    0.054    0.000 :0(lstat)\r\n",
      "      649    0.047    0.000    0.206    0.000 /Users/mac/anaconda3/lib/python3.10/posixpath.py:400(_joinrealpath)\r\n",
      "     5244    0.041    0.000    0.080    0.000 /Users/mac/anaconda3/lib/python3.10/posixpath.py:71(join)\r\n",
      "     1299    0.033    0.000    0.060    0.000 /Users/mac/anaconda3/lib/python3.10/posixpath.py:337(normpath)\r\n",
      "    13620    0.020    0.000    0.020    0.000 :0(append)\r\n",
      "     7192    0.016    0.000    0.024    0.000 /Users/mac/anaconda3/lib/python3.10/posixpath.py:41(_get_sep)\r\n",
      "    12083    0.015    0.000    0.015    0.000 :0(isinstance)\r\n",
      "    11089    0.015    0.000    0.015    0.000 :0(fspath)\r\n",
      "     9792    0.014    0.000    0.014    0.000 :0(startswith)\r\n",
      "      616    0.013    0.000    0.013    0.000 :0(stat)\r\n",
      "    280/2    0.013    0.000    0.027    0.014 /Users/mac/anaconda3/lib/python3.10/sre_compile.py:87(_compile)\r\n",
      "     8424    0.011    0.000    0.011    0.000 :0(endswith)\r\n",
      "    221/5    0.010    0.000    0.034    0.007 /Users/mac/anaconda3/lib/python3.10/sre_parse.py:494(_parse)\r\n",
      "     1948    0.010    0.000    0.021    0.000 /Users/mac/anaconda3/lib/python3.10/posixpath.py:60(isabs)\r\n",
      "     5244    0.009    0.000    0.009    0.000 :0(partition)\r\n",
      "     1299    0.008    0.000    0.084    0.000 /Users/mac/anaconda3/lib/python3.10/posixpath.py:376(abspath)\r\n",
      "     5244    0.008    0.000    0.008    0.000 :0(S_ISLNK)\r\n",
      "        1    0.007    0.007    0.361    0.361 /Users/mac/anaconda3/lib/python3.10/inspect.py:850(getmodule)\r\n",
      "     1300    0.007    0.000    0.020    0.000 :0(any)\r\n",
      "      650    0.007    0.000    0.047    0.000 /Users/mac/anaconda3/lib/python3.10/inspect.py:813(getsourcefile)\r\n",
      "2402/2092    0.005    0.000    0.006    0.000 :0(len)\r\n",
      "      649    0.005    0.000    0.254    0.000 /Users/mac/anaconda3/lib/python3.10/posixpath.py:391(realpath)\r\n",
      "     2528    0.005    0.000    0.007    0.000 /Users/mac/anaconda3/lib/python3.10/inspect.py:823(<genexpr>)\r\n",
      "      650    0.004    0.000    0.094    0.000 /Users/mac/anaconda3/lib/python3.10/inspect.py:838(getabsfile)\r\n",
      "     1950    0.004    0.000    0.006    0.000 /Users/mac/anaconda3/lib/python3.10/inspect.py:820(<genexpr>)\r\n",
      "     1537    0.004    0.000    0.006    0.000 /Users/mac/anaconda3/lib/python3.10/sre_parse.py:165(__getitem__)\r\n",
      "     1372    0.003    0.000    0.005    0.000 /Users/mac/anaconda3/lib/python3.10/inspect.py:182(ismodule)\r\n",
      "     1299    0.003    0.000    0.003    0.000 :0(split)\r\n",
      "      686    0.003    0.000    0.006    0.000 /Users/mac/anaconda3/lib/python3.10/inspect.py:773(getfile)\r\n",
      "   306/29    0.003    0.000    0.004    0.000 /Users/mac/anaconda3/lib/python3.10/sre_parse.py:175(getwidth)\r\n",
      "     52/2    0.003    0.000    0.034    0.017 /Users/mac/anaconda3/lib/python3.10/sre_parse.py:436(_parse_sub)\r\n",
      "     1299    0.002    0.000    0.002    0.000 :0(join)\r\n",
      "      615    0.002    0.000    0.015    0.000 /Users/mac/anaconda3/lib/python3.10/genericpath.py:16(exists)\r\n",
      "       59    0.002    0.000    0.003    0.000 /Users/mac/anaconda3/lib/python3.10/sre_compile.py:292(_optimize_charset)\r\n",
      "      390    0.002    0.000    0.002    0.000 :0(ord)\r\n",
      "      667    0.002    0.000    0.003    0.000 /Users/mac/anaconda3/lib/python3.10/sre_parse.py:255(get)\r\n",
      "      949    0.002    0.000    0.002    0.000 /Users/mac/anaconda3/lib/python3.10/sre_parse.py:234(__next)\r\n",
      "      684    0.002    0.000    0.002    0.000 :0(hasattr)\r\n",
      "      650    0.001    0.000    0.002    0.000 /Users/mac/anaconda3/lib/python3.10/posixpath.py:52(normcase)\r\n",
      "      778    0.001    0.000    0.001    0.000 :0(get)\r\n",
      "      750    0.001    0.000    0.001    0.000 :0(min)\r\n",
      "      478    0.001    0.000    0.002    0.000 /Users/mac/anaconda3/lib/python3.10/sre_parse.py:161(__len__)\r\n",
      "      510    0.001    0.000    0.002    0.000 /Users/mac/anaconda3/lib/python3.10/sre_parse.py:250(match)\r\n",
      "      443    0.001    0.000    0.001    0.000 /Users/mac/anaconda3/lib/python3.10/sre_parse.py:173(append)\r\n",
      "      688    0.001    0.000    0.001    0.000 :0(getattr)\r\n",
      "      305    0.001    0.000    0.001    0.000 /Users/mac/anaconda3/lib/python3.10/sre_parse.py:112(__init__)\r\n",
      "      214    0.001    0.000    0.001    0.000 /Users/mac/anaconda3/lib/python3.10/sre_parse.py:287(tell)\r\n",
      "      201    0.000    0.000    0.000    0.000 :0(find)\r\n",
      "       59    0.000    0.000    0.001    0.000 /Users/mac/anaconda3/lib/python3.10/sre_compile.py:265(_compile_charset)\r\n",
      "       55    0.000    0.000    0.001    0.000 /Users/mac/anaconda3/lib/python3.10/sre_parse.py:356(_escape)\r\n",
      "       34    0.000    0.000    0.058    0.002 /Users/mac/anaconda3/lib/python3.10/tokenize.py:431(_tokenize)\r\n",
      "      189    0.000    0.000    0.000    0.000 :0(max)\r\n",
      "       62    0.000    0.000    0.001    0.000 /Users/mac/anaconda3/lib/python3.10/sre_compile.py:447(_simple)\r\n",
      "       26    0.000    0.000    0.000    0.000 /Users/mac/anaconda3/lib/python3.10/sre_parse.py:85(opengroup)\r\n",
      "       51    0.000    0.000    0.000    0.000 /Users/mac/anaconda3/lib/python3.10/sre_parse.py:433(_uniq)\r\n",
      "        1    0.000    0.000    0.000    0.000 :0(setprofile)\r\n",
      "       57    0.000    0.000    0.000    0.000 /Users/mac/anaconda3/lib/python3.10/sre_parse.py:82(groups)\r\n",
      "        1    0.000    0.000    0.058    0.058 /Users/mac/anaconda3/lib/python3.10/inspect.py:1109(getblock)\r\n",
      "       32    0.000    0.000    0.000    0.000 :0(match)\r\n",
      "       10    0.000    0.000    0.000    0.000 :0(write)\r\n",
      "       63    0.000    0.000    0.000    0.000 /Users/mac/anaconda3/lib/python3.10/sre_parse.py:169(__setitem__)\r\n",
      "       51    0.000    0.000    0.000    0.000 :0(fromkeys)\r\n",
      "       26    0.000    0.000    0.004    0.000 /Users/mac/anaconda3/lib/python3.10/sre_parse.py:97(closegroup)\r\n",
      "        1    0.000    0.000    0.000    0.000 /Users/mac/anaconda3/lib/python3.10/site-packages/memory_profiler.py:853(show_results)\r\n",
      "        2    0.000    0.000    0.062    0.031 /Users/mac/anaconda3/lib/python3.10/re.py:288(_compile)\r\n",
      "        6    0.000    0.000    0.000    0.000 /Users/mac/anaconda3/lib/python3.10/sre_compile.py:435(_mk_bitmap)\r\n",
      "       33    0.000    0.000    0.000    0.000 <string>:1(<lambda>)\r\n",
      "       18    0.000    0.000    0.000    0.000 :0(format)\r\n",
      "        2    0.000    0.000    0.028    0.014 /Users/mac/anaconda3/lib/python3.10/sre_compile.py:622(_code)\r\n",
      "       33    0.000    0.000    0.000    0.000 /Users/mac/anaconda3/lib/python3.10/inspect.py:1059(tokeneater)\r\n",
      "       29    0.000    0.000    0.000    0.000 :0(span)\r\n",
      "        6    0.000    0.000    0.000    0.000 /Users/mac/anaconda3/lib/python3.10/sre_compile.py:437(<listcomp>)\r\n",
      "        1    0.000    0.000    1.009    1.009 profile:0(foo())\r\n",
      "        6    0.000    0.000    0.000    0.000 /Users/mac/anaconda3/lib/python3.10/site-packages/memory_profiler.py:1215(<genexpr>)\r\n",
      "       26    0.000    0.000    0.000    0.000 /Users/mac/anaconda3/lib/python3.10/sre_compile.py:81(_combine_flags)\r\n",
      "        1    0.000    0.000    0.000    0.000 :0(open)\r\n",
      "       12    0.000    0.000    0.000    0.000 /Users/mac/anaconda3/lib/python3.10/sre_parse.py:296(_class_escape)\r\n",
      "        1    0.000    0.000    1.009    1.009 :0(exec)\r\n",
      "        2    0.000    0.000    0.000    0.000 /Users/mac/anaconda3/lib/python3.10/sre_compile.py:560(_compile_info)\r\n",
      "       21    0.000    0.000    0.000    0.000 :0(isidentifier)\r\n",
      "        1    0.000    0.000    0.585    0.585 /Users/mac/anaconda3/lib/python3.10/site-packages/memory_profiler.py:759(f)\r\n",
      "        2    0.000    0.000    0.062    0.031 /Users/mac/anaconda3/lib/python3.10/sre_compile.py:783(compile)\r\n",
      "        1    0.000    0.000    0.366    0.366 /Users/mac/anaconda3/lib/python3.10/inspect.py:932(findsource)\r\n",
      "       33    0.000    0.000    0.000    0.000 :0(__new__)\r\n",
      "        1    0.000    0.000    0.000    0.000 /Users/mac/anaconda3/lib/python3.10/tokenize.py:390(open)\r\n",
      "        2    0.000    0.000    0.034    0.017 /Users/mac/anaconda3/lib/python3.10/sre_parse.py:944(parse)\r\n",
      "        1    0.000    0.000    0.424    0.424 /Users/mac/anaconda3/lib/python3.10/site-packages/memory_profiler.py:645(add)\r\n",
      "        2    0.000    0.000    0.000    0.000 :0(compile)\r\n",
      "        1    0.000    0.000    0.000    0.000 /Users/mac/anaconda3/lib/python3.10/site-packages/memory_profiler.py:1201(choose_backend)\r\n",
      "        1    0.000    0.000    1.009    1.009 /Users/mac/anaconda3/lib/python3.10/site-packages/memory_profiler.py:1185(wrapper)\r\n",
      "        1    0.000    0.000    0.424    0.424 /Users/mac/anaconda3/lib/python3.10/inspect.py:1120(getsourcelines)\r\n",
      "        2    0.000    0.000    0.000    0.000 /Users/mac/anaconda3/lib/python3.10/enum.py:986(__and__)\r\n",
      "        2    0.000    0.000    0.000    0.000 /Users/mac/anaconda3/lib/python3.10/inspect.py:191(isclass)\r\n",
      "        1    0.000    0.000    0.000    0.000 /Users/mac/anaconda3/lib/python3.10/site-packages/memory_profiler.py:702(__init__)\r\n",
      "        1    0.000    0.000    0.000    0.000 /Users/mac/anaconda3/lib/python3.10/linecache.py:80(updatecache)\r\n",
      "        6    0.000    0.000    0.000    0.000 :0(insert)\r\n",
      "        4    0.000    0.000    0.000    0.000 /Users/mac/anaconda3/lib/python3.10/enum.py:359(__call__)\r\n",
      "        1    0.000    0.000    0.000    0.000 :0(copy)\r\n",
      "        1    0.000    0.000    0.000    0.000 :0(readlines)\r\n",
      "        7    0.000    0.000    0.000    0.000 /Users/mac/anaconda3/lib/python3.10/site-packages/memory_profiler.py:695(<genexpr>)\r\n",
      "        1    0.000    0.000    0.000    0.000 /Users/mac/anaconda3/lib/python3.10/tokenize.py:297(detect_encoding)\r\n",
      "        8    0.000    0.000    0.000    0.000 :0(extend)\r\n",
      "        5    0.000    0.000    0.000    0.000 /Users/mac/anaconda3/lib/python3.10/inspect.py:379(iscode)\r\n",
      "        6    0.000    0.000    0.000    0.000 :0(translate)\r\n",
      "        1    0.000    0.000    0.000    0.000 :0(__exit__)\r\n",
      "        4    0.000    0.000    0.000    0.000 /Users/mac/anaconda3/lib/python3.10/sre_compile.py:619(isstring)\r\n",
      "        2    0.000    0.000    0.000    0.000 /Users/mac/anaconda3/lib/python3.10/linecache.py:36(getlines)\r\n",
      "        4    0.000    0.000    0.000    0.000 /Users/mac/anaconda3/lib/python3.10/enum.py:678(__new__)\r\n",
      "        1    0.000    0.000    0.424    0.424 /Users/mac/anaconda3/lib/python3.10/site-packages/memory_profiler.py:713(__call__)\r\n",
      "        1    0.000    0.000    0.000    0.000 :0(getrecursionlimit)\r\n",
      "        1    0.000    0.000    0.000    0.000 :0(readline)\r\n",
      "        3    0.000    0.000    0.000    0.000 /Users/mac/anaconda3/lib/python3.10/inspect.py:355(istraceback)\r\n",
      "        1    0.000    0.000    0.000    0.000 /Users/mac/anaconda3/lib/python3.10/tokenize.py:327(find_cookie)\r\n",
      "        1    0.000    0.000    0.000    0.000 /Users/mac/anaconda3/lib/python3.10/site-packages/memory_profiler.py:842(enable)\r\n",
      "        1    0.000    0.000    0.000    0.000 /Users/mac/anaconda3/lib/python3.10/site-packages/memory_profiler.py:782(disable_by_count)\r\n",
      "        3    0.000    0.000    0.000    0.000 /Users/mac/anaconda3/lib/python3.10/inspect.py:277(isfunction)\r\n",
      "        2    0.000    0.000    0.000    0.000 /Users/mac/anaconda3/lib/python3.10/sre_parse.py:225(__init__)\r\n",
      "        2    0.000    0.000    0.000    0.000 /Users/mac/anaconda3/lib/python3.10/site-packages/memory_profiler.py:740(_count_ctxmgr)\r\n",
      "        2    0.000    0.000    0.000    0.000 /Users/mac/anaconda3/lib/python3.10/sre_parse.py:928(fix_flags)\r\n",
      "        2    0.000    0.000    0.000    0.000 /Users/mac/anaconda3/lib/python3.10/codecs.py:319(decode)\r\n",
      "        2    0.000    0.000    0.062    0.031 /Users/mac/anaconda3/lib/python3.10/re.py:249(compile)\r\n",
      "        1    0.000    0.000    0.000    0.000 /Users/mac/anaconda3/lib/python3.10/contextlib.py:139(__exit__)\r\n",
      "        2    0.000    0.000    0.000    0.000 /Users/mac/anaconda3/lib/python3.10/site-packages/memory_profiler.py:689(items)\r\n",
      "        2    0.000    0.000    0.000    0.000 :0(next)\r\n",
      "        1    0.000    0.000    0.000    0.000 /Users/mac/anaconda3/lib/python3.10/inspect.py:612(unwrap)\r\n",
      "        3    0.000    0.000    0.000    0.000 /Users/mac/anaconda3/lib/python3.10/inspect.py:365(isframe)\r\n",
      "        1    0.000    0.000    0.000    0.000 /Users/mac/anaconda3/lib/python3.10/contextlib.py:102(__init__)\r\n",
      "        1    0.000    0.000    0.000    0.000 /Users/mac/anaconda3/lib/python3.10/inspect.py:290(_has_code_flag)\r\n",
      "        1    0.000    0.000    0.424    0.424 /Users/mac/anaconda3/lib/python3.10/site-packages/memory_profiler.py:728(add_function)\r\n",
      "        1    0.000    0.000    0.000    0.000 /Users/mac/anaconda3/lib/python3.10/sre_compile.py:485(_get_literal_prefix)\r\n",
      "        1    0.000    0.000    0.000    0.000 /Users/mac/anaconda3/lib/python3.10/inspect.py:1049(__init__)\r\n",
      "        1    0.000    0.000    1.009    1.009 <string>:1(<module>)\r\n",
      "        3    0.000    0.000    0.000    0.000 /Users/mac/anaconda3/lib/python3.10/inspect.py:199(ismethod)\r\n",
      "        1    0.000    0.000    0.000    0.000 /Users/mac/anaconda3/lib/python3.10/sre_compile.py:516(_get_charset_prefix)\r\n",
      "        1    0.000    0.000    0.000    0.000 /Users/mac/anaconda3/lib/python3.10/codecs.py:309(__init__)\r\n",
      "        1    0.000    0.000    0.000    0.000 /Users/mac/anaconda3/lib/python3.10/site-packages/memory_profiler.py:748(wrap_function)\r\n",
      "        1    0.000    0.000    0.000    0.000 /Users/mac/anaconda3/lib/python3.10/asyncio/coroutines.py:164(iscoroutinefunction)\r\n",
      "        1    0.000    0.000    0.000    0.000 /Users/mac/anaconda3/lib/python3.10/site-packages/memory_profiler.py:849(disable)\r\n",
      "        3    0.000    0.000    0.000    0.000 :0(items)\r\n",
      "        1    0.000    0.000    0.000    0.000 /Users/mac/anaconda3/lib/python3.10/types.py:176(__get__)\r\n",
      "        1    0.000    0.000    0.000    0.000 /Users/mac/anaconda3/lib/python3.10/contextlib.py:279(helper)\r\n",
      "        1    0.000    0.000    0.000    0.000 /Users/mac/anaconda3/lib/python3.10/contextlib.py:130(__enter__)\r\n",
      "        1    0.000    0.000    0.000    0.000 /Users/mac/anaconda3/lib/python3.10/linecache.py:52(checkcache)\r\n",
      "        1    0.000    0.000    0.000    0.000 /Users/mac/anaconda3/lib/python3.10/site-packages/memory_profiler.py:640(__init__)\r\n",
      "        1    0.000    0.000    0.000    0.000 :0(id)\r\n",
      "        2    0.000    0.000    0.000    0.000 /Users/mac/anaconda3/lib/python3.10/sre_parse.py:76(__init__)\r\n",
      "        2    0.000    0.000    0.000    0.000 /Users/mac/anaconda3/lib/python3.10/sre_compile.py:477(_get_iscased)\r\n",
      "        2    0.000    0.000    0.000    0.000 :0(utf_8_decode)\r\n",
      "        1    0.000    0.000    0.000    0.000 /Users/mac/anaconda3/lib/python3.10/functools.py:421(_unwrap_partial)\r\n",
      "        1    0.000    0.000    0.000    0.000 /Users/mac/anaconda3/lib/python3.10/inspect.py:308(iscoroutinefunction)\r\n",
      "        1    0.000    0.000    0.000    0.000 /Users/mac/anaconda3/lib/python3.10/codecs.py:260(__init__)\r\n",
      "        1    0.000    0.000    0.000    0.000 :0(iter)\r\n",
      "        1    0.000    0.000    0.000    0.000 /Users/mac/anaconda3/lib/python3.10/tokenize.py:614(generate_tokens)\r\n",
      "        1    0.000    0.000    0.057    0.057 /Users/mac/anaconda3/lib/python3.10/tokenize.py:99(_compile)\r\n",
      "        1    0.000    0.000    0.000    0.000 /Users/mac/anaconda3/lib/python3.10/site-packages/memory_profiler.py:775(enable_by_count)\r\n",
      "        1    0.000    0.000    0.000    0.000 :0(pop)\r\n",
      "        1    0.000    0.000    0.000    0.000 :0(decode)\r\n",
      "        1    0.000    0.000    0.000    0.000 /Users/mac/anaconda3/lib/python3.10/enum.py:801(value)\r\n",
      "        2    0.000    0.000    0.000    0.000 :0(settrace)\r\n",
      "        1    0.000    0.000    0.000    0.000 /Users/mac/anaconda3/lib/python3.10/inspect.py:629(_is_wrapper)\r\n",
      "        1    0.000    0.000    0.000    0.000 /Users/mac/anaconda3/lib/python3.10/tokenize.py:321(read_or_stop)\r\n",
      "        1    0.000    0.000    0.000    0.000 :0(seek)\r\n",
      "        1    0.000    0.000    0.000    0.000 :0(update)\r\n",
      "        1    0.000    0.000    0.000    0.000 :0(gettrace)\r\n",
      "        0    0.000             0.000          profile:0(profiler)\r\n",
      "\r\n",
      "\r\n"
     ]
    }
   ],
   "source": [
    "!python examples/profile/memory_test.py"
   ]
  },
  {
   "cell_type": "markdown",
   "metadata": {},
   "source": [
    "\n",
    "就可以看到详细结果了\n",
    "\n",
    "指定精度可以在profile装饰器后面加上参数 如: @profile(precision=4)\n",
    "\n",
    "mprof工具类似`kernprof`,用它可以输出更加友好的统计分析页面"
   ]
  },
  {
   "cell_type": "code",
   "execution_count": 14,
   "metadata": {},
   "outputs": [
    {
     "name": "stdout",
     "output_type": "stream",
     "text": [
      "Writing examples/profile/memory_test_round.py\n"
     ]
    }
   ],
   "source": [
    "%%writefile examples/profile/memory_test_round.py\n",
    "from memory_profiler import profile\n",
    "@profile\n",
    "def foo():\n",
    "    sum = 0\n",
    "    for i in range(10000):\n",
    "        sum += i\n",
    "    return sum\n",
    "if __name__==\"__main__\":\n",
    "    foo()"
   ]
  },
  {
   "cell_type": "code",
   "execution_count": 15,
   "metadata": {},
   "outputs": [
    {
     "name": "stdout",
     "output_type": "stream",
     "text": [
      "mprof: Sampling memory every 0.1s\n",
      "running new process\n",
      "running as a Python program...\n",
      "Filename: examples/profile/memory_test_round.py\n",
      "\n",
      "Line #    Mem usage    Increment  Occurrences   Line Contents\n",
      "=============================================================\n",
      "     2     42.5 MiB     42.5 MiB           1   @profile\n",
      "     3                                         def foo():\n",
      "     4     42.5 MiB      0.0 MiB           1       sum = 0\n",
      "     5     42.5 MiB      0.0 MiB       10001       for i in range(10000):\n",
      "     6     42.5 MiB      0.0 MiB       10000           sum += i\n",
      "     7     42.5 MiB      0.0 MiB           1       return sum\n",
      "\n",
      "\n"
     ]
    }
   ],
   "source": [
    "!mprof run examples/profile/memory_test_round.py"
   ]
  },
  {
   "cell_type": "markdown",
   "metadata": {},
   "source": [
    "## 对象分析及追踪(windows下不能用)\n",
    "\n",
    "[Objgraph](http://mg.pov.lt/objgraph/)可以实现对象分析和追踪,它也是用pip安装,不过它依赖xdot(pip 安装)\n",
    "和[graphviz](http://www.graphviz.org/)(brew安装)\n",
    "\n",
    "它可以实现的功能有:\n",
    "\n",
    "+ 统计\n",
    "+ 定义过滤对象\n",
    "+ 遍历和显示对象图"
   ]
  },
  {
   "cell_type": "code",
   "execution_count": 23,
   "metadata": {},
   "outputs": [
    {
     "name": "stdout",
     "output_type": "stream",
     "text": [
      "Writing examples/profile/Obj_test.py\n"
     ]
    }
   ],
   "source": [
    "%%writefile examples/profile/Obj_test.py\n",
    "#encoding=utf-8  \n",
    "import objgraph  \n",
    "  \n",
    "if __name__ == '__main__':  \n",
    "    x = []  \n",
    "    y = [x, [x], dict(x=x)]  \n",
    "    objgraph.show_refs([y], filename='sample-graph.png') #把[y]里面所有对象的引用画出来  \n",
    "    objgraph.show_backrefs([x], filename='sample-backref-graph.png') #把对x对象的引用全部画出来  \n",
    "    #objgraph.show_most_common_types() #所有常用类型对象的统计，数据量太大，意义不大  \n",
    "    objgraph.show_growth(limit=4) #打印从程序开始或者上次show_growth到现在增加的对象（按照增加量的大小排序）  "
   ]
  },
  {
   "cell_type": "code",
   "execution_count": 24,
   "metadata": {},
   "outputs": [
    {
     "name": "stdout",
     "output_type": "stream",
     "text": [
      "Graph written to /var/folders/j_/p0q1k_mj4cs0dqn0sqnshsrr0000gn/T/objgraph-q4wvid_g.dot (4 nodes)\n",
      "Image generated as sample-graph.png\n",
      "Graph written to /var/folders/j_/p0q1k_mj4cs0dqn0sqnshsrr0000gn/T/objgraph-y50sxedg.dot (6 nodes)\n",
      "Image generated as sample-backref-graph.png\n",
      "function               2856     +2856\n",
      "dict                   1566     +1566\n",
      "tuple                  1352     +1352\n",
      "wrapper_descriptor     1128     +1128\n"
     ]
    }
   ],
   "source": [
    "!python examples/profile/Obj_test.py"
   ]
  },
  {
   "cell_type": "markdown",
   "metadata": {},
   "source": [
    "于是你可以看到图了\n",
    "\n",
    "![sample-graph](source/examples/profile/sample-graph.png)\n",
    "![sample-backref-graph](source/examples/profile/sample-backref-graph.png)"
   ]
  },
  {
   "cell_type": "code",
   "execution_count": null,
   "metadata": {},
   "outputs": [],
   "source": []
  }
 ],
 "metadata": {
  "kernelspec": {
   "display_name": "Python 3 (ipykernel)",
   "language": "python",
   "name": "python3"
  },
  "language_info": {
   "codemirror_mode": {
    "name": "ipython",
    "version": 3
   },
   "file_extension": ".py",
   "mimetype": "text/x-python",
   "name": "python",
   "nbconvert_exporter": "python",
   "pygments_lexer": "ipython3",
   "version": "3.10.9"
  }
 },
 "nbformat": 4,
 "nbformat_minor": 2
}
