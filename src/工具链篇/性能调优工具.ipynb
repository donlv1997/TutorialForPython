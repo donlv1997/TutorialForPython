{
 "cells": [
  {
   "cell_type": "markdown",
   "metadata": {},
   "source": [
    "# 性能调优\n",
    "\n",
    "在代码可以实现功能且健壮不出错的前提下,我们往往会有优化性能的需求\n",
    "\n",
    "性能调优大约可以在运行时间和运行内存占用两方面来考量,下面介绍的工具定位精度由粗到细,也分为这两个方面"
   ]
  },
  {
   "cell_type": "markdown",
   "metadata": {},
   "source": [
    "## 测试整体运行时间\n",
    "\n",
    "Python中的timeit是测试代码执行效率的工具.可以用命令行直接测试脚本,也可以测试代码字符串的效率,当然最简单的还是直接用ipython的内置timeit魔法命令测某段代码的效率"
   ]
  },
  {
   "cell_type": "code",
   "execution_count": 1,
   "metadata": {},
   "outputs": [
    {
     "data": {
      "text/plain": [
       "0.404256040987093"
      ]
     },
     "execution_count": 1,
     "metadata": {},
     "output_type": "execute_result"
    }
   ],
   "source": [
    "import timeit\n",
    "t = timeit.Timer('map(lambda x: x**2,range(1000))')\n",
    "t.timeit()"
   ]
  },
  {
   "cell_type": "code",
   "execution_count": 2,
   "metadata": {},
   "outputs": [
    {
     "name": "stdout",
     "output_type": "stream",
     "text": [
      "100000000 loops, best of 3: 0.00833 usec per loop\r\n"
     ]
    }
   ],
   "source": [
    "!python -m timeit -s \"map(lambda x: x**2,range(1000))\""
   ]
  },
  {
   "cell_type": "markdown",
   "metadata": {},
   "source": [
    "## 函数级性能瓶颈定位\n",
    "\n",
    "python的标准库中有一个可以实现性能瓶颈定位的模块叫cprofile,他是一个开销极小的C扩展.用它可以实现函数级的性能分析,配合`pstats`模块还可以输出分析报告\n",
    "\n",
    "\n",
    "### 使用单独模块分析"
   ]
  },
  {
   "cell_type": "code",
   "execution_count": 3,
   "metadata": {},
   "outputs": [
    {
     "name": "stdout",
     "output_type": "stream",
     "text": [
      "Overwriting src/C3/profile_test.py\n"
     ]
    }
   ],
   "source": [
    "%%writefile src/C3/profile_test.py\n",
    "def foo():\n",
    "    sum = 0\n",
    "    for i in range(10000):\n",
    "        sum += i\n",
    "    return sum\n",
    "if __name__==\"__main__\":\n",
    "    foo()"
   ]
  },
  {
   "cell_type": "code",
   "execution_count": 4,
   "metadata": {},
   "outputs": [
    {
     "name": "stdout",
     "output_type": "stream",
     "text": [
      "Overwriting src/C3/profile_test.py\n"
     ]
    }
   ],
   "source": [
    "%%writefile src/C3/profile_test.py\n",
    "def foo():\n",
    "    sum = 0\n",
    "    for i in range(10000):\n",
    "        sum += i\n",
    "    return sum\n",
    "if __name__==\"__main__\":\n",
    "    try :\n",
    "        import profile\n",
    "    except:\n",
    "        import cProfile as profile\n",
    "        \n",
    "    profile.run(\"foo()\")"
   ]
  },
  {
   "cell_type": "code",
   "execution_count": 5,
   "metadata": {},
   "outputs": [
    {
     "name": "stdout",
     "output_type": "stream",
     "text": [
      "         5 function calls in 0.002 seconds\r\n",
      "\r\n",
      "   Ordered by: standard name\r\n",
      "\r\n",
      "   ncalls  tottime  percall  cumtime  percall filename:lineno(function)\r\n",
      "        1    0.000    0.000    0.001    0.001 :0(exec)\r\n",
      "        1    0.001    0.001    0.001    0.001 :0(setprofile)\r\n",
      "        1    0.000    0.000    0.001    0.001 <string>:1(<module>)\r\n",
      "        1    0.000    0.000    0.002    0.002 profile:0(foo())\r\n",
      "        0    0.000             0.000          profile:0(profiler)\r\n",
      "        1    0.001    0.001    0.001    0.001 profile_test.py:1(foo)\r\n",
      "\r\n",
      "\r\n"
     ]
    }
   ],
   "source": [
    "!python src/C3/profile_test.py"
   ]
  },
  {
   "cell_type": "markdown",
   "metadata": {},
   "source": [
    "### 使用命令行分析"
   ]
  },
  {
   "cell_type": "code",
   "execution_count": 6,
   "metadata": {},
   "outputs": [
    {
     "name": "stdout",
     "output_type": "stream",
     "text": [
      "Overwriting src/C3/profile_test_foo.py\n"
     ]
    }
   ],
   "source": [
    "%%writefile src/C3/profile_test_foo.py\n",
    "#coding:utf-8\n",
    "def foo():\n",
    "    sum = 0\n",
    "    for i in range(10000):\n",
    "        sum += i\n",
    "    return sum\n",
    "if __name__==\"__main__\":\n",
    "    foo()"
   ]
  },
  {
   "cell_type": "code",
   "execution_count": 7,
   "metadata": {},
   "outputs": [
    {
     "name": "stdout",
     "output_type": "stream",
     "text": [
      "         4 function calls in 0.001 seconds\r\n",
      "\r\n",
      "   Ordered by: standard name\r\n",
      "\r\n",
      "   ncalls  tottime  percall  cumtime  percall filename:lineno(function)\r\n",
      "        1    0.000    0.000    0.001    0.001 profile_test_foo.py:2(<module>)\r\n",
      "        1    0.001    0.001    0.001    0.001 profile_test_foo.py:2(foo)\r\n",
      "        1    0.000    0.000    0.001    0.001 {built-in method builtins.exec}\r\n",
      "        1    0.000    0.000    0.000    0.000 {method 'disable' of '_lsprof.Profiler' objects}\r\n",
      "\r\n",
      "\r\n"
     ]
    }
   ],
   "source": [
    "!python -m cProfile src/C3/profile_test_foo.py"
   ]
  },
  {
   "cell_type": "markdown",
   "metadata": {},
   "source": [
    "### 统计项说明\n",
    "\n",
    "统计项|说明\n",
    "---|---\n",
    "ncalls| 函数被调用次数\n",
    "tottime|函数总计运行时间,不含调用函数运行时间\n",
    "cumtime|函数总计运行时间,含调用的函数运行时间\n",
    "percall|函数运行一次平均时间,等于tottime(cumtime)/ncalls\n",
    "`filename:lineno`|函数所在文件名,函数的行号,函数名"
   ]
  },
  {
   "cell_type": "markdown",
   "metadata": {},
   "source": [
    "### 与pstats结合提供多种形式的报表"
   ]
  },
  {
   "cell_type": "code",
   "execution_count": 8,
   "metadata": {},
   "outputs": [
    {
     "name": "stdout",
     "output_type": "stream",
     "text": [
      "Overwriting src/C3/profile_test_pstats.py\n"
     ]
    }
   ],
   "source": [
    "%%writefile src/C3/profile_test_pstats.py\n",
    "def foo():\n",
    "    sum = 0\n",
    "    for i in range(10000):\n",
    "        sum += i\n",
    "    return sum\n",
    "if __name__==\"__main__\":\n",
    "    try :\n",
    "        import profile\n",
    "    except:\n",
    "        import cProfile as profile\n",
    "        \n",
    "    profile.run(\"foo()\",\"foo.txt\")\n",
    "    import pstats\n",
    "    p = pstats.Stats(\"foo.txt\")\n",
    "    p.sort_stats(\"time\").print_stats()"
   ]
  },
  {
   "cell_type": "code",
   "execution_count": 9,
   "metadata": {},
   "outputs": [
    {
     "name": "stdout",
     "output_type": "stream",
     "text": [
      "Wed Jun  6 22:26:56 2018    foo.txt\r\n",
      "\r\n",
      "         5 function calls in 0.001 seconds\r\n",
      "\r\n",
      "   Ordered by: internal time\r\n",
      "\r\n",
      "   ncalls  tottime  percall  cumtime  percall filename:lineno(function)\r\n",
      "        1    0.001    0.001    0.001    0.001 src/C3/profile_test_pstats.py:1(foo)\r\n",
      "        1    0.000    0.000    0.000    0.000 :0(setprofile)\r\n",
      "        1    0.000    0.000    0.001    0.001 :0(exec)\r\n",
      "        1    0.000    0.000    0.001    0.001 profile:0(foo())\r\n",
      "        1    0.000    0.000    0.001    0.001 <string>:1(<module>)\r\n",
      "        0    0.000             0.000          profile:0(profiler)\r\n",
      "\r\n",
      "\r\n"
     ]
    }
   ],
   "source": [
    "!python src/C3/profile_test_pstats.py"
   ]
  },
  {
   "cell_type": "markdown",
   "metadata": {},
   "source": [
    "stats有许多函数,可以提供不同的报表\n",
    "\n",
    "+ stats函数说明\n",
    "\n",
    "函数|说明\n",
    "---|---\n",
    "strip_dirs()|除去文件名前名的路径信息\n",
    "add(filename,[...])|把profile输出的文件加入stats实例中统计\n",
    "dump_stats(filename)|把stats统计结果保存到文件\n",
    "sort_stats(key,[...])|最重要的,可以给profile统计结果排序\n",
    "reverse_order()|数据反排序\n",
    "print_stats([restriction,...])|把报表输出到stdout\n",
    "print_callers([restriction,...])|输出调用指定函数的相关信息\n",
    "print_callees([restriction,...])|输出指定函数调用过的函数的相关信息\n",
    "\n",
    "+ sort_stats可接受的参数\n",
    "\n",
    "参数|说明\n",
    "---|---\n",
    "ncalls|被调次数\n",
    "cumulative|函数运行总时间\n",
    "file|文件名\n",
    "module|模块名\n",
    "pcalls|简单统计\n",
    "line|行号\n",
    "name|函数名\n",
    "nfl|name,file,line\n",
    "stdname|标准函数名\n",
    "time|函数内部运行时间"
   ]
  },
  {
   "cell_type": "markdown",
   "metadata": {},
   "source": [
    "## 语句级性能瓶颈定位\n",
    "\n",
    "cprofiler只能追踪到哪个函数是性能瓶颈,而函数中哪条语句是性能瓶颈就追踪不到了,对于语句级性能瓶颈定位,python并没有官方工具,但github上有位大神制作了[line_profiler](https://github.com/rkern/line_profiler),这个工具可以实现这一功能,它也几乎可以说是python的半标准工具之一了.\n",
    "\n",
    "因为不是标准库中的内容,所以需要pip安装.\n",
    "\n",
    "使用方法十分简单,在需要分析的函数上面加上装饰器`@profile`即可(注意不用import任何东西,这条装饰器在定位好后应该删除以保证代码可以运行)"
   ]
  },
  {
   "cell_type": "code",
   "execution_count": 12,
   "metadata": {},
   "outputs": [
    {
     "name": "stdout",
     "output_type": "stream",
     "text": [
      "Overwriting src/C3/line_profile_test.py\n"
     ]
    }
   ],
   "source": [
    "%%writefile src/C3/line_profile_test.py\n",
    "\n",
    "@profile\n",
    "def foo():\n",
    "    sum = 0\n",
    "    for i in range(10000):\n",
    "        sum += i\n",
    "    return sum\n",
    "if __name__==\"__main__\":\n",
    "    foo()"
   ]
  },
  {
   "cell_type": "code",
   "execution_count": 13,
   "metadata": {},
   "outputs": [
    {
     "name": "stdout",
     "output_type": "stream",
     "text": [
      "Wrote profile results to line_profile_test.py.lprof\r\n",
      "Timer unit: 1e-06 s\r\n",
      "\r\n",
      "Total time: 0.00559 s\r\n",
      "File: src/C3/line_profile_test.py\r\n",
      "Function: foo at line 2\r\n",
      "\r\n",
      "Line #      Hits         Time  Per Hit   % Time  Line Contents\r\n",
      "==============================================================\r\n",
      "     2                                           @profile\r\n",
      "     3                                           def foo():\r\n",
      "     4         1          6.0      6.0      0.1      sum = 0\r\n",
      "     5     10001       2658.0      0.3     47.5      for i in range(10000):\r\n",
      "     6     10000       2926.0      0.3     52.3          sum += i\r\n",
      "     7         1          0.0      0.0      0.0      return sum\r\n",
      "\r\n"
     ]
    }
   ],
   "source": [
    "!python3 -m kernprof -l -v src/C3/line_profile_test.py"
   ]
  },
  {
   "cell_type": "markdown",
   "metadata": {},
   "source": [
    "## 内存分析\n",
    "\n",
    "[memory_profiler](https://pypi.python.org/pypi/memory_profiler/)是用来分析内存使用情况和追踪内存泄露的工具.它用法比较接近`line_profiler`\n",
    "\n",
    "由于不是标准库中的模块,它需要pip安装.\n",
    "\n",
    "\n",
    "需要注意的是windows下需要在script文件夹下将`mprof`文件改名为`mprof.py`并在同一目录下创建一个`mprof.bat`文件编辑为如下内容\n",
    "\n",
    "```shell\n",
    "@echo off\n",
    "python \"%~dpn0.py\" %*\n",
    "```\n",
    "\n",
    "它的使用及其简单:"
   ]
  },
  {
   "cell_type": "code",
   "execution_count": 15,
   "metadata": {},
   "outputs": [
    {
     "name": "stdout",
     "output_type": "stream",
     "text": [
      "Overwriting src/C3/memory_test.py\n"
     ]
    }
   ],
   "source": [
    "%%writefile src/C3/memory_test.py\n",
    "from memory_profiler import profile\n",
    "@profile\n",
    "def foo():\n",
    "    sum = 0\n",
    "    for i in range(10000):\n",
    "        sum += i\n",
    "    return sum\n",
    "if __name__==\"__main__\":\n",
    "    try :\n",
    "        import profile as cProfile\n",
    "    except:\n",
    "        import cProfile \n",
    "        \n",
    "    cProfile.run(\"foo()\",\"foo.txt\")\n",
    "    import pstats\n",
    "    p = pstats.Stats(\"foo.txt\")\n",
    "    p.sort_stats(\"time\").print_stats()"
   ]
  },
  {
   "cell_type": "markdown",
   "metadata": {},
   "source": [
    "之后使用\n",
    "```shell\n",
    "python src/C3/memory_test.py\n",
    "```\n",
    "就可以看到详细结果了\n",
    "\n",
    "指定精度可以在profile装饰器后面加上参数 如: @profile(precision=4)\n",
    "\n",
    "\n",
    "mprof工具类似`kernprof`,用它可以输出更加友好的统计分析页面"
   ]
  },
  {
   "cell_type": "code",
   "execution_count": 16,
   "metadata": {},
   "outputs": [
    {
     "name": "stdout",
     "output_type": "stream",
     "text": [
      "Overwriting src/C3/memory_test_round.py\n"
     ]
    }
   ],
   "source": [
    "%%writefile src/C3/memory_test_round.py\n",
    "from memory_profiler import profile\n",
    "@profile\n",
    "def foo():\n",
    "    sum = 0\n",
    "    for i in range(10000):\n",
    "        sum += i\n",
    "    return sum\n",
    "if __name__==\"__main__\":\n",
    "    foo()"
   ]
  },
  {
   "cell_type": "code",
   "execution_count": 17,
   "metadata": {},
   "outputs": [
    {
     "name": "stdout",
     "output_type": "stream",
     "text": [
      "mprof: Sampling memory every 0.1s\n",
      "running as a Python program...\n",
      "Filename: src/C3/memory_test_round.py\n",
      "\n",
      "Line #    Mem usage    Increment   Line Contents\n",
      "================================================\n",
      "     2     48.9 MiB     48.9 MiB   @profile\n",
      "     3                             def foo():\n",
      "     4     48.9 MiB      0.0 MiB       sum = 0\n",
      "     5     48.9 MiB      0.0 MiB       for i in range(10000):\n",
      "     6     48.9 MiB      0.0 MiB           sum += i\n",
      "     7     48.9 MiB      0.0 MiB       return sum\n",
      "\n",
      "\n"
     ]
    }
   ],
   "source": [
    "!mprof run src/C3/memory_test_round.py"
   ]
  },
  {
   "cell_type": "code",
   "execution_count": 18,
   "metadata": {},
   "outputs": [
    {
     "name": "stdout",
     "output_type": "stream",
     "text": [
      "Using last profile data.\n",
      "Figure(1260x540)\n"
     ]
    }
   ],
   "source": [
    "!mprof plot"
   ]
  },
  {
   "cell_type": "markdown",
   "metadata": {},
   "source": [
    "## 对象分析及追踪(windows下不能用)\n",
    "\n",
    "[Objgraph](http://mg.pov.lt/objgraph/)可以实现对象分析和追踪,它也是用pip安装,不过它依赖xdot(pip 安装)\n",
    "和[graphviz](http://www.graphviz.org/)(brew安装)\n",
    "\n",
    "它可以实现的功能有:\n",
    "\n",
    "+ 统计\n",
    "+ 定义过滤对象\n",
    "+ 遍历和显示对象图"
   ]
  },
  {
   "cell_type": "code",
   "execution_count": 20,
   "metadata": {},
   "outputs": [
    {
     "name": "stdout",
     "output_type": "stream",
     "text": [
      "Overwriting src/C3/Obj_test.py\n"
     ]
    }
   ],
   "source": [
    "%%writefile src/C3/Obj_test.py\n",
    "#encoding=utf-8  \n",
    "import objgraph  \n",
    "  \n",
    "if __name__ == '__main__':  \n",
    "    x = []  \n",
    "    y = [x, [x], dict(x=x)]  \n",
    "    objgraph.show_refs([y], filename='sample-graph.png') #把[y]里面所有对象的引用画出来  \n",
    "    objgraph.show_backrefs([x], filename='sample-backref-graph.png') #把对x对象的引用全部画出来  \n",
    "    #objgraph.show_most_common_types() #所有常用类型对象的统计，数据量太大，意义不大  \n",
    "    objgraph.show_growth(limit=4) #打印从程序开始或者上次show_growth到现在增加的对象（按照增加量的大小排序）  "
   ]
  },
  {
   "cell_type": "code",
   "execution_count": 21,
   "metadata": {},
   "outputs": [
    {
     "name": "stdout",
     "output_type": "stream",
     "text": [
      "Graph written to /var/folders/62/pwdyzlx51_j_3_0lr8zxzbx00000gn/T/objgraph-jcx95ebu.dot (4 nodes)\n",
      "Image renderer (dot) not found, not doing anything else\n",
      "Graph written to /var/folders/62/pwdyzlx51_j_3_0lr8zxzbx00000gn/T/objgraph-ncj576f1.dot (7 nodes)\n",
      "Image renderer (dot) not found, not doing anything else\n",
      "function               2116     +2116\n",
      "dict                   1181     +1181\n",
      "wrapper_descriptor     1002     +1002\n",
      "tuple                   945      +945\n"
     ]
    }
   ],
   "source": [
    "!python src/C3/Obj_test.py"
   ]
  },
  {
   "cell_type": "markdown",
   "metadata": {},
   "source": [
    "于是你可以看到图了\n",
    "\n",
    "![](source/C3/sample-graph.png)\n",
    "![](source/C3/sample-backref-graph.png)"
   ]
  }
 ],
 "metadata": {
  "kernelspec": {
   "display_name": "Python 3",
   "language": "python",
   "name": "python3"
  },
  "language_info": {
   "codemirror_mode": {
    "name": "ipython",
    "version": 3
   },
   "file_extension": ".py",
   "mimetype": "text/x-python",
   "name": "python",
   "nbconvert_exporter": "python",
   "pygments_lexer": "ipython3",
   "version": "3.6.4"
  }
 },
 "nbformat": 4,
 "nbformat_minor": 2
}
