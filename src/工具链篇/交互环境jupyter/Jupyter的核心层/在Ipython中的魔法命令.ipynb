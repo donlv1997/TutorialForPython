{
 "cells": [
  {
   "attachments": {},
   "cell_type": "markdown",
   "metadata": {},
   "source": [
    "# 在Ipython中的魔法命令\n",
    "\n",
    "`魔法命令`是Jupyter中一种宏机制的一个称呼.Jupyter运行的本质是交互层给核心程序提出请求命令,由核心层再根据命令执行相应的操作.这也就意味着核心层实际是代码执行器的代理,那自然的除了代码执行器可以执行的代码外,我们也可以直接向核心程序提出命令.这种代码以外由核心程序执行的命令就是`魔法命令`.\n",
    "`魔法命令`机制十分强大好用,对代码执行是一个很好的补充.`ipykernel`中默认的魔法命令非常丰富,它可以让一些用python代码做起来非常麻烦的操作非常简单的就可以实现;子项目`ipyparallel`也提供了对应的魔法命令,可以非常简单的实现多核并行运算;`Ipython`项目也提供了用于自定义`魔法命令`的工具,许多第三方库尤其是性能优化用的库都提供了对应的`魔法命令`.\n",
    "\n",
    "Ipython中也有别名等其他宏机制,但用处不大这边也就不做介绍了.\n",
    "\n",
    "本文主要讲它的使用和设置方法,以及魔法命令"
   ]
  },
  {
   "attachments": {},
   "cell_type": "markdown",
   "metadata": {},
   "source": [
    "## 魔法命令的使用\n",
    "\n",
    "使用`Ipython`构造的`魔法命令`分为2种:\n",
    "\n",
    "+ 单行魔法命令,解析魔法命令所在行后执行对应操作.调用时以`%`开头的称为行命令.行命令只对命令所在的行有效.其使用形式为:\n",
    "    ```bash\n",
    "    ...\n",
    "    %cmd [opts][ args]\n",
    "    ...\n",
    "    ```\n",
    "    \n",
    "+ 单元格魔法命令,解析魔法命令所在行以及魔法命令所在单元格后执行对应操作.调用时以`%%`开头的称为单元命令.单元命令必须出现在单元的第一行,它会对整个单元的代码进行处理.其使用形式为:\n",
    "\n",
    "    ```bash\n",
    "    %%cmd [opts][ args]\n",
    "    ...\n",
    "    ```"
   ]
  },
  {
   "cell_type": "code",
   "execution_count": 1,
   "metadata": {},
   "outputs": [
    {
     "name": "stdout",
     "output_type": "stream",
     "text": [
      "2.55 s ± 15 ms per loop (mean ± std. dev. of 7 runs, 1 loop each)\n"
     ]
    }
   ],
   "source": [
    "%timeit sum(map(lambda x:x**2,range(10000000)))"
   ]
  },
  {
   "attachments": {},
   "cell_type": "markdown",
   "metadata": {},
   "source": [
    "除此以外`ipykernel`允许使用`!cmd`的形式调用系统中的命令"
   ]
  },
  {
   "cell_type": "code",
   "execution_count": 2,
   "metadata": {},
   "outputs": [
    {
     "name": "stdout",
     "output_type": "stream",
     "text": [
      "shell  0.00s user 0.01s system 293% cpu 0.004 total\n",
      "children  0.00s user 0.00s system 0% cpu 0.004 total\n"
     ]
    }
   ],
   "source": [
    "!time"
   ]
  },
  {
   "attachments": {},
   "cell_type": "markdown",
   "metadata": {},
   "source": [
    "## 默认的魔法命令\n",
    "\n",
    "`ipykernel`里已经定义了大量魔法命令,执行`%lsmagic`就可以查看关于各个命令的说明.而在命令之后添加`?`可以查看该命令的详细说明。"
   ]
  },
  {
   "cell_type": "code",
   "execution_count": 3,
   "metadata": {
    "scrolled": true
   },
   "outputs": [
    {
     "data": {
      "application/json": {
       "cell": {
        "!": "OSMagics",
        "HTML": "Other",
        "SVG": "Other",
        "bash": "Other",
        "capture": "ExecutionMagics",
        "debug": "ExecutionMagics",
        "file": "Other",
        "html": "DisplayMagics",
        "javascript": "DisplayMagics",
        "js": "DisplayMagics",
        "latex": "DisplayMagics",
        "markdown": "DisplayMagics",
        "perl": "Other",
        "prun": "ExecutionMagics",
        "pypy": "Other",
        "python": "Other",
        "python2": "Other",
        "python3": "Other",
        "ruby": "Other",
        "script": "ScriptMagics",
        "sh": "Other",
        "svg": "DisplayMagics",
        "sx": "OSMagics",
        "system": "OSMagics",
        "time": "ExecutionMagics",
        "timeit": "ExecutionMagics",
        "writefile": "OSMagics"
       },
       "line": {
        "alias": "OSMagics",
        "alias_magic": "BasicMagics",
        "autoawait": "AsyncMagics",
        "autocall": "AutoMagics",
        "automagic": "AutoMagics",
        "autosave": "KernelMagics",
        "bookmark": "OSMagics",
        "cat": "Other",
        "cd": "OSMagics",
        "clear": "KernelMagics",
        "colors": "BasicMagics",
        "conda": "PackagingMagics",
        "config": "ConfigMagics",
        "connect_info": "KernelMagics",
        "cp": "Other",
        "debug": "ExecutionMagics",
        "dhist": "OSMagics",
        "dirs": "OSMagics",
        "doctest_mode": "BasicMagics",
        "ed": "Other",
        "edit": "KernelMagics",
        "env": "OSMagics",
        "gui": "BasicMagics",
        "hist": "Other",
        "history": "HistoryMagics",
        "killbgscripts": "ScriptMagics",
        "ldir": "Other",
        "less": "KernelMagics",
        "lf": "Other",
        "lk": "Other",
        "ll": "Other",
        "load": "CodeMagics",
        "load_ext": "ExtensionMagics",
        "loadpy": "CodeMagics",
        "logoff": "LoggingMagics",
        "logon": "LoggingMagics",
        "logstart": "LoggingMagics",
        "logstate": "LoggingMagics",
        "logstop": "LoggingMagics",
        "ls": "Other",
        "lsmagic": "BasicMagics",
        "lx": "Other",
        "macro": "ExecutionMagics",
        "magic": "BasicMagics",
        "man": "KernelMagics",
        "matplotlib": "PylabMagics",
        "mkdir": "Other",
        "more": "KernelMagics",
        "mv": "Other",
        "notebook": "BasicMagics",
        "page": "BasicMagics",
        "pastebin": "CodeMagics",
        "pdb": "ExecutionMagics",
        "pdef": "NamespaceMagics",
        "pdoc": "NamespaceMagics",
        "pfile": "NamespaceMagics",
        "pinfo": "NamespaceMagics",
        "pinfo2": "NamespaceMagics",
        "pip": "PackagingMagics",
        "popd": "OSMagics",
        "pprint": "BasicMagics",
        "precision": "BasicMagics",
        "prun": "ExecutionMagics",
        "psearch": "NamespaceMagics",
        "psource": "NamespaceMagics",
        "pushd": "OSMagics",
        "pwd": "OSMagics",
        "pycat": "OSMagics",
        "pylab": "PylabMagics",
        "qtconsole": "KernelMagics",
        "quickref": "BasicMagics",
        "recall": "HistoryMagics",
        "rehashx": "OSMagics",
        "reload_ext": "ExtensionMagics",
        "rep": "Other",
        "rerun": "HistoryMagics",
        "reset": "NamespaceMagics",
        "reset_selective": "NamespaceMagics",
        "rm": "Other",
        "rmdir": "Other",
        "run": "ExecutionMagics",
        "save": "CodeMagics",
        "sc": "OSMagics",
        "set_env": "OSMagics",
        "store": "StoreMagics",
        "sx": "OSMagics",
        "system": "OSMagics",
        "tb": "ExecutionMagics",
        "time": "ExecutionMagics",
        "timeit": "ExecutionMagics",
        "unalias": "OSMagics",
        "unload_ext": "ExtensionMagics",
        "who": "NamespaceMagics",
        "who_ls": "NamespaceMagics",
        "whos": "NamespaceMagics",
        "xdel": "NamespaceMagics",
        "xmode": "BasicMagics"
       }
      },
      "text/plain": [
       "Available line magics:\n",
       "%alias  %alias_magic  %autoawait  %autocall  %automagic  %autosave  %bookmark  %cat  %cd  %clear  %colors  %conda  %config  %connect_info  %cp  %debug  %dhist  %dirs  %doctest_mode  %ed  %edit  %env  %gui  %hist  %history  %killbgscripts  %ldir  %less  %lf  %lk  %ll  %load  %load_ext  %loadpy  %logoff  %logon  %logstart  %logstate  %logstop  %ls  %lsmagic  %lx  %macro  %magic  %man  %matplotlib  %mkdir  %more  %mv  %notebook  %page  %pastebin  %pdb  %pdef  %pdoc  %pfile  %pinfo  %pinfo2  %pip  %popd  %pprint  %precision  %prun  %psearch  %psource  %pushd  %pwd  %pycat  %pylab  %qtconsole  %quickref  %recall  %rehashx  %reload_ext  %rep  %rerun  %reset  %reset_selective  %rm  %rmdir  %run  %save  %sc  %set_env  %store  %sx  %system  %tb  %time  %timeit  %unalias  %unload_ext  %who  %who_ls  %whos  %xdel  %xmode\n",
       "\n",
       "Available cell magics:\n",
       "%%!  %%HTML  %%SVG  %%bash  %%capture  %%debug  %%file  %%html  %%javascript  %%js  %%latex  %%markdown  %%perl  %%prun  %%pypy  %%python  %%python2  %%python3  %%ruby  %%script  %%sh  %%svg  %%sx  %%system  %%time  %%timeit  %%writefile\n",
       "\n",
       "Automagic is ON, % prefix IS NOT needed for line magics."
      ]
     },
     "execution_count": 3,
     "metadata": {},
     "output_type": "execute_result"
    }
   ],
   "source": [
    "%lsmagic"
   ]
  },
  {
   "cell_type": "code",
   "execution_count": 4,
   "metadata": {},
   "outputs": [
    {
     "data": {
      "text/plain": [
       "\u001b[0;31mDocstring:\u001b[0m\n",
       "Time execution of a Python statement or expression\n",
       "\n",
       "Usage, in line mode:\n",
       "  %timeit [-n<N> -r<R> [-t|-c] -q -p<P> -o] statement\n",
       "or in cell mode:\n",
       "  %%timeit [-n<N> -r<R> [-t|-c] -q -p<P> -o] setup_code\n",
       "  code\n",
       "  code...\n",
       "\n",
       "Time execution of a Python statement or expression using the timeit\n",
       "module.  This function can be used both as a line and cell magic:\n",
       "\n",
       "- In line mode you can time a single-line statement (though multiple\n",
       "  ones can be chained with using semicolons).\n",
       "\n",
       "- In cell mode, the statement in the first line is used as setup code\n",
       "  (executed but not timed) and the body of the cell is timed.  The cell\n",
       "  body has access to any variables created in the setup code.\n",
       "\n",
       "Options:\n",
       "-n<N>: execute the given statement <N> times in a loop. If <N> is not\n",
       "provided, <N> is determined so as to get sufficient accuracy.\n",
       "\n",
       "-r<R>: number of repeats <R>, each consisting of <N> loops, and take the\n",
       "best result.\n",
       "Default: 7\n",
       "\n",
       "-t: use time.time to measure the time, which is the default on Unix.\n",
       "This function measures wall time.\n",
       "\n",
       "-c: use time.clock to measure the time, which is the default on\n",
       "Windows and measures wall time. On Unix, resource.getrusage is used\n",
       "instead and returns the CPU user time.\n",
       "\n",
       "-p<P>: use a precision of <P> digits to display the timing result.\n",
       "Default: 3\n",
       "\n",
       "-q: Quiet, do not print result.\n",
       "\n",
       "-o: return a TimeitResult that can be stored in a variable to inspect\n",
       "    the result in more details.\n",
       "\n",
       ".. versionchanged:: 7.3\n",
       "    User variables are no longer expanded,\n",
       "    the magic line is always left unmodified.\n",
       "\n",
       "Examples\n",
       "--------\n",
       "::\n",
       "\n",
       "  In [1]: %timeit pass\n",
       "  8.26 ns ± 0.12 ns per loop (mean ± std. dev. of 7 runs, 100000000 loops each)\n",
       "\n",
       "  In [2]: u = None\n",
       "\n",
       "  In [3]: %timeit u is None\n",
       "  29.9 ns ± 0.643 ns per loop (mean ± std. dev. of 7 runs, 10000000 loops each)\n",
       "\n",
       "  In [4]: %timeit -r 4 u == None\n",
       "\n",
       "  In [5]: import time\n",
       "\n",
       "  In [6]: %timeit -n1 time.sleep(2)\n",
       "\n",
       "The times reported by %timeit will be slightly higher than those\n",
       "reported by the timeit.py script when variables are accessed. This is\n",
       "due to the fact that %timeit executes the statement in the namespace\n",
       "of the shell, compared with timeit.py, which uses a single setup\n",
       "statement to import function or create variables. Generally, the bias\n",
       "does not matter as long as results from timeit.py are not mixed with\n",
       "those from %timeit.\n",
       "\u001b[0;31mFile:\u001b[0m      ~/micromamba/envs/py3.10/lib/python3.10/site-packages/IPython/core/magics/execution.py"
      ]
     },
     "metadata": {},
     "output_type": "display_data"
    }
   ],
   "source": [
    "%timeit?"
   ]
  },
  {
   "attachments": {},
   "cell_type": "markdown",
   "metadata": {},
   "source": [
    "### 常用魔法命令"
   ]
  },
  {
   "attachments": {},
   "cell_type": "markdown",
   "metadata": {},
   "source": [
    "> %pwd\n",
    "\n",
    "%pwd命令可以获取当前目录的信息\n"
   ]
  },
  {
   "cell_type": "code",
   "execution_count": 5,
   "metadata": {
    "scrolled": true
   },
   "outputs": [
    {
     "data": {
      "text/plain": [
       "'/Users/mac/WORKSPACE/GITHUB/BLOG/TutorialForPython/src/工具链篇/交互环境jupyter/Jupyter的核心层'"
      ]
     },
     "execution_count": 5,
     "metadata": {},
     "output_type": "execute_result"
    }
   ],
   "source": [
    "%pwd"
   ]
  },
  {
   "attachments": {},
   "cell_type": "markdown",
   "metadata": {},
   "source": [
    "> %cd\n",
    "\n",
    "%cd 可以跳转到目标目录,`tab`键可以补完"
   ]
  },
  {
   "attachments": {},
   "cell_type": "markdown",
   "metadata": {},
   "source": [
    "> 将cell的输出保存到对象`%%capture result`\n",
    "\n",
    "输出的内容会被以string的形式保存在`stdout`属性上\n",
    "\n",
    "show()方法可以看到实际输出的内容"
   ]
  },
  {
   "cell_type": "code",
   "execution_count": 6,
   "metadata": {},
   "outputs": [],
   "source": [
    "%%capture result\n",
    "\n",
    "print([1,2,3])"
   ]
  },
  {
   "cell_type": "code",
   "execution_count": 7,
   "metadata": {
    "scrolled": true
   },
   "outputs": [
    {
     "data": {
      "text/plain": [
       "'[1, 2, 3]\\n'"
      ]
     },
     "execution_count": 7,
     "metadata": {},
     "output_type": "execute_result"
    }
   ],
   "source": [
    "result.stdout"
   ]
  },
  {
   "cell_type": "code",
   "execution_count": 8,
   "metadata": {
    "scrolled": true
   },
   "outputs": [
    {
     "name": "stdout",
     "output_type": "stream",
     "text": [
      "[1, 2, 3]\n"
     ]
    }
   ],
   "source": [
    "result.show()"
   ]
  },
  {
   "attachments": {},
   "cell_type": "markdown",
   "metadata": {},
   "source": [
    "> 写入文件 %%writefile"
   ]
  },
  {
   "cell_type": "code",
   "execution_count": 9,
   "metadata": {
    "scrolled": true
   },
   "outputs": [
    {
     "name": "stdout",
     "output_type": "stream",
     "text": [
      "Writing hello.py\n"
     ]
    }
   ],
   "source": [
    "%%writefile hello.py\n",
    "\n",
    "#coding:utf-8\n",
    "print(\"hello\")"
   ]
  },
  {
   "attachments": {},
   "cell_type": "markdown",
   "metadata": {},
   "source": [
    "> 载入已有文件%load\n"
   ]
  },
  {
   "cell_type": "code",
   "execution_count": 10,
   "metadata": {
    "scrolled": true
   },
   "outputs": [
    {
     "name": "stdout",
     "output_type": "stream",
     "text": [
      "hello\n"
     ]
    }
   ],
   "source": [
    "# %load hello.py\n",
    "\n",
    "print(\"hello\")"
   ]
  },
  {
   "attachments": {},
   "cell_type": "markdown",
   "metadata": {},
   "source": [
    "> 执行已有文件%run\n",
    "\n"
   ]
  },
  {
   "cell_type": "code",
   "execution_count": 11,
   "metadata": {
    "scrolled": true
   },
   "outputs": [
    {
     "name": "stdout",
     "output_type": "stream",
     "text": [
      "hello\n"
     ]
    }
   ],
   "source": [
    "%run hello.py"
   ]
  },
  {
   "cell_type": "markdown",
   "metadata": {},
   "source": [
    "## `*`自定义魔法命令\n",
    "\n",
    "[ipython](https://ipython.readthedocs.io/en/stable/api/index.html)是允许自定义魔法命令的,有两种形式:\n",
    "\n",
    "+ 函数形式,通过装饰器装饰一个函数.被装饰函数的函数名就是魔法命令名,调用这个魔法命令时实际执行的就是这个被装饰的函数\n",
    "\n",
    "+ 类形式,用装饰器`IPython.core.magic.magics_class`装饰一个继承`IPython.core.magic.Magics`构造一个类,在其中使用装饰器装饰方法,然后调用`ipython.register_magics`对这个类进行注册.被装饰方法的方法名就是魔法命令名,调用这个魔法命令时实际执行的就是这个类的实例中的对应方法.\n",
    "\n",
    "我们可以定义三种形式的函数/方法:\n",
    "\n",
    "+ `line_magic`,即单行魔法命令.函数形式使用装饰器`IPython.core.magic.register_line_magic`;类形式使用装饰器`IPython.core.magic.line_magic`\n",
    "+ `cell_magic`,即单元魔法命令.函数形式使用装饰器`IPython.core.magic.register_cell_magic`;类形式使用装饰器`IPython.core.magic.cell_magic`\n",
    "+ `line_cell_magic`,即当使用`%`调用时作为单行魔法命令,使用`%%`调用时为多行魔法命令.函数形式使用装饰器`IPython.core.magic.register_line_cell_magic`;类形式使用装饰器`IPython.core.magic.line_cell_magic`.\n",
    "\n",
    "### 例子\n",
    "\n",
    "> 函数形式的例子\n",
    "\n",
    "```python\n",
    "from IPython.core.magic import (\n",
    "    register_line_magic, \n",
    "    register_cell_magic,\n",
    "    register_line_cell_magic\n",
    ")\n",
    "from typing import Any,Optional\n",
    "\n",
    "@register_line_magic\n",
    "def lmagic(line:str)->Any:\n",
    "    \"my line magic\"\n",
    "    return line\n",
    "\n",
    "@register_cell_magic\n",
    "def cmagic(line:str, cell:str)->Any:\n",
    "    \"my cell magic\"\n",
    "    return line, cell\n",
    "\n",
    "@register_line_cell_magic\n",
    "def lcmagic(line:str, cell:Optional[str]=None)->Any:\n",
    "    \"Magic that works both as %lcmagic and as %%lcmagic\"\n",
    "    if cell is None:\n",
    "        print(\"Called as line magic\")\n",
    "        return line\n",
    "    else:\n",
    "        print(\"Called as cell magic\")\n",
    "        return line, cell\n",
    "```\n",
    "    \n",
    "> 类形式的例子\n",
    "\n",
    "```python\n",
    "from typing import Any,Optional\n",
    "from IPython.core.magic import (\n",
    "    Magics, \n",
    "    magics_class,\n",
    "    line_magic,\n",
    "    cell_magic,\n",
    "    line_cell_magic\n",
    ")\n",
    "\n",
    "# The class MUST call this class decorator at creation time\n",
    "@magics_class\n",
    "class MyMagics(Magics):\n",
    "\n",
    "    @line_magic\n",
    "    def lmagic(self, line:str)->Any:\n",
    "        \"my line magic\"\n",
    "        print(line)\n",
    "        return line\n",
    "\n",
    "    @cell_magic\n",
    "    def cmagic(self, line:str, cell:str)->Any:\n",
    "        \"my cell magic\"\n",
    "        print(cell[:10])\n",
    "        return line, cell\n",
    "\n",
    "    @line_cell_magic\n",
    "    def lcmagic(self, line:str, cell:Optional[str]=None)->Any:\n",
    "        \"Magic that works both as %lcmagic and as %%lcmagic\"\n",
    "        if cell is None:\n",
    "            print(\"Called as line magic\")\n",
    "            return line\n",
    "        else:\n",
    "            print(\"Called as cell magic\")\n",
    "            return line, cell\n",
    "\n",
    "\n",
    "# In order to actually use these magics, you must register them with a\n",
    "# running IPython.  This code must be placed in a file that is loaded once\n",
    "# IPython is up and running:\n",
    "ip = get_ipython()\n",
    "# You can register the class itself without instantiating it.  IPython will\n",
    "# call the default constructor on it.\n",
    "ip.register_magics(MyMagics)\n",
    "```"
   ]
  },
  {
   "cell_type": "markdown",
   "metadata": {},
   "source": [
    "### 魔法命令设置参数\n",
    "\n",
    "我们可以将魔法命令类比成命令行工具,在面对复杂参数时我们也需要一个解析器来解析参数,[IPython.core.magic_arguments](https://ipython.readthedocs.io/en/stable/api/generated/IPython.core.magic_arguments.html)就是这样一个工具.\n",
    "\n",
    "通常情况下我们将魔法命令所在行当做参数设置行,其使用方式如下例:"
   ]
  },
  {
   "cell_type": "code",
   "execution_count": 12,
   "metadata": {},
   "outputs": [],
   "source": [
    "from typing import Any\n",
    "from IPython.core.magic import register_cell_magic\n",
    "from IPython.core.magic_arguments import (\n",
    "    argument,\n",
    "    kwds,\n",
    "    magic_arguments,\n",
    "    parse_argstring\n",
    ")\n",
    "\n",
    "\n",
    "@magic_arguments()\n",
    "@kwds(description=\"a magic cmd with arguments which can print the cell string\")\n",
    "@argument(\n",
    "    \"--len\",\n",
    "    \"-l\",\n",
    "    action=\"store_true\",\n",
    "    help=(\"是否打印命令的长度\"),\n",
    ")\n",
    "@register_cell_magic\n",
    "def cell_echo_magic(line:str, cell:str)->Any:\n",
    "    args = parse_argstring(cell_echo_magic, line)\n",
    "    print(f\"\"\"get code:\n",
    "    {cell}\n",
    "    \"\"\")\n",
    "    if args.len:\n",
    "        print(\"code len: {x}\".format(x=len(cell)))"
   ]
  },
  {
   "cell_type": "code",
   "execution_count": 13,
   "metadata": {},
   "outputs": [
    {
     "name": "stdout",
     "output_type": "stream",
     "text": [
      "get code:\n",
      "    \n",
      "1+2==3\n",
      "\n",
      "    \n",
      "code len: 8\n"
     ]
    }
   ],
   "source": [
    "%%cell_echo_magic -l\n",
    "\n",
    "1+2==3"
   ]
  },
  {
   "cell_type": "markdown",
   "metadata": {},
   "source": [
    "需要注意装饰器的顺序.`@argument`用于声明flag,其参数和标准库`argparse`中的`add_argument`是一致的;`kwds`用于声明命令的设置,其参数和标准库`argparse`中的`ArgumentParser`一致.具体可以看[这篇文章].\n",
    "\n",
    "在装饰器中定义好参数后我们需要再函数或方法中调用`parse_argstring`函数解析参数.注意`parse_argstring`的第一位参数是魔法命令对应的函数或者方法,第二位为行字符串.\n",
    "\n",
    "当我们在调用魔法命令后加个`?`后我们也就可以看到它的说明文档."
   ]
  },
  {
   "cell_type": "code",
   "execution_count": 14,
   "metadata": {},
   "outputs": [
    {
     "data": {
      "text/plain": [
       "\u001b[0;31mDocstring:\u001b[0m\n",
       "::\n",
       "\n",
       "  %cell_echo_magic [--len]\n",
       "\n",
       "a magic cmd with arguments which can print the cell string\n",
       "\n",
       "options:\n",
       "  --len, -l  是否打印命令的长度\n",
       "\u001b[0;31mFile:\u001b[0m      /var/folders/j_/p0q1k_mj4cs0dqn0sqnshsrr0000gn/T/ipykernel_86517/3296420896.py"
      ]
     },
     "metadata": {},
     "output_type": "display_data"
    }
   ],
   "source": [
    "%%cell_echo_magic?"
   ]
  },
  {
   "cell_type": "markdown",
   "metadata": {},
   "source": [
    "### 魔法命令中调用\n",
    "\n",
    "如果要在魔法命令中调用核心执行代码可以使用`shell = IPython.core.getipython.get_ipython()->IPython.core.interactiveshell.InteractiveShell`获取当前执行的全局ipython对象,然后调用它的`shell.run_cell(raw_cell, store_history=False, silent=False, shell_futures=True, cell_id=None)`方法.`exec_val`字符串就会被当做一个cell进行执行.\n",
    "\n",
    "如果是类形式下也可以简单的使用`self.shell`.\n",
    "\n",
    "`shell.run_cell(raw_cell, store_history=False, silent=False, shell_futures=True, cell_id=None)`方法执行后不需要`return`就会将执行的结果放在`out`部分展示出来.\n",
    "\n",
    "`shell.run_cell(raw_cell, store_history=False, silent=False, shell_futures=True, cell_id=None)`方法返回一个`IPython.core.interactiveshell.ExecutionResult`对象,我们可以使用特性`success`判断执行是否成功.如果有错误也可以调用方法`raise_error()`抛出错误.\n",
    "\n",
    "如果想要异步执行也可以调用`async shell.run_cell_async(raw_cell: str, store_history=False, silent=False, shell_futures=True, *, transformed_cell: Optional[str] = None, preprocessing_exc_tuple: Optional[Any] = None, cell_id=None)`,它可以理解为就是`shell.run_cell(raw_cell, store_history=False, silent=False, shell_futures=True, cell_id=None)`的异步版本."
   ]
  },
  {
   "cell_type": "code",
   "execution_count": 15,
   "metadata": {},
   "outputs": [],
   "source": [
    "from IPython.core.getipython import get_ipython\n",
    "\n",
    "@magic_arguments()\n",
    "@kwds(description=\"a magic cmd with arguments which can print the cell string\")\n",
    "@argument(\n",
    "    \"--len\",\n",
    "    \"-l\",\n",
    "    action=\"store_true\",\n",
    "    help=(\"是否打印命令的长度\"),\n",
    ")\n",
    "@register_cell_magic\n",
    "def cell_echo_and_run_magic(line:str, cell:str)->Any:\n",
    "    args = parse_argstring(cell_echo_and_run_magic, line)\n",
    "    print(f\"\"\"get code:\n",
    "    {cell}\n",
    "    \"\"\")\n",
    "    if args.len:\n",
    "        print(\"code len: {x}\".format(x=len(cell)))\n",
    "    shell = get_ipython()\n",
    "    run_p = shell.run_cell(cell)\n",
    "    if run_p.success:\n",
    "        print(f\"\"\"run code get result:\n",
    "        {run_p.result}\n",
    "        \"\"\")\n",
    "    else:\n",
    "        run_p.raise_error()"
   ]
  },
  {
   "cell_type": "code",
   "execution_count": 16,
   "metadata": {},
   "outputs": [
    {
     "name": "stdout",
     "output_type": "stream",
     "text": [
      "get code:\n",
      "    \n",
      "print(\"这里是cell执行的\")\n",
      "1+2==3\n",
      "\n",
      "    \n",
      "code len: 28\n",
      "这里是cell执行的\n"
     ]
    },
    {
     "data": {
      "text/plain": [
       "True"
      ]
     },
     "execution_count": 16,
     "metadata": {},
     "output_type": "execute_result"
    },
    {
     "name": "stdout",
     "output_type": "stream",
     "text": [
      "run code get result:\n",
      "        True\n",
      "        \n"
     ]
    }
   ],
   "source": [
    "%%cell_echo_and_run_magic -l\n",
    "\n",
    "print(\"这里是cell执行的\")\n",
    "1+2==3"
   ]
  },
  {
   "cell_type": "markdown",
   "metadata": {},
   "source": [
    "### 安静模式\n",
    "\n",
    "Ipython允许魔法命令支持安静模式.所谓安静模式是指屏蔽掉output部分.注意stdout部分并不会被屏蔽.\n",
    "\n",
    "支持安静模式的魔法命令只要在魔法命令的line的最后一个字符写上`;`就可以以安静模式执行.我们可以使用`IPython.core.magic.output_can_be_silenced`装饰器声明这个魔法命令支持安静模式."
   ]
  },
  {
   "cell_type": "code",
   "execution_count": 19,
   "metadata": {},
   "outputs": [],
   "source": [
    "from IPython.core.magic import output_can_be_silenced,register_line_magic\n",
    "\n",
    "@output_can_be_silenced\n",
    "@register_line_magic\n",
    "def count_line_magic(line:str)->Any:\n",
    "    print(f\"get line: {line}\")\n",
    "    return len(line)"
   ]
  },
  {
   "cell_type": "code",
   "execution_count": 20,
   "metadata": {},
   "outputs": [
    {
     "name": "stdout",
     "output_type": "stream",
     "text": [
      "get line: 这是一个测试\n"
     ]
    },
    {
     "data": {
      "text/plain": [
       "6"
      ]
     },
     "execution_count": 20,
     "metadata": {},
     "output_type": "execute_result"
    }
   ],
   "source": [
    "%count_line_magic 这是一个测试"
   ]
  },
  {
   "cell_type": "code",
   "execution_count": 22,
   "metadata": {},
   "outputs": [
    {
     "name": "stdout",
     "output_type": "stream",
     "text": [
      "get line: 这是一个测试;\n"
     ]
    }
   ],
   "source": [
    "%count_line_magic 这是一个测试;"
   ]
  },
  {
   "attachments": {},
   "cell_type": "markdown",
   "metadata": {},
   "source": [
    "### 魔法命令中的输出\n",
    "\n",
    "在定义魔法命令的函数/方法中可以使用`print`或者其他输出到标准输出的方法可以在前端打印出对应的内容,而`return`出的东西则会作为`out`部分被展示出来.\n",
    "\n",
    "上面的例子中我们可以看到`run_cell`执行的结果在两段由魔法命令定义的输出内容之间,我们可以用[IPython.utils.capture.capture_output(stdout=True, stderr=True, display=True)](https://ipython.readthedocs.io/en/stable/api/generated/IPython.utils.capture.html#IPython.utils.capture.capture_output)这个上下文管理器来捕获执行过程中的输出然后再统一输出,从而优化上面的例子\n",
    "\n",
    "```python\n",
    "with capture_output(True, False, True) as io:\n",
    "    self.shell.run_cell(exec_val)\n",
    "io.show()\n",
    "```\n",
    "\n",
    "这个上下文管理器抛出的io类型为`IPython.utils.capture.CapturedIO`,通过调用`.show()`方法可以将捕获的内容展示到前端.\n",
    "\n",
    "需要注意\n",
    "1. `capture_output`上下文只有结束才会将输出捕获到io中,因此`io.show()`必须在上下文结束后执行.\n",
    "\n",
    "2. 如果参数`display`设置为`True`,那么执行的result也就为`None`了.结果会被捕获到`io.outputs`中,`io.outputs`是一个`IPython.utils.capture.RichOutput`的实例构造的数组.这个数组中的每一个元素可以使用`IPython.display.display(o)`来展示到前端\n",
    "\n",
    "3. 如果参数`display`设置为`False`,则原本output的部分依然会被展示出来且会被放在所有展示位置的顶部."
   ]
  },
  {
   "cell_type": "code",
   "execution_count": 60,
   "metadata": {},
   "outputs": [],
   "source": [
    "from IPython.utils.capture import capture_output\n",
    "from IPython.display import display\n",
    "\n",
    "@magic_arguments()\n",
    "@kwds(description=\"a magic cmd with arguments which can print the cell string\")\n",
    "@argument(\n",
    "    \"--len\",\n",
    "    \"-l\",\n",
    "    action=\"store_true\",\n",
    "    help=(\"是否打印命令的长度\"),\n",
    ")\n",
    "@register_cell_magic\n",
    "def cell_echo_and_run_magic2(line:str, cell:str)->Any:\n",
    "    args = parse_argstring(cell_echo_and_run_magic2, line)\n",
    "    print(f\"\"\"get code:\n",
    "    {cell}\n",
    "    \"\"\")\n",
    "    if args.len:\n",
    "        print(\"code len: {x}\".format(x=len(cell)))\n",
    "    shell = get_ipython()\n",
    "    with capture_output(True, False, True) as io:\n",
    "        run_p = shell.run_cell(cell)\n",
    "    if run_p.success:\n",
    "        print(f\"\"\"run code get result:\"\"\")\n",
    "        for output in io.outputs:\n",
    "            display(output)\n",
    "    else:\n",
    "        run_p.raise_error()\n",
    "    io.show()"
   ]
  },
  {
   "cell_type": "code",
   "execution_count": 61,
   "metadata": {},
   "outputs": [
    {
     "data": {
      "text/plain": [
       "True"
      ]
     },
     "execution_count": 61,
     "metadata": {},
     "output_type": "execute_result"
    },
    {
     "name": "stdout",
     "output_type": "stream",
     "text": [
      "get code:\n",
      "    \n",
      "print(\"这里是cell执行的\")\n",
      "1+2==3\n",
      "\n",
      "    \n",
      "code len: 28\n",
      "run code get result:\n",
      "这里是cell执行的\n"
     ]
    }
   ],
   "source": [
    "%%cell_echo_and_run_magic2 -l\n",
    "\n",
    "print(\"这里是cell执行的\")\n",
    "1+2==3"
   ]
  },
  {
   "cell_type": "markdown",
   "metadata": {},
   "source": [
    "#### 富文本输出\n",
    "\n",
    "如果要输出一些富文本,可以使用[IPython.display](https://ipython.readthedocs.io/en/stable/api/generated/IPython.display.html)中的方法,比如希望发出声音可以使用`IPython.display.Audio`,想输出图片可以用`IPython.display.Image`等等.和上面一样,使用`display`函数调用他们就可以展示在前端了.\n",
    "\n",
    "我们以一个加载图片的魔术命令为例:"
   ]
  },
  {
   "cell_type": "code",
   "execution_count": 28,
   "metadata": {},
   "outputs": [],
   "source": [
    "from pathlib import Path\n",
    "from IPython.core.magic import register_line_magic\n",
    "from IPython.display import Image,display\n",
    "\n",
    "@register_line_magic\n",
    "def load_img(line:str)->Any:\n",
    "    print(f\"load img from {line}\")\n",
    "    p = Path(line)\n",
    "    with open(p,\"rb\") as f: \n",
    "        content = f.read()\n",
    "    display(Image(content))\n",
    "    "
   ]
  },
  {
   "cell_type": "code",
   "execution_count": 29,
   "metadata": {},
   "outputs": [
    {
     "name": "stdout",
     "output_type": "stream",
     "text": [
      "load img from /Users/mac/Pictures/pypy3-o.jpeg\n"
     ]
    },
    {
     "data": {
      "image/jpeg": "[encoded data removed]",
      "text/plain": [
       "<IPython.core.display.Image object>"
      ]
     },
     "metadata": {},
     "output_type": "display_data"
    }
   ],
   "source": [
    "%load_img /Users/mac/Pictures/pypy3-o.jpeg"
   ]
  },
  {
   "cell_type": "markdown",
   "metadata": {},
   "source": [
    "## 部署魔法命令脚本\n",
    "\n",
    "部署魔法命令最简单的办法就是将对应的脚本放到ipython配置文件夹中的`startup`文件夹中(默认在`~/.ipython/profile_default`文件夹下).\n",
    "\n",
    "`startup`文件夹下的所有python脚本会在所有用ipython构造的app(包括ipython,ipyparallel以及所有的Wrapper kernel)启动时被调用执行.\n",
    "\n",
    "这种部署方式优点是简单方便,放进去后重启就能使用,但也缺点明显:\n",
    "\n",
    "1. 主动加载.增加启动时间\n",
    "2. 不利于分发"
   ]
  },
  {
   "cell_type": "markdown",
   "metadata": {},
   "source": [
    "## 使用和发布带魔法命令的第三方包\n",
    "\n",
    "在第三方包中如果有定义配套的魔法命令,可以在第一层的`__init__.py`中定义个名为`load_ipython_extension(ip:IPython.core.interactiveshell.InteractiveShell)->None`的函数,在这个函数中进行魔法命令注册.\n",
    "\n",
    "这样做并不会让魔法命令直接被加载到当前进程,当我们需要时可以使用`%load_ext <模块名>`加载指定模块中的魔法命令--ipython会导入指定模块,找到其中的`load_ipython_extension`函数执行.\n",
    "\n",
    "这样模块定义的魔法命令就可以在当前进程中执行了."
   ]
  }
 ],
 "metadata": {
  "kernelspec": {
   "display_name": "Python 3 (ipykernel)",
   "language": "python",
   "name": "python3"
  },
  "language_info": {
   "codemirror_mode": {
    "name": "ipython",
    "version": 3
   },
   "file_extension": ".py",
   "mimetype": "text/x-python",
   "name": "python",
   "nbconvert_exporter": "python",
   "pygments_lexer": "ipython3",
   "version": "3.10.11"
  }
 },
 "nbformat": 4,
 "nbformat_minor": 4
}
