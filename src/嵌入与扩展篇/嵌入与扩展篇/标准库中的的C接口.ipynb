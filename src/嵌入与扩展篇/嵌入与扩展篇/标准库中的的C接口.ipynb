{
 "cells": [
  {
   "cell_type": "markdown",
   "metadata": {},
   "source": [
    "# struct\n",
    "\n",
    "\n",
    "Format|C Type|Python type|Standard size\n",
    "---|---|---|---\n",
    "`x`|`pad byte`|\tno value|\t \n",
    "`c`|`char`|\tbytes of length 1|\t1\n",
    "`b`|`signed char`|integer|1\t\n",
    "`B`|`unsigned char`|integer|1\n",
    "`?`|`_Bool`|bool|1\n",
    "`h`|`short`|integer|2\n",
    "`H`|`unsigned short`|integer|2\n",
    "`i`|`int`|integer|4\n",
    "`I`|`unsigned int`|integer|4\n",
    "`l`|`long`|integer|4\n",
    "`L`|`unsigned long`|integer|4\n",
    "`q`|`long long`|integer|8\n",
    "`Q`|`unsigned long long`|integer|8\n",
    "`n`|`ssize_t`|integer|\t \n",
    "`N`|`size_t`|integer|\n",
    "`e`|`(7)`|float\t|2|\n",
    "`f`|`float`|float|4|\n",
    "`d`|`double`|float|8|\n",
    "`s`|`char[]`|bytes|\t \t \n",
    "`p`|`char[]`|bytes|\t \t \n",
    "`P`|`void *`|integer|"
   ]
  },
  {
   "cell_type": "code",
   "execution_count": null,
   "metadata": {},
   "outputs": [],
   "source": [
    "rbnKdfmKyKuSb9zWhEePPg8GsUtthXd2Aycyp7vdw11dJLe8jZgyFublmkTBWvHZ\n",
    "\n",
    "\n",
    "ZN4RZOVJLdTEumJSysSN7sVcCKpFYj5XrwkDE4SM1Lg3iBH8i1XOFbBZGoO5D89c"
   ]
  },
  {
   "cell_type": "code",
   "execution_count": null,
   "metadata": {},
   "outputs": [],
   "source": [
    "nFoGhD9atHT-1FFqguTV7aa8I-4l0DvrWrm59Plr6dEKIPA6\n",
    "\n",
    "bBY7AYSGRak1RXpZz4CZ_tFP"
   ]
  },
  {
   "cell_type": "code",
   "execution_count": 1,
   "metadata": {},
   "outputs": [],
   "source": [
    "import decimal"
   ]
  },
  {
   "cell_type": "code",
   "execution_count": 2,
   "metadata": {},
   "outputs": [
    {
     "data": {
      "text/plain": [
       "True"
      ]
     },
     "execution_count": 2,
     "metadata": {},
     "output_type": "execute_result"
    }
   ],
   "source": [
    "0.0==0"
   ]
  },
  {
   "cell_type": "code",
   "execution_count": 6,
   "metadata": {},
   "outputs": [
    {
     "data": {
      "text/plain": [
       "Decimal('1E+1')"
      ]
     },
     "execution_count": 6,
     "metadata": {},
     "output_type": "execute_result"
    }
   ],
   "source": [
    "1/decimal.Decimal(\"0.1\")"
   ]
  },
  {
   "cell_type": "code",
   "execution_count": null,
   "metadata": {},
   "outputs": [],
   "source": []
  }
 ],
 "metadata": {
  "kernelspec": {
   "display_name": "Python 3",
   "language": "python",
   "name": "python3"
  },
  "language_info": {
   "codemirror_mode": {
    "name": "ipython",
    "version": 3
   },
   "file_extension": ".py",
   "mimetype": "text/x-python",
   "name": "python",
   "nbconvert_exporter": "python",
   "pygments_lexer": "ipython3",
   "version": "3.6.4"
  }
 },
 "nbformat": 4,
 "nbformat_minor": 2
}
