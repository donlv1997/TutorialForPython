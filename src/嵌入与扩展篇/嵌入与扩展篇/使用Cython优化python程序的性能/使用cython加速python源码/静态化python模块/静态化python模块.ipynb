{
 "cells": [
  {
   "cell_type": "markdown",
   "metadata": {},
   "source": [
    "# 静态化python模块\n",
    "\n",
    "Cython提供了一些装饰器和类型用于直接扩展python模块,先看一个例子:"
   ]
  },
  {
   "cell_type": "code",
   "execution_count": 1,
   "metadata": {},
   "outputs": [
    {
     "name": "stdout",
     "output_type": "stream",
     "text": [
      "Writing logistic.py\n"
     ]
    }
   ],
   "source": [
    "%%writefile logistic.py\n",
    "#cython: language_level=3\n",
    "import cython\n",
    "from math import exp\n",
    "if cython.compiled:\n",
    "    print(\"Yep, I'm compiled.\")\n",
    "else:\n",
    "    print(\"Just a lowly interpreted script.\")\n",
    "    \n",
    "@cython.boundscheck(False)\n",
    "@cython.ccall\n",
    "def logistic(x:cython.double)->cython.double:\n",
    "    return 1/(1+exp(-x))"
   ]
  },
  {
   "cell_type": "code",
   "execution_count": 2,
   "metadata": {},
   "outputs": [
    {
     "name": "stdout",
     "output_type": "stream",
     "text": [
      "Just a lowly interpreted script.\n"
     ]
    }
   ],
   "source": [
    "import logistic"
   ]
  },
  {
   "cell_type": "code",
   "execution_count": 3,
   "metadata": {},
   "outputs": [
    {
     "data": {
      "text/plain": [
       "0.999999999986112"
      ]
     },
     "execution_count": 3,
     "metadata": {},
     "output_type": "execute_result"
    }
   ],
   "source": [
    "logistic.logistic(25)"
   ]
  },
  {
   "cell_type": "code",
   "execution_count": 4,
   "metadata": {},
   "outputs": [
    {
     "name": "stdout",
     "output_type": "stream",
     "text": [
      "534 ns ± 70 ns per loop (mean ± std. dev. of 7 runs, 1000000 loops each)\n"
     ]
    }
   ],
   "source": [
    "%timeit logistic.logistic(25)"
   ]
  },
  {
   "cell_type": "code",
   "execution_count": 1,
   "metadata": {},
   "outputs": [
    {
     "name": "stdout",
     "output_type": "stream",
     "text": [
      "Compiling /Users/huangsizhe/WORKSPACE/Blog/Docs/Python/TutorialForPython/ipynbs/python性能优化/使用Cython优化python程序的性能/使用cython加速python源码/静态化python模块/logistic.py because it changed.\n",
      "[1/1] Cythonizing /Users/huangsizhe/WORKSPACE/Blog/Docs/Python/TutorialForPython/ipynbs/python性能优化/使用Cython优化python程序的性能/使用cython加速python源码/静态化python模块/logistic.py\n",
      "running build_ext\n",
      "building 'logistic' extension\n",
      "creating /Users/huangsizhe/WORKSPACE/Blog/Docs/Python/TutorialForPython/ipynbs/python性能优化/使用Cython优化python程序的性能/使用cython加速python源码/静态化python模块/tmp2i2j3uyu/Users\n",
      "creating /Users/huangsizhe/WORKSPACE/Blog/Docs/Python/TutorialForPython/ipynbs/python性能优化/使用Cython优化python程序的性能/使用cython加速python源码/静态化python模块/tmp2i2j3uyu/Users/huangsizhe\n",
      "creating /Users/huangsizhe/WORKSPACE/Blog/Docs/Python/TutorialForPython/ipynbs/python性能优化/使用Cython优化python程序的性能/使用cython加速python源码/静态化python模块/tmp2i2j3uyu/Users/huangsizhe/WORKSPACE\n",
      "creating /Users/huangsizhe/WORKSPACE/Blog/Docs/Python/TutorialForPython/ipynbs/python性能优化/使用Cython优化python程序的性能/使用cython加速python源码/静态化python模块/tmp2i2j3uyu/Users/huangsizhe/WORKSPACE/Blog\n",
      "creating /Users/huangsizhe/WORKSPACE/Blog/Docs/Python/TutorialForPython/ipynbs/python性能优化/使用Cython优化python程序的性能/使用cython加速python源码/静态化python模块/tmp2i2j3uyu/Users/huangsizhe/WORKSPACE/Blog/Docs\n",
      "creating /Users/huangsizhe/WORKSPACE/Blog/Docs/Python/TutorialForPython/ipynbs/python性能优化/使用Cython优化python程序的性能/使用cython加速python源码/静态化python模块/tmp2i2j3uyu/Users/huangsizhe/WORKSPACE/Blog/Docs/Python\n",
      "creating /Users/huangsizhe/WORKSPACE/Blog/Docs/Python/TutorialForPython/ipynbs/python性能优化/使用Cython优化python程序的性能/使用cython加速python源码/静态化python模块/tmp2i2j3uyu/Users/huangsizhe/WORKSPACE/Blog/Docs/Python/TutorialForPython\n",
      "creating /Users/huangsizhe/WORKSPACE/Blog/Docs/Python/TutorialForPython/ipynbs/python性能优化/使用Cython优化python程序的性能/使用cython加速python源码/静态化python模块/tmp2i2j3uyu/Users/huangsizhe/WORKSPACE/Blog/Docs/Python/TutorialForPython/ipynbs\n",
      "creating /Users/huangsizhe/WORKSPACE/Blog/Docs/Python/TutorialForPython/ipynbs/python性能优化/使用Cython优化python程序的性能/使用cython加速python源码/静态化python模块/tmp2i2j3uyu/Users/huangsizhe/WORKSPACE/Blog/Docs/Python/TutorialForPython/ipynbs/python性能优化\n",
      "creating /Users/huangsizhe/WORKSPACE/Blog/Docs/Python/TutorialForPython/ipynbs/python性能优化/使用Cython优化python程序的性能/使用cython加速python源码/静态化python模块/tmp2i2j3uyu/Users/huangsizhe/WORKSPACE/Blog/Docs/Python/TutorialForPython/ipynbs/python性能优化/使用Cython优化python程序的性能\n",
      "creating /Users/huangsizhe/WORKSPACE/Blog/Docs/Python/TutorialForPython/ipynbs/python性能优化/使用Cython优化python程序的性能/使用cython加速python源码/静态化python模块/tmp2i2j3uyu/Users/huangsizhe/WORKSPACE/Blog/Docs/Python/TutorialForPython/ipynbs/python性能优化/使用Cython优化python程序的性能/使用cython加速python源码\n",
      "creating /Users/huangsizhe/WORKSPACE/Blog/Docs/Python/TutorialForPython/ipynbs/python性能优化/使用Cython优化python程序的性能/使用cython加速python源码/静态化python模块/tmp2i2j3uyu/Users/huangsizhe/WORKSPACE/Blog/Docs/Python/TutorialForPython/ipynbs/python性能优化/使用Cython优化python程序的性能/使用cython加速python源码/静态化python模块\n",
      "gcc -DNDEBUG -g -fwrapv -O3 -Wall -Wstrict-prototypes -O2 -pipe -mcpu=arm1176jzf-s -mfpu=vfp -mfloat-abi=hard -w -I/Users/huangsizhe/LIB/CONDA/anaconda/include/python3.6m -c /Users/huangsizhe/WORKSPACE/Blog/Docs/Python/TutorialForPython/ipynbs/python性能优化/使用Cython优化python程序的性能/使用cython加速python源码/静态化python模块/logistic.c -o /Users/huangsizhe/WORKSPACE/Blog/Docs/Python/TutorialForPython/ipynbs/python性能优化/使用Cython优化python程序的性能/使用cython加速python源码/静态化python模块/tmp2i2j3uyu/Users/huangsizhe/WORKSPACE/Blog/Docs/Python/TutorialForPython/ipynbs/python性能优化/使用Cython优化python程序的性能/使用cython加速python源码/静态化python模块/logistic.o\n",
      "gcc -bundle -undefined dynamic_lookup -Wl,-rpath,/Users/huangsizhe/LIB/CONDA/anaconda/lib -L/Users/huangsizhe/LIB/CONDA/anaconda/lib -headerpad_max_install_names -Wl,-rpath,/Users/huangsizhe/LIB/CONDA/anaconda/lib -L/Users/huangsizhe/LIB/CONDA/anaconda/lib -headerpad_max_install_names -O2 -pipe -mcpu=arm1176jzf-s -mfpu=vfp -mfloat-abi=hard -w -arch x86_64 /Users/huangsizhe/WORKSPACE/Blog/Docs/Python/TutorialForPython/ipynbs/python性能优化/使用Cython优化python程序的性能/使用cython加速python源码/静态化python模块/tmp2i2j3uyu/Users/huangsizhe/WORKSPACE/Blog/Docs/Python/TutorialForPython/ipynbs/python性能优化/使用Cython优化python程序的性能/使用cython加速python源码/静态化python模块/logistic.o -L/Users/huangsizhe/LIB/CONDA/anaconda/lib -o /Users/huangsizhe/WORKSPACE/Blog/Docs/Python/TutorialForPython/ipynbs/python性能优化/使用Cython优化python程序的性能/使用cython加速python源码/静态化python模块/logistic.cpython-36m-darwin.so\n"
     ]
    }
   ],
   "source": [
    "!cythonize -i -3 logistic.py"
   ]
  },
  {
   "cell_type": "code",
   "execution_count": 2,
   "metadata": {},
   "outputs": [
    {
     "name": "stdout",
     "output_type": "stream",
     "text": [
      "Yep, I'm compiled.\n"
     ]
    }
   ],
   "source": [
    "import logistic"
   ]
  },
  {
   "cell_type": "code",
   "execution_count": 3,
   "metadata": {},
   "outputs": [
    {
     "data": {
      "text/plain": [
       "0.999999999986112"
      ]
     },
     "execution_count": 3,
     "metadata": {},
     "output_type": "execute_result"
    }
   ],
   "source": [
    "logistic.logistic(25)"
   ]
  },
  {
   "cell_type": "code",
   "execution_count": 4,
   "metadata": {},
   "outputs": [
    {
     "name": "stdout",
     "output_type": "stream",
     "text": [
      "329 ns ± 3.74 ns per loop (mean ± std. dev. of 7 runs, 1000000 loops each)\n"
     ]
    }
   ],
   "source": [
    "%timeit logistic.logistic(25)"
   ]
  },
  {
   "cell_type": "code",
   "execution_count": 1,
   "metadata": {},
   "outputs": [
    {
     "name": "stdout",
     "output_type": "stream",
     "text": [
      "Writing logistic_A.py\n"
     ]
    }
   ],
   "source": [
    "%%writefile logistic_A.py\n",
    "#cython: language_level=3\n",
    "import cython\n",
    "from math import exp\n",
    "if cython.compiled:\n",
    "    print(\"Yep, I'm compiled.\")\n",
    "else:\n",
    "    print(\"Just a lowly interpreted script.\")\n",
    "    \n",
    "@cython.boundscheck(False)\n",
    "@cython.ccall\n",
    "def logistic(x):\n",
    "    return 1/(1+exp(-x))"
   ]
  },
  {
   "cell_type": "code",
   "execution_count": 2,
   "metadata": {},
   "outputs": [
    {
     "name": "stdout",
     "output_type": "stream",
     "text": [
      "Compiling /Users/huangsizhe/WORKSPACE/Blog/Docs/Python/TutorialForPython/ipynbs/python性能优化/使用Cython优化python程序的性能/使用cython加速python源码/静态化python模块/logistic_A.py because it changed.\n",
      "[1/1] Cythonizing /Users/huangsizhe/WORKSPACE/Blog/Docs/Python/TutorialForPython/ipynbs/python性能优化/使用Cython优化python程序的性能/使用cython加速python源码/静态化python模块/logistic_A.py\n",
      "running build_ext\n",
      "building 'logistic_A' extension\n",
      "creating /Users/huangsizhe/WORKSPACE/Blog/Docs/Python/TutorialForPython/ipynbs/python性能优化/使用Cython优化python程序的性能/使用cython加速python源码/静态化python模块/tmp8dxpsjki/Users\n",
      "creating /Users/huangsizhe/WORKSPACE/Blog/Docs/Python/TutorialForPython/ipynbs/python性能优化/使用Cython优化python程序的性能/使用cython加速python源码/静态化python模块/tmp8dxpsjki/Users/huangsizhe\n",
      "creating /Users/huangsizhe/WORKSPACE/Blog/Docs/Python/TutorialForPython/ipynbs/python性能优化/使用Cython优化python程序的性能/使用cython加速python源码/静态化python模块/tmp8dxpsjki/Users/huangsizhe/WORKSPACE\n",
      "creating /Users/huangsizhe/WORKSPACE/Blog/Docs/Python/TutorialForPython/ipynbs/python性能优化/使用Cython优化python程序的性能/使用cython加速python源码/静态化python模块/tmp8dxpsjki/Users/huangsizhe/WORKSPACE/Blog\n",
      "creating /Users/huangsizhe/WORKSPACE/Blog/Docs/Python/TutorialForPython/ipynbs/python性能优化/使用Cython优化python程序的性能/使用cython加速python源码/静态化python模块/tmp8dxpsjki/Users/huangsizhe/WORKSPACE/Blog/Docs\n",
      "creating /Users/huangsizhe/WORKSPACE/Blog/Docs/Python/TutorialForPython/ipynbs/python性能优化/使用Cython优化python程序的性能/使用cython加速python源码/静态化python模块/tmp8dxpsjki/Users/huangsizhe/WORKSPACE/Blog/Docs/Python\n",
      "creating /Users/huangsizhe/WORKSPACE/Blog/Docs/Python/TutorialForPython/ipynbs/python性能优化/使用Cython优化python程序的性能/使用cython加速python源码/静态化python模块/tmp8dxpsjki/Users/huangsizhe/WORKSPACE/Blog/Docs/Python/TutorialForPython\n",
      "creating /Users/huangsizhe/WORKSPACE/Blog/Docs/Python/TutorialForPython/ipynbs/python性能优化/使用Cython优化python程序的性能/使用cython加速python源码/静态化python模块/tmp8dxpsjki/Users/huangsizhe/WORKSPACE/Blog/Docs/Python/TutorialForPython/ipynbs\n",
      "creating /Users/huangsizhe/WORKSPACE/Blog/Docs/Python/TutorialForPython/ipynbs/python性能优化/使用Cython优化python程序的性能/使用cython加速python源码/静态化python模块/tmp8dxpsjki/Users/huangsizhe/WORKSPACE/Blog/Docs/Python/TutorialForPython/ipynbs/python性能优化\n",
      "creating /Users/huangsizhe/WORKSPACE/Blog/Docs/Python/TutorialForPython/ipynbs/python性能优化/使用Cython优化python程序的性能/使用cython加速python源码/静态化python模块/tmp8dxpsjki/Users/huangsizhe/WORKSPACE/Blog/Docs/Python/TutorialForPython/ipynbs/python性能优化/使用Cython优化python程序的性能\n",
      "creating /Users/huangsizhe/WORKSPACE/Blog/Docs/Python/TutorialForPython/ipynbs/python性能优化/使用Cython优化python程序的性能/使用cython加速python源码/静态化python模块/tmp8dxpsjki/Users/huangsizhe/WORKSPACE/Blog/Docs/Python/TutorialForPython/ipynbs/python性能优化/使用Cython优化python程序的性能/使用cython加速python源码\n",
      "creating /Users/huangsizhe/WORKSPACE/Blog/Docs/Python/TutorialForPython/ipynbs/python性能优化/使用Cython优化python程序的性能/使用cython加速python源码/静态化python模块/tmp8dxpsjki/Users/huangsizhe/WORKSPACE/Blog/Docs/Python/TutorialForPython/ipynbs/python性能优化/使用Cython优化python程序的性能/使用cython加速python源码/静态化python模块\n",
      "gcc -DNDEBUG -g -fwrapv -O3 -Wall -Wstrict-prototypes -O2 -pipe -mcpu=arm1176jzf-s -mfpu=vfp -mfloat-abi=hard -w -I/Users/huangsizhe/LIB/CONDA/anaconda/include/python3.6m -c /Users/huangsizhe/WORKSPACE/Blog/Docs/Python/TutorialForPython/ipynbs/python性能优化/使用Cython优化python程序的性能/使用cython加速python源码/静态化python模块/logistic_A.c -o /Users/huangsizhe/WORKSPACE/Blog/Docs/Python/TutorialForPython/ipynbs/python性能优化/使用Cython优化python程序的性能/使用cython加速python源码/静态化python模块/tmp8dxpsjki/Users/huangsizhe/WORKSPACE/Blog/Docs/Python/TutorialForPython/ipynbs/python性能优化/使用Cython优化python程序的性能/使用cython加速python源码/静态化python模块/logistic_A.o\n",
      "gcc -bundle -undefined dynamic_lookup -Wl,-rpath,/Users/huangsizhe/LIB/CONDA/anaconda/lib -L/Users/huangsizhe/LIB/CONDA/anaconda/lib -headerpad_max_install_names -Wl,-rpath,/Users/huangsizhe/LIB/CONDA/anaconda/lib -L/Users/huangsizhe/LIB/CONDA/anaconda/lib -headerpad_max_install_names -O2 -pipe -mcpu=arm1176jzf-s -mfpu=vfp -mfloat-abi=hard -w -arch x86_64 /Users/huangsizhe/WORKSPACE/Blog/Docs/Python/TutorialForPython/ipynbs/python性能优化/使用Cython优化python程序的性能/使用cython加速python源码/静态化python模块/tmp8dxpsjki/Users/huangsizhe/WORKSPACE/Blog/Docs/Python/TutorialForPython/ipynbs/python性能优化/使用Cython优化python程序的性能/使用cython加速python源码/静态化python模块/logistic_A.o -L/Users/huangsizhe/LIB/CONDA/anaconda/lib -o /Users/huangsizhe/WORKSPACE/Blog/Docs/Python/TutorialForPython/ipynbs/python性能优化/使用Cython优化python程序的性能/使用cython加速python源码/静态化python模块/logistic_A.cpython-36m-darwin.so\n"
     ]
    }
   ],
   "source": [
    "!cythonize -i -3 logistic_A.py"
   ]
  },
  {
   "cell_type": "code",
   "execution_count": 3,
   "metadata": {},
   "outputs": [
    {
     "name": "stdout",
     "output_type": "stream",
     "text": [
      "Yep, I'm compiled.\n"
     ]
    }
   ],
   "source": [
    "import logistic_A"
   ]
  },
  {
   "cell_type": "code",
   "execution_count": 4,
   "metadata": {},
   "outputs": [
    {
     "data": {
      "text/plain": [
       "0.999999999986112"
      ]
     },
     "execution_count": 4,
     "metadata": {},
     "output_type": "execute_result"
    }
   ],
   "source": [
    "logistic_A.logistic(25)"
   ]
  },
  {
   "cell_type": "code",
   "execution_count": 5,
   "metadata": {},
   "outputs": [
    {
     "name": "stdout",
     "output_type": "stream",
     "text": [
      "364 ns ± 10.4 ns per loop (mean ± std. dev. of 7 runs, 1000000 loops each)\n"
     ]
    }
   ],
   "source": [
    "%timeit logistic_A.logistic(25)"
   ]
  },
  {
   "cell_type": "code",
   "execution_count": 1,
   "metadata": {},
   "outputs": [
    {
     "name": "stdout",
     "output_type": "stream",
     "text": [
      "Writing logistic_B.pyx\n"
     ]
    }
   ],
   "source": [
    "%%writefile logistic_B.pyx\n",
    "#cython: language_level=3\n",
    "from math import exp\n",
    "\n",
    "\n",
    "cpdef double logistic(double x):\n",
    "    return 1/(1+exp(-x))"
   ]
  },
  {
   "cell_type": "code",
   "execution_count": 2,
   "metadata": {},
   "outputs": [
    {
     "name": "stdout",
     "output_type": "stream",
     "text": [
      "Compiling /Users/huangsizhe/WORKSPACE/Blog/Docs/Python/TutorialForPython/ipynbs/python性能优化/使用Cython优化python程序的性能/使用cython加速python源码/静态化python模块/logistic_B.pyx because it changed.\n",
      "[1/1] Cythonizing /Users/huangsizhe/WORKSPACE/Blog/Docs/Python/TutorialForPython/ipynbs/python性能优化/使用Cython优化python程序的性能/使用cython加速python源码/静态化python模块/logistic_B.pyx\n",
      "running build_ext\n",
      "building 'logistic_B' extension\n",
      "creating /Users/huangsizhe/WORKSPACE/Blog/Docs/Python/TutorialForPython/ipynbs/python性能优化/使用Cython优化python程序的性能/使用cython加速python源码/静态化python模块/tmpw9rfvum4/Users\n",
      "creating /Users/huangsizhe/WORKSPACE/Blog/Docs/Python/TutorialForPython/ipynbs/python性能优化/使用Cython优化python程序的性能/使用cython加速python源码/静态化python模块/tmpw9rfvum4/Users/huangsizhe\n",
      "creating /Users/huangsizhe/WORKSPACE/Blog/Docs/Python/TutorialForPython/ipynbs/python性能优化/使用Cython优化python程序的性能/使用cython加速python源码/静态化python模块/tmpw9rfvum4/Users/huangsizhe/WORKSPACE\n",
      "creating /Users/huangsizhe/WORKSPACE/Blog/Docs/Python/TutorialForPython/ipynbs/python性能优化/使用Cython优化python程序的性能/使用cython加速python源码/静态化python模块/tmpw9rfvum4/Users/huangsizhe/WORKSPACE/Blog\n",
      "creating /Users/huangsizhe/WORKSPACE/Blog/Docs/Python/TutorialForPython/ipynbs/python性能优化/使用Cython优化python程序的性能/使用cython加速python源码/静态化python模块/tmpw9rfvum4/Users/huangsizhe/WORKSPACE/Blog/Docs\n",
      "creating /Users/huangsizhe/WORKSPACE/Blog/Docs/Python/TutorialForPython/ipynbs/python性能优化/使用Cython优化python程序的性能/使用cython加速python源码/静态化python模块/tmpw9rfvum4/Users/huangsizhe/WORKSPACE/Blog/Docs/Python\n",
      "creating /Users/huangsizhe/WORKSPACE/Blog/Docs/Python/TutorialForPython/ipynbs/python性能优化/使用Cython优化python程序的性能/使用cython加速python源码/静态化python模块/tmpw9rfvum4/Users/huangsizhe/WORKSPACE/Blog/Docs/Python/TutorialForPython\n",
      "creating /Users/huangsizhe/WORKSPACE/Blog/Docs/Python/TutorialForPython/ipynbs/python性能优化/使用Cython优化python程序的性能/使用cython加速python源码/静态化python模块/tmpw9rfvum4/Users/huangsizhe/WORKSPACE/Blog/Docs/Python/TutorialForPython/ipynbs\n",
      "creating /Users/huangsizhe/WORKSPACE/Blog/Docs/Python/TutorialForPython/ipynbs/python性能优化/使用Cython优化python程序的性能/使用cython加速python源码/静态化python模块/tmpw9rfvum4/Users/huangsizhe/WORKSPACE/Blog/Docs/Python/TutorialForPython/ipynbs/python性能优化\n",
      "creating /Users/huangsizhe/WORKSPACE/Blog/Docs/Python/TutorialForPython/ipynbs/python性能优化/使用Cython优化python程序的性能/使用cython加速python源码/静态化python模块/tmpw9rfvum4/Users/huangsizhe/WORKSPACE/Blog/Docs/Python/TutorialForPython/ipynbs/python性能优化/使用Cython优化python程序的性能\n",
      "creating /Users/huangsizhe/WORKSPACE/Blog/Docs/Python/TutorialForPython/ipynbs/python性能优化/使用Cython优化python程序的性能/使用cython加速python源码/静态化python模块/tmpw9rfvum4/Users/huangsizhe/WORKSPACE/Blog/Docs/Python/TutorialForPython/ipynbs/python性能优化/使用Cython优化python程序的性能/使用cython加速python源码\n",
      "creating /Users/huangsizhe/WORKSPACE/Blog/Docs/Python/TutorialForPython/ipynbs/python性能优化/使用Cython优化python程序的性能/使用cython加速python源码/静态化python模块/tmpw9rfvum4/Users/huangsizhe/WORKSPACE/Blog/Docs/Python/TutorialForPython/ipynbs/python性能优化/使用Cython优化python程序的性能/使用cython加速python源码/静态化python模块\n",
      "gcc -DNDEBUG -g -fwrapv -O3 -Wall -Wstrict-prototypes -O2 -pipe -mcpu=arm1176jzf-s -mfpu=vfp -mfloat-abi=hard -w -I/Users/huangsizhe/LIB/CONDA/anaconda/include/python3.6m -c /Users/huangsizhe/WORKSPACE/Blog/Docs/Python/TutorialForPython/ipynbs/python性能优化/使用Cython优化python程序的性能/使用cython加速python源码/静态化python模块/logistic_B.c -o /Users/huangsizhe/WORKSPACE/Blog/Docs/Python/TutorialForPython/ipynbs/python性能优化/使用Cython优化python程序的性能/使用cython加速python源码/静态化python模块/tmpw9rfvum4/Users/huangsizhe/WORKSPACE/Blog/Docs/Python/TutorialForPython/ipynbs/python性能优化/使用Cython优化python程序的性能/使用cython加速python源码/静态化python模块/logistic_B.o\n",
      "gcc -bundle -undefined dynamic_lookup -Wl,-rpath,/Users/huangsizhe/LIB/CONDA/anaconda/lib -L/Users/huangsizhe/LIB/CONDA/anaconda/lib -headerpad_max_install_names -Wl,-rpath,/Users/huangsizhe/LIB/CONDA/anaconda/lib -L/Users/huangsizhe/LIB/CONDA/anaconda/lib -headerpad_max_install_names -O2 -pipe -mcpu=arm1176jzf-s -mfpu=vfp -mfloat-abi=hard -w -arch x86_64 /Users/huangsizhe/WORKSPACE/Blog/Docs/Python/TutorialForPython/ipynbs/python性能优化/使用Cython优化python程序的性能/使用cython加速python源码/静态化python模块/tmpw9rfvum4/Users/huangsizhe/WORKSPACE/Blog/Docs/Python/TutorialForPython/ipynbs/python性能优化/使用Cython优化python程序的性能/使用cython加速python源码/静态化python模块/logistic_B.o -L/Users/huangsizhe/LIB/CONDA/anaconda/lib -o /Users/huangsizhe/WORKSPACE/Blog/Docs/Python/TutorialForPython/ipynbs/python性能优化/使用Cython优化python程序的性能/使用cython加速python源码/静态化python模块/logistic_B.cpython-36m-darwin.so\n"
     ]
    }
   ],
   "source": [
    "!cythonize -i -3 logistic_B.pyx"
   ]
  },
  {
   "cell_type": "code",
   "execution_count": 3,
   "metadata": {},
   "outputs": [],
   "source": [
    "import logistic_B"
   ]
  },
  {
   "cell_type": "code",
   "execution_count": 4,
   "metadata": {},
   "outputs": [
    {
     "name": "stdout",
     "output_type": "stream",
     "text": [
      "299 ns ± 11.3 ns per loop (mean ± std. dev. of 7 runs, 1000000 loops each)\n"
     ]
    }
   ],
   "source": [
    "%timeit logistic_B.logistic(25)"
   ]
  },
  {
   "cell_type": "code",
   "execution_count": 1,
   "metadata": {},
   "outputs": [
    {
     "name": "stdout",
     "output_type": "stream",
     "text": [
      "Overwriting logistic_C.py\n"
     ]
    }
   ],
   "source": [
    "%%writefile logistic_C.py\n",
    "#cython: language_level=3\n",
    "import cython\n",
    "from math import exp\n",
    "if cython.compiled:\n",
    "    print(\"Yep, I'm compiled.\")\n",
    "else:\n",
    "    print(\"Just a lowly interpreted script.\")\n",
    "    \n",
    "@cython.boundscheck(False)\n",
    "@cython.ccall\n",
    "@cython.returns(cython.double)\n",
    "@cython.locals(x=cython.double)\n",
    "def logistic(x):\n",
    "    return 1/(1+exp(-x))"
   ]
  },
  {
   "cell_type": "code",
   "execution_count": 2,
   "metadata": {},
   "outputs": [
    {
     "name": "stdout",
     "output_type": "stream",
     "text": [
      "Compiling /Users/huangsizhe/WORKSPACE/Blog/Docs/Python/TutorialForPython/ipynbs/python性能优化/使用Cython优化python程序的性能/使用cython加速python源码/静态化python模块/logistic_C.py because it changed.\n",
      "[1/1] Cythonizing /Users/huangsizhe/WORKSPACE/Blog/Docs/Python/TutorialForPython/ipynbs/python性能优化/使用Cython优化python程序的性能/使用cython加速python源码/静态化python模块/logistic_C.py\n",
      "running build_ext\n",
      "building 'logistic_C' extension\n",
      "creating /Users/huangsizhe/WORKSPACE/Blog/Docs/Python/TutorialForPython/ipynbs/python性能优化/使用Cython优化python程序的性能/使用cython加速python源码/静态化python模块/tmpy87kng_s/Users\n",
      "creating /Users/huangsizhe/WORKSPACE/Blog/Docs/Python/TutorialForPython/ipynbs/python性能优化/使用Cython优化python程序的性能/使用cython加速python源码/静态化python模块/tmpy87kng_s/Users/huangsizhe\n",
      "creating /Users/huangsizhe/WORKSPACE/Blog/Docs/Python/TutorialForPython/ipynbs/python性能优化/使用Cython优化python程序的性能/使用cython加速python源码/静态化python模块/tmpy87kng_s/Users/huangsizhe/WORKSPACE\n",
      "creating /Users/huangsizhe/WORKSPACE/Blog/Docs/Python/TutorialForPython/ipynbs/python性能优化/使用Cython优化python程序的性能/使用cython加速python源码/静态化python模块/tmpy87kng_s/Users/huangsizhe/WORKSPACE/Blog\n",
      "creating /Users/huangsizhe/WORKSPACE/Blog/Docs/Python/TutorialForPython/ipynbs/python性能优化/使用Cython优化python程序的性能/使用cython加速python源码/静态化python模块/tmpy87kng_s/Users/huangsizhe/WORKSPACE/Blog/Docs\n",
      "creating /Users/huangsizhe/WORKSPACE/Blog/Docs/Python/TutorialForPython/ipynbs/python性能优化/使用Cython优化python程序的性能/使用cython加速python源码/静态化python模块/tmpy87kng_s/Users/huangsizhe/WORKSPACE/Blog/Docs/Python\n",
      "creating /Users/huangsizhe/WORKSPACE/Blog/Docs/Python/TutorialForPython/ipynbs/python性能优化/使用Cython优化python程序的性能/使用cython加速python源码/静态化python模块/tmpy87kng_s/Users/huangsizhe/WORKSPACE/Blog/Docs/Python/TutorialForPython\n",
      "creating /Users/huangsizhe/WORKSPACE/Blog/Docs/Python/TutorialForPython/ipynbs/python性能优化/使用Cython优化python程序的性能/使用cython加速python源码/静态化python模块/tmpy87kng_s/Users/huangsizhe/WORKSPACE/Blog/Docs/Python/TutorialForPython/ipynbs\n",
      "creating /Users/huangsizhe/WORKSPACE/Blog/Docs/Python/TutorialForPython/ipynbs/python性能优化/使用Cython优化python程序的性能/使用cython加速python源码/静态化python模块/tmpy87kng_s/Users/huangsizhe/WORKSPACE/Blog/Docs/Python/TutorialForPython/ipynbs/python性能优化\n",
      "creating /Users/huangsizhe/WORKSPACE/Blog/Docs/Python/TutorialForPython/ipynbs/python性能优化/使用Cython优化python程序的性能/使用cython加速python源码/静态化python模块/tmpy87kng_s/Users/huangsizhe/WORKSPACE/Blog/Docs/Python/TutorialForPython/ipynbs/python性能优化/使用Cython优化python程序的性能\n",
      "creating /Users/huangsizhe/WORKSPACE/Blog/Docs/Python/TutorialForPython/ipynbs/python性能优化/使用Cython优化python程序的性能/使用cython加速python源码/静态化python模块/tmpy87kng_s/Users/huangsizhe/WORKSPACE/Blog/Docs/Python/TutorialForPython/ipynbs/python性能优化/使用Cython优化python程序的性能/使用cython加速python源码\n",
      "creating /Users/huangsizhe/WORKSPACE/Blog/Docs/Python/TutorialForPython/ipynbs/python性能优化/使用Cython优化python程序的性能/使用cython加速python源码/静态化python模块/tmpy87kng_s/Users/huangsizhe/WORKSPACE/Blog/Docs/Python/TutorialForPython/ipynbs/python性能优化/使用Cython优化python程序的性能/使用cython加速python源码/静态化python模块\n",
      "gcc -DNDEBUG -g -fwrapv -O3 -Wall -Wstrict-prototypes -O2 -pipe -mcpu=arm1176jzf-s -mfpu=vfp -mfloat-abi=hard -w -I/Users/huangsizhe/LIB/CONDA/anaconda/include/python3.6m -c /Users/huangsizhe/WORKSPACE/Blog/Docs/Python/TutorialForPython/ipynbs/python性能优化/使用Cython优化python程序的性能/使用cython加速python源码/静态化python模块/logistic_C.c -o /Users/huangsizhe/WORKSPACE/Blog/Docs/Python/TutorialForPython/ipynbs/python性能优化/使用Cython优化python程序的性能/使用cython加速python源码/静态化python模块/tmpy87kng_s/Users/huangsizhe/WORKSPACE/Blog/Docs/Python/TutorialForPython/ipynbs/python性能优化/使用Cython优化python程序的性能/使用cython加速python源码/静态化python模块/logistic_C.o\n",
      "gcc -bundle -undefined dynamic_lookup -Wl,-rpath,/Users/huangsizhe/LIB/CONDA/anaconda/lib -L/Users/huangsizhe/LIB/CONDA/anaconda/lib -headerpad_max_install_names -Wl,-rpath,/Users/huangsizhe/LIB/CONDA/anaconda/lib -L/Users/huangsizhe/LIB/CONDA/anaconda/lib -headerpad_max_install_names -O2 -pipe -mcpu=arm1176jzf-s -mfpu=vfp -mfloat-abi=hard -w -arch x86_64 /Users/huangsizhe/WORKSPACE/Blog/Docs/Python/TutorialForPython/ipynbs/python性能优化/使用Cython优化python程序的性能/使用cython加速python源码/静态化python模块/tmpy87kng_s/Users/huangsizhe/WORKSPACE/Blog/Docs/Python/TutorialForPython/ipynbs/python性能优化/使用Cython优化python程序的性能/使用cython加速python源码/静态化python模块/logistic_C.o -L/Users/huangsizhe/LIB/CONDA/anaconda/lib -o /Users/huangsizhe/WORKSPACE/Blog/Docs/Python/TutorialForPython/ipynbs/python性能优化/使用Cython优化python程序的性能/使用cython加速python源码/静态化python模块/logistic_C.cpython-36m-darwin.so\n"
     ]
    }
   ],
   "source": [
    "!cythonize -i -3 logistic_C.py"
   ]
  },
  {
   "cell_type": "code",
   "execution_count": 3,
   "metadata": {},
   "outputs": [
    {
     "name": "stdout",
     "output_type": "stream",
     "text": [
      "Yep, I'm compiled.\n"
     ]
    }
   ],
   "source": [
    "import logistic_C"
   ]
  },
  {
   "cell_type": "code",
   "execution_count": 4,
   "metadata": {},
   "outputs": [
    {
     "name": "stdout",
     "output_type": "stream",
     "text": [
      "382 ns ± 70.5 ns per loop (mean ± std. dev. of 7 runs, 1000000 loops each)\n"
     ]
    }
   ],
   "source": [
    "%timeit logistic_C.logistic(25)"
   ]
  },
  {
   "cell_type": "code",
   "execution_count": null,
   "metadata": {},
   "outputs": [],
   "source": []
  }
 ],
 "metadata": {
  "kernelspec": {
   "display_name": "Python 3",
   "language": "python",
   "name": "python3"
  },
  "language_info": {
   "codemirror_mode": {
    "name": "ipython",
    "version": 3
   },
   "file_extension": ".py",
   "mimetype": "text/x-python",
   "name": "python",
   "nbconvert_exporter": "python",
   "pygments_lexer": "ipython3",
   "version": "3.6.4"
  }
 },
 "nbformat": 4,
 "nbformat_minor": 2
}
