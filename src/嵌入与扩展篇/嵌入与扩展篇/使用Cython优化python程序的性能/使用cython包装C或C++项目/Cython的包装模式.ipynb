{
 "cells": [
  {
   "cell_type": "markdown",
   "metadata": {},
   "source": [
    "# 用Cython包装C++代码\n",
    "\n",
    "Cython最大的作用其实是作为C/C++代码和python代码的桥梁,比如我们已经有一个C++写的程序了,但我们希望让python可以调用它,传统的做法是使用ctypes或者cffi作为桥,但这种方式需要有相当的C/C++知识.Cython的话基本可以无痛进行C++代码的包装,这是通过使用外部声明来声明库函数和要使用的库中的C函数来实现的.\n",
    "\n",
    "\n",
    "\n",
    "\n",
    "Cython现在原生的支持大多数的C++语法.\n",
    "尤其是:\n",
    "现在可以使用`new`和`del`关键字动态分配C++对象.\n",
    "\n",
    "+ C++对象可以进行堆栈分配\n",
    "+ C++类可以使用新的关键字`cppclass`声明\n",
    "+ 支持模板化类和函数\n",
    "+ 支持重载函数\n",
    "+ 支持C++操作符(例如operator +,operator [],...)的重载\n",
    "\n",
    "我们通过包装一个例子来看看cython是如何包装c/c++代码的\n",
    "\n",
    "## 封装步骤\n",
    "\n",
    "封装C/C++的步骤大致有如下几步:\n",
    "\n",
    "1. 在setup.py脚本中或在源文件中本地指定C ++语言。\n",
    "2. 使用`cdef extern from 头文件`创建一个或多个`.pxd`文件.在pxd文件中，以`cdef cppclass`来声明类并且声明公共名称(变量,方法和构造函数）\n",
    "3. 通过`cimport`引入`pxd`文件，进行`pxd`的实现代码，也就是`.pyx`文件。\n",
    "\n",
    "\n",
    "## 最简单的一个例子\n",
    "\n",
    "这个例子用来介绍Cython包装C/C++代码的步骤.例子是一个长方形类,C++代码部分如下:"
   ]
  },
  {
   "cell_type": "code",
   "execution_count": 1,
   "metadata": {
    "collapsed": true
   },
   "outputs": [],
   "source": [
    "%load_ext Cython"
   ]
  },
  {
   "cell_type": "code",
   "execution_count": 2,
   "metadata": {},
   "outputs": [
    {
     "name": "stdout",
     "output_type": "stream",
     "text": [
      "Overwriting Rectangle.h\n"
     ]
    }
   ],
   "source": [
    "%%writefile Rectangle.h\n",
    "\n",
    "namespace shapes {\n",
    "    class Rectangle {\n",
    "    public:\n",
    "        static int do_something();\n",
    "        int x0, y0, x1, y1;\n",
    "        Rectangle();\n",
    "        Rectangle(int x0, int y0, int x1, int y1);\n",
    "        ~Rectangle();\n",
    "        int getArea();\n",
    "        void getSize(int* width, int* height);\n",
    "        void move(int dx, int dy);\n",
    "    };\n",
    "}"
   ]
  },
  {
   "cell_type": "code",
   "execution_count": 3,
   "metadata": {
    "scrolled": true
   },
   "outputs": [
    {
     "name": "stdout",
     "output_type": "stream",
     "text": [
      "Overwriting Rectangle.cpp\n"
     ]
    }
   ],
   "source": [
    "%%writefile Rectangle.cpp\n",
    "#include \"Rectangle.h\"\n",
    "\n",
    "namespace shapes {\n",
    "\n",
    "  Rectangle::Rectangle() { }\n",
    "    int Rectangle::do_something(){\n",
    "        return 0;\n",
    "    }\n",
    "\n",
    "    Rectangle::Rectangle(int X0, int Y0, int X1, int Y1) {\n",
    "        x0 = X0;\n",
    "        y0 = Y0;\n",
    "        x1 = X1;\n",
    "        y1 = Y1;\n",
    "    }\n",
    "\n",
    "    Rectangle::~Rectangle() { }\n",
    "\n",
    "    int Rectangle::getArea() {\n",
    "        return (x1 - x0) * (y1 - y0);\n",
    "    }\n",
    "\n",
    "    void Rectangle::getSize(int *width, int *height) {\n",
    "        (*width) = x1 - x0;\n",
    "        (*height) = y1 - y0;\n",
    "    }\n",
    "\n",
    "    void Rectangle::move(int dx, int dy) {\n",
    "        x0 += dx;\n",
    "        y0 += dy;\n",
    "        x1 += dx;\n",
    "        y1 += dy;\n",
    "    }\n",
    "\n",
    "}"
   ]
  },
  {
   "cell_type": "markdown",
   "metadata": {},
   "source": [
    "## 用于包装的pyx文件\n",
    "\n",
    "要包装C++文件,我们得先在cython中声明出这个C++的类,在cython中申明C或者C++的内容(接口)需要使用`cdef extern from ....`这种语法(外部声明).\n",
    "\n",
    "在"
   ]
  },
  {
   "cell_type": "code",
   "execution_count": 4,
   "metadata": {},
   "outputs": [
    {
     "name": "stdout",
     "output_type": "stream",
     "text": [
      "Overwriting rect.pyx\n"
     ]
    }
   ],
   "source": [
    "%%writefile rect.pyx\n",
    "#cython: language_level=3\n",
    "# distutils: language = c++\n",
    "# distutils: sources = Rectangle.cpp\n",
    "\n",
    "\n",
    "cdef extern from \"Rectangle.h\" namespace \"shapes\":\n",
    "    cdef cppclass Rectangle:\n",
    "        Rectangle() except +\n",
    "        Rectangle(int, int, int, int) except +\n",
    "        int x0, y0, x1, y1\n",
    "        int getArea()\n",
    "        void getSize(int* width, int* height)\n",
    "        void move(int, int)\n",
    "        @staticmethod\n",
    "        int do_something()\n",
    "cdef class PyRectangle:\n",
    "    cdef Rectangle c_rect      # hold a C++ instance which we're wrapping\n",
    "    def __cinit__(self, int x0, int y0, int x1, int y1):\n",
    "        self.c_rect = Rectangle(x0, y0, x1, y1)\n",
    "    def get_area(self):\n",
    "        return self.c_rect.getArea()\n",
    "    def get_size(self):\n",
    "        cdef int width, height\n",
    "        self.c_rect.getSize(&width, &height)\n",
    "        return width, height\n",
    "    def move(self, dx, dy):\n",
    "        self.c_rect.move(dx, dy)\n",
    "    @staticmethod\n",
    "    def do_something():\n",
    "        return Rectangle.do_something()"
   ]
  },
  {
   "cell_type": "markdown",
   "metadata": {},
   "source": [
    "这样，我们就完成了C++的封装。而且从Python的开发角度来看，这个扩展类型看起来和感觉就像一个本地定义的Rectangle类。\n",
    "需要注意的是，如果我们需要额外的属性设置方法，可以自己再添加."
   ]
  },
  {
   "cell_type": "markdown",
   "metadata": {},
   "source": [
    "## setup.py的写法\n",
    "\n",
    "我们的setup.py和之前差不多的写法"
   ]
  },
  {
   "cell_type": "code",
   "execution_count": 5,
   "metadata": {},
   "outputs": [
    {
     "name": "stdout",
     "output_type": "stream",
     "text": [
      "Overwriting setup.py\n"
     ]
    }
   ],
   "source": [
    "%%writefile setup.py\n",
    "\n",
    "from distutils.core import setup\n",
    "from Cython.Build import cythonize\n",
    " \n",
    "setup(\n",
    "    name = \"rectangleapp\",\n",
    "    ext_modules = cythonize('*.pyx')\n",
    ")"
   ]
  },
  {
   "cell_type": "code",
   "execution_count": 6,
   "metadata": {
    "scrolled": true
   },
   "outputs": [
    {
     "name": "stdout",
     "output_type": "stream",
     "text": [
      "Compiling rect.pyx because it changed.\n",
      "[1/1] Cythonizing rect.pyx\n",
      "running build_ext\n",
      "building 'rect' extension\n",
      "C:\\Program Files (x86)\\Microsoft Visual Studio 14.0\\VC\\BIN\\x86_amd64\\cl.exe /c /nologo /Ox /W3 /GL /DNDEBUG /MD -IC:\\Users\\87\\Anaconda3\\include -IC:\\Users\\87\\Anaconda3\\include \"-IC:\\Program Files (x86)\\Microsoft Visual Studio 14.0\\VC\\INCLUDE\" \"-IC:\\Program Files (x86)\\Windows Kits\\10\\include\\10.0.10240.0\\ucrt\" \"-IC:\\Program Files (x86)\\Windows Kits\\8.1\\include\\shared\" \"-IC:\\Program Files (x86)\\Windows Kits\\8.1\\include\\um\" \"-IC:\\Program Files (x86)\\Windows Kits\\8.1\\include\\winrt\" /EHsc /Tprect.cpp /Fobuild\\temp.win-amd64-3.6\\Release\\rect.obj\n",
      "rect.cpp\n",
      "C:\\Program Files (x86)\\Microsoft Visual Studio 14.0\\VC\\BIN\\x86_amd64\\cl.exe /c /nologo /Ox /W3 /GL /DNDEBUG /MD -IC:\\Users\\87\\Anaconda3\\include -IC:\\Users\\87\\Anaconda3\\include \"-IC:\\Program Files (x86)\\Microsoft Visual Studio 14.0\\VC\\INCLUDE\" \"-IC:\\Program Files (x86)\\Windows Kits\\10\\include\\10.0.10240.0\\ucrt\" \"-IC:\\Program Files (x86)\\Windows Kits\\8.1\\include\\shared\" \"-IC:\\Program Files (x86)\\Windows Kits\\8.1\\include\\um\" \"-IC:\\Program Files (x86)\\Windows Kits\\8.1\\include\\winrt\" /EHsc /TpRectangle.cpp /Fobuild\\temp.win-amd64-3.6\\Release\\Rectangle.obj\n",
      "Rectangle.cpp\n",
      "C:\\Program Files (x86)\\Microsoft Visual Studio 14.0\\VC\\BIN\\x86_amd64\\link.exe /nologo /INCREMENTAL:NO /LTCG /DLL /MANIFEST:EMBED,ID=2 /MANIFESTUAC:NO /LIBPATH:C:\\Users\\87\\Anaconda3\\libs /LIBPATH:C:\\Users\\87\\Anaconda3\\PCbuild\\amd64 \"/LIBPATH:C:\\Program Files (x86)\\Microsoft Visual Studio 14.0\\VC\\LIB\\amd64\" \"/LIBPATH:C:\\Program Files (x86)\\Windows Kits\\10\\lib\\10.0.10240.0\\ucrt\\x64\" \"/LIBPATH:C:\\Program Files (x86)\\Windows Kits\\8.1\\lib\\winv6.3\\um\\x64\" /EXPORT:PyInit_rect build\\temp.win-amd64-3.6\\Release\\rect.obj build\\temp.win-amd64-3.6\\Release\\Rectangle.obj /OUT:C:\\Users\\87\\Documents\\GitHub\\my\\TutorialForPython\\ipynbs\\python性能优化\\Cython的包装模式\\rect.cp36-win_amd64.pyd /IMPLIB:build\\temp.win-amd64-3.6\\Release\\rect.cp36-win_amd64.lib\n",
      "rect.obj : warning LNK4197: export 'PyInit_rect' specified multiple times; using first specification\n",
      "   Creating library build\\temp.win-amd64-3.6\\Release\\rect.cp36-win_amd64.lib and object build\\temp.win-amd64-3.6\\Release\\rect.cp36-win_amd64.exp\n",
      "Generating code\n",
      "Finished generating code\n"
     ]
    }
   ],
   "source": [
    "!python setup.py build_ext --inplace"
   ]
  },
  {
   "cell_type": "code",
   "execution_count": 7,
   "metadata": {
    "collapsed": true
   },
   "outputs": [],
   "source": [
    "import rect"
   ]
  },
  {
   "cell_type": "code",
   "execution_count": 8,
   "metadata": {},
   "outputs": [
    {
     "name": "stdout",
     "output_type": "stream",
     "text": [
      "size: width = 200, height = 400\n"
     ]
    }
   ],
   "source": [
    "pyRect = rect.PyRectangle(100, 100, 300, 500)\n",
    "width, height = pyRect.get_size()\n",
    "print(\"size: width = %d, height = %d\" % (width, height))"
   ]
  },
  {
   "cell_type": "code",
   "execution_count": 9,
   "metadata": {},
   "outputs": [
    {
     "data": {
      "text/plain": [
       "80000"
      ]
     },
     "execution_count": 9,
     "metadata": {},
     "output_type": "execute_result"
    }
   ],
   "source": [
    "pyRect.get_area()"
   ]
  },
  {
   "cell_type": "code",
   "execution_count": 10,
   "metadata": {},
   "outputs": [
    {
     "data": {
      "text/plain": [
       "0"
      ]
     },
     "execution_count": 10,
     "metadata": {},
     "output_type": "execute_result"
    }
   ],
   "source": [
    "pyRect.do_something()"
   ]
  },
  {
   "cell_type": "markdown",
   "metadata": {},
   "source": [
    "## 外部声明\n",
    "\n",
    "默认情况下,在模块级声明的C函数和变量对模块是本地的(即它们具有C静态存储类).它们也可以声明为extern，以指定它们在其他位置定义，例如：\n",
    "\n",
    "```cython\n",
    "cdef extern int spam_counter\n",
    " \n",
    "cdef extern void order_spam(int tons)\n",
    "```"
   ]
  },
  {
   "cell_type": "markdown",
   "metadata": {},
   "source": [
    "Cython包装C/C++就是依赖这种外部申明"
   ]
  },
  {
   "cell_type": "markdown",
   "metadata": {},
   "source": [
    "## 引用头文件\n",
    "\n",
    "当你使用一个extern定义时，Cython在生成的C文件中包含一个声明.如果声明与其他C代码将看不到的声明不完全匹配，这可能会导致问题.例如，如果要封装现有的C库，那么生成的C代码必须与库的其余部分具有完全相同的声明.\n",
    "\n",
    "为了实现这一点，你可以告诉Cython声明将在C头文件中找到，如下所示：\n",
    "\n",
    "```cython\n",
    "cdef extern from \"spam.h\":\n",
    " \n",
    "    int spam_counter\n",
    " \n",
    "    void order_spam(int tons)\n",
    "```\n",
    "\n",
    "引用头文件用于引入C/C++中的声明,但我们依然需要手动将其中被声明的内容用cython语法重新写一遍,这样cython才可以识别.\n",
    "\n",
    "这个`cdef extern`代码块定义了如下三件事情：\n",
    "\n",
    "+ 它指示Cython为生成的C代码中的命名头文件放置一个#include语句.\n",
    "+ 它阻止Cython为相关块中的声明生成任何C代码\n",
    "+ 它处理块中的所有声明，就像它们以cdef extern开头\n",
    "\n",
    "重要的是要理解Cython本身不读取C头文件，所以你仍然需要提供Cython版本你要使用的声明.然而，Cython声明并不总是必须完全匹配C，在某些情况下，它们不应该或不能。尤其是：\n",
    "\n",
    "+ 不要使用任何平台特定的C语言扩展，例如`__declspec()`\n",
    "+ 如果头文件声明一个大结构，并且你只想使用几个成员，你只需要声明你感兴趣的成员.留下余下的没有任何危害，因为C编译器将使用头文件中的完整定义.\n",
    "\n",
    "    在某些情况下，你可能不需要任何struct的成员，在这种情况下，你可以只传递在struct声明的主体，例如：\n",
    "\n",
    "    ```cython\n",
    "    cdef extern from \"foo.h\":\n",
    "        struct spam:\n",
    "            pass\n",
    "    ```\n",
    "\n",
    "    注意：你只能在一个cdef extern从块里面这样做;任何其他地方的struct声明必须是非空的。\n",
    "\n",
    "+ 如果头文件使用`typedef`名称（如word）来引用与平台相关的数值类型的风格，则需要一个相应的`ctypedef`语句，但不需要完全匹配类型,只是使用一些正确的一般类型(int，float等).\n",
    "    例如：\n",
    "    ```cython\n",
    "    ctypedef int word\n",
    "\n",
    "    ```\n",
    "    将工作正常无论实际大小的单词是(提供的头文件正确定义它).与Python类型(如果有)之间的转换也将用于此新类型.\n",
    "    \n",
    "+ 如果头文件使用宏来定义常量，则将它们转换为正常的外部变量声明。如果它们包含正常的int值，也可以将它们声明为枚举。请注意，Cython认为枚举等同于int，因此不要对非int值执行此操作.\n",
    "\n",
    "+ 如果头文件使用宏定义了一个函数，那么声明它就像是一个普通的函数，具有适当的参数和结果类型\n",
    "\n",
    "    如果你想包含一个C头，因为它是另一个头需要的，但不想使用它的任何声明，在extern-from块中放入pass关键字：\n",
    "    ```cython\n",
    "    cdef extern from \"spam.h\":\n",
    "        pass\n",
    "    ```\n",
    "    如果要包括系统标题，请在引号中加上尖括号：\n",
    "    ```cython\n",
    "    cdef extern from \"<sysheader.h>\":\n",
    "        ...\n",
    "    ```\n",
    "    如果你想包含一些外部声明，但不想指定一个头文件（因为它包含了你已经包含的其他头文件），你可以用*代替头文件名：\n",
    "    ```cython\n",
    "    cdef extern from *:\n",
    "        ...\n",
    "    ```"
   ]
  },
  {
   "cell_type": "markdown",
   "metadata": {},
   "source": [
    "## 在C/C++中实现\n",
    "\n",
    "另一种简单的写法是直接使用外部声明声明C/C++实现"
   ]
  },
  {
   "cell_type": "code",
   "execution_count": 11,
   "metadata": {},
   "outputs": [
    {
     "name": "stdout",
     "output_type": "stream",
     "text": [
      "Overwriting spam.c\n"
     ]
    }
   ],
   "source": [
    "%%writefile spam.c\n",
    "\n",
    "#include <stdio.h>\n",
    "static int order_spam(int tons)\n",
    "{\n",
    "    printf(\"Ordered %i tons of spam!\\n\", tons);\n",
    "    return tons;\n",
    "}"
   ]
  },
  {
   "cell_type": "code",
   "execution_count": 12,
   "metadata": {},
   "outputs": [
    {
     "name": "stdout",
     "output_type": "stream",
     "text": [
      "Overwriting pyspam.pyx\n"
     ]
    }
   ],
   "source": [
    "%%writefile pyspam.pyx\n",
    "\n",
    "cdef extern from \"spam.c\":\n",
    "    int order_spam(int tons)\n",
    "\n",
    "cpdef pyorder_spam(int tons):\n",
    "    return order_spam(tons)"
   ]
  },
  {
   "cell_type": "code",
   "execution_count": 13,
   "metadata": {
    "scrolled": true
   },
   "outputs": [
    {
     "name": "stdout",
     "output_type": "stream",
     "text": [
      "Overwriting setup.py\n"
     ]
    }
   ],
   "source": [
    "%%writefile setup.py\n",
    "\n",
    "from distutils.core import setup\n",
    "from Cython.Build import cythonize\n",
    " \n",
    "setup(\n",
    "    name = \"pyspam\",\n",
    "    ext_modules = cythonize('pyspam.pyx')\n",
    ")"
   ]
  },
  {
   "cell_type": "code",
   "execution_count": 14,
   "metadata": {
    "scrolled": false
   },
   "outputs": [
    {
     "name": "stdout",
     "output_type": "stream",
     "text": [
      "Compiling pyspam.pyx because it changed.\n",
      "[1/1] Cythonizing pyspam.pyx\n",
      "running build_ext\n",
      "building 'pyspam' extension\n",
      "C:\\Program Files (x86)\\Microsoft Visual Studio 14.0\\VC\\BIN\\x86_amd64\\cl.exe /c /nologo /Ox /W3 /GL /DNDEBUG /MD -IC:\\Users\\87\\Anaconda3\\include -IC:\\Users\\87\\Anaconda3\\include \"-IC:\\Program Files (x86)\\Microsoft Visual Studio 14.0\\VC\\INCLUDE\" \"-IC:\\Program Files (x86)\\Windows Kits\\10\\include\\10.0.10240.0\\ucrt\" \"-IC:\\Program Files (x86)\\Windows Kits\\8.1\\include\\shared\" \"-IC:\\Program Files (x86)\\Windows Kits\\8.1\\include\\um\" \"-IC:\\Program Files (x86)\\Windows Kits\\8.1\\include\\winrt\" /Tcpyspam.c /Fobuild\\temp.win-amd64-3.6\\Release\\pyspam.obj\n",
      "pyspam.c\n",
      "C:\\Program Files (x86)\\Microsoft Visual Studio 14.0\\VC\\BIN\\x86_amd64\\link.exe /nologo /INCREMENTAL:NO /LTCG /DLL /MANIFEST:EMBED,ID=2 /MANIFESTUAC:NO /LIBPATH:C:\\Users\\87\\Anaconda3\\libs /LIBPATH:C:\\Users\\87\\Anaconda3\\PCbuild\\amd64 \"/LIBPATH:C:\\Program Files (x86)\\Microsoft Visual Studio 14.0\\VC\\LIB\\amd64\" \"/LIBPATH:C:\\Program Files (x86)\\Windows Kits\\10\\lib\\10.0.10240.0\\ucrt\\x64\" \"/LIBPATH:C:\\Program Files (x86)\\Windows Kits\\8.1\\lib\\winv6.3\\um\\x64\" /EXPORT:PyInit_pyspam build\\temp.win-amd64-3.6\\Release\\pyspam.obj /OUT:C:\\Users\\87\\Documents\\GitHub\\my\\TutorialForPython\\ipynbs\\python性能优化\\Cython的包装模式\\pyspam.cp36-win_amd64.pyd /IMPLIB:build\\temp.win-amd64-3.6\\Release\\pyspam.cp36-win_amd64.lib\n",
      "pyspam.obj : warning LNK4197: export 'PyInit_pyspam' specified multiple times; using first specification\n",
      "   Creating library build\\temp.win-amd64-3.6\\Release\\pyspam.cp36-win_amd64.lib and object build\\temp.win-amd64-3.6\\Release\\pyspam.cp36-win_amd64.exp\n",
      "Generating code\n",
      "Finished generating code\n"
     ]
    }
   ],
   "source": [
    "!python setup.py build_ext --inplace"
   ]
  },
  {
   "cell_type": "code",
   "execution_count": 15,
   "metadata": {
    "collapsed": true
   },
   "outputs": [],
   "source": [
    "import pyspam"
   ]
  },
  {
   "cell_type": "code",
   "execution_count": 16,
   "metadata": {},
   "outputs": [
    {
     "data": {
      "text/plain": [
       "1"
      ]
     },
     "execution_count": 16,
     "metadata": {},
     "output_type": "execute_result"
    }
   ],
   "source": [
    "pyspam.pyorder_spam(1)"
   ]
  },
  {
   "cell_type": "markdown",
   "metadata": {},
   "source": [
    "需要注意的是这种方式函数必须是`static`"
   ]
  },
  {
   "cell_type": "markdown",
   "metadata": {},
   "source": [
    "## 结构，联合和枚举声明的样式\n",
    "\n",
    "在C头文件中可以使用两种主要方法来声明结构，联合和枚举：\n",
    "\n",
    "+ 使用标签名称\n",
    "+ 使用typedef\n",
    "\n",
    "基于这些的各种组合也存在一些变化.重要的是使Cython声明与头文件中使用的样式相匹配,以便Cython能够对其生成的代码中的类型发出正确的引用.\n",
    "为了实现这一点,Cython提供了两种不同的语法来声明结构,联合或枚举类型.上面介绍的样式对应于标签名的使用.要获得另一个样式,您需要在声明前面加上`ctypedef`,如下图所示.\n",
    "下表显示了可以在头文件中找到的各种可能的样式，以及应该放在`cdef extern from`块中的相应Cython声明。用结构体声明作为例子;这同样适用于联合和枚举声明.\n",
    "\n",
    "![](source/cythonCextern.png)"
   ]
  },
  {
   "cell_type": "markdown",
   "metadata": {},
   "source": [
    "## 静态成员方法\n",
    "\n",
    "如果开头我们定义的C++类Rectangle类具有静态成员,那么如上面的做法..就像python中一样,使用`@staticmethod`装饰器装饰对应的成员方法即可"
   ]
  },
  {
   "cell_type": "markdown",
   "metadata": {},
   "source": [
    "## 运算符重载\n",
    "\n",
    "这个例子是一个vector2d,实现了加和乘.\n"
   ]
  },
  {
   "cell_type": "code",
   "execution_count": 17,
   "metadata": {},
   "outputs": [
    {
     "name": "stdout",
     "output_type": "stream",
     "text": [
      "Overwriting vector2d.h\n"
     ]
    }
   ],
   "source": [
    "%%writefile vector2d.h\n",
    "\n",
    "namespace algebra {\n",
    "    class Vec2d {\n",
    "    public:\n",
    "        double x, y;\n",
    "        Vec2d();\n",
    "        Vec2d(double x, double y);\n",
    "        ~Vec2d();\n",
    "        Vec2d operator+(const Vec2d& b);\n",
    "        Vec2d operator*(double k);\n",
    "        \n",
    "    };\n",
    "}"
   ]
  },
  {
   "cell_type": "code",
   "execution_count": 18,
   "metadata": {},
   "outputs": [
    {
     "name": "stdout",
     "output_type": "stream",
     "text": [
      "Overwriting vector2d.cpp\n"
     ]
    }
   ],
   "source": [
    "%%writefile vector2d.cpp\n",
    "#include \"vector2d.h\"\n",
    "\n",
    "namespace algebra {\n",
    "\n",
    "    Vec2d::Vec2d() {\n",
    "        x=0;\n",
    "        y=0;\n",
    "    }\n",
    "\n",
    "    Vec2d::Vec2d(double x, double y) {\n",
    "        this->x = x;\n",
    "        this->y = y;\n",
    "    }\n",
    "\n",
    "    Vec2d::~Vec2d() { }\n",
    "    \n",
    "    Vec2d Vec2d::operator+(const Vec2d& other){\n",
    "\n",
    "        Vec2d r = Vec2d(this->x+other.x,this->y+other.y);\n",
    "        return r;\n",
    "    }\n",
    "    Vec2d Vec2d::operator*(double k){\n",
    "        Vec2d r = Vec2d(this->x*k,this->y*k);\n",
    "        return r;\n",
    "    }\n",
    "}"
   ]
  },
  {
   "cell_type": "code",
   "execution_count": 19,
   "metadata": {},
   "outputs": [
    {
     "name": "stdout",
     "output_type": "stream",
     "text": [
      "Overwriting vec2d_main.cpp\n"
     ]
    }
   ],
   "source": [
    "%%writefile vec2d_main.cpp\n",
    "#include \"vector2d.h\"\n",
    "#include <iostream>\n",
    "using algebra::Vec2d;\n",
    "using std::cout;\n",
    "using std::endl;\n",
    "        \n",
    "int main(){\n",
    "    Vec2d v1 = Vec2d(2.1,2.2);\n",
    "    Vec2d v2 = Vec2d(2.3,2.4);\n",
    "    Vec2d v3 = v1+v2;\n",
    "    cout << v3.x<<endl;\n",
    "    cout << v3.y<<endl;\n",
    "}"
   ]
  },
  {
   "cell_type": "code",
   "execution_count": 121,
   "metadata": {},
   "outputs": [],
   "source": [
    "!g++-7 -o a.out vec2d_main.cpp vector2d.cpp "
   ]
  },
  {
   "cell_type": "code",
   "execution_count": 122,
   "metadata": {},
   "outputs": [
    {
     "name": "stdout",
     "output_type": "stream",
     "text": [
      "4.4\r\n",
      "4.6\r\n"
     ]
    }
   ],
   "source": [
    "!./a.out"
   ]
  },
  {
   "cell_type": "code",
   "execution_count": 23,
   "metadata": {},
   "outputs": [
    {
     "name": "stdout",
     "output_type": "stream",
     "text": [
      "Overwriting vec2d.pyx\n"
     ]
    }
   ],
   "source": [
    "%%writefile vec2d.pyx\n",
    "#cython: language_level=3\n",
    "# distutils: language = c++\n",
    "# distutils: sources = vector2d.cpp\n",
    "\n",
    "\n",
    "cdef extern from \"vector2d.h\" namespace \"algebra\":\n",
    "    cdef cppclass Vec2d:\n",
    "        Vec2d() except +\n",
    "        Vec2d(double, double) except +\n",
    "        double x, y\n",
    "        Vec2d operator+(Vec2d)\n",
    "        Vec2d operator*(float)\n",
    "\n",
    "cdef class PyVec2d:\n",
    "    cdef Vec2d c_vec2d      # hold a C++ instance which we're wrapping\n",
    "    def __cinit__(self, float x, float y):\n",
    "        self.c_vec2d = Vec2d(x, y)\n",
    "    @property\n",
    "    def x(self):\n",
    "        return self.c_vec2d.x\n",
    "    @property\n",
    "    def y(self):\n",
    "        return self.c_vec2d.y\n",
    "    \n",
    "    cpdef add(self,PyVec2d other):\n",
    "        cdef Vec2d c\n",
    "        c = self.c_vec2d+other.c_vec2d\n",
    "        return PyVec2d(c.x,c.y)\n",
    "    \n",
    "    cpdef mul(self,float k):\n",
    "        cdef Vec2d c\n",
    "        c = self.c_vec2d*k\n",
    "        return PyVec2d(c.x,c.y)\n",
    "    \n",
    "    def __add__(self,PyVec2d other):\n",
    "        return self.add(other)\n",
    "    \n",
    "    def __mul__(self,float k):\n",
    "        return self.mul(k)\n",
    "    "
   ]
  },
  {
   "cell_type": "code",
   "execution_count": 24,
   "metadata": {},
   "outputs": [
    {
     "name": "stdout",
     "output_type": "stream",
     "text": [
      "Overwriting setup.py\n"
     ]
    }
   ],
   "source": [
    "%%writefile setup.py\n",
    "\n",
    "from distutils.core import setup\n",
    "from Cython.Build import cythonize\n",
    " \n",
    "setup(\n",
    "    name = \"vec2dapp\",\n",
    "    ext_modules = cythonize('vec2d.pyx')\n",
    ")"
   ]
  },
  {
   "cell_type": "code",
   "execution_count": 25,
   "metadata": {},
   "outputs": [
    {
     "name": "stdout",
     "output_type": "stream",
     "text": [
      "Compiling vec2d.pyx because it changed.\n",
      "[1/1] Cythonizing vec2d.pyx\n",
      "running build_ext\n",
      "building 'vec2d' extension\n",
      "C:\\Program Files (x86)\\Microsoft Visual Studio 14.0\\VC\\BIN\\x86_amd64\\cl.exe /c /nologo /Ox /W3 /GL /DNDEBUG /MD -IC:\\Users\\87\\Anaconda3\\include -IC:\\Users\\87\\Anaconda3\\include \"-IC:\\Program Files (x86)\\Microsoft Visual Studio 14.0\\VC\\INCLUDE\" \"-IC:\\Program Files (x86)\\Windows Kits\\10\\include\\10.0.10240.0\\ucrt\" \"-IC:\\Program Files (x86)\\Windows Kits\\8.1\\include\\shared\" \"-IC:\\Program Files (x86)\\Windows Kits\\8.1\\include\\um\" \"-IC:\\Program Files (x86)\\Windows Kits\\8.1\\include\\winrt\" /EHsc /Tpvec2d.cpp /Fobuild\\temp.win-amd64-3.6\\Release\\vec2d.obj\n",
      "vec2d.cpp\n",
      "C:\\Program Files (x86)\\Microsoft Visual Studio 14.0\\VC\\BIN\\x86_amd64\\cl.exe /c /nologo /Ox /W3 /GL /DNDEBUG /MD -IC:\\Users\\87\\Anaconda3\\include -IC:\\Users\\87\\Anaconda3\\include \"-IC:\\Program Files (x86)\\Microsoft Visual Studio 14.0\\VC\\INCLUDE\" \"-IC:\\Program Files (x86)\\Windows Kits\\10\\include\\10.0.10240.0\\ucrt\" \"-IC:\\Program Files (x86)\\Windows Kits\\8.1\\include\\shared\" \"-IC:\\Program Files (x86)\\Windows Kits\\8.1\\include\\um\" \"-IC:\\Program Files (x86)\\Windows Kits\\8.1\\include\\winrt\" /EHsc /Tpvector2d.cpp /Fobuild\\temp.win-amd64-3.6\\Release\\vector2d.obj\n",
      "vector2d.cpp\n",
      "C:\\Program Files (x86)\\Microsoft Visual Studio 14.0\\VC\\BIN\\x86_amd64\\link.exe /nologo /INCREMENTAL:NO /LTCG /DLL /MANIFEST:EMBED,ID=2 /MANIFESTUAC:NO /LIBPATH:C:\\Users\\87\\Anaconda3\\libs /LIBPATH:C:\\Users\\87\\Anaconda3\\PCbuild\\amd64 \"/LIBPATH:C:\\Program Files (x86)\\Microsoft Visual Studio 14.0\\VC\\LIB\\amd64\" \"/LIBPATH:C:\\Program Files (x86)\\Windows Kits\\10\\lib\\10.0.10240.0\\ucrt\\x64\" \"/LIBPATH:C:\\Program Files (x86)\\Windows Kits\\8.1\\lib\\winv6.3\\um\\x64\" /EXPORT:PyInit_vec2d build\\temp.win-amd64-3.6\\Release\\vec2d.obj build\\temp.win-amd64-3.6\\Release\\vector2d.obj /OUT:C:\\Users\\87\\Documents\\GitHub\\my\\TutorialForPython\\ipynbs\\python性能优化\\Cython的包装模式\\vec2d.cp36-win_amd64.pyd /IMPLIB:build\\temp.win-amd64-3.6\\Release\\vec2d.cp36-win_amd64.lib\n",
      "vec2d.obj : warning LNK4197: export 'PyInit_vec2d' specified multiple times; using first specification\n",
      "   Creating library build\\temp.win-amd64-3.6\\Release\\vec2d.cp36-win_amd64.lib and object build\\temp.win-amd64-3.6\\Release\\vec2d.cp36-win_amd64.exp\n",
      "Generating code\n",
      "Finished generating code\n"
     ]
    }
   ],
   "source": [
    "!python setup.py build_ext --inplace"
   ]
  },
  {
   "cell_type": "code",
   "execution_count": 26,
   "metadata": {
    "collapsed": true
   },
   "outputs": [],
   "source": [
    "import vec2d"
   ]
  },
  {
   "cell_type": "code",
   "execution_count": 27,
   "metadata": {
    "collapsed": true
   },
   "outputs": [],
   "source": [
    "v1 = vec2d.PyVec2d(2.1,2.2)"
   ]
  },
  {
   "cell_type": "code",
   "execution_count": 28,
   "metadata": {
    "collapsed": true
   },
   "outputs": [],
   "source": [
    "v2 = vec2d.PyVec2d(2.3,2.4)"
   ]
  },
  {
   "cell_type": "code",
   "execution_count": 29,
   "metadata": {},
   "outputs": [
    {
     "data": {
      "text/plain": [
       "4.399999618530273"
      ]
     },
     "execution_count": 29,
     "metadata": {},
     "output_type": "execute_result"
    }
   ],
   "source": [
    "(v1+v2).x"
   ]
  },
  {
   "cell_type": "markdown",
   "metadata": {
    "collapsed": true
   },
   "source": [
    "## 模板\n",
    "\n",
    "Cython使用括号语法进行模板化。下面是一个包装C ++ Vector的简单示例"
   ]
  },
  {
   "cell_type": "code",
   "execution_count": 30,
   "metadata": {},
   "outputs": [
    {
     "name": "stdout",
     "output_type": "stream",
     "text": [
      "0\n",
      "1\n",
      "2\n",
      "3\n",
      "4\n",
      "5\n",
      "6\n",
      "7\n",
      "8\n",
      "9\n"
     ]
    }
   ],
   "source": [
    "%%cython\n",
    "#cython: language_level=3\n",
    "# distutils: language = c++\n",
    "# import dereference and increment operators\n",
    "from cython.operator cimport dereference as deref, preincrement as inc\n",
    " \n",
    "cdef extern from \"<vector>\" namespace \"std\":\n",
    "    cdef cppclass vector[T]:\n",
    "        cppclass iterator:\n",
    "            T operator*()\n",
    "            iterator operator++()\n",
    "            bint operator==(iterator)\n",
    "            bint operator!=(iterator)\n",
    "        vector()\n",
    "        void push_back(T&)\n",
    "        T& operator[](int)\n",
    "        T& at(int)\n",
    "        iterator begin()\n",
    "        iterator end()\n",
    " \n",
    "cdef vector[int] *v = new vector[int]()\n",
    "cdef int i\n",
    "for i in range(10):\n",
    "    v.push_back(i)\n",
    " \n",
    "cdef vector[int].iterator it = v.begin()\n",
    "while it != v.end():\n",
    "    print(deref(it))\n",
    "    inc(it)\n",
    " \n",
    "del v"
   ]
  },
  {
   "cell_type": "markdown",
   "metadata": {},
   "source": [
    "多个模板参数可以定义为列表，如`[T，U，V]`或`[int，bool，char]`.可以通过写入`[T，U，V = *]`来指示可选的模板参数.\n",
    "\n",
    "如果Cython需要显式引用不完整模板实例化的默认模板参数的类型,它将编写`MyClass <T，U> :: V`，所以如果类为其模板参数提供了`typedef`，那么最好在这里使用该名称.\n",
    "\n",
    "模板函数的定义与类模板类似，模板参数列表跟随函数名称："
   ]
  },
  {
   "cell_type": "code",
   "execution_count": 31,
   "metadata": {},
   "outputs": [
    {
     "name": "stdout",
     "output_type": "stream",
     "text": [
      "4\n",
      "2.5\n"
     ]
    }
   ],
   "source": [
    "%%cython\n",
    "# cython: language_level=3\n",
    "# distutils: language = c++\n",
    "cdef extern from \"<algorithm>\" namespace \"std\":\n",
    "    T max[T](T a, T b)\n",
    " \n",
    "print(max[long](3, 4))\n",
    "print(max(1.5, 2.5))  # simple template argument deduction"
   ]
  },
  {
   "cell_type": "markdown",
   "metadata": {},
   "source": [
    "### 使用默认构造函数简化包装\n",
    "\n",
    "如果扩展类型使用默认构造函数(不传递任何参数)来实例化包装的C++类，则可以通过将其直接绑定到Python包装器对象的生命周期来简化生命周期处理。取代声明一个指针，我们可以声明一个实例"
   ]
  },
  {
   "cell_type": "code",
   "execution_count": 32,
   "metadata": {
    "collapsed": true
   },
   "outputs": [],
   "source": [
    "%%cython\n",
    "#cython: language_level=3\n",
    "# distutils: language = c++\n",
    "from libcpp.vector cimport vector\n",
    "cdef class VectorStack:\n",
    "    cdef vector[int] v\n",
    " \n",
    "    def push(self, x):\n",
    "        self.v.push_back(x)\n",
    " \n",
    "    def pop(self):\n",
    "        if self.v.empty():\n",
    "            raise IndexError()\n",
    "        x = self.v.back()\n",
    "        self.v.pop_back()\n",
    "        return x"
   ]
  },
  {
   "cell_type": "code",
   "execution_count": 33,
   "metadata": {},
   "outputs": [],
   "source": [
    "v = VectorStack()"
   ]
  },
  {
   "cell_type": "code",
   "execution_count": 34,
   "metadata": {
    "collapsed": true
   },
   "outputs": [],
   "source": [
    "v.push(10)"
   ]
  },
  {
   "cell_type": "code",
   "execution_count": 35,
   "metadata": {
    "collapsed": true
   },
   "outputs": [],
   "source": [
    "v.push(120)"
   ]
  },
  {
   "cell_type": "code",
   "execution_count": 36,
   "metadata": {},
   "outputs": [
    {
     "data": {
      "text/plain": [
       "120"
      ]
     },
     "execution_count": 36,
     "metadata": {},
     "output_type": "execute_result"
    }
   ],
   "source": [
    "v.pop()"
   ]
  },
  {
   "cell_type": "code",
   "execution_count": 37,
   "metadata": {},
   "outputs": [
    {
     "data": {
      "text/plain": [
       "10"
      ]
     },
     "execution_count": 37,
     "metadata": {},
     "output_type": "execute_result"
    }
   ],
   "source": [
    "v.pop()"
   ]
  },
  {
   "cell_type": "markdown",
   "metadata": {},
   "source": [
    "当Python对象被创建时，Cython将自动生成实例化C ++对象实例的代码，并在Python对象被垃圾回收时将其删除。"
   ]
  },
  {
   "cell_type": "markdown",
   "metadata": {},
   "source": [
    "### 异常Exception处理\n",
    "\n",
    "\n",
    "Cython不能抛出C++异常,或者使用try-except语句来捕获它们,但是有可能通过在声明函数时在其后加上`except +`来声明一个函数可能引发C++异常并将其转换为Python异常.例如长方体例子中的\n",
    "```cython\n",
    "Rectangle() except +\n",
    "Rectangle(int, int, int, int) except +\n",
    "```\n",
    "\n",
    "这将将try和C++错误翻译成适当的Python异常。根据下表执行翻译（C++标识符中省略了std ::前缀）：\n",
    "\n",
    "\n",
    "C++异常|\tPython异常\n",
    "---|---\n",
    "bad_alloc\t|MemoryError\n",
    "bad_cast\t|TypeError\n",
    "bad_typeid\t|TypeError\n",
    "domain_error\t|ValueError\n",
    "invalid_argument\t|ValueError\n",
    "ios_base::failure\t|IOError\n",
    "out_of_range\t|IndexError\n",
    "overflow_error\t|OverflowError\n",
    "range_error\t|ArithmeticError\n",
    "underflow_error|\tArithmeticError\n",
    "(all others)\t|RuntimeError\n",
    "\n",
    "如果`except +`后面加上指定的python错误类型,则会将捕获到的C++异常转化为指定的python错误\n",
    "\n",
    "```cython\n",
    "cdef int bar() except +MemoryError\n",
    "```\n",
    "\n",
    "就会指定bar()函数报错后转化为`MemoryError`\n",
    "\n",
    "\n",
    "同时也可以通过实现一个函数来指定捕获的错误转化为何种python异常\n",
    "\n",
    "```cython\n",
    "\n",
    "cdef int raise_py_error()\n",
    "cdef int something_dangerous() except +raise_py_error\n",
    "```\n",
    "\n",
    "如果有不可预知的错误代码引发了一个C++异常，那么`raise_py_error`将被调用，这允许一个人自定义`C++`到Python的错误“translations”.如果`raise_py_error`实际上并不引发一个异常，则会引发一个`RuntimeError`."
   ]
  }
 ],
 "metadata": {
  "kernelspec": {
   "display_name": "Python 3",
   "language": "python",
   "name": "python3"
  },
  "language_info": {
   "codemirror_mode": {
    "name": "ipython",
    "version": 3
   },
   "file_extension": ".py",
   "mimetype": "text/x-python",
   "name": "python",
   "nbconvert_exporter": "python",
   "pygments_lexer": "ipython3",
   "version": "3.6.4"
  }
 },
 "nbformat": 4,
 "nbformat_minor": 2
}
