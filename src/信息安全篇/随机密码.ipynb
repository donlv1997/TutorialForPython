{
 "cells": [
  {
   "cell_type": "markdown",
   "metadata": {},
   "source": [
    "# 随机密码[3.6]\n",
    "\n",
    "\n",
    "我们肯定碰到过这种情况--我们登上了一个网站(某个app)但是我们忘记了密码,然后我们就自然的用其他各个网站(app)最常用密码(通常是名字缩写和生日的组合)来碰,往往这还挺奏效.\n",
    "\n",
    "实际上不法分子也往往利用[社会工程学](https://baike.baidu.com/item/%E7%A4%BE%E4%BC%9A%E5%B7%A5%E7%A8%8B%E5%AD%A6/2136830?fr=aladdin)获取到一些用户本人的信息,然后用这种方式破解.\n",
    "\n",
    "也有一些网站会有意无意的暴露用户的信息,如果有网站暴露了客户的密码而你的密码也被暴露了,那不法分子就可以用这些暴露了的账号密码来尝试各种网站从而窃取你的财产.\n",
    "\n",
    "有没有什么办法可以防止这种情况呢?\n",
    "\n",
    "这个问题归根到底是要解决如何辨识\"你就是你\"这个问题,在密码学中认为有三类要素可以确认\"你就是你\":\n",
    "\n",
    "1. 你知道的要素,比如密码、暗号等等.这件事只有你知道别人不知道\n",
    "\n",
    "2. 你拥有的要素,一把钥匙、一块手表、一件信物等等.这件东西只有你有别人没有.\n",
    "\n",
    "3. 你的生理要素如指纹、面部特征、DNA等等.这些生理特征每个人都不一样\n",
    "\n",
    "本文则是讲的第一种方式--密码,但带入一个限制条件--不能使用基于个人信息组合构建密码.其实思路标题已经说了,就是使用随机字符串\n",
    "\n",
    "自python3.6起标准库中新增了一个模块[secrets](https://docs.python.org/3/library/secrets.html)它可以实现这一功能.\n",
    "\n",
    "secrets实际上是random库的扩展,提供了更加便捷的接口"
   ]
  },
  {
   "cell_type": "code",
   "execution_count": 1,
   "metadata": {},
   "outputs": [],
   "source": [
    "import secrets"
   ]
  },
  {
   "cell_type": "markdown",
   "metadata": {},
   "source": [
    "## 在一个序列中随机挑选一个元素"
   ]
  },
  {
   "cell_type": "code",
   "execution_count": 2,
   "metadata": {},
   "outputs": [
    {
     "data": {
      "text/plain": [
       "'a'"
      ]
     },
     "execution_count": 2,
     "metadata": {},
     "output_type": "execute_result"
    }
   ],
   "source": [
    "secrets.choice([\"a\",\"b\",\"z\"])"
   ]
  },
  {
   "cell_type": "markdown",
   "metadata": {},
   "source": [
    "## 在0到n的范围内随机抽取一个整数"
   ]
  },
  {
   "cell_type": "code",
   "execution_count": 3,
   "metadata": {},
   "outputs": [
    {
     "data": {
      "text/plain": [
       "7"
      ]
     },
     "execution_count": 3,
     "metadata": {},
     "output_type": "execute_result"
    }
   ],
   "source": [
    "secrets.randbelow(10)"
   ]
  },
  {
   "cell_type": "markdown",
   "metadata": {},
   "source": [
    "## 给出一个bit长度,生成一个其范围内的整数"
   ]
  },
  {
   "cell_type": "code",
   "execution_count": 8,
   "metadata": {},
   "outputs": [
    {
     "data": {
      "text/plain": [
       "True"
      ]
     },
     "execution_count": 8,
     "metadata": {},
     "output_type": "execute_result"
    }
   ],
   "source": [
    "secrets.randbits(8)<2**8"
   ]
  },
  {
   "cell_type": "markdown",
   "metadata": {},
   "source": [
    "## 随机生成指定长度的一串字节串"
   ]
  },
  {
   "cell_type": "code",
   "execution_count": 9,
   "metadata": {},
   "outputs": [
    {
     "data": {
      "text/plain": [
       "b'j\\xe6\\x8c\\xa4t\\x8e'"
      ]
     },
     "execution_count": 9,
     "metadata": {},
     "output_type": "execute_result"
    }
   ],
   "source": [
    "secrets.token_bytes(nbytes=6)"
   ]
  },
  {
   "cell_type": "markdown",
   "metadata": {},
   "source": [
    "## 随机生成指定长度的一串16进制字符串"
   ]
  },
  {
   "cell_type": "code",
   "execution_count": 10,
   "metadata": {},
   "outputs": [
    {
     "data": {
      "text/plain": [
       "'3ae15acc5b2e'"
      ]
     },
     "execution_count": 10,
     "metadata": {},
     "output_type": "execute_result"
    }
   ],
   "source": [
    "secrets.token_hex(nbytes=6)"
   ]
  },
  {
   "cell_type": "markdown",
   "metadata": {},
   "source": [
    "## 随机成成指定长度的一串url安全的字符串"
   ]
  },
  {
   "cell_type": "code",
   "execution_count": 13,
   "metadata": {},
   "outputs": [
    {
     "data": {
      "text/plain": [
       "'e5GQiGWC-0tPYdA7'"
      ]
     },
     "execution_count": 13,
     "metadata": {},
     "output_type": "execute_result"
    }
   ],
   "source": [
    "secrets.token_urlsafe(12)"
   ]
  }
 ],
 "metadata": {
  "kernelspec": {
   "display_name": "Python 3",
   "language": "python",
   "name": "python3"
  },
  "language_info": {
   "codemirror_mode": {
    "name": "ipython",
    "version": 3
   },
   "file_extension": ".py",
   "mimetype": "text/x-python",
   "name": "python",
   "nbconvert_exporter": "python",
   "pygments_lexer": "ipython3",
   "version": "3.7.2"
  }
 },
 "nbformat": 4,
 "nbformat_minor": 2
}
