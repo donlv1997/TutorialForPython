{
 "cells": [
  {
   "cell_type": "markdown",
   "metadata": {},
   "source": [
    "# 命令行工具\n",
    "\n",
    "计算机最基础的应用就是命令行工具了,众所周知的linux便是因为拥有shell和一众方便好用的命令行工具而备受程序员和geek喜欢.\n",
    "\n",
    "这种交互方式优缺点都很显而易见,因此喜欢的人非常喜欢,不喜欢的人非常不喜欢.\n",
    "\n",
    "## 优点\n",
    "\n",
    "+ 功能简单单一,使用灵活\n",
    "    一般命令行工具都是很小巧简单,专注只做一件事\n",
    "+ 形式统一,对开发人员更友好\n",
    "    命令行工具只接收固定的参数运作,以一问一答的形式或者指派开始进程,指派结束进程的方式与人交互,几乎可以说没有太多的交互可言,因此便于开发\n",
    "+ 便于自动化\n",
    "    可以通过脚本将多个工具串联实现复杂功能\n",
    "\n",
    "## 缺点\n",
    "\n",
    "+ 交互不友好\n",
    "    命令行工具几乎没有交互可言,因此看起来比较丑陋而且不连贯\n",
    "\n",
    "+ 选择困难\n",
    "    对于一般不熟悉的用户,众多的工具会让人无从下手\n",
    "\n",
    "+ 跨平台学习成本高\n",
    "    linux,windows都有各自的系统接口和语言环境,他们往往并不通用,因此工具可移植性比较差,不同平台要记不同的命令增加了学习成本.\n",
    "\n",
    "\n",
    "## 使用脚本语言编写命令行工具\n",
    "\n",
    "静态语言编写命令行工具虽然便于分发,但写起来太过费事因此往往不是快速开发最好的选择\n",
    "现在的很多工具都是用脚本语言写的,为了让脚本语言写的工具用起来像静态语言编写的那样,不用声明使用的是什么解释器,\n",
    "在unix和它的衍生平台上,我们常在脚本开头写上比如:\n",
    "\n",
    "```python\n",
    "#!/usr/bin/env python\n",
    "```\n",
    "\n",
    "这样的标识,这叫[Shebang (Unix)](https://zh.wikipedia.org/wiki/Shebang),\n",
    "之后再使用`chmod +x <name>`为全局赋予执行权限,或者使用`chmod u+x <name>`为当前用户提供执行权限.\n",
    "\n",
    "而在windows上,我们可以通过后缀选择运行的工具.\n"
   ]
  },
  {
   "cell_type": "markdown",
   "metadata": {},
   "source": [
    "# 使用python编写命令行工具\n",
    "\n",
    "python的简易语法和很多很\"魔法\"的语言工具,非常适合编写命令行工具.其标准库就已经提供了足够好用的命令行参数解析工具,而社区很多有才的开发者又设计了许多对开发人员更加友好的同类工具,本文将对几个典型的工具做说明."
   ]
  },
  {
   "cell_type": "markdown",
   "metadata": {},
   "source": [
    "## 标准库中的命令行解析工具(argparse)\n",
    "\n",
    "python标准库中的argparse模块是官方推荐的命令行工具.它可以解析命令行参数,可以生成次级菜单等\n",
    "\n",
    "### 基本命令\n",
    "\n",
    "argparse模块的命令可以归结为就3条\n",
    "\n",
    "#### `parser = argparse.ArgumentParser(prog=None, usage=None, description=None, epilog=None, parents=[], formatter_class=argparse.HelpFormatter, prefix_chars='-', fromfile_prefix_chars=None, argument_default=None, conflict_handler='error', add_help=True)`  \n",
    "\n",
    "创建命令行解析对象\n",
    "\n",
    "其中的参数:\n",
    "+ prog - 程序的名字（默认：sys.argv[0]）\n",
    "+ usage - 描述程序用法的字符串（默认：从解析器的参数生成）\n",
    "+ description - 参数帮助信息之前的文本（默认：空）\n",
    "+ epilog - 参数帮助信息之后的文本（默认：空）\n",
    "+ parents - ArgumentParser 对象的一个列表，这些对象的参数应该包括进去\n",
    "    \n",
    "    像有时候需要解析非常复杂的关键字参数,比如像git那样的,\n",
    "    \n",
    "    \n",
    "\n",
    "\n"
   ]
  },
  {
   "cell_type": "code",
   "execution_count": 1,
   "metadata": {},
   "outputs": [],
   "source": [
    "import argparse"
   ]
  },
  {
   "cell_type": "code",
   "execution_count": 2,
   "metadata": {},
   "outputs": [
    {
     "data": {
      "text/plain": [
       "Namespace(foo='XXX', parent=2)"
      ]
     },
     "execution_count": 2,
     "metadata": {},
     "output_type": "execute_result"
    }
   ],
   "source": [
    "parent_parser = argparse.ArgumentParser(add_help=False)\n",
    "parent_parser.add_argument('--parent', type=int)\n",
    "\n",
    "foo_parser = argparse.ArgumentParser(parents=[parent_parser])\n",
    "foo_parser.add_argument('foo')\n",
    "foo_parser.parse_args(['--parent', '2', 'XXX'])\n"
   ]
  },
  {
   "cell_type": "code",
   "execution_count": 3,
   "metadata": {},
   "outputs": [
    {
     "data": {
      "text/plain": [
       "Namespace(bar='YYY', parent=None)"
      ]
     },
     "execution_count": 3,
     "metadata": {},
     "output_type": "execute_result"
    }
   ],
   "source": [
    "bar_parser = argparse.ArgumentParser(parents=[parent_parser])\n",
    "bar_parser.add_argument('--bar')\n",
    "bar_parser.parse_args(['--bar', 'YYY'])\n"
   ]
  },
  {
   "cell_type": "markdown",
   "metadata": {},
   "source": [
    "+ formatter_class - 定制化帮助信息的类\n",
    "+ prefix_chars - 可选参数的前缀字符集（默认：‘-‘）\n",
    "+ fromfile_prefix_chars - 额外的参数应该读取的文件的前缀字符集（默认：None）\n",
    "+ argument_default - 参数的全局默认值（默认：None）\n",
    "+ conflict_handler - 解决冲突的可选参数的策略（通常没有必要）\n",
    "+ add_help - 给解析器添加-h/–help 选项（默认：True） \n"
   ]
  },
  {
   "cell_type": "markdown",
   "metadata": {},
   "source": [
    "#### `parser.add_argument(name or flags...[, action][, nargs][, const][, default][, type][, choices][, required][, help][, metavar][, dest])` \n",
    "\n",
    "增加命令行参数,方法的参数说明如下:\n",
    "+ name or flags\n",
    "    命令行参数名或者选项，如上面的address或者-p,--port.其中命令行参数如果没给定，且没有设置defualt，则出错。但是如果是选项的话，则设置为None,add_argument() 方法必须知道期望的是可选参数，比如-f 或者--foo，还是位置参数，比如一个文件列表。传递给add_argument() 的第一个参数因此必须是一个标记序列或者一个简单的参数名字。例如，一个可选的参数可以像这样创建：\n",
    "\n",
    "+ action\n",
    "    action 关键字参数指出应该如何处理命令行参数。支持的动作有:\n",
    "    \n",
    "    + 'store' - 只是保存参数的值。这是默认的动作\n",
    "    \n",
    "    + 'store_const' - 保存由const关键字参数指出的值。（注意const关键字参数默认是几乎没有帮助的None。）'store_const'动作最常用于指定某种标记的可选参数\n",
    "\n",
    "    + 'store_true'和'store_false' - 它们是'store_const' 的特殊情形，分别用于保存值True和False。另外，它们分别会创建默认值False 和True。\n",
    "    + 'append' - 保存一个列表，并将每个参数值附加在列表的后面。这对于允许指定多次的选项很有帮助。示例用法：\n",
    "\n",
    "    + 'append_const' - 保存一个列表，并将const关键字参数指出的值附加在列表的后面。（注意const关键字参数默认是None。）'append_const' 动作在多个参数需要保存常量到相同的列表时特别有用。例如：\n",
    "\n",
    "    + 'count' - 计算关键字参数出现的次数。例如，这可用于增加详细的级别：\n",
    "\n",
    "    + 'help' - 打印当前解析器中所有选项的完整的帮助信息然后退出。默认情况下，help动作会自动添加到解析器中。参见ArgumentParser以得到如何生成输出信息。\n",
    "\n",
    "    + 'version' - 它期待version=参数出现在add_argument()调用中，在调用时打印出版本信息并退出：\n",
    "\n",
    "+ nargs\n",
    "    命令行参数的个数，一般使用通配符表示，其中，`'?'`表示只用一个，`'*'`表示0到多个，`'+'`表示至少一个\n",
    "+ default\n",
    "    默认值\n",
    "+ type\n",
    "    参数的类型，默认是字符串string类型，还有float、int,file等类型\n",
    "    \n",
    "+ choices\n",
    "    可以看做是default的扩展,参数的值必须在choices的范围内\n",
    "    \n",
    "+ required\n",
    "    一般情况下，argparse模块假定-f和--bar标记表示可选参数，它们在命令行中可以省略。如果要使得选项是必需的，可以指定True作为required=关键字参数的值给add_argument()\n",
    "    \n",
    "+ help\n",
    "    和ArgumentParser方法中的参数作用相似，出现的场合也一致\n",
    "\n",
    "\n",
    "#### `parser.parse_args()` \n",
    "\n",
    "执行解析命令行参数\n",
    "\n",
    "### 一个简单的例子\n",
    "\n",
    "我们来写一个实现求整数开根的命令行工具,它有`--help(-h)`和`--version(-v)`两个参数信息\n",
    "\n",
    "代码如下:"
   ]
  },
  {
   "cell_type": "code",
   "execution_count": 13,
   "metadata": {},
   "outputs": [
    {
     "name": "stdout",
     "output_type": "stream",
     "text": [
      "Writing src/python/std/sqrt_std.py\n"
     ]
    }
   ],
   "source": [
    "%%writefile src/python/std/sqrt_std.py\n",
    "#!/usr/bin/env python\n",
    "# -*- coding:utf-8 -*-\n",
    "\n",
    "from __future__ import print_function\n",
    "import argparse\n",
    "from math import sqrt\n",
    "__version__=\"0.1.0\"\n",
    "\n",
    "def sqrtarg(number):\n",
    "    return sqrt(number)\n",
    "\n",
    "def version():\n",
    "    return \"version:\"+__version__\n",
    "\n",
    "def main():\n",
    "    parser = argparse.ArgumentParser()\n",
    "    parser.add_argument(\"number\", type=int, help=u\"求开根的参数\")\n",
    "    parser.add_argument(\"-v\",\"--version\", help=u\"查看版本号\",action=\"store_true\")\n",
    "\n",
    "    args = parser.parse_args()\n",
    "    \n",
    "    if args.version:\n",
    "        print(version())\n",
    "    if args.number:\n",
    "        print(sqrtarg(args.number))\n",
    "\n",
    "if __name__ == '__main__':\n",
    "    main()"
   ]
  },
  {
   "cell_type": "code",
   "execution_count": 14,
   "metadata": {},
   "outputs": [
    {
     "name": "stdout",
     "output_type": "stream",
     "text": [
      "usage: sqrt_std.py [-h] [-v] number\r\n",
      "sqrt_std.py: error: the following arguments are required: number\r\n"
     ]
    }
   ],
   "source": [
    "!python src/python/std/sqrt_std.py"
   ]
  },
  {
   "cell_type": "code",
   "execution_count": 15,
   "metadata": {},
   "outputs": [
    {
     "name": "stdout",
     "output_type": "stream",
     "text": [
      "usage: sqrt_std.py [-h] [-v] number\r\n",
      "\r\n",
      "positional arguments:\r\n",
      "  number         求开根的参数\r\n",
      "\r\n",
      "optional arguments:\r\n",
      "  -h, --help     show this help message and exit\r\n",
      "  -v, --version  查看版本号\r\n"
     ]
    }
   ],
   "source": [
    "!python src/python/std/sqrt_std.py -h"
   ]
  },
  {
   "cell_type": "code",
   "execution_count": 16,
   "metadata": {},
   "outputs": [
    {
     "name": "stdout",
     "output_type": "stream",
     "text": [
      "6.0\r\n"
     ]
    }
   ],
   "source": [
    "!python src/python/std/sqrt_std.py 36"
   ]
  },
  {
   "cell_type": "markdown",
   "metadata": {},
   "source": [
    "### 运行细节\n",
    "\n",
    "1. type参数只是类型检验,传入的参数还是字符串\n",
    "\n",
    "2. 不需要写usage\n",
    "\n",
    "3. 有nargs参数的话获取的对应是一个list\n",
    "\n",
    "4. 参数传入实际上是被存入了一个namespace的空间中这个空间有俩参数,其中一个是方法名命名的一个list,要调用使用即可:\n",
    "    \n",
    "        args.方法名\n",
    "5. 如果参数中有只能接受一个的情况,可以加入判断\n",
    "\n",
    "        if args.methodname1 == args.methodname1:  \n",
    "            print 'usage: ' + __file__ + ' --help'  \n",
    "            sys.exit(2)  \n",
    "  \n",
    "\n",
    "    来判断两个参数,要么都存在， 要么都不存在， 即可满足要求  \n"
   ]
  },
  {
   "cell_type": "markdown",
   "metadata": {},
   "source": [
    "### 子解析\n",
    "\n",
    "如果要写一个类似git那样复杂的有子命令如add,push pull等的工具,单单用上面的解析工具是不够的,需要使用`add_subparsers([title][, description][, prog][, parser_class][, action][, option_string][, dest][, help][, metavar])`命令\n",
    "\n",
    "其中:\n",
    "+ title - 在输出的帮助中子解析器组的标题；默认情况下，如果提供description参数则为“subcommands”，否则使用位置参数的标题\n",
    "+ description - 在输出的帮助中子解析器组的描述，默认为None\n",
    "+ prog - 与子命令的帮助一起显示的使用帮助信息，默认为程序的名字和子解析器参数之前的所有位置参数\n",
    "+ parser_class - 用于创建子解析器实例的类，默认为当前的解析器（例如ArgumentParser）\n",
    "+ dest - 子命令的名字应该存储的属性名称；默认为None且不存储任何值\n",
    "+ help - 在输出的帮助中子解析器中的帮助信息，默认为None\n",
    "+ metavar - 在帮助中表示可用的子命令的字符串；默认为None并以{cmd1, cmd2, ..}的形式表示子命令"
   ]
  },
  {
   "cell_type": "code",
   "execution_count": 17,
   "metadata": {},
   "outputs": [
    {
     "data": {
      "text/plain": [
       "Namespace(bar=12, foo=False)"
      ]
     },
     "execution_count": 17,
     "metadata": {},
     "output_type": "execute_result"
    }
   ],
   "source": [
    "parser = argparse.ArgumentParser()\n",
    "parser.add_argument('--foo', action='store_true', help='foo help')\n",
    "\n",
    "subparsers = parser.add_subparsers(help='sub-command help')\n",
    "parser_a = subparsers.add_parser('a', help='a help')\n",
    "parser_a.add_argument('bar', type=int, help='bar help')\n",
    "\n",
    "parser_b = subparsers.add_parser('b', help='b help')\n",
    "parser_b.add_argument('--baz', choices='XYZ', help='baz help')\n",
    "parser.parse_args(['a', '12'])"
   ]
  },
  {
   "cell_type": "code",
   "execution_count": 18,
   "metadata": {},
   "outputs": [
    {
     "data": {
      "text/plain": [
       "Namespace(baz='Z', foo=True)"
      ]
     },
     "execution_count": 18,
     "metadata": {},
     "output_type": "execute_result"
    }
   ],
   "source": [
    "parser.parse_args(['--foo', 'b', '--baz', 'Z'])"
   ]
  },
  {
   "cell_type": "markdown",
   "metadata": {},
   "source": [
    "处理子命令的一个特别有效的方法是将add_subparsers()方法和set_defaults() 调用绑在一起使用，这样每个子命令就可以知道它应该执行哪个Python 函数。例如："
   ]
  },
  {
   "cell_type": "code",
   "execution_count": 19,
   "metadata": {},
   "outputs": [],
   "source": [
    "def foo(args):\n",
    "    print(args.x * args.y)\n",
    "def bar(args):\n",
    "    print('((%s))' % args.z)"
   ]
  },
  {
   "cell_type": "code",
   "execution_count": 20,
   "metadata": {},
   "outputs": [],
   "source": [
    "parser = argparse.ArgumentParser()\n",
    "subparsers = parser.add_subparsers()\n",
    "\n",
    "parser_foo = subparsers.add_parser('foo')\n",
    "parser_foo.add_argument('-x', type=int, default=1)\n",
    "parser_foo.add_argument('y', type=float)\n",
    "parser_foo.set_defaults(func=foo)\n",
    "\n",
    "parser_bar = subparsers.add_parser('bar')\n",
    "parser_bar.add_argument('z')\n",
    "parser_bar.set_defaults(func=bar)\n"
   ]
  },
  {
   "cell_type": "code",
   "execution_count": 21,
   "metadata": {},
   "outputs": [
    {
     "data": {
      "text/plain": [
       "Namespace(func=<function foo at 0x11085f620>, x=2, y=1.0)"
      ]
     },
     "execution_count": 21,
     "metadata": {},
     "output_type": "execute_result"
    }
   ],
   "source": [
    "args = parser.parse_args('foo 1 -x 2'.split())\n",
    "args"
   ]
  },
  {
   "cell_type": "code",
   "execution_count": 22,
   "metadata": {},
   "outputs": [
    {
     "name": "stdout",
     "output_type": "stream",
     "text": [
      "2.0\n"
     ]
    }
   ],
   "source": [
    "args.func(args)"
   ]
  },
  {
   "cell_type": "code",
   "execution_count": 23,
   "metadata": {},
   "outputs": [
    {
     "data": {
      "text/plain": [
       "Namespace(func=<function bar at 0x11085f730>, z='XYZYX')"
      ]
     },
     "execution_count": 23,
     "metadata": {},
     "output_type": "execute_result"
    }
   ],
   "source": [
    "args = parser.parse_args('bar XYZYX'.split())\n",
    "args"
   ]
  },
  {
   "cell_type": "code",
   "execution_count": 24,
   "metadata": {},
   "outputs": [
    {
     "name": "stdout",
     "output_type": "stream",
     "text": [
      "((XYZYX))\n"
     ]
    }
   ],
   "source": [
    "args.func(args)"
   ]
  },
  {
   "cell_type": "markdown",
   "metadata": {},
   "source": [
    "这样的话，你可以让parse_args()在参数解析完成之后去做调用适当的函数的工作。像这种方式将函数和动作关联起来是最简单的方法来处理你每个子命令的不同动作。然而，如果需要检查调用的子命令的名字，用dest关键字参数调用add_subparsers()就行"
   ]
  },
  {
   "cell_type": "code",
   "execution_count": 25,
   "metadata": {},
   "outputs": [
    {
     "data": {
      "text/plain": [
       "Namespace(subparser_name='2', y='frobble')"
      ]
     },
     "execution_count": 25,
     "metadata": {},
     "output_type": "execute_result"
    }
   ],
   "source": [
    "parser = argparse.ArgumentParser()\n",
    "subparsers = parser.add_subparsers(dest='subparser_name')\n",
    "subparser1 = subparsers.add_parser('1')\n",
    "subparser1.add_argument('-x')\n",
    "subparser2 = subparsers.add_parser('2')\n",
    "subparser2.add_argument('y')\n",
    "parser.parse_args(['2', 'frobble'])"
   ]
  },
  {
   "cell_type": "markdown",
   "metadata": {},
   "source": [
    "### 参数分组\n",
    "\n",
    "很多时候参数是相互配合使用的,这就可以用`add_argument_group(title=None, description=None)`分组"
   ]
  },
  {
   "cell_type": "code",
   "execution_count": 26,
   "metadata": {},
   "outputs": [
    {
     "data": {
      "text/plain": [
       "_StoreAction(option_strings=['--bar'], dest='bar', nargs=None, const=None, default=None, type=None, choices=None, help='bar help', metavar=None)"
      ]
     },
     "execution_count": 26,
     "metadata": {},
     "output_type": "execute_result"
    }
   ],
   "source": [
    "parser = argparse.ArgumentParser(prog='PROG', add_help=False)\n",
    "group1 = parser.add_argument_group('group1', 'group1 description')\n",
    "group1.add_argument('foo', help='foo help')\n",
    "group2 = parser.add_argument_group('group2', 'group2 description')\n",
    "group2.add_argument('--bar', help='bar help')"
   ]
  },
  {
   "cell_type": "code",
   "execution_count": 27,
   "metadata": {},
   "outputs": [
    {
     "name": "stdout",
     "output_type": "stream",
     "text": [
      "usage: PROG [--bar BAR] foo\n",
      "\n",
      "group1:\n",
      "  group1 description\n",
      "\n",
      "  foo        foo help\n",
      "\n",
      "group2:\n",
      "  group2 description\n",
      "\n",
      "  --bar BAR  bar help\n"
     ]
    }
   ],
   "source": [
    "parser.print_help()"
   ]
  },
  {
   "cell_type": "markdown",
   "metadata": {},
   "source": [
    "要一组参数互斥,可以使用`add_mutually_exclusive_group(required=False)`\n",
    "\n",
    "required 参数，用于指示互斥分组中至少有一个参数是必需的"
   ]
  },
  {
   "cell_type": "code",
   "execution_count": 28,
   "metadata": {},
   "outputs": [
    {
     "name": "stderr",
     "output_type": "stream",
     "text": [
      "usage: PROG [-h] (--foo | --bar)\n",
      "PROG: error: argument --bar: not allowed with argument --foo\n"
     ]
    },
    {
     "ename": "SystemExit",
     "evalue": "2",
     "output_type": "error",
     "traceback": [
      "An exception has occurred, use %tb to see the full traceback.\n",
      "\u001b[0;31mSystemExit\u001b[0m\u001b[0;31m:\u001b[0m 2\n"
     ]
    },
    {
     "name": "stderr",
     "output_type": "stream",
     "text": [
      "/Users/huangsizhe/anaconda3/lib/python3.6/site-packages/IPython/core/interactiveshell.py:2918: UserWarning: To exit: use 'exit', 'quit', or Ctrl-D.\n",
      "  warn(\"To exit: use 'exit', 'quit', or Ctrl-D.\", stacklevel=1)\n"
     ]
    }
   ],
   "source": [
    "parser = argparse.ArgumentParser(prog='PROG')\n",
    "group = parser.add_mutually_exclusive_group(required=True)\n",
    "group.add_argument('--foo', action='store_true')\n",
    "group.add_argument('--bar', action='store_false')\n",
    "parser.parse_args([\"--foo\",\"--bar\"])"
   ]
  },
  {
   "cell_type": "code",
   "execution_count": 29,
   "metadata": {},
   "outputs": [
    {
     "name": "stderr",
     "output_type": "stream",
     "text": [
      "usage: PROG [-h] (--foo | --bar)\n",
      "PROG: error: one of the arguments --foo --bar is required\n"
     ]
    },
    {
     "ename": "SystemExit",
     "evalue": "2",
     "output_type": "error",
     "traceback": [
      "An exception has occurred, use %tb to see the full traceback.\n",
      "\u001b[0;31mSystemExit\u001b[0m\u001b[0;31m:\u001b[0m 2\n"
     ]
    },
    {
     "name": "stderr",
     "output_type": "stream",
     "text": [
      "/Users/huangsizhe/anaconda3/lib/python3.6/site-packages/IPython/core/interactiveshell.py:2918: UserWarning: To exit: use 'exit', 'quit', or Ctrl-D.\n",
      "  warn(\"To exit: use 'exit', 'quit', or Ctrl-D.\", stacklevel=1)\n"
     ]
    }
   ],
   "source": [
    "parser.parse_args([])"
   ]
  },
  {
   "cell_type": "code",
   "execution_count": 30,
   "metadata": {},
   "outputs": [
    {
     "data": {
      "text/plain": [
       "Namespace(bar=True, foo=True)"
      ]
     },
     "execution_count": 30,
     "metadata": {},
     "output_type": "execute_result"
    }
   ],
   "source": [
    "parser.parse_args([\"--foo\"])"
   ]
  },
  {
   "cell_type": "markdown",
   "metadata": {},
   "source": [
    "### 多级子命令\n",
    "\n",
    "如果我们的命令行工具有更加复杂的子命令解析需求,那么我们可以使用如下的方式做扩展:\n",
    "\n",
    "```python\n",
    "\n",
    "class Command:\n",
    "\n",
    "    def __init__(self, argv):\n",
    "        parser = argparse.ArgumentParser(\n",
    "            description='xxxxxx',\n",
    "            usage='''xxxx <command> [<args>]\n",
    "\n",
    "The most commonly used xxx commands are:\n",
    "\n",
    "   clean       clean a project\n",
    "   install     install a package\n",
    "\n",
    "   \n",
    "''')\n",
    "        parser.add_argument('command', help='Subcommand to run')\n",
    "        # parse_args defaults to [1:] for args, but you need to\n",
    "        # exclude the rest of the args too, or validation will fail\n",
    "        self.argv = argv\n",
    "        args = parser.parse_args(argv[0:1])\n",
    "        if not hasattr(self, args.command):\n",
    "            print('Unrecognized command')\n",
    "            parser.print_help()\n",
    "            exit(1)\n",
    "        # use dispatch pattern to invoke method with same name\n",
    "        getattr(self, args.command)()\n",
    "\n",
    "\n",
    "    def clean(self):\n",
    "        parser = argparse.ArgumentParser(\n",
    "            description='clean a project')\n",
    "        parser.add_argument(\n",
    "            '-A', '--all', action='store_true')\n",
    "        parser.set_defaults(func=clean)\n",
    "        args = parser.parse_args(self.argv[1:])\n",
    "        args.func(args)\n",
    "\n",
    "    def install(self):\n",
    "        parser = argparse.ArgumentParser(\n",
    "            description='install a package for this project')\n",
    "        parser.add_argument('packages', nargs='?', type=str, default=\"DEFAULT\")\n",
    "        parser.add_argument(\n",
    "            '-D', '--dev', action='store_true')\n",
    "        parser.add_argument(\n",
    "            '-T', '--test', action='store_true')\n",
    "        parser.add_argument(\n",
    "            '-A', '--all', action='store_true')\n",
    "        parser.set_defaults(func=install)\n",
    "        args = parser.parse_args(self.argv[1:])\n",
    "        args.func(args)\n",
    "        print(\"install done!\")\n",
    "        \n",
    "def main(argv: Sequence[str]=sys.argv[1:]):\n",
    "    Command(argv)\n",
    "```"
   ]
  },
  {
   "cell_type": "markdown",
   "metadata": {},
   "source": [
    "### 更加pythonic的替代品\n",
    "\n",
    "实话说python的标准库还是比较有C/C++语言的风格残留的,而现如今的python代码风格会更加'魔法'一些,会用到比较多的装饰器工具.\n",
    "[click](http://click.pocoo.org/)就是一个比较符合现在python编程风格的工具.它是一个比较重的命令行解析工具,它还包括了参数类型检验等复杂的功能,很适合构建复杂的命令行工具.不过命令行工具做的太复杂就不太符合它的定位了,因此这边不多讲.\n",
    "\n",
    "他的用法也不复杂,使用python的装饰器声明参数,并自动构建帮助文档,具体的细节可以看官方文档.\n",
    "\n"
   ]
  },
  {
   "cell_type": "markdown",
   "metadata": {},
   "source": [
    "## 所见即所得的命令行的工具(docopt)\n",
    "\n",
    "[docopt](https://github.com/docopt/docopt)的特色是利用文件的`__doc__`,解析命令行参数构建参数组成的字典来自动识别.它可以使用pip安装,并完全支持pypy\n",
    "\n",
    "我们用docopt改写上面的开方工具"
   ]
  },
  {
   "cell_type": "code",
   "execution_count": 35,
   "metadata": {},
   "outputs": [
    {
     "name": "stdout",
     "output_type": "stream",
     "text": [
      "Writing src/python/doc/sqrt_doc.py\n"
     ]
    }
   ],
   "source": [
    "%%writefile src/python/doc/sqrt_doc.py\n",
    "#!/usr/bin/env python\n",
    "# coding:utf-8 \n",
    "u\"\"\"\n",
    "Usage: \n",
    "  test1.py [option] <num>...\n",
    "  test1.py (-v|--version)\n",
    "  test1.py (-a|--all)\n",
    "  test1.py (-h|--help)\n",
    "  \n",
    "\n",
    "Options:\n",
    "  -h --help      帮助\n",
    "  -v --version   显示版本号.\n",
    "  -a --all       显示全部参数\n",
    "\"\"\"\n",
    "\n",
    "from docopt import docopt\n",
    "from math import sqrt\n",
    "__version__=\"0.1.0\"\n",
    "\n",
    "\n",
    "\n",
    "def version():\n",
    "    return \"version:\"+__version__\n",
    "\n",
    "def main():\n",
    "    args = docopt(__doc__)\n",
    "    \n",
    "    if args.get(\"-h\") or args.get(\"-help\"):\n",
    "        print(__doc__)\n",
    "    elif args.get(\"-v\") or args.get(\"--version\"):\n",
    "        print(__version__)\n",
    "    elif args.get(\"-a\") or args.get(\"--all\"):\n",
    "        print(args)\n",
    "    elif args.get(\"<num>\"):\n",
    "        print(\" \".join(map(lambda x :str(sqrt(float(x))),args.get(\"<num>\"))))\n",
    "    else:\n",
    "        print(\"wrong args!\")\n",
    "        print(__doc__)\n",
    "\n",
    "\n",
    "\n",
    "if __name__ == '__main__':\n",
    "    main()"
   ]
  },
  {
   "cell_type": "code",
   "execution_count": 36,
   "metadata": {},
   "outputs": [
    {
     "name": "stdout",
     "output_type": "stream",
     "text": [
      "Usage: \r\n",
      "  test1.py [option] <num>...\r\n",
      "  test1.py (-v|--version)\r\n",
      "  test1.py (-a|--all)\r\n",
      "  test1.py (-h|--help)\r\n"
     ]
    }
   ],
   "source": [
    "!python src/python/doc/sqrt_doc.py"
   ]
  },
  {
   "cell_type": "code",
   "execution_count": 37,
   "metadata": {},
   "outputs": [
    {
     "name": "stdout",
     "output_type": "stream",
     "text": [
      "{'--all': True,\r\n",
      " '--help': False,\r\n",
      " '--version': False,\r\n",
      " '<num>': [],\r\n",
      " 'option': False}\r\n"
     ]
    }
   ],
   "source": [
    "!python src/python/doc/sqrt_doc.py -a"
   ]
  },
  {
   "cell_type": "code",
   "execution_count": 38,
   "metadata": {},
   "outputs": [
    {
     "name": "stdout",
     "output_type": "stream",
     "text": [
      "0.1.0\r\n"
     ]
    }
   ],
   "source": [
    "!python src/python/doc/sqrt_doc.py -v"
   ]
  },
  {
   "cell_type": "code",
   "execution_count": 39,
   "metadata": {},
   "outputs": [
    {
     "name": "stdout",
     "output_type": "stream",
     "text": [
      "Usage: \r\n",
      "  test1.py [option] <num>...\r\n",
      "  test1.py (-v|--version)\r\n",
      "  test1.py (-a|--all)\r\n",
      "  test1.py (-h|--help)\r\n",
      "  \r\n",
      "\r\n",
      "Options:\r\n",
      "  -h --help      帮助\r\n",
      "  -v --version   显示版本号.\r\n",
      "  -a --all       显示全部参数\r\n"
     ]
    }
   ],
   "source": [
    "!python src/python/doc/sqrt_doc.py -h"
   ]
  },
  {
   "cell_type": "code",
   "execution_count": 40,
   "metadata": {},
   "outputs": [
    {
     "name": "stdout",
     "output_type": "stream",
     "text": [
      "6.0\r\n"
     ]
    }
   ],
   "source": [
    "!python src/python/doc/sqrt_doc.py 36"
   ]
  },
  {
   "cell_type": "markdown",
   "metadata": {},
   "source": [
    "### 细节\n",
    "\n",
    "+ 用`<>`包裹表示参数,如果参数后面有`...`则表示参数是列表\n",
    "+ 用`[]`包裹选项\n",
    "+ 用`()`包裹必选内容\n",
    "+ 用`|`区分选项\n",
    "\n",
    "这边有一个详细的[匹配细节](http://docopt.org)和[测试工具](http://try.docopt.org/)\n",
    "\n",
    "docopt写起来并不会省代码,但它所见即所得,更加直观,当你写完注释的时候你的命令行解析也实现了.\n"
   ]
  },
  {
   "cell_type": "markdown",
   "metadata": {},
   "source": [
    "## 补充1:命令行显示循环美化\n",
    "\n",
    "[tqdm](https://pypi.python.org/pypi/tqdm)是一个进度条工具,除了可以给命令行工具增加进度条看出进度外,还可以用于`jupyter-notebook`"
   ]
  },
  {
   "cell_type": "markdown",
   "metadata": {},
   "source": [
    "tqdm模块的tqdm类是这个包的核心,所有功能都是在它上面衍生而来\n",
    "\n",
    "tqdm类 可以包装可迭代对象,它的实例化参数有:\n",
    "\n",
    "\n",
    "+ desc : str, optional\n",
    "    放在bar前面的描述字符串\n",
    "\n",
    "+ total : int, optional\n",
    "    显示多长\n",
    "\n",
    "+ leave : bool, optional\n",
    "    结束时时保留进度条的所有痕迹。\n",
    "+ file : io.TextIOWrapper or io.StringIO, optional\n",
    "    输出到文件\n",
    "+ ncols : int, optional\n",
    "    自定义宽度\n",
    "\n",
    "+ mininterval : float, optional\n",
    "    更新最短时间\n",
    "\n",
    "+ maxinterval : float, optional\n",
    "    更新最大时间\n",
    "\n",
    "+ miniters : int, optional\n",
    "    每次更新最小值\n",
    "\n",
    "+ ascii : bool, optional\n",
    "    使用ascii碼显示\n",
    "+ disable : bool, optional\n",
    "    是否禁用整个progressbar\n",
    "    \n",
    "+ unit : str, optional\n",
    "    显示的更新单位\n",
    "+ unit_scale : bool, optional\n",
    "    根据单位换算进度\n",
    "\n",
    "+ dynamic_ncols : bool, optional\n",
    "    可以不断梗概ncols的环境\n",
    "    \n",
    "+ smoothing : float, optional\n",
    "    用于速度估计的指数移动平均平滑因子（在GUI模式中忽略）。范围从0（平均速度）到1（当前/瞬时速度）[默认值：0.3]。\n",
    "    \n",
    "+ bar_format : str, optional\n",
    "    指定自定义栏字符串格式。可能会影响性能\n",
    "\n",
    "+ initial : int, optional\n",
    "    初始计数器值。重新启动进度条时有用[默认值：0]。\n",
    "\n",
    "+ position : int, optional\n",
    "    指定打印此条的线偏移（从0开始）如果未指定，则为自动。用于一次管理多个条"
   ]
  },
  {
   "cell_type": "markdown",
   "metadata": {},
   "source": [
    "### 基础的循环"
   ]
  },
  {
   "cell_type": "code",
   "execution_count": 43,
   "metadata": {},
   "outputs": [
    {
     "name": "stderr",
     "output_type": "stream",
     "text": [
      "test:: 100%|██████████| 9000000/9000000 [00:02<00:00, 4373806.98it/s]\n"
     ]
    }
   ],
   "source": [
    "from tqdm import tqdm\n",
    "for i in tqdm(range(int(9e6)),desc=\"test:\"):\n",
    "    pass"
   ]
  },
  {
   "cell_type": "code",
   "execution_count": 44,
   "metadata": {},
   "outputs": [
    {
     "name": "stderr",
     "output_type": "stream",
     "text": [
      "test: 100%|██████████| 9000000/9000000 [00:02<00:00, 4428959.63it/s]\n"
     ]
    }
   ],
   "source": [
    "for i in tqdm(range(int(9e6)),desc=\"test\",dynamic_ncols=True):\n",
    "    pass"
   ]
  },
  {
   "cell_type": "markdown",
   "metadata": {},
   "source": [
    "### 使用with语句手工更新"
   ]
  },
  {
   "cell_type": "code",
   "execution_count": 45,
   "metadata": {},
   "outputs": [
    {
     "name": "stderr",
     "output_type": "stream",
     "text": [
      "100%|██████████| 100/100 [00:00<00:00, 289062.99it/s]\n"
     ]
    }
   ],
   "source": [
    "with tqdm(total=100) as bar:\n",
    "    for i in range(10):\n",
    "        bar.update(10)\n",
    "    \n",
    "          "
   ]
  },
  {
   "cell_type": "markdown",
   "metadata": {},
   "source": [
    "## 补充2: 为命令行工具自动创建gui\n",
    "\n",
    "[Gooey](https://github.com/chriskiehl/Gooey)是一个可以将python命令行自动转成gui的工具,它依赖`wxpython`,废话不多说,看例子.我们来将之前的命令行工具转化一下"
   ]
  },
  {
   "cell_type": "code",
   "execution_count": 46,
   "metadata": {},
   "outputs": [
    {
     "name": "stdout",
     "output_type": "stream",
     "text": [
      "Writing src/python/std/sqrt_std_gui.py\n"
     ]
    }
   ],
   "source": [
    "%%writefile src/python/std/sqrt_std_gui.py\n",
    "#!/usr/bin/env python3\n",
    "import argparse\n",
    "from math import sqrt\n",
    "from gooey import Gooey, GooeyParser\n",
    "\n",
    "\n",
    "__version__=\"0.1.0\"\n",
    "\n",
    "def sqrtarg(number):\n",
    "    return sqrt(number)\n",
    "\n",
    "def version():\n",
    "    return \"version:\"+__version__\n",
    "@Gooey(language='chinese')\n",
    "def main():\n",
    "    parser = argparse.ArgumentParser()\n",
    "    parser.add_argument(\"number\", type=int, help=u\"求开根的参数\")\n",
    "    parser.add_argument(\"-v\",\"--version\", help=u\"查看版本号\",action=\"store_true\")\n",
    "\n",
    "    args = parser.parse_args()\n",
    "    \n",
    "    if args.version:\n",
    "        print(version())\n",
    "    if args.number:\n",
    "        print(sqrtarg(args.number))\n",
    "\n",
    "if __name__ == '__main__':\n",
    "    main()"
   ]
  },
  {
   "cell_type": "code",
   "execution_count": 47,
   "metadata": {},
   "outputs": [
    {
     "name": "stdout",
     "output_type": "stream",
     "text": [
      "Traceback (most recent call last):\r\n",
      "  File \"src/python/std/sqrt_std_gui.py\", line 4, in <module>\r\n",
      "    from gooey import Gooey, GooeyParser\r\n",
      "ModuleNotFoundError: No module named 'gooey'\r\n"
     ]
    }
   ],
   "source": [
    "!python src/python/std/sqrt_std_gui.py"
   ]
  },
  {
   "cell_type": "markdown",
   "metadata": {},
   "source": [
    "## 补充: python3命令行工具的发布\n",
    "\n",
    "我的用python写的脚本直接运行当然是可以,用Shebang结合权限设定也可以在一般的情况下使用,但如果我们的希望它成为可以随时使用的工具,更好的方式是将它用setuptool安装到python的脚本位置(当然也可以上传到pyp上供大家使用),\n",
    "\n",
    "这边给出两个的`setup.py`文件作为参考"
   ]
  },
  {
   "cell_type": "code",
   "execution_count": 48,
   "metadata": {},
   "outputs": [
    {
     "name": "stdout",
     "output_type": "stream",
     "text": [
      "Writing src/python/doc/setup.py\n"
     ]
    }
   ],
   "source": [
    "%%writefile src/python/doc/setup.py\n",
    "\n",
    "from distutils.core import setup\n",
    "import os\n",
    "pathroot = os.path.split(os.path.realpath(__file__))[0]\n",
    "setup(\n",
    "    name='sqrt_doc',\n",
    "    version='0.1.0',\n",
    "    \n",
    "    scripts=[pathroot+'/sqrt_doc.py']\n",
    ")"
   ]
  },
  {
   "cell_type": "code",
   "execution_count": 49,
   "metadata": {},
   "outputs": [
    {
     "name": "stdout",
     "output_type": "stream",
     "text": [
      "running install\r\n",
      "running build\r\n",
      "running build_scripts\r\n",
      "copying and adjusting /Users/huangsizhe/WORKSPACE/github/hsz1273327/TutorialForPython/ipynbs/人机交互篇/src/python/doc/sqrt_doc.py -> build/scripts-3.6\r\n",
      "running install_scripts\r\n",
      "copying build/scripts-3.6/sqrt_doc.py -> /Users/huangsizhe/anaconda3/bin\r\n",
      "changing mode of /Users/huangsizhe/anaconda3/bin/sqrt_doc.py to 755\r\n",
      "running install_egg_info\r\n",
      "Writing /Users/huangsizhe/anaconda3/lib/python3.6/site-packages/sqrt_doc-0.1.0-py3.6.egg-info\r\n"
     ]
    }
   ],
   "source": [
    "!python src/python/doc/setup.py install"
   ]
  },
  {
   "cell_type": "code",
   "execution_count": 50,
   "metadata": {},
   "outputs": [
    {
     "name": "stdout",
     "output_type": "stream",
     "text": [
      "6.928203230275509\r\n"
     ]
    }
   ],
   "source": [
    "!sqrt_doc.py 48"
   ]
  },
  {
   "cell_type": "markdown",
   "metadata": {},
   "source": [
    "将std文件夹中文件结构改成\n",
    "\n",
    "```\n",
    "|-lib\\\n",
    "|    |-__init__.py\n",
    "|    |-sqrt_std.py\n",
    "|-setup.py\n",
    "```"
   ]
  },
  {
   "cell_type": "code",
   "execution_count": 51,
   "metadata": {},
   "outputs": [
    {
     "name": "stdout",
     "output_type": "stream",
     "text": [
      "Writing src/python/std/setup.py\n"
     ]
    }
   ],
   "source": [
    "%%writefile src/python/std/setup.py\n",
    "\n",
    "from setuptools import setup,find_packages\n",
    "import os\n",
    "pathroot = os.path.split(os.path.realpath(__file__))[0]\n",
    "setup(\n",
    "    name='sqrt_std',\n",
    "    version='0.1.0',\n",
    "    packages = find_packages(),\n",
    "    entry_points = {\n",
    "        'console_scripts': ['sqrt_std=lib.sqrt_std:main'],\n",
    "    }\n",
    ")"
   ]
  },
  {
   "cell_type": "markdown",
   "metadata": {},
   "source": [
    "之后到目录下开始编译\n",
    "`python setup.py install`"
   ]
  }
 ],
 "metadata": {
  "anaconda-cloud": {},
  "kernelspec": {
   "display_name": "Python 3",
   "language": "python",
   "name": "python3"
  },
  "language_info": {
   "codemirror_mode": {
    "name": "ipython",
    "version": 3
   },
   "file_extension": ".py",
   "mimetype": "text/x-python",
   "name": "python",
   "nbconvert_exporter": "python",
   "pygments_lexer": "ipython3",
   "version": "3.6.4"
  }
 },
 "nbformat": 4,
 "nbformat_minor": 1
}
