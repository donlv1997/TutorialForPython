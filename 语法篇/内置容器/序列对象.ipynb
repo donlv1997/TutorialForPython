{
 "cells": [
  {
   "cell_type": "markdown",
   "metadata": {
    "collapsed": true
   },
   "source": [
    "# 序列对象\n",
    "\n",
    "`Python`标准库用`C语言`实现了丰富的序列类型,从底层实现的角度来分类,可以分为容器序列和扁平序列.列举如下.\n",
    "\n",
    "+ 容器序列\n",
    "\n",
    "    `list`、`tuple` 和 `collections.deque`这些序列能存放异构(不同类型的)数据.本质上存储的内容是引用,关于引用,可以看[python数据模型](http://blog.hszofficial.site/TutorialForPython/Python%E7%9A%84%E6%95%B0%E6%8D%AE%E6%A8%A1%E5%9E%8B/%E5%8F%98%E9%87%8F%E5%BC%95%E7%94%A8%E4%B8%8E%E5%9E%83%E5%9C%BE%E5%9B%9E%E6%94%B6.html)部分的相关介绍.\n",
    "\n",
    "+ 扁平序列\n",
    "\n",
    "    `str`、`bytes`、`bytearray`、`memoryview` ,`array.array` 以及准标准库`numpy.array`.这类序列只能容纳同构(同一种类型的)数据.\n",
    "\n",
    "\n",
    "    容器序列存放的是它们所包含的任意类型的对象的引用,而扁平序列里存放的是值而不是引用.换句话说,扁平序列其实是一段连续的内存空间.\n",
    "    由此可见扁平序列其实更加紧凑,但是它里面只能存放诸如字符、字节和数值这种基础类型.\n",
    "\n",
    "\n",
    "序列类型还能按照能否被修改来分类:\n",
    "\n",
    "+ 可变序列`MutableSequence`\n",
    "\n",
    "    `list`、`bytearray`、`array.array`、`collections.deque`和`memoryview`.\n",
    "\n",
    "+ 不可变序列`Sequence`\n",
    "\n",
    "    `tuple`、`str`、`bytes`和`numpy.ndarray`\n",
    "\n",
    "下图显示了可变序列和不可变序列的差异,同时也能看出前者从后者那里继承了一些方法.虽然内置的序列类型并不是直接从`Sequence`和 `MutableSequence`这两个抽象基类继承而来的.但是了解这些基类可以帮助我们总结出那些完整的序列类型包含了哪些功能:\n",
    "\n",
    "![序列uml图](source/sqe.png)\n",
    "\n",
    "扁平序列内置类型相关的操作可以看[文本文件与字节序](http://blog.hszofficial.site/TutorialForPython/%E6%96%87%E6%9C%AC_%E6%96%87%E4%BB%B6%E4%B8%8E%E5%AD%97%E8%8A%82%E5%BA%8F/%E5%AD%97%E8%8A%82%E5%BA%8F%E5%88%97%E4%B8%8E%E5%86%85%E5%AD%98%E8%A7%86%E5%9B%BE.html)相关的内容.\n",
    "\n",
    "\n",
    "另一个准标准库[numpy]()提供了一套更加高效的同构定长数组工具,它属于向量计算部分的范畴,本节不做介绍.\n",
    "\n",
    "\n",
    "本章需要的先验知识包括:\n",
    "\n",
    "+ [协议与接口与抽象基类](/语法篇/面向对象惯用法/协议与接口与抽象基类.html)"
   ]
  },
  {
   "cell_type": "markdown",
   "metadata": {},
   "source": [
    "## 序列操作\n",
    "\n",
    "python是高度一致性理念下的产物,它的序列很能够体现这一特点.不同类型的序列虽然特性不同,但都满足一致的接口协议,因此有着一致的行为.了解序列操作只要了解这些接口协议即可\n",
    "\n",
    "\n",
    "### 只要满足`Iterable`,我们的序列就可以使用`for`循环遍历\n"
   ]
  },
  {
   "cell_type": "code",
   "execution_count": 1,
   "metadata": {},
   "outputs": [
    {
     "name": "stdout",
     "output_type": "stream",
     "text": [
      "1\n",
      "2\n",
      "3\n",
      "4\n",
      "5\n"
     ]
    }
   ],
   "source": [
    "for i in (1,2,3,4,5):\n",
    "    print(i)"
   ]
  },
  {
   "cell_type": "markdown",
   "metadata": {},
   "source": [
    "### 只要满足`Sized`我们的序列就可以使用`len`内置方法求取序列的长度"
   ]
  },
  {
   "cell_type": "code",
   "execution_count": 2,
   "metadata": {},
   "outputs": [
    {
     "data": {
      "text/plain": [
       "5"
      ]
     },
     "execution_count": 2,
     "metadata": {},
     "output_type": "execute_result"
    }
   ],
   "source": [
    "len((1,2,3,4,5))"
   ]
  },
  {
   "cell_type": "markdown",
   "metadata": {},
   "source": [
    "### 只要满足`Container`我们的序列就可以使用`in`语句判断元素是否在序列中"
   ]
  },
  {
   "cell_type": "code",
   "execution_count": 3,
   "metadata": {},
   "outputs": [
    {
     "data": {
      "text/plain": [
       "True"
      ]
     },
     "execution_count": 3,
     "metadata": {},
     "output_type": "execute_result"
    }
   ],
   "source": [
    "1 in (1,2,3,4,5)"
   ]
  },
  {
   "cell_type": "markdown",
   "metadata": {},
   "source": [
    "+ 只要满足`Sequence`我们就可以使用切片操作,翻转序列,使用`count`方法和`index`方法"
   ]
  },
  {
   "cell_type": "markdown",
   "metadata": {},
   "source": [
    "### 切片操作\n",
    "\n",
    "`python`用`[]`来取值和切片,它对应的魔术方法是`__getitem__`.\n",
    "\n",
    "python内置类型有一套非常便捷的切片逻辑\n",
    "\n",
    "+ 取位\n",
    "\n",
    "    比如[1]代表取第一位的值(序列中为第2个元素).[-1]代表最后一个元素  "
   ]
  },
  {
   "cell_type": "code",
   "execution_count": 4,
   "metadata": {
    "scrolled": true
   },
   "outputs": [
    {
     "data": {
      "text/plain": [
       "1"
      ]
     },
     "execution_count": 4,
     "metadata": {},
     "output_type": "execute_result"
    }
   ],
   "source": [
    "(1,2,3,4,5)[0]"
   ]
  },
  {
   "cell_type": "markdown",
   "metadata": {},
   "source": [
    "+ 切片\n",
    "\n",
    "    而当[]中有两个被`:`分割开得数时就成了切片,比如[2:4]代表取从第2位到第3位的元素组成一个与原来序列相同类型的新序列,`:`分隔的两边可以没有指定,意味头尾元素,后一位可以为负数,意为倒着数"
   ]
  },
  {
   "cell_type": "code",
   "execution_count": 5,
   "metadata": {},
   "outputs": [
    {
     "data": {
      "text/plain": [
       "(1, 2, 3)"
      ]
     },
     "execution_count": 5,
     "metadata": {},
     "output_type": "execute_result"
    }
   ],
   "source": [
    "(1,2,3,4,5)[:-2]"
   ]
  },
  {
   "cell_type": "markdown",
   "metadata": {},
   "source": [
    "+ 按步长切片\n",
    "\n",
    "    而当[]中有三个被`:`分割开得数时就成了切片,比如[0:4:2]代表每2个元素从第0位到第3位取出组成一个与原来序列相同类型的新序列,第二位可以为负数,意为倒着数,最后一位可以为负数,意味从尾到头获取."
   ]
  },
  {
   "cell_type": "code",
   "execution_count": 6,
   "metadata": {},
   "outputs": [
    {
     "data": {
      "text/plain": [
       "(5, 3)"
      ]
     },
     "execution_count": 6,
     "metadata": {},
     "output_type": "execute_result"
    }
   ],
   "source": [
    "(1,2,3,4,5)[:-4:-2]"
   ]
  },
  {
   "cell_type": "markdown",
   "metadata": {},
   "source": [
    "### count计算元素在序列中出现的次数"
   ]
  },
  {
   "cell_type": "code",
   "execution_count": 7,
   "metadata": {},
   "outputs": [
    {
     "data": {
      "text/plain": [
       "2"
      ]
     },
     "execution_count": 7,
     "metadata": {},
     "output_type": "execute_result"
    }
   ],
   "source": [
    "(1,2,3,4,5,2).count(2)"
   ]
  },
  {
   "cell_type": "markdown",
   "metadata": {},
   "source": [
    "### reversed翻转序列\n",
    "\n",
    "翻转序列操作返回的是一个可迭代对象并非序列"
   ]
  },
  {
   "cell_type": "code",
   "execution_count": 8,
   "metadata": {},
   "outputs": [
    {
     "data": {
      "text/plain": [
       "(2, 5, 4, 3, 2, 1)"
      ]
     },
     "execution_count": 8,
     "metadata": {},
     "output_type": "execute_result"
    }
   ],
   "source": [
    "tuple(reversed((1,2,3,4,5,2)))"
   ]
  },
  {
   "cell_type": "markdown",
   "metadata": {},
   "source": [
    "### 只要满足MutableSequence我们就可以使用insert,append,pop,extend,remove操作\n",
    "\n",
    "\n",
    "+ list.append(obj) 在列表末尾添加新的对象\n",
    "\n",
    "+ list.extend(seq) 在列表末尾一次性追加另一个序列中的多个值（用新列表扩展原来的列表）\n",
    "\n",
    "+ list.insert(index, obj) 将对象插入列表\n",
    "\n",
    "+ list.pop(obj=list[-1]) 移除列表中的一个元素（默认最后一个元素），并且返回该元素的值\n",
    "\n",
    "+ list.remove(obj) 移除列表中某个值的第一个匹配项\n"
   ]
  },
  {
   "cell_type": "markdown",
   "metadata": {},
   "source": [
    "### 对序列使用`+ `,`*`,`+=`,`*=`\n",
    "\n",
    "`Python`的内置序列类型会默认支持`+` 和`*` 操作的.`+`和`*`分别对应特殊方法`__add__`和`__mul__`\n",
    "\n",
    "通常`+`号两侧的序列由相同类型的数据所构成,在拼接的过程中,两个被操作的序列都不会被修改,`Python` 会新建一个包含同样类型数据的序列来作为拼接的结果.\n",
    "\n",
    "如果想要把一个序列复制几份然后再拼接起来,更快捷的做法是把这个序列乘以一个整数.同样,这个操作会产生一个新序列:\n",
    "\n",
    "`+`和`*`都遵循这个规律，不修改原有的操作对象，而是构建一个全新的序列。"
   ]
  },
  {
   "cell_type": "code",
   "execution_count": 9,
   "metadata": {},
   "outputs": [],
   "source": [
    "l = (1, 2, 3)"
   ]
  },
  {
   "cell_type": "code",
   "execution_count": 10,
   "metadata": {},
   "outputs": [
    {
     "data": {
      "text/plain": [
       "(1, 2, 3, 1, 2, 3, 1, 2, 3, 1, 2, 3, 1, 2, 3)"
      ]
     },
     "execution_count": 10,
     "metadata": {},
     "output_type": "execute_result"
    }
   ],
   "source": [
    "l * 5"
   ]
  },
  {
   "cell_type": "code",
   "execution_count": 11,
   "metadata": {},
   "outputs": [
    {
     "data": {
      "text/plain": [
       "'abcdabcdabcdabcdabcd'"
      ]
     },
     "execution_count": 11,
     "metadata": {},
     "output_type": "execute_result"
    }
   ],
   "source": [
    " 5 * 'abcd'"
   ]
  },
  {
   "cell_type": "markdown",
   "metadata": {},
   "source": [
    "增量赋值运算符`+=` 和`*=` 的表现取决于它们的第一个操作对象.简单起见,我们把讨论集中在增量加法（`+=`）上,但是这些概念对`*=`和其他增量运算符来说都是一样的.`+=` 背后的特殊方法是`__iadd__`(用于\"就地加法\").但是如果一个类没有实现这个方法的话,Python 会退一步调用`__add__`.考虑下面这个简单的表达式:\n",
    "\n",
    "```python\n",
    "a += b\n",
    "```\n",
    "\n",
    "如果a 实现了`__iadd__` 方法,就会调用这个方法.同时对可变序列(例如`list`、`bytearray` 和`array.array`)来说,a会就地改动,就像调用了`a.extend(b)`一样.但是如果`a`没有实现`__iadd__`的话,`a += b`这个表达式的效果就变得跟`a = a + b` 一样了:\n",
    "\n",
    "+ 首先计算`a + b`,得到一个新的对象\n",
    "+ 然后赋值给`a`\n",
    "\n",
    "也就是说,在这个表达式中,变量名会不会被关联到新的对象,完全取决于这个类型有没有实现`__iadd__`这个方法.\n",
    "\n",
    "总体来讲,可变序列一般都实现了`__iadd__` 方法,因此`+=`是就地加法.而不可变序列根本就不支持这个操作,对这个方法的实现也就无从谈起.\n",
    "上面所说的这些关于`+=` 的概念也适用于`*=`,不同的是,后者相对应的是`__imul__`."
   ]
  },
  {
   "cell_type": "markdown",
   "metadata": {
    "collapsed": true
   },
   "source": [
    "## 列表`list`\n",
    "\n",
    "最重要也最基础的序列类型应该就是列表(`list`)了.`list`是一个可变序列,并且能同时存放不同类型的元素.本质上`list`就是类似`c++`中`vector`的数据结构.因此它的效率并不高.`list`是单向序列,因此使用list存储数据时，按索引访问元素很快，但是插入和删除元素就很慢了.\n",
    "list是线性存储，数据量大的时候，插入和删除效率很低.\n",
    "\n",
    "列表的构造函数是`list(*items)`,python中也可以使用`[]`来构造"
   ]
  },
  {
   "cell_type": "markdown",
   "metadata": {},
   "source": [
    "### 列表推导\n",
    "\n",
    "所谓列表解析就是在列表中写入代码段,吧代码段生成的结果放入列表中.列表解析除了支持使用for循环构建列表,也支持使用`if`筛选数据"
   ]
  },
  {
   "cell_type": "code",
   "execution_count": 12,
   "metadata": {},
   "outputs": [
    {
     "data": {
      "text/plain": [
       "[0, 1, 2, 3, 4, 5, 6, 7, 8, 9]"
      ]
     },
     "execution_count": 12,
     "metadata": {},
     "output_type": "execute_result"
    }
   ],
   "source": [
    "[i for i in range(10)]"
   ]
  },
  {
   "cell_type": "code",
   "execution_count": 13,
   "metadata": {},
   "outputs": [
    {
     "data": {
      "text/plain": [
       "[0, 2, 4, 6, 8]"
      ]
     },
     "execution_count": 13,
     "metadata": {},
     "output_type": "execute_result"
    }
   ],
   "source": [
    "[i for i in range(10) if i%2==0]"
   ]
  },
  {
   "cell_type": "markdown",
   "metadata": {},
   "source": [
    "## 双向队列`deque`\n",
    "\n",
    "`collections.deque`是一个是一个线程安全,高效实现插入和删除操作的双向列表,适合用于队列和栈\n",
    "\n",
    "`deque`除了实现`list`的`append()`和`pop()`外，还支持`appendleft()`和`popleft()`,这样就可以非常高效地往头部添加或删除元素."
   ]
  },
  {
   "cell_type": "code",
   "execution_count": 14,
   "metadata": {},
   "outputs": [],
   "source": [
    "from collections import deque"
   ]
  },
  {
   "cell_type": "code",
   "execution_count": 15,
   "metadata": {},
   "outputs": [],
   "source": [
    "q = deque(['a', 'b', 'c'])"
   ]
  },
  {
   "cell_type": "code",
   "execution_count": 16,
   "metadata": {},
   "outputs": [],
   "source": [
    "q.append('x')"
   ]
  },
  {
   "cell_type": "code",
   "execution_count": 17,
   "metadata": {},
   "outputs": [],
   "source": [
    "q.appendleft('y')"
   ]
  },
  {
   "cell_type": "code",
   "execution_count": 18,
   "metadata": {},
   "outputs": [
    {
     "data": {
      "text/plain": [
       "deque(['y', 'a', 'b', 'c', 'x'])"
      ]
     },
     "execution_count": 18,
     "metadata": {},
     "output_type": "execute_result"
    }
   ],
   "source": [
    "q"
   ]
  },
  {
   "cell_type": "markdown",
   "metadata": {},
   "source": [
    "如果想要有一种数据类型来存放\"最近用到的几个元素\",`deque` 也是一个很好的选择.这是因为在新建一个双向队列的时候,你可以指定这个队列的大小,如果这个队列满员了,还可以从反向端删除过期的元素,然后在尾端添加新的元素.\n",
    "\n",
    "\n",
    "双向队列也付出了一些代价,从队列中间删除元素的操作会慢一些,因为它只对在头尾的操作进行了优化"
   ]
  },
  {
   "cell_type": "code",
   "execution_count": 19,
   "metadata": {},
   "outputs": [],
   "source": [
    "dq = deque(range(10), maxlen=10)"
   ]
  },
  {
   "cell_type": "code",
   "execution_count": 20,
   "metadata": {},
   "outputs": [
    {
     "data": {
      "text/plain": [
       "deque([0, 1, 2, 3, 4, 5, 6, 7, 8, 9])"
      ]
     },
     "execution_count": 20,
     "metadata": {},
     "output_type": "execute_result"
    }
   ],
   "source": [
    "dq"
   ]
  },
  {
   "cell_type": "code",
   "execution_count": 21,
   "metadata": {},
   "outputs": [],
   "source": [
    "q.rotate(3)#队列的旋转操作接受一个参数n，当n > 0 时，\n",
    "#队列的最右边的n 个元素会被移动到队列的左边。当n < 0 时，最左边的n 个元素会被移动到右边。"
   ]
  },
  {
   "cell_type": "code",
   "execution_count": 22,
   "metadata": {},
   "outputs": [
    {
     "data": {
      "text/plain": [
       "deque([0, 1, 2, 3, 4, 5, 6, 7, 8, 9])"
      ]
     },
     "execution_count": 22,
     "metadata": {},
     "output_type": "execute_result"
    }
   ],
   "source": [
    "dq"
   ]
  },
  {
   "cell_type": "code",
   "execution_count": 23,
   "metadata": {},
   "outputs": [],
   "source": [
    "dq.rotate(-4)"
   ]
  },
  {
   "cell_type": "code",
   "execution_count": 24,
   "metadata": {},
   "outputs": [
    {
     "data": {
      "text/plain": [
       "deque([4, 5, 6, 7, 8, 9, 0, 1, 2, 3])"
      ]
     },
     "execution_count": 24,
     "metadata": {},
     "output_type": "execute_result"
    }
   ],
   "source": [
    "dq"
   ]
  },
  {
   "cell_type": "code",
   "execution_count": 25,
   "metadata": {},
   "outputs": [],
   "source": [
    "dq.extend([11, 22, 33])"
   ]
  },
  {
   "cell_type": "code",
   "execution_count": 26,
   "metadata": {},
   "outputs": [
    {
     "data": {
      "text/plain": [
       "deque([7, 8, 9, 0, 1, 2, 3, 11, 22, 33])"
      ]
     },
     "execution_count": 26,
     "metadata": {},
     "output_type": "execute_result"
    }
   ],
   "source": [
    "dq"
   ]
  },
  {
   "cell_type": "code",
   "execution_count": 27,
   "metadata": {},
   "outputs": [],
   "source": [
    "dq.extendleft([10, 20, 30, 40])"
   ]
  },
  {
   "cell_type": "code",
   "execution_count": 28,
   "metadata": {},
   "outputs": [
    {
     "data": {
      "text/plain": [
       "deque([40, 30, 20, 10, 7, 8, 9, 0, 1, 2])"
      ]
     },
     "execution_count": 28,
     "metadata": {},
     "output_type": "execute_result"
    }
   ],
   "source": [
    "dq"
   ]
  },
  {
   "cell_type": "markdown",
   "metadata": {},
   "source": [
    "除了`deque`之外,还有些其他的Python标准库也有对队列的实现.\n",
    "\n",
    "+ queue\n",
    "\n",
    "    提供了同步(线程安全)类Queue、LifoQueue和PriorityQueue,不同的线程可以利用这些数据类型来交换信息.这三个类的构造方法都有一个可选参数maxsize,它接收正整数作为输入值,用来限定队列的大小.但是在满员的时候,这些类不会扔掉旧的元素来腾出位置.相反,如果队列满了,它就会被锁住,直到另外的线程移除了某个元素而腾出了位置.这一特性让这些类很适合用来控制活跃线程的数量.\n",
    "    \n",
    "+ multiprocessing.Queue\n",
    "\n",
    "    这个包实现了自己的Queue,它跟queue.Queue类似,是设计给进程间通信用的.同时还有一个专门的multiprocessing.JoinableQueue类型,可以让任务管理变得更方便.\n",
    "    \n",
    "+ asyncio.Queue\n",
    "\n",
    "    Python 3.4新提供的包,里面有Queue、LifoQueue、PriorityQueue和JoinableQueue,这些类受到queue和multiprocessing模块的影响,但是为异步编程里的任务管理提供了专门的便利.\n",
    "    \n",
    "以上的队列基本都是为并行计算设计的,会在[流程控制部分](http://blog.hszofficial.site/TutorialForPython/%E6%B5%81%E7%A8%8B%E6%8E%A7%E5%88%B6/%E5%B9%B6%E8%A1%8C%E7%BC%96%E7%A8%8B%E7%9A%84%E6%83%AF%E7%94%A8%E6%B3%95.html)细讲"
   ]
  },
  {
   "cell_type": "markdown",
   "metadata": {},
   "source": [
    "+ heapq堆\n",
    "\n",
    "    跟上面三个模块不同的是,heapq 没有队列类,而是提供了heappush 和heappop 方法,让用户可以把可变序列当作堆队列或者优先队列来使用."
   ]
  },
  {
   "cell_type": "code",
   "execution_count": 29,
   "metadata": {},
   "outputs": [],
   "source": [
    "import heapq"
   ]
  },
  {
   "cell_type": "code",
   "execution_count": 30,
   "metadata": {},
   "outputs": [],
   "source": [
    "import heapq\n",
    "class PriorityQueue:\n",
    "    def __init__(self):\n",
    "        self._queue = []\n",
    "        self._index = 0\n",
    "    def push(self, item, priority):\n",
    "        heapq.heappush(self._queue, (-priority, self._index, item))\n",
    "        self._index += 1\n",
    "    def pop(self):\n",
    "        return heapq.heappop(self._queue)[-1]"
   ]
  },
  {
   "cell_type": "code",
   "execution_count": 31,
   "metadata": {},
   "outputs": [],
   "source": [
    "class Item:\n",
    "    def __init__(self, name):\n",
    "        self.name = name\n",
    "    def __repr__(self):\n",
    "        return 'Item({!r})'.format(self.name)"
   ]
  },
  {
   "cell_type": "code",
   "execution_count": 32,
   "metadata": {},
   "outputs": [],
   "source": [
    "q = PriorityQueue()"
   ]
  },
  {
   "cell_type": "code",
   "execution_count": 33,
   "metadata": {},
   "outputs": [],
   "source": [
    "q.push(Item('foo'), 1)"
   ]
  },
  {
   "cell_type": "code",
   "execution_count": 34,
   "metadata": {},
   "outputs": [],
   "source": [
    "q.push(Item('bar'), 5)"
   ]
  },
  {
   "cell_type": "code",
   "execution_count": 35,
   "metadata": {},
   "outputs": [],
   "source": [
    "q.push(Item('spam'), 4)"
   ]
  },
  {
   "cell_type": "code",
   "execution_count": 36,
   "metadata": {},
   "outputs": [],
   "source": [
    "q.push(Item('grok'), 1)"
   ]
  },
  {
   "cell_type": "code",
   "execution_count": 37,
   "metadata": {},
   "outputs": [
    {
     "data": {
      "text/plain": [
       "Item('bar')"
      ]
     },
     "execution_count": 37,
     "metadata": {},
     "output_type": "execute_result"
    }
   ],
   "source": [
    "q.pop()"
   ]
  },
  {
   "cell_type": "code",
   "execution_count": 38,
   "metadata": {},
   "outputs": [
    {
     "data": {
      "text/plain": [
       "Item('spam')"
      ]
     },
     "execution_count": 38,
     "metadata": {},
     "output_type": "execute_result"
    }
   ],
   "source": [
    "q.pop()"
   ]
  },
  {
   "cell_type": "markdown",
   "metadata": {},
   "source": [
    "## 元组`tuple`\n",
    "\n",
    "元组是不可变序列,构造函数为`tuple(seq)`,也可以使用`(,)`来快速构建.\n",
    "\n",
    "元组如果保存元素都不是容器,那么元组就是真正的不可变的,否则还是会根据内部元素的改变而改变."
   ]
  },
  {
   "cell_type": "markdown",
   "metadata": {},
   "source": [
    "## 具名元组\n",
    "\n",
    "`collections.namedtuple`是一个工厂函数,它可以用来构建一个带字段名的元组和一个有名字的类——这个带名字的类对调试程序有很大帮助.\n",
    "用`namedtuple`构建的类的实例所消耗的内存跟元组是一样的,因为字段名都被存在对应的类里面.这个实例跟普通的对象实例比起来也要小一些,因为`Python`不会用`__dict__`来存放这些实例的属性."
   ]
  },
  {
   "cell_type": "code",
   "execution_count": 39,
   "metadata": {},
   "outputs": [],
   "source": [
    "from collections import namedtuple"
   ]
  },
  {
   "cell_type": "code",
   "execution_count": 40,
   "metadata": {},
   "outputs": [],
   "source": [
    "City = namedtuple('City', 'name country population coordinates')"
   ]
  },
  {
   "cell_type": "code",
   "execution_count": 41,
   "metadata": {},
   "outputs": [],
   "source": [
    "tokyo = City('Tokyo', 'JP', 36.933, (35.689722, 139.691667))"
   ]
  },
  {
   "cell_type": "code",
   "execution_count": 42,
   "metadata": {},
   "outputs": [
    {
     "data": {
      "text/plain": [
       "City(name='Tokyo', country='JP', population=36.933, coordinates=(35.689722, 139.691667))"
      ]
     },
     "execution_count": 42,
     "metadata": {},
     "output_type": "execute_result"
    }
   ],
   "source": [
    "tokyo"
   ]
  },
  {
   "cell_type": "code",
   "execution_count": 43,
   "metadata": {},
   "outputs": [
    {
     "data": {
      "text/plain": [
       "36.933"
      ]
     },
     "execution_count": 43,
     "metadata": {},
     "output_type": "execute_result"
    }
   ],
   "source": [
    "tokyo.population"
   ]
  },
  {
   "cell_type": "markdown",
   "metadata": {},
   "source": [
    "除了从普通元组那里继承来的属性之外,具名元组还有一些自己专有的属性.下面的例子展示了几个最有用的:\n",
    "\n",
    "+ `_fields` 类属性\n",
    "\n",
    "    `_fields`属性是一个包含这个类所有字段名称的元组."
   ]
  },
  {
   "cell_type": "code",
   "execution_count": 44,
   "metadata": {},
   "outputs": [
    {
     "data": {
      "text/plain": [
       "('name', 'country', 'population', 'coordinates')"
      ]
     },
     "execution_count": 44,
     "metadata": {},
     "output_type": "execute_result"
    }
   ],
   "source": [
    "City._fields"
   ]
  },
  {
   "cell_type": "markdown",
   "metadata": {},
   "source": [
    "+ 类方法`_make(iterable)` \n",
    "\n",
    "    `_make()`通过接受一个可迭代对象来生成这个类的一个实例"
   ]
  },
  {
   "cell_type": "code",
   "execution_count": 45,
   "metadata": {},
   "outputs": [],
   "source": [
    "LatLong = namedtuple('LatLong', 'lat long')"
   ]
  },
  {
   "cell_type": "code",
   "execution_count": 46,
   "metadata": {},
   "outputs": [],
   "source": [
    "delhi_data = ('Delhi NCR', 'IN', 21.935, LatLong(28.613889, 77.208889))"
   ]
  },
  {
   "cell_type": "code",
   "execution_count": 47,
   "metadata": {},
   "outputs": [],
   "source": [
    "delhi = City._make(delhi_data)"
   ]
  },
  {
   "cell_type": "markdown",
   "metadata": {},
   "source": [
    "+ 实例方法`_asdict()`\n",
    "\n",
    "    `_asdict()`把具名元组以`collections.OrderedDict`的形式返回,我们可以利用它来把元组里的信息友好地呈现出来"
   ]
  },
  {
   "cell_type": "code",
   "execution_count": 48,
   "metadata": {},
   "outputs": [
    {
     "data": {
      "text/plain": [
       "OrderedDict([('name', 'Delhi NCR'),\n",
       "             ('country', 'IN'),\n",
       "             ('population', 21.935),\n",
       "             ('coordinates', LatLong(lat=28.613889, long=77.208889))])"
      ]
     },
     "execution_count": 48,
     "metadata": {},
     "output_type": "execute_result"
    }
   ],
   "source": [
    "delhi._asdict()"
   ]
  },
  {
   "cell_type": "code",
   "execution_count": 49,
   "metadata": {},
   "outputs": [
    {
     "name": "stdout",
     "output_type": "stream",
     "text": [
      "name: Delhi NCR\n",
      "country: IN\n",
      "population: 21.935\n",
      "coordinates: LatLong(lat=28.613889, long=77.208889)\n"
     ]
    }
   ],
   "source": [
    "for key, value in delhi._asdict().items():\n",
    "    print(key + ':', value)"
   ]
  },
  {
   "cell_type": "markdown",
   "metadata": {},
   "source": [
    "### 带有类型标注的具名元组\n",
    "\n",
    "使用`collections.namedtuple`无法使用`typing`做类型标注,这在大型项目中不利于团队合作.\n",
    "\n",
    "3.5中加入的标准库`typing`提供了一种可以带类型标注的具名元组`typing.NamedTuple`,它可以实现对具名元组中字段的类型标注:\n"
   ]
  },
  {
   "cell_type": "code",
   "execution_count": 1,
   "metadata": {},
   "outputs": [],
   "source": [
    "from typing import NamedTuple\n",
    "\n",
    "Point = NamedTuple('Point', [('x', int),\n",
    "                             ('y', int)])"
   ]
  },
  {
   "cell_type": "code",
   "execution_count": 2,
   "metadata": {},
   "outputs": [],
   "source": [
    "p = Point(x=1, y=2) "
   ]
  },
  {
   "cell_type": "code",
   "execution_count": 3,
   "metadata": {},
   "outputs": [
    {
     "data": {
      "text/plain": [
       "Point(x=1, y=2)"
      ]
     },
     "execution_count": 3,
     "metadata": {},
     "output_type": "execute_result"
    }
   ],
   "source": [
    "p"
   ]
  }
 ],
 "metadata": {
  "kernelspec": {
   "display_name": "Python 3",
   "language": "python",
   "name": "python3"
  },
  "language_info": {
   "codemirror_mode": {
    "name": "ipython",
    "version": 3
   },
   "file_extension": ".py",
   "mimetype": "text/x-python",
   "name": "python",
   "nbconvert_exporter": "python",
   "pygments_lexer": "ipython3",
   "version": "3.7.0"
  }
 },
 "nbformat": 4,
 "nbformat_minor": 2
}
