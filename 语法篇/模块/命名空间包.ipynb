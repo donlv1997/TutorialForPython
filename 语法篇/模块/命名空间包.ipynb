{
 "cells": [
  {
   "cell_type": "markdown",
   "id": "21a8d2c1",
   "metadata": {},
   "source": [
    "# 命名空间包\n",
    "\n",
    "命名空间包[pep-420](https://peps.python.org/pep-0420/)是一种特殊的包,用于解决超大模型分布式开发和分发的问题.一言以蔽之,命名空间包是用于管理多个模块的一种方式.\n",
    "\n",
    "命名空间包与普通包的区别在于\n",
    "\n",
    "1. 命名空间包没有`__init__.py`文件\n",
    "2. 作为模块导入会没有`__file__`属性\n",
    "\n",
    "命名空间包在使用上和普通的模块没有什么不同,只是命名空间包加载的慢些.\n",
    "\n",
    "在Python 3.2之前命名空间包并不合法,所有的模块文件夹中必须包含`__init__.py`文件,而命名空间包的出现让没有`__init__.py`文件的文件夹也可以成为模块,这还是有点颠覆性的.因此在本部分最开始对python模块的定义其实是不准确的."
   ]
  },
  {
   "cell_type": "markdown",
   "id": "2c14b1b4",
   "metadata": {},
   "source": [
    "## 作用\n",
    "\n",
    "利用命名空间包这个技术,配合对`sys.path`的修改可以用来导入目录分散的代码.\n",
    "\n",
    "比如有如下的目录树:\n",
    "\n",
    "```txt\n",
    "\n",
    "├── p1\n",
    "│   └── demo\n",
    "│       └── foo\n",
    "│           └── __init__.py\n",
    "└── p2\n",
    "    └── demo\n",
    "        └── bar\n",
    "            └── __init__.py\n",
    "```\n",
    "\n",
    "我们可以用如下方式将其导入."
   ]
  },
  {
   "cell_type": "code",
   "execution_count": 1,
   "id": "47582069",
   "metadata": {},
   "outputs": [],
   "source": [
    "import sys\n",
    "sys.path.extend(['p1', 'p2'])\n",
    "import demo\n",
    "import demo.foo as foo\n",
    "import demo.bar as bar"
   ]
  },
  {
   "cell_type": "code",
   "execution_count": 2,
   "id": "53370f7f",
   "metadata": {},
   "outputs": [
    {
     "name": "stdout",
     "output_type": "stream",
     "text": [
      "foo\n"
     ]
    }
   ],
   "source": [
    "foo.who_i_am()"
   ]
  },
  {
   "cell_type": "code",
   "execution_count": 3,
   "id": "860e13ba",
   "metadata": {},
   "outputs": [
    {
     "name": "stdout",
     "output_type": "stream",
     "text": [
      "bar\n"
     ]
    }
   ],
   "source": [
    "bar.who_i_am()"
   ]
  },
  {
   "cell_type": "code",
   "execution_count": 6,
   "id": "eaa2232b",
   "metadata": {},
   "outputs": [
    {
     "data": {
      "text/plain": [
       "<module 'demo' (<_frozen_importlib_external._NamespaceLoader object at 0x7fba604afa90>)>"
      ]
     },
     "execution_count": 6,
     "metadata": {},
     "output_type": "execute_result"
    }
   ],
   "source": [
    "demo"
   ]
  },
  {
   "cell_type": "code",
   "execution_count": 7,
   "id": "59268f22",
   "metadata": {},
   "outputs": [
    {
     "data": {
      "text/plain": [
       "<module 'demo.foo' from '/Users/mac/WORKSPACE/GITHUB/BLOG/TutorialForPython/src/语法篇/模块/p1/demo/foo/__init__.py'>"
      ]
     },
     "execution_count": 7,
     "metadata": {},
     "output_type": "execute_result"
    }
   ],
   "source": [
    "foo"
   ]
  },
  {
   "cell_type": "markdown",
   "id": "fd919667",
   "metadata": {},
   "source": [
    "可以看到`foo`和`bar`都被正常导入了,且被归并到了同一个父包`demo`下.我们就可以说demo是一个命名空间包.`foo`和`bar`本身都有`__init__.py`,他们本身都是普通包.\n",
    "\n",
    "通常我们不太会写多层嵌套的命名空间包,毕竟**扁平胜于嵌套**."
   ]
  }
 ],
 "metadata": {
  "kernelspec": {
   "display_name": "Python 3 (ipykernel)",
   "language": "python",
   "name": "python3"
  },
  "language_info": {
   "codemirror_mode": {
    "name": "ipython",
    "version": 3
   },
   "file_extension": ".py",
   "mimetype": "text/x-python",
   "name": "python",
   "nbconvert_exporter": "python",
   "pygments_lexer": "ipython3",
   "version": "3.10.9"
  }
 },
 "nbformat": 4,
 "nbformat_minor": 5
}
