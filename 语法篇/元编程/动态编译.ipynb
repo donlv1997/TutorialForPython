{
 "cells": [
  {
   "cell_type": "markdown",
   "metadata": {},
   "source": [
    "# *动态编译*\n",
    "\n",
    "动态编译指的是在运行时接收字符串,动态的将其编译为python可执行的代码的功能.\n",
    "\n",
    "python提供了两个函数用于实现动态编译:\n",
    "\n",
    "`exec`和`eval`函数\n",
    "\n",
    "+ `eval(exp[, globals[, locals]])`\n",
    "\n",
    "    + `globals`是字典形式,表示全局命名空间,如果传入`globals`的字典中缺少`__builtins__`\n",
    "    的时候,当前的全局命名空间将作为`globals`参数输入并在表达式计算之前被解析.\n",
    "    + `locals`则为任何映射对象,表示局部命名空间,与`globals`两者默认相同.\n",
    "    \n",
    "    如果两者都省略则表示在eval的调用环境中执行\n",
    "    \n",
    "+ `exec()`\n",
    "\n",
    "    与`eval()`类似的是`exec()`方法,但`exec`是翻译并执行.`exec`常与文件读取操作结合使用,直接传递python的代码文件运行"
   ]
  },
  {
   "cell_type": "code",
   "execution_count": 1,
   "metadata": {},
   "outputs": [],
   "source": [
    "a = eval(\"lambda *x: sum(x)\")"
   ]
  },
  {
   "cell_type": "code",
   "execution_count": 2,
   "metadata": {},
   "outputs": [
    {
     "data": {
      "text/plain": [
       "15"
      ]
     },
     "execution_count": 2,
     "metadata": {},
     "output_type": "execute_result"
    }
   ],
   "source": [
    "a(1,2,3,4,5)"
   ]
  },
  {
   "cell_type": "code",
   "execution_count": 3,
   "metadata": {},
   "outputs": [
    {
     "name": "stdout",
     "output_type": "stream",
     "text": [
      "258 ns ± 2.81 ns per loop (mean ± std. dev. of 7 runs, 1000000 loops each)\n"
     ]
    }
   ],
   "source": [
    "%timeit a(1,2,3,4,5,6,7,8,9)"
   ]
  },
  {
   "cell_type": "code",
   "execution_count": 4,
   "metadata": {},
   "outputs": [
    {
     "name": "stdout",
     "output_type": "stream",
     "text": [
      "58 ns ± 0.763 ns per loop (mean ± std. dev. of 7 runs, 10000000 loops each)\n"
     ]
    }
   ],
   "source": [
    "%timeit lambda *x:sum(x)(1,2,3,4,5,6,7,8,9)"
   ]
  },
  {
   "cell_type": "code",
   "execution_count": 5,
   "metadata": {},
   "outputs": [],
   "source": [
    "exec(\"aa = lambda x: x\")"
   ]
  },
  {
   "cell_type": "code",
   "execution_count": 6,
   "metadata": {},
   "outputs": [
    {
     "data": {
      "text/plain": [
       "10"
      ]
     },
     "execution_count": 6,
     "metadata": {},
     "output_type": "execute_result"
    }
   ],
   "source": [
    "aa(10)"
   ]
  },
  {
   "cell_type": "markdown",
   "metadata": {},
   "source": [
    "`eval`和`exec`有两个弊端:\n",
    "\n",
    "+ 降低运算效率\n",
    "\n",
    "    如上面看到的,运行时间上差距不小\n",
    "\n",
    "+ 安全性\n",
    "\n",
    "    这主要是因为可以调用一些危险的方法而没有设限.也就是所谓的代码注入攻击."
   ]
  },
  {
   "cell_type": "markdown",
   "metadata": {},
   "source": [
    "当然了,我们也可以通过限制`globals`和`locals`来实现对可用项的限制.\n",
    "\n",
    "如果只是为了传入参数,那么可以使用`ast`库的`literal_eval`函数,它是安全的"
   ]
  },
  {
   "cell_type": "code",
   "execution_count": 7,
   "metadata": {},
   "outputs": [],
   "source": [
    "import ast"
   ]
  },
  {
   "cell_type": "code",
   "execution_count": 8,
   "metadata": {},
   "outputs": [
    {
     "data": {
      "text/plain": [
       "[1, 2, 3]"
      ]
     },
     "execution_count": 8,
     "metadata": {},
     "output_type": "execute_result"
    }
   ],
   "source": [
    "ast.literal_eval(\"[1,2,3]\")"
   ]
  },
  {
   "cell_type": "markdown",
   "metadata": {},
   "source": [
    "在Python中做元编程时,最好不用`exec` 和`eval` 函数.如果接收的字符串(或片段)来自不可信的源,那么这两个函数会带来严重的安全风险.Python提供了充足的内省工具,大多数时候都不需要使用`exec`和`eval`函数.然而,Python核心开发者实现`namedtuple`函数时选择了使用`exec`函数,这样做是为了让生成的类代码能通过`._source`获取."
   ]
  }
 ],
 "metadata": {
  "kernelspec": {
   "display_name": "Python 3",
   "language": "python",
   "name": "python3"
  },
  "language_info": {
   "codemirror_mode": {
    "name": "ipython",
    "version": 3
   },
   "file_extension": ".py",
   "mimetype": "text/x-python",
   "name": "python",
   "nbconvert_exporter": "python",
   "pygments_lexer": "ipython3",
   "version": "3.6.4"
  }
 },
 "nbformat": 4,
 "nbformat_minor": 2
}
