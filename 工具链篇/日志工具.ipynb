{
 "cells": [
  {
   "cell_type": "markdown",
   "metadata": {},
   "source": [
    "# 日志工具\n",
    "\n",
    "代码检查,debug,调优都只能让代码确保当时是可靠的,一些复杂的关联错误,也可能让这些测试呀debug呀失准,,而只有日志才能长期的帮助我们监控项目的健壮性.这种时候就可以使用标准库logging为程序的运行做记录,在试运行之后通过分析logging记录的方式来debug.\n",
    "\n",
    "在logging框架下首先我们需要初始化一个logger来处理log,之后通过添加handler,Formatter和config子属性来自定义我们的logger.\n",
    "\n",
    "> 一个简单的例子"
   ]
  },
  {
   "cell_type": "code",
   "execution_count": 3,
   "metadata": {},
   "outputs": [
    {
     "name": "stderr",
     "output_type": "stream",
     "text": [
      "w\n"
     ]
    }
   ],
   "source": [
    "import logging\n",
    "import sys\n",
    "#日志的名字,会在每行的一开始写\n",
    "logger = logging.getLogger(\"endlesscode\")\n",
    "#格式化\n",
    "formatter = logging.Formatter('%(name)-12s %(asctime)s %(levelname)-8s %(message)s', '%a, %d %b %Y %H:%M:%S',)\n",
    "#设定输出文件\n",
    "file_handler = logging.FileHandler(\"src/test.log\")\n",
    "#为handler设置输出格式\n",
    "file_handler.setFormatter(formatter)\n",
    "#流控制,将信息输出到标准流输出\n",
    "stream_handler = logging.StreamHandler(sys.stderr)\n",
    "#为logger设置handler\n",
    "logger.addHandler(file_handler)\n",
    "#发送信息到流\n",
    "logger.addHandler(stream_handler)\n",
    "#设置报错等级\n",
    "#logger.setLevel(logging.ERROR)\n",
    "#报错\n",
    "logger.error(\"w\")\n",
    "#移除handler\n",
    "logger.removeHandler(stream_handler)\n",
    "#报错\n",
    "logger.error(\"f\")"
   ]
  },
  {
   "cell_type": "markdown",
   "metadata": {},
   "source": [
    "其中\n",
    "\n",
    "+ level: 设置日志级别，默认为logging.WARNING\n",
    "\n",
    "+ stream: 指定将日志的输出流，可以指定输出到sys.stderr,sys.stdout或者文件，默认输出到sys.stderr，当stream和filename同时指定时，stream被忽略"
   ]
  },
  {
   "cell_type": "markdown",
   "metadata": {},
   "source": [
    "## 输出文本的格式化\n",
    "\n",
    "元素|格式化字符串|描述\n",
    "---|---|---\n",
    "args|不用格式化|\t参数会是一个元组\n",
    "asctime\t|`%(asctime)s`\t|可读的时间\n",
    "created\t|`%(created)f`|\t记录的创建时间\n",
    "filename\t|`%(filename)s`\t|文件名\n",
    "funcName\t|`%(funcName)s`\t|函数名\n",
    "levelname\t|`%(levelname)s`\t|错误,警报等的名字\n",
    "levelno\t|`%(levelno)s`|错误,警报等,是预警等级\n",
    "lineno\t|`%(lineno)d\t`|报错行数\n",
    "module\t|`%(module)s`\t|报错模块\n",
    "msecs\t|`%(msecs)d`\t|毫秒级的出错时间\n",
    "message|`%(message)s`\t|错误信息\n",
    "name\t|`%(name)s`\t|log的名字\n",
    "pathname\t|`%(pathname)s`\t|报错文件所在path\n",
    "process\t|`%(process)d`\t|进程id\n",
    "processName\t|`%(processName)s`\t|进程名\n",
    "relativeCreated\t|`%(relativeCreated)d`\t|微秒级的报错时间\n",
    "thread\t|`%(thread)d`\t|线程id\n",
    "threadName\t|`%(threadName)s`|线程名"
   ]
  },
  {
   "cell_type": "markdown",
   "metadata": {},
   "source": [
    "## 日志回滚\n",
    "\n",
    "日志也不是一直记录就好,也要考录时效性和存储空间的限制,回滚机制便是解决这个问题的"
   ]
  },
  {
   "cell_type": "code",
   "execution_count": 4,
   "metadata": {},
   "outputs": [],
   "source": [
    "from logging.handlers import RotatingFileHandler\n",
    "#定义一个RotatingFileHandler，最多备份5个日志文件，每个日志文件最大10M\n",
    "Rthandler = RotatingFileHandler('src/myapp.log', maxBytes=10*1024*1024,backupCount=5)\n",
    "Rthandler.setLevel(logging.INFO)\n",
    "formatter = logging.Formatter('%(name)-12s: %(levelname)-8s %(message)s')\n",
    "Rthandler.setFormatter(formatter)\n",
    "logging.getLogger('').addHandler(Rthandler)"
   ]
  },
  {
   "cell_type": "markdown",
   "metadata": {},
   "source": [
    "## 几种handler\n",
    "\n",
    "+ StreamHandler(stream=None) \n",
    "    流输出\n",
    "    \n",
    "+ FileHandler(filename, mode='a', encoding=None, delay=False)\n",
    "    写入文件\n",
    "    \n",
    "+ WatchedFileHandler(filename[, mode[, encoding[, delay]]])\n",
    "    监控log文件\n",
    "    \n",
    "+ RotatingFileHandler(filename, mode='a', maxBytes=0, backupCount=0, encoding=None, delay=0)\n",
    "    轮替日志,根据日志文件的大小来循环\n",
    "    \n",
    "+ TimedRotatingFileHandler(filename, when='h', interval=1, backupCount=0, encoding=None, delay=False, utc=False, atTime=None)\n",
    "    轮替日志,根据时间来循环,interval参数可选的值有:\n",
    "    + \"S\"-Seconds\n",
    "    + 'M'-Minutes\n",
    "    + 'H'-Hours\n",
    "    + 'D'-Days\n",
    "    + 'W0'~'W6'-Weekday (0=Monday)\n",
    "    + 'midnight'-半夜循环\n",
    "    \n",
    "+ SocketHandler(host, port)\n",
    "    把log送到网上的socket\n",
    "\n",
    "+ DatagramHandler(host, port)\n",
    "    把log送到网上的UDP sockets\n",
    "\n",
    "+ SysLogHandler(address=('localhost', SYSLOG_UDP_PORT), facility=LOG_USER, socktype=socket.SOCK_DGRAM)\n",
    "    log送到unix系统log\n",
    "    \n",
    "+ SMTPHandler(mailhost, fromaddr, toaddrs, subject, credentials=None, secure=None, timeout=1.0)\n",
    "    log送到电子邮箱\n",
    "    \n",
    "+ MemoryHandler(capacity, flushLevel=ERROR, target=None)\n",
    "    log存入内存\n",
    "    \n",
    "+ HTTPHandler(host, url, method='GET', secure=False, credentials=None, context=None)\n",
    "    log通过http网络送到服务器"
   ]
  },
  {
   "cell_type": "markdown",
   "metadata": {},
   "source": [
    "## 使用`.conf`设置文件设置logging行为\n",
    "\n",
    "当然可以在程序中设置log了,但为了改起来方便也可以写在别的文件中然后用`config.fileConfig(path)`来设置,配置文件的形式是这样:\n",
    "\n",
    "```\n",
    "[loggers]\n",
    "keys=root,simpleExample\n",
    "\n",
    "[handlers]\n",
    "keys=consoleHandler\n",
    "\n",
    "[formatters]\n",
    "keys=simpleFormatter\n",
    "\n",
    "[logger_root]\n",
    "level=DEBUG\n",
    "handlers=consoleHandler\n",
    "\n",
    "[logger_simpleExample]\n",
    "level=DEBUG\n",
    "handlers=consoleHandler\n",
    "qualname=simpleExample\n",
    "propagate=0\n",
    "\n",
    "[handler_consoleHandler]\n",
    "class=StreamHandler\n",
    "level=DEBUG\n",
    "formatter=simpleFormatter\n",
    "args=(sys.stdout,)\n",
    "\n",
    "[formatter_simpleFormatter]\n",
    "format=%(asctime)s - %(name)s - %(levelname)s - %(message)s\n",
    "datefmt=%a, %d %b %Y %H:%M:%S\n",
    "    \n",
    "```\n",
    "\n",
    "要注意的是如果用这种方式那么,使用`rotation file handler `时，不要同时声明` file handler`，否则` rotation `发生时，`doRollover` 函数的` os.rename` 会报错(「另一个程序正在使用此文件，进程无法访问).当然,可以写另一个py文件专门用来初始化,要用的时候`import`进来就好了."
   ]
  },
  {
   "cell_type": "markdown",
   "metadata": {},
   "source": [
    "## 使用字典配置logging行为\n",
    "\n",
    "上面一种看起来比较晦涩难懂难以维护,更加pythonic的做法是使用字典进行配置"
   ]
  },
  {
   "cell_type": "code",
   "execution_count": 6,
   "metadata": {},
   "outputs": [],
   "source": [
    "import sys\n",
    "import logging\n",
    "import logging.config\n",
    "LOGGING_CONFIG = dict(\n",
    "    version=1,\n",
    "    loggers={\n",
    "        \"<模块>\":{\n",
    "            \"level\": \"INFO\",\n",
    "            \"handlers\": [\"model_console\"]\n",
    "        },\n",
    "        \"<服务>\": {\n",
    "            \"level\": \"INFO\",\n",
    "            \"handlers\": [\"server_console\"]\n",
    "        }\n",
    "    },\n",
    "    handlers={\n",
    "        \"model_console\": {\n",
    "            \"class\": \"logging.StreamHandler\",\n",
    "            \"formatter\": \"model\",\n",
    "            \"stream\": sys.stdout\n",
    "        },\n",
    "        \"server_console\": {\n",
    "            \"class\": \"logging.StreamHandler\",\n",
    "            \"formatter\": \"server\",\n",
    "            \"stream\": sys.stdout\n",
    "        }\n",
    "    },\n",
    "    formatters={\n",
    "        \"model\": {\n",
    "            \"format\": \"%(asctime)s :: %(name)s  :: %(levelname)s :: %(process)d :: \"+\n",
    "            \"%(module)s - line %(lineno)d - funcname: %(funcName)s - params: %(params)s :: %(message)s\",\n",
    "            \"datefmt\": \"[%Y-%m-%d %H:%M:%S %z]\",\n",
    "            \"class\": \"logging.Formatter\"\n",
    "        },\n",
    "        \"server\": {\n",
    "            \"format\": \"%(asctime)s :: %(name)s :: %(levelname)s :: %(host)s :: \" +\n",
    "                      \"%(request)s :: %(message)s\",\n",
    "            \"datefmt\": \"[%Y-%m-%d %H:%M:%S %z]\",\n",
    "            \"class\": \"logging.Formatter\"\n",
    "        }\n",
    "    }\n",
    ")\n"
   ]
  },
  {
   "cell_type": "code",
   "execution_count": 7,
   "metadata": {},
   "outputs": [],
   "source": [
    "logging.config.dictConfig(LOGGING_CONFIG)\n",
    "model_logger = logging.getLogger('<模块>')\n",
    "server_logger = logging.getLogger('<服务>')\n",
    "\n",
    "def a():\n",
    "    model_logger.info(\"qwer\",extra= dict(params = [\"123\",12]))"
   ]
  },
  {
   "cell_type": "code",
   "execution_count": 8,
   "metadata": {},
   "outputs": [
    {
     "name": "stdout",
     "output_type": "stream",
     "text": [
      "[2018-06-06 17:35:01 +0800] :: <模块>  :: INFO :: 27392 :: <ipython-input-7-0aa5e3aa1d5b> - line 6 - funcname: a - params: ['123', 12] :: qwer\n"
     ]
    }
   ],
   "source": [
    "a()"
   ]
  },
  {
   "cell_type": "markdown",
   "metadata": {},
   "source": [
    "## 结构化log\n",
    "\n",
    "现在很多场景尤其是ELK体系下的log要求使用json格式.我们可以借助了第三方工具[structlog](http://www.structlog.org/en/stable/index.html)用于结构化log数据\n",
    "\n",
    "结构化log需要配置两块:\n",
    "\n",
    "+ structlog部分需要配置"
   ]
  },
  {
   "cell_type": "code",
   "execution_count": 1,
   "metadata": {},
   "outputs": [],
   "source": [
    "import structlog\n",
    "\n",
    "structlog.configure(\n",
    "    processors=[\n",
    "        structlog.stdlib.filter_by_level, # 判断是否接受某个level的log消息\n",
    "        structlog.stdlib.add_logger_name, # 增加字段logger\n",
    "        structlog.stdlib.add_log_level, #增加字段level\n",
    "        structlog.stdlib.PositionalArgumentsFormatter(),\n",
    "        structlog.processors.TimeStamper(fmt=\"iso\"), #增加字段timestamp且使用iso格式输出\n",
    "        structlog.processors.StackInfoRenderer(),\n",
    "        structlog.processors.format_exc_info,# 捕获异常的栈信息\n",
    "        structlog.processors.StackInfoRenderer(), # 详细栈信息\n",
    "        structlog.processors.JSONRenderer() #json格式输出,第一个参数会被放入event字段\n",
    "    ],\n",
    "    context_class=dict,\n",
    "    logger_factory=structlog.stdlib.LoggerFactory(),\n",
    "    wrapper_class=structlog.stdlib.BoundLogger,\n",
    "    cache_logger_on_first_use=True,\n",
    ")\n"
   ]
  },
  {
   "cell_type": "markdown",
   "metadata": {},
   "source": [
    "+ 配置标准库的log"
   ]
  },
  {
   "cell_type": "code",
   "execution_count": 2,
   "metadata": {},
   "outputs": [],
   "source": [
    "import logging\n",
    "import sys\n",
    "handler = logging.StreamHandler(sys.stdout)\n",
    "root_logger = logging.getLogger()\n",
    "root_logger.addHandler(handler)\n",
    "\n",
    "root_logger.setLevel(logging.INFO) # 设置最低log等级"
   ]
  },
  {
   "cell_type": "markdown",
   "metadata": {},
   "source": [
    "之后使用`structlog.get_logger`构造logger,就可以使用它来输出结构化的log了"
   ]
  },
  {
   "cell_type": "code",
   "execution_count": 3,
   "metadata": {},
   "outputs": [],
   "source": [
    "log = structlog.get_logger(\"test\")"
   ]
  },
  {
   "cell_type": "code",
   "execution_count": 4,
   "metadata": {},
   "outputs": [
    {
     "name": "stdout",
     "output_type": "stream",
     "text": [
      "{\"xyz\": 123, \"event\": \"hi\", \"logger\": \"test\", \"level\": \"info\", \"timestamp\": \"2019-04-28T15:23:15.399927Z\"}\n"
     ]
    }
   ],
   "source": [
    "log.info('hi', **{ 'xyz': 123 })"
   ]
  },
  {
   "cell_type": "code",
   "execution_count": 5,
   "metadata": {},
   "outputs": [],
   "source": [
    "log.debug('hi', **{ 'xyz': 123 })"
   ]
  },
  {
   "cell_type": "markdown",
   "metadata": {},
   "source": [
    "我们还可以使用`structlog.processors.format_exc_info`来自动捕获异常信息,使用`structlog.processors.StackInfoRenderer()`来获取栈信息"
   ]
  },
  {
   "cell_type": "code",
   "execution_count": 8,
   "metadata": {},
   "outputs": [
    {
     "name": "stdout",
     "output_type": "stream",
     "text": [
      "{\"event\": \"error\", \"logger\": \"test\", \"level\": \"error\", \"timestamp\": \"2019-04-28T15:25:05.180099Z\", \"stack\": \"Stack (most recent call last):\\n  File \\\"/Users/huangsizhe/Lib/conda/anaconda3/lib/python3.7/runpy.py\\\", line 193, in _run_module_as_main\\n    \\\"__main__\\\", mod_spec)\\n  File \\\"/Users/huangsizhe/Lib/conda/anaconda3/lib/python3.7/runpy.py\\\", line 85, in _run_code\\n    exec(code, run_globals)\\n  File \\\"/Users/huangsizhe/Lib/conda/anaconda3/lib/python3.7/site-packages/ipykernel_launcher.py\\\", line 16, in <module>\\n    app.launch_new_instance()\\n  File \\\"/Users/huangsizhe/Lib/conda/anaconda3/lib/python3.7/site-packages/traitlets/config/application.py\\\", line 658, in launch_instance\\n    app.start()\\n  File \\\"/Users/huangsizhe/Lib/conda/anaconda3/lib/python3.7/site-packages/ipykernel/kernelapp.py\\\", line 499, in start\\n    self.io_loop.start()\\n  File \\\"/Users/huangsizhe/Lib/conda/anaconda3/lib/python3.7/site-packages/tornado/platform/asyncio.py\\\", line 132, in start\\n    self.asyncio_loop.run_forever()\\n  File \\\"/Users/huangsizhe/Lib/conda/anaconda3/lib/python3.7/asyncio/base_events.py\\\", line 539, in run_forever\\n    self._run_once()\\n  File \\\"/Users/huangsizhe/Lib/conda/anaconda3/lib/python3.7/asyncio/base_events.py\\\", line 1775, in _run_once\\n    handle._run()\\n  File \\\"/Users/huangsizhe/Lib/conda/anaconda3/lib/python3.7/asyncio/events.py\\\", line 88, in _run\\n    self._context.run(self._callback, *self._args)\\n  File \\\"/Users/huangsizhe/Lib/conda/anaconda3/lib/python3.7/site-packages/tornado/platform/asyncio.py\\\", line 122, in _handle_events\\n    handler_func(fileobj, events)\\n  File \\\"/Users/huangsizhe/Lib/conda/anaconda3/lib/python3.7/site-packages/tornado/stack_context.py\\\", line 300, in null_wrapper\\n    return fn(*args, **kwargs)\\n  File \\\"/Users/huangsizhe/Lib/conda/anaconda3/lib/python3.7/site-packages/zmq/eventloop/zmqstream.py\\\", line 450, in _handle_events\\n    self._handle_recv()\\n  File \\\"/Users/huangsizhe/Lib/conda/anaconda3/lib/python3.7/site-packages/zmq/eventloop/zmqstream.py\\\", line 480, in _handle_recv\\n    self._run_callback(callback, msg)\\n  File \\\"/Users/huangsizhe/Lib/conda/anaconda3/lib/python3.7/site-packages/zmq/eventloop/zmqstream.py\\\", line 432, in _run_callback\\n    callback(*args, **kwargs)\\n  File \\\"/Users/huangsizhe/Lib/conda/anaconda3/lib/python3.7/site-packages/tornado/stack_context.py\\\", line 300, in null_wrapper\\n    return fn(*args, **kwargs)\\n  File \\\"/Users/huangsizhe/Lib/conda/anaconda3/lib/python3.7/site-packages/ipykernel/kernelbase.py\\\", line 283, in dispatcher\\n    return self.dispatch_shell(stream, msg)\\n  File \\\"/Users/huangsizhe/Lib/conda/anaconda3/lib/python3.7/site-packages/ipykernel/kernelbase.py\\\", line 233, in dispatch_shell\\n    handler(stream, idents, msg)\\n  File \\\"/Users/huangsizhe/Lib/conda/anaconda3/lib/python3.7/site-packages/ipykernel/kernelbase.py\\\", line 399, in execute_request\\n    user_expressions, allow_stdin)\\n  File \\\"/Users/huangsizhe/Lib/conda/anaconda3/lib/python3.7/site-packages/ipykernel/ipkernel.py\\\", line 208, in do_execute\\n    res = shell.run_cell(code, store_history=store_history, silent=silent)\\n  File \\\"/Users/huangsizhe/Lib/conda/anaconda3/lib/python3.7/site-packages/ipykernel/zmqshell.py\\\", line 537, in run_cell\\n    return super(ZMQInteractiveShell, self).run_cell(*args, **kwargs)\\n  File \\\"/Users/huangsizhe/Lib/conda/anaconda3/lib/python3.7/site-packages/IPython/core/interactiveshell.py\\\", line 2662, in run_cell\\n    raw_cell, store_history, silent, shell_futures)\\n  File \\\"/Users/huangsizhe/Lib/conda/anaconda3/lib/python3.7/site-packages/IPython/core/interactiveshell.py\\\", line 2785, in _run_cell\\n    interactivity=interactivity, compiler=compiler, result=result)\\n  File \\\"/Users/huangsizhe/Lib/conda/anaconda3/lib/python3.7/site-packages/IPython/core/interactiveshell.py\\\", line 2901, in run_ast_nodes\\n    if self.run_code(code, result):\\n  File \\\"/Users/huangsizhe/Lib/conda/anaconda3/lib/python3.7/site-packages/IPython/core/interactiveshell.py\\\", line 2961, in run_code\\n    exec(code_obj, self.user_global_ns, self.user_ns)\\n  File \\\"<ipython-input-8-d30057b99fc0>\\\", line 4, in <module>\\n    log.error(\\\"error\\\",exc_info=True,stack_info=True)\", \"exception\": \"Traceback (most recent call last):\\n  File \\\"<ipython-input-8-d30057b99fc0>\\\", line 2, in <module>\\n    assert False,\\\"sdfaa\\\"\\nAssertionError: sdfaa\"}\n"
     ]
    }
   ],
   "source": [
    "try:\n",
    "    assert False,\"sdfaa\"\n",
    "except:\n",
    "    log.error(\"error\",exc_info=True,stack_info=True)"
   ]
  }
 ],
 "metadata": {
  "kernelspec": {
   "display_name": "Python 3",
   "language": "python",
   "name": "python3"
  },
  "language_info": {
   "codemirror_mode": {
    "name": "ipython",
    "version": 3
   },
   "file_extension": ".py",
   "mimetype": "text/x-python",
   "name": "python",
   "nbconvert_exporter": "python",
   "pygments_lexer": "ipython3",
   "version": "3.7.2"
  }
 },
 "nbformat": 4,
 "nbformat_minor": 2
}
