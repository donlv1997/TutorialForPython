{
 "cells": [
  {
   "cell_type": "markdown",
   "id": "30204e01-dcea-46b5-8ede-50a2911690d3",
   "metadata": {},
   "source": [
    "## T-test"
   ]
  },
  {
   "cell_type": "code",
   "execution_count": 1,
   "id": "26953ac7-c498-45d3-bafc-9588acde6166",
   "metadata": {},
   "outputs": [
    {
     "data": {
      "text/html": [
       "<div>\n",
       "<style scoped>\n",
       "    .dataframe tbody tr th:only-of-type {\n",
       "        vertical-align: middle;\n",
       "    }\n",
       "\n",
       "    .dataframe tbody tr th {\n",
       "        vertical-align: top;\n",
       "    }\n",
       "\n",
       "    .dataframe thead th {\n",
       "        text-align: right;\n",
       "    }\n",
       "</style>\n",
       "<table border=\"1\" class=\"dataframe\">\n",
       "  <thead>\n",
       "    <tr style=\"text-align: right;\">\n",
       "      <th></th>\n",
       "      <th>T</th>\n",
       "      <th>dof</th>\n",
       "      <th>alternative</th>\n",
       "      <th>p-val</th>\n",
       "      <th>CI95%</th>\n",
       "      <th>cohen-d</th>\n",
       "      <th>BF10</th>\n",
       "      <th>power</th>\n",
       "    </tr>\n",
       "  </thead>\n",
       "  <tbody>\n",
       "    <tr>\n",
       "      <th>T-test</th>\n",
       "      <td>-3.400706</td>\n",
       "      <td>58</td>\n",
       "      <td>two-sided</td>\n",
       "      <td>0.001222</td>\n",
       "      <td>[-1.68, -0.43]</td>\n",
       "      <td>0.878059</td>\n",
       "      <td>26.155</td>\n",
       "      <td>0.916807</td>\n",
       "    </tr>\n",
       "  </tbody>\n",
       "</table>\n",
       "</div>"
      ],
      "text/plain": [
       "               T  dof alternative     p-val           CI95%   cohen-d    BF10  \\\n",
       "T-test -3.400706   58   two-sided  0.001222  [-1.68, -0.43]  0.878059  26.155   \n",
       "\n",
       "           power  \n",
       "T-test  0.916807  "
      ]
     },
     "execution_count": 1,
     "metadata": {},
     "output_type": "execute_result"
    }
   ],
   "source": [
    "import numpy as np\n",
    "import pingouin as pg\n",
    "\n",
    "np.random.seed(123)\n",
    "mean, cov, n = [4, 5], [(1, .6), (.6, 1)], 30\n",
    "x, y = np.random.multivariate_normal(mean, cov, n).T\n",
    "\n",
    "# T-test\n",
    "pg.ttest(x, y)"
   ]
  },
  {
   "cell_type": "markdown",
   "id": "4e8cdb53-ef56-466e-83a9-ddba152526b2",
   "metadata": {},
   "source": [
    "## Pearson's correlation"
   ]
  },
  {
   "cell_type": "code",
   "execution_count": 2,
   "id": "508f50e2-8bcb-4d0e-a82a-8f1074d3b9cc",
   "metadata": {},
   "outputs": [
    {
     "data": {
      "text/html": [
       "<div>\n",
       "<style scoped>\n",
       "    .dataframe tbody tr th:only-of-type {\n",
       "        vertical-align: middle;\n",
       "    }\n",
       "\n",
       "    .dataframe tbody tr th {\n",
       "        vertical-align: top;\n",
       "    }\n",
       "\n",
       "    .dataframe thead th {\n",
       "        text-align: right;\n",
       "    }\n",
       "</style>\n",
       "<table border=\"1\" class=\"dataframe\">\n",
       "  <thead>\n",
       "    <tr style=\"text-align: right;\">\n",
       "      <th></th>\n",
       "      <th>n</th>\n",
       "      <th>r</th>\n",
       "      <th>CI95%</th>\n",
       "      <th>p-val</th>\n",
       "      <th>BF10</th>\n",
       "      <th>power</th>\n",
       "    </tr>\n",
       "  </thead>\n",
       "  <tbody>\n",
       "    <tr>\n",
       "      <th>pearson</th>\n",
       "      <td>30</td>\n",
       "      <td>0.594785</td>\n",
       "      <td>[0.3, 0.79]</td>\n",
       "      <td>0.000527</td>\n",
       "      <td>69.723</td>\n",
       "      <td>0.950373</td>\n",
       "    </tr>\n",
       "  </tbody>\n",
       "</table>\n",
       "</div>"
      ],
      "text/plain": [
       "          n         r        CI95%     p-val    BF10     power\n",
       "pearson  30  0.594785  [0.3, 0.79]  0.000527  69.723  0.950373"
      ]
     },
     "execution_count": 2,
     "metadata": {},
     "output_type": "execute_result"
    }
   ],
   "source": [
    "pg.corr(x, y)"
   ]
  },
  {
   "cell_type": "markdown",
   "id": "df7bd1d6-35f3-4c4b-acad-2005241fc561",
   "metadata": {},
   "source": [
    "## Robust correlation"
   ]
  },
  {
   "cell_type": "code",
   "execution_count": 3,
   "id": "3ebe99d3-a301-4632-a229-09fad59ff053",
   "metadata": {},
   "outputs": [
    {
     "data": {
      "text/html": [
       "<div>\n",
       "<style scoped>\n",
       "    .dataframe tbody tr th:only-of-type {\n",
       "        vertical-align: middle;\n",
       "    }\n",
       "\n",
       "    .dataframe tbody tr th {\n",
       "        vertical-align: top;\n",
       "    }\n",
       "\n",
       "    .dataframe thead th {\n",
       "        text-align: right;\n",
       "    }\n",
       "</style>\n",
       "<table border=\"1\" class=\"dataframe\">\n",
       "  <thead>\n",
       "    <tr style=\"text-align: right;\">\n",
       "      <th></th>\n",
       "      <th>n</th>\n",
       "      <th>r</th>\n",
       "      <th>CI95%</th>\n",
       "      <th>p-val</th>\n",
       "      <th>power</th>\n",
       "    </tr>\n",
       "  </thead>\n",
       "  <tbody>\n",
       "    <tr>\n",
       "      <th>bicor</th>\n",
       "      <td>30</td>\n",
       "      <td>0.575834</td>\n",
       "      <td>[0.27, 0.78]</td>\n",
       "      <td>0.000869</td>\n",
       "      <td>0.932799</td>\n",
       "    </tr>\n",
       "  </tbody>\n",
       "</table>\n",
       "</div>"
      ],
      "text/plain": [
       "        n         r         CI95%     p-val     power\n",
       "bicor  30  0.575834  [0.27, 0.78]  0.000869  0.932799"
      ]
     },
     "execution_count": 3,
     "metadata": {},
     "output_type": "execute_result"
    }
   ],
   "source": [
    "# Introduce an outlier\n",
    "x[5] = 18\n",
    "# Use the robust biweight midcorrelation\n",
    "pg.corr(x, y, method=\"bicor\")"
   ]
  },
  {
   "cell_type": "markdown",
   "id": "298945c3-489b-42e9-ace5-98e135089199",
   "metadata": {},
   "source": [
    "## Test the normality of the data"
   ]
  },
  {
   "cell_type": "code",
   "execution_count": 4,
   "id": "84bb89f9-3940-4928-90c1-164156bbb184",
   "metadata": {},
   "outputs": [
    {
     "name": "stdout",
     "output_type": "stream",
     "text": [
      "          W          pval  normal\n",
      "0  0.615321  1.128494e-07   False\n",
      "HZResults(hz=1.6967733646126668, pval=0.00018201726664169367, normal=False)\n"
     ]
    }
   ],
   "source": [
    "print(pg.normality(x))                                    # Univariate normality\n",
    "print(pg.multivariate_normality(np.column_stack((x, y)))) # Multivariate normality"
   ]
  },
  {
   "cell_type": "markdown",
   "id": "e77849b4-6039-437a-b925-341fc46342d1",
   "metadata": {},
   "source": [
    "## One-way ANOVA using a pandas DataFrame"
   ]
  },
  {
   "cell_type": "code",
   "execution_count": 5,
   "id": "2690d703-23c5-4736-a6f6-0243c058e22b",
   "metadata": {},
   "outputs": [
    {
     "name": "stdout",
     "output_type": "stream",
     "text": [
      "   Source          SS   DF        MS         F   p-unc       np2\n",
      "0   Group    5.459963    1  5.459963  5.243656  0.0232  0.028616\n",
      "1  Within  185.342729  178  1.041251       NaN     NaN       NaN\n"
     ]
    }
   ],
   "source": [
    "# Read an example dataset\n",
    "df = pg.read_dataset('mixed_anova')\n",
    "\n",
    "# Run the ANOVA\n",
    "aov = pg.anova(data=df, dv='Scores', between='Group', detailed=True)\n",
    "print(aov)"
   ]
  },
  {
   "cell_type": "markdown",
   "id": "448ddaa4-a24f-44fe-9067-d2336b3864d1",
   "metadata": {},
   "source": [
    "## Repeated measures ANOVA"
   ]
  },
  {
   "cell_type": "code",
   "execution_count": 6,
   "id": "168c4ef1-9c18-4461-80f0-6454b7e40716",
   "metadata": {},
   "outputs": [
    {
     "data": {
      "text/html": [
       "<div>\n",
       "<style scoped>\n",
       "    .dataframe tbody tr th:only-of-type {\n",
       "        vertical-align: middle;\n",
       "    }\n",
       "\n",
       "    .dataframe tbody tr th {\n",
       "        vertical-align: top;\n",
       "    }\n",
       "\n",
       "    .dataframe thead th {\n",
       "        text-align: right;\n",
       "    }\n",
       "</style>\n",
       "<table border=\"1\" class=\"dataframe\">\n",
       "  <thead>\n",
       "    <tr style=\"text-align: right;\">\n",
       "      <th></th>\n",
       "      <th>Source</th>\n",
       "      <th>SS</th>\n",
       "      <th>DF</th>\n",
       "      <th>MS</th>\n",
       "      <th>F</th>\n",
       "      <th>p-unc</th>\n",
       "      <th>ng2</th>\n",
       "      <th>eps</th>\n",
       "    </tr>\n",
       "  </thead>\n",
       "  <tbody>\n",
       "    <tr>\n",
       "      <th>0</th>\n",
       "      <td>Time</td>\n",
       "      <td>7.628428</td>\n",
       "      <td>2</td>\n",
       "      <td>3.814214</td>\n",
       "      <td>3.912796</td>\n",
       "      <td>0.022629</td>\n",
       "      <td>0.039981</td>\n",
       "      <td>0.998751</td>\n",
       "    </tr>\n",
       "    <tr>\n",
       "      <th>1</th>\n",
       "      <td>Error</td>\n",
       "      <td>115.027023</td>\n",
       "      <td>118</td>\n",
       "      <td>0.974805</td>\n",
       "      <td>NaN</td>\n",
       "      <td>NaN</td>\n",
       "      <td>NaN</td>\n",
       "      <td>NaN</td>\n",
       "    </tr>\n",
       "  </tbody>\n",
       "</table>\n",
       "</div>"
      ],
      "text/plain": [
       "  Source          SS   DF        MS         F     p-unc       ng2       eps\n",
       "0   Time    7.628428    2  3.814214  3.912796  0.022629  0.039981  0.998751\n",
       "1  Error  115.027023  118  0.974805       NaN       NaN       NaN       NaN"
      ]
     },
     "execution_count": 6,
     "metadata": {},
     "output_type": "execute_result"
    }
   ],
   "source": [
    "pg.rm_anova(data=df, dv='Scores', within='Time', subject='Subject', detailed=True)"
   ]
  },
  {
   "cell_type": "markdown",
   "id": "90b7288a-baa8-4c05-a00f-209dc55ad94a",
   "metadata": {},
   "source": [
    "## Post-hoc tests corrected for multiple-comparisons"
   ]
  },
  {
   "cell_type": "code",
   "execution_count": 7,
   "id": "6dd263a6-ec56-4cee-be07-6d76e115fa17",
   "metadata": {},
   "outputs": [
    {
     "name": "stdout",
     "output_type": "stream",
     "text": [
      "\n",
      "==============\n",
      "POST HOC TESTS\n",
      "==============\n",
      "\n",
      "Contrast    A        B        Paired    Parametric         T     dof  alternative      p-unc    p-corr  p-adjust      BF10    hedges\n",
      "----------  -------  -------  --------  ------------  ------  ------  -------------  -------  --------  ----------  ------  --------\n",
      "Time        August   January  True      True          -1.740  59.000  two-sided        0.087     0.131  fdr_bh       0.582    -0.328\n",
      "Time        August   June     True      True          -2.743  59.000  two-sided        0.008     0.024  fdr_bh       4.232    -0.483\n",
      "Time        January  June     True      True          -1.024  59.000  two-sided        0.310     0.310  fdr_bh       0.232    -0.170\n",
      "\n"
     ]
    }
   ],
   "source": [
    "# FDR-corrected post hocs with Hedges'g effect size\n",
    "posthoc = pg.pairwise_tests(data=df, dv='Scores', within='Time', subject='Subject',\n",
    "                             parametric=True, padjust='fdr_bh', effsize='hedges')\n",
    "\n",
    "# Pretty printing of table\n",
    "pg.print_table(posthoc, floatfmt='.3f')"
   ]
  },
  {
   "cell_type": "markdown",
   "id": "07de085a-26c4-4bcd-b60b-fb5a20c58209",
   "metadata": {},
   "source": [
    "## Two-way mixed ANOVA"
   ]
  },
  {
   "cell_type": "code",
   "execution_count": 8,
   "id": "9c472030-effa-4bb1-b004-b27317035240",
   "metadata": {},
   "outputs": [
    {
     "name": "stdout",
     "output_type": "stream",
     "text": [
      "\n",
      "=============\n",
      "ANOVA SUMMARY\n",
      "=============\n",
      "\n",
      "Source          SS    DF1    DF2     MS      F    p-unc    np2      eps\n",
      "-----------  -----  -----  -----  -----  -----  -------  -----  -------\n",
      "Group        5.460      1     58  5.460  5.052    0.028  0.080  nan\n",
      "Time         7.628      2    116  3.814  4.027    0.020  0.065    0.999\n",
      "Interaction  5.167      2    116  2.584  2.728    0.070  0.045  nan\n",
      "\n"
     ]
    }
   ],
   "source": [
    "# Compute the two-way mixed ANOVA\n",
    "aov = pg.mixed_anova(data=df, dv='Scores', between='Group', within='Time',\n",
    "                     subject='Subject', correction=False, effsize=\"np2\")\n",
    "pg.print_table(aov)"
   ]
  },
  {
   "cell_type": "markdown",
   "id": "5107c9c1-6f99-4825-b29a-a057ba775b48",
   "metadata": {},
   "source": [
    "## Pairwise correlations between columns of a dataframe"
   ]
  },
  {
   "cell_type": "code",
   "execution_count": 9,
   "id": "4611e80d-f138-4076-bf35-f452ff86e4aa",
   "metadata": {},
   "outputs": [
    {
     "data": {
      "text/html": [
       "<div>\n",
       "<style scoped>\n",
       "    .dataframe tbody tr th:only-of-type {\n",
       "        vertical-align: middle;\n",
       "    }\n",
       "\n",
       "    .dataframe tbody tr th {\n",
       "        vertical-align: top;\n",
       "    }\n",
       "\n",
       "    .dataframe thead th {\n",
       "        text-align: right;\n",
       "    }\n",
       "</style>\n",
       "<table border=\"1\" class=\"dataframe\">\n",
       "  <thead>\n",
       "    <tr style=\"text-align: right;\">\n",
       "      <th></th>\n",
       "      <th>X</th>\n",
       "      <th>Y</th>\n",
       "      <th>method</th>\n",
       "      <th>alternative</th>\n",
       "      <th>n</th>\n",
       "      <th>r</th>\n",
       "      <th>CI95%</th>\n",
       "      <th>p-unc</th>\n",
       "      <th>BF10</th>\n",
       "      <th>power</th>\n",
       "    </tr>\n",
       "  </thead>\n",
       "  <tbody>\n",
       "    <tr>\n",
       "      <th>0</th>\n",
       "      <td>X</td>\n",
       "      <td>Y</td>\n",
       "      <td>pearson</td>\n",
       "      <td>two-sided</td>\n",
       "      <td>30</td>\n",
       "      <td>0.365979</td>\n",
       "      <td>[0.01, 0.64]</td>\n",
       "      <td>0.046703</td>\n",
       "      <td>1.5</td>\n",
       "      <td>0.524973</td>\n",
       "    </tr>\n",
       "    <tr>\n",
       "      <th>1</th>\n",
       "      <td>X</td>\n",
       "      <td>Z</td>\n",
       "      <td>pearson</td>\n",
       "      <td>two-sided</td>\n",
       "      <td>30</td>\n",
       "      <td>0.251234</td>\n",
       "      <td>[-0.12, 0.56]</td>\n",
       "      <td>0.180509</td>\n",
       "      <td>0.534</td>\n",
       "      <td>0.272089</td>\n",
       "    </tr>\n",
       "    <tr>\n",
       "      <th>2</th>\n",
       "      <td>Y</td>\n",
       "      <td>Z</td>\n",
       "      <td>pearson</td>\n",
       "      <td>two-sided</td>\n",
       "      <td>30</td>\n",
       "      <td>0.020115</td>\n",
       "      <td>[-0.34, 0.38]</td>\n",
       "      <td>0.915975</td>\n",
       "      <td>0.228</td>\n",
       "      <td>0.050775</td>\n",
       "    </tr>\n",
       "  </tbody>\n",
       "</table>\n",
       "</div>"
      ],
      "text/plain": [
       "   X  Y   method alternative   n         r          CI95%     p-unc   BF10  \\\n",
       "0  X  Y  pearson   two-sided  30  0.365979   [0.01, 0.64]  0.046703    1.5   \n",
       "1  X  Z  pearson   two-sided  30  0.251234  [-0.12, 0.56]  0.180509  0.534   \n",
       "2  Y  Z  pearson   two-sided  30  0.020115  [-0.34, 0.38]  0.915975  0.228   \n",
       "\n",
       "      power  \n",
       "0  0.524973  \n",
       "1  0.272089  \n",
       "2  0.050775  "
      ]
     },
     "execution_count": 9,
     "metadata": {},
     "output_type": "execute_result"
    }
   ],
   "source": [
    "import pandas as pd\n",
    "np.random.seed(123)\n",
    "z = np.random.normal(5, 1, 30)\n",
    "data = pd.DataFrame({'X': x, 'Y': y, 'Z': z})\n",
    "pg.pairwise_corr(data, columns=['X', 'Y', 'Z'], method='pearson')"
   ]
  },
  {
   "cell_type": "markdown",
   "id": "7a08a166-1049-4b1c-bce2-fcd6aa0e93e7",
   "metadata": {},
   "source": [
    "## Pairwise T-test between columns of a dataframe"
   ]
  },
  {
   "cell_type": "code",
   "execution_count": 10,
   "id": "b1ce7c1e-1970-4854-9891-9c07ed896145",
   "metadata": {},
   "outputs": [
    {
     "data": {
      "text/html": [
       "<div>\n",
       "<style scoped>\n",
       "    .dataframe tbody tr th:only-of-type {\n",
       "        vertical-align: middle;\n",
       "    }\n",
       "\n",
       "    .dataframe tbody tr th {\n",
       "        vertical-align: top;\n",
       "    }\n",
       "\n",
       "    .dataframe thead th {\n",
       "        text-align: right;\n",
       "    }\n",
       "</style>\n",
       "<table border=\"1\" class=\"dataframe\">\n",
       "  <thead>\n",
       "    <tr style=\"text-align: right;\">\n",
       "      <th></th>\n",
       "      <th>X</th>\n",
       "      <th>Y</th>\n",
       "      <th>Z</th>\n",
       "    </tr>\n",
       "  </thead>\n",
       "  <tbody>\n",
       "    <tr>\n",
       "      <th>X</th>\n",
       "      <td>-</td>\n",
       "      <td>0.226</td>\n",
       "      <td>0.165</td>\n",
       "    </tr>\n",
       "    <tr>\n",
       "      <th>Y</th>\n",
       "      <td>-1.238</td>\n",
       "      <td>-</td>\n",
       "      <td>0.658</td>\n",
       "    </tr>\n",
       "    <tr>\n",
       "      <th>Z</th>\n",
       "      <td>-1.424</td>\n",
       "      <td>-0.447</td>\n",
       "      <td>-</td>\n",
       "    </tr>\n",
       "  </tbody>\n",
       "</table>\n",
       "</div>"
      ],
      "text/plain": [
       "        X       Y      Z\n",
       "X       -   0.226  0.165\n",
       "Y  -1.238       -  0.658\n",
       "Z  -1.424  -0.447      -"
      ]
     },
     "execution_count": 10,
     "metadata": {},
     "output_type": "execute_result"
    }
   ],
   "source": [
    "data.ptests(paired=True, stars=False)"
   ]
  },
  {
   "cell_type": "markdown",
   "id": "07c0c973-c39e-4eb8-a728-1c1947a8d978",
   "metadata": {},
   "source": [
    "##  Multiple linear regression"
   ]
  },
  {
   "cell_type": "code",
   "execution_count": 11,
   "id": "793ed2ce-45ae-4a7a-8962-cbb2b25a484b",
   "metadata": {},
   "outputs": [
    {
     "data": {
      "text/html": [
       "<div>\n",
       "<style scoped>\n",
       "    .dataframe tbody tr th:only-of-type {\n",
       "        vertical-align: middle;\n",
       "    }\n",
       "\n",
       "    .dataframe tbody tr th {\n",
       "        vertical-align: top;\n",
       "    }\n",
       "\n",
       "    .dataframe thead th {\n",
       "        text-align: right;\n",
       "    }\n",
       "</style>\n",
       "<table border=\"1\" class=\"dataframe\">\n",
       "  <thead>\n",
       "    <tr style=\"text-align: right;\">\n",
       "      <th></th>\n",
       "      <th>names</th>\n",
       "      <th>coef</th>\n",
       "      <th>se</th>\n",
       "      <th>T</th>\n",
       "      <th>pval</th>\n",
       "      <th>r2</th>\n",
       "      <th>adj_r2</th>\n",
       "      <th>CI[2.5%]</th>\n",
       "      <th>CI[97.5%]</th>\n",
       "    </tr>\n",
       "  </thead>\n",
       "  <tbody>\n",
       "    <tr>\n",
       "      <th>0</th>\n",
       "      <td>Intercept</td>\n",
       "      <td>4.650341</td>\n",
       "      <td>0.840938</td>\n",
       "      <td>5.529945</td>\n",
       "      <td>0.000007</td>\n",
       "      <td>0.139448</td>\n",
       "      <td>0.075703</td>\n",
       "      <td>2.924879</td>\n",
       "      <td>6.375803</td>\n",
       "    </tr>\n",
       "    <tr>\n",
       "      <th>1</th>\n",
       "      <td>X</td>\n",
       "      <td>0.142874</td>\n",
       "      <td>0.068405</td>\n",
       "      <td>2.088663</td>\n",
       "      <td>0.046298</td>\n",
       "      <td>0.139448</td>\n",
       "      <td>0.075703</td>\n",
       "      <td>0.002519</td>\n",
       "      <td>0.283229</td>\n",
       "    </tr>\n",
       "    <tr>\n",
       "      <th>2</th>\n",
       "      <td>Z</td>\n",
       "      <td>-0.069407</td>\n",
       "      <td>0.166970</td>\n",
       "      <td>-0.415682</td>\n",
       "      <td>0.680928</td>\n",
       "      <td>0.139448</td>\n",
       "      <td>0.075703</td>\n",
       "      <td>-0.412001</td>\n",
       "      <td>0.273188</td>\n",
       "    </tr>\n",
       "  </tbody>\n",
       "</table>\n",
       "</div>"
      ],
      "text/plain": [
       "       names      coef        se         T      pval        r2    adj_r2  \\\n",
       "0  Intercept  4.650341  0.840938  5.529945  0.000007  0.139448  0.075703   \n",
       "1          X  0.142874  0.068405  2.088663  0.046298  0.139448  0.075703   \n",
       "2          Z -0.069407  0.166970 -0.415682  0.680928  0.139448  0.075703   \n",
       "\n",
       "   CI[2.5%]  CI[97.5%]  \n",
       "0  2.924879   6.375803  \n",
       "1  0.002519   0.283229  \n",
       "2 -0.412001   0.273188  "
      ]
     },
     "execution_count": 11,
     "metadata": {},
     "output_type": "execute_result"
    }
   ],
   "source": [
    "pg.linear_regression(data[['X', 'Z']], data['Y'])"
   ]
  },
  {
   "cell_type": "markdown",
   "id": "2495a8d5-e66d-40ba-8a6d-da1fa396e4e3",
   "metadata": {},
   "source": [
    "## Mediation analysis"
   ]
  },
  {
   "cell_type": "code",
   "execution_count": 12,
   "id": "c724a898-da53-48bf-ad53-5fddf18a5d1b",
   "metadata": {},
   "outputs": [
    {
     "data": {
      "text/html": [
       "<div>\n",
       "<style scoped>\n",
       "    .dataframe tbody tr th:only-of-type {\n",
       "        vertical-align: middle;\n",
       "    }\n",
       "\n",
       "    .dataframe tbody tr th {\n",
       "        vertical-align: top;\n",
       "    }\n",
       "\n",
       "    .dataframe thead th {\n",
       "        text-align: right;\n",
       "    }\n",
       "</style>\n",
       "<table border=\"1\" class=\"dataframe\">\n",
       "  <thead>\n",
       "    <tr style=\"text-align: right;\">\n",
       "      <th></th>\n",
       "      <th>path</th>\n",
       "      <th>coef</th>\n",
       "      <th>se</th>\n",
       "      <th>pval</th>\n",
       "      <th>CI[2.5%]</th>\n",
       "      <th>CI[97.5%]</th>\n",
       "      <th>sig</th>\n",
       "    </tr>\n",
       "  </thead>\n",
       "  <tbody>\n",
       "    <tr>\n",
       "      <th>0</th>\n",
       "      <td>Z ~ X</td>\n",
       "      <td>0.102926</td>\n",
       "      <td>0.074940</td>\n",
       "      <td>0.180509</td>\n",
       "      <td>-0.050581</td>\n",
       "      <td>0.256433</td>\n",
       "      <td>No</td>\n",
       "    </tr>\n",
       "    <tr>\n",
       "      <th>1</th>\n",
       "      <td>Y ~ Z</td>\n",
       "      <td>0.018210</td>\n",
       "      <td>0.171044</td>\n",
       "      <td>0.915975</td>\n",
       "      <td>-0.332158</td>\n",
       "      <td>0.368577</td>\n",
       "      <td>No</td>\n",
       "    </tr>\n",
       "    <tr>\n",
       "      <th>2</th>\n",
       "      <td>Total</td>\n",
       "      <td>0.135731</td>\n",
       "      <td>0.065225</td>\n",
       "      <td>0.046703</td>\n",
       "      <td>0.002123</td>\n",
       "      <td>0.269339</td>\n",
       "      <td>Yes</td>\n",
       "    </tr>\n",
       "    <tr>\n",
       "      <th>3</th>\n",
       "      <td>Direct</td>\n",
       "      <td>0.142874</td>\n",
       "      <td>0.068405</td>\n",
       "      <td>0.046298</td>\n",
       "      <td>0.002519</td>\n",
       "      <td>0.283229</td>\n",
       "      <td>Yes</td>\n",
       "    </tr>\n",
       "    <tr>\n",
       "      <th>4</th>\n",
       "      <td>Indirect</td>\n",
       "      <td>-0.007144</td>\n",
       "      <td>0.025426</td>\n",
       "      <td>0.898000</td>\n",
       "      <td>-0.069465</td>\n",
       "      <td>0.028967</td>\n",
       "      <td>No</td>\n",
       "    </tr>\n",
       "  </tbody>\n",
       "</table>\n",
       "</div>"
      ],
      "text/plain": [
       "       path      coef        se      pval  CI[2.5%]  CI[97.5%]  sig\n",
       "0     Z ~ X  0.102926  0.074940  0.180509 -0.050581   0.256433   No\n",
       "1     Y ~ Z  0.018210  0.171044  0.915975 -0.332158   0.368577   No\n",
       "2     Total  0.135731  0.065225  0.046703  0.002123   0.269339  Yes\n",
       "3    Direct  0.142874  0.068405  0.046298  0.002519   0.283229  Yes\n",
       "4  Indirect -0.007144  0.025426  0.898000 -0.069465   0.028967   No"
      ]
     },
     "execution_count": 12,
     "metadata": {},
     "output_type": "execute_result"
    }
   ],
   "source": [
    "pg.mediation_analysis(data=data, x='X', m='Z', y='Y', seed=42, n_boot=1000)"
   ]
  },
  {
   "cell_type": "markdown",
   "id": "b4919ba0-831d-444a-82c2-94c3d6c0aee6",
   "metadata": {},
   "source": [
    "## Contingency analysis"
   ]
  },
  {
   "cell_type": "code",
   "execution_count": 13,
   "id": "9eb1ff16-4f8d-4c6c-a8a1-2b37d26a5d75",
   "metadata": {},
   "outputs": [
    {
     "data": {
      "text/html": [
       "<div>\n",
       "<style scoped>\n",
       "    .dataframe tbody tr th:only-of-type {\n",
       "        vertical-align: middle;\n",
       "    }\n",
       "\n",
       "    .dataframe tbody tr th {\n",
       "        vertical-align: top;\n",
       "    }\n",
       "\n",
       "    .dataframe thead th {\n",
       "        text-align: right;\n",
       "    }\n",
       "</style>\n",
       "<table border=\"1\" class=\"dataframe\">\n",
       "  <thead>\n",
       "    <tr style=\"text-align: right;\">\n",
       "      <th></th>\n",
       "      <th>test</th>\n",
       "      <th>lambda</th>\n",
       "      <th>chi2</th>\n",
       "      <th>dof</th>\n",
       "      <th>pval</th>\n",
       "      <th>cramer</th>\n",
       "      <th>power</th>\n",
       "    </tr>\n",
       "  </thead>\n",
       "  <tbody>\n",
       "    <tr>\n",
       "      <th>0</th>\n",
       "      <td>pearson</td>\n",
       "      <td>1.000000</td>\n",
       "      <td>22.717227</td>\n",
       "      <td>1.0</td>\n",
       "      <td>1.876778e-06</td>\n",
       "      <td>0.273814</td>\n",
       "      <td>0.997494</td>\n",
       "    </tr>\n",
       "    <tr>\n",
       "      <th>1</th>\n",
       "      <td>cressie-read</td>\n",
       "      <td>0.666667</td>\n",
       "      <td>22.931427</td>\n",
       "      <td>1.0</td>\n",
       "      <td>1.678845e-06</td>\n",
       "      <td>0.275102</td>\n",
       "      <td>0.997663</td>\n",
       "    </tr>\n",
       "    <tr>\n",
       "      <th>2</th>\n",
       "      <td>log-likelihood</td>\n",
       "      <td>0.000000</td>\n",
       "      <td>23.557374</td>\n",
       "      <td>1.0</td>\n",
       "      <td>1.212439e-06</td>\n",
       "      <td>0.278832</td>\n",
       "      <td>0.998096</td>\n",
       "    </tr>\n",
       "    <tr>\n",
       "      <th>3</th>\n",
       "      <td>freeman-tukey</td>\n",
       "      <td>-0.500000</td>\n",
       "      <td>24.219622</td>\n",
       "      <td>1.0</td>\n",
       "      <td>8.595211e-07</td>\n",
       "      <td>0.282724</td>\n",
       "      <td>0.998469</td>\n",
       "    </tr>\n",
       "    <tr>\n",
       "      <th>4</th>\n",
       "      <td>mod-log-likelihood</td>\n",
       "      <td>-1.000000</td>\n",
       "      <td>25.071078</td>\n",
       "      <td>1.0</td>\n",
       "      <td>5.525544e-07</td>\n",
       "      <td>0.287651</td>\n",
       "      <td>0.998845</td>\n",
       "    </tr>\n",
       "    <tr>\n",
       "      <th>5</th>\n",
       "      <td>neyman</td>\n",
       "      <td>-2.000000</td>\n",
       "      <td>27.457956</td>\n",
       "      <td>1.0</td>\n",
       "      <td>1.605471e-07</td>\n",
       "      <td>0.301032</td>\n",
       "      <td>0.999481</td>\n",
       "    </tr>\n",
       "  </tbody>\n",
       "</table>\n",
       "</div>"
      ],
      "text/plain": [
       "                 test    lambda       chi2  dof          pval    cramer  \\\n",
       "0             pearson  1.000000  22.717227  1.0  1.876778e-06  0.273814   \n",
       "1        cressie-read  0.666667  22.931427  1.0  1.678845e-06  0.275102   \n",
       "2      log-likelihood  0.000000  23.557374  1.0  1.212439e-06  0.278832   \n",
       "3       freeman-tukey -0.500000  24.219622  1.0  8.595211e-07  0.282724   \n",
       "4  mod-log-likelihood -1.000000  25.071078  1.0  5.525544e-07  0.287651   \n",
       "5              neyman -2.000000  27.457956  1.0  1.605471e-07  0.301032   \n",
       "\n",
       "      power  \n",
       "0  0.997494  \n",
       "1  0.997663  \n",
       "2  0.998096  \n",
       "3  0.998469  \n",
       "4  0.998845  \n",
       "5  0.999481  "
      ]
     },
     "execution_count": 13,
     "metadata": {},
     "output_type": "execute_result"
    }
   ],
   "source": [
    "data = pg.read_dataset('chi2_independence')\n",
    "expected, observed, stats = pg.chi2_independence(data, x='sex', y='target')\n",
    "stats"
   ]
  },
  {
   "cell_type": "code",
   "execution_count": null,
   "id": "f19cf13a-b978-4995-bfd3-3172362403c8",
   "metadata": {},
   "outputs": [],
   "source": []
  }
 ],
 "metadata": {
  "kernelspec": {
   "display_name": "Python 3 (ipykernel)",
   "language": "python",
   "name": "python3"
  },
  "language_info": {
   "codemirror_mode": {
    "name": "ipython",
    "version": 3
   },
   "file_extension": ".py",
   "mimetype": "text/x-python",
   "name": "python",
   "nbconvert_exporter": "python",
   "pygments_lexer": "ipython3",
   "version": "3.11.4"
  }
 },
 "nbformat": 4,
 "nbformat_minor": 5
}
