{
 "cells": [
  {
   "cell_type": "code",
   "execution_count": null,
   "id": "48ec4ad5",
   "metadata": {},
   "outputs": [],
   "source": [
    "## 使用jupyterhub解决多用户访问问题\n",
    "\n",
    "使用ssh私有通道的方式可能更加安全些,但这没有改变一个问题:\n",
    "\n",
    "多用户下的文件修改冲突问题.\n",
    "\n",
    "官方的解决方案是使用`jupyterhub`\n",
    "\n",
    "[jupyterhub](https://github.com/jupyterhub/jupyterhub)是notebook的衍生,专门用来管理多用户.它默认使用服务器机器上的用户作为用户,并且启动时需要`sudo`权限.\n",
    "\n",
    "JupyterHub需要python3.4+和node.js的`configurable-http-proxy`库\n",
    "\n",
    "安装使用以下步骤:\n",
    "\n",
    "+ python3 -m pip install jupyterhub\n",
    "+ npm install -g configurable-http-proxy\n",
    "\n",
    "安装完毕后,类似jupyter notebook,jupyterhub也可以创建一个配置文件模板\n",
    "\n",
    "```bash\n",
    "jupyterhub --generate-config\n",
    "```\n",
    "\n",
    "这样就会在运行命令的当前目录下创建一个配置文件`jupyterhub_config.py`.要使用这个配置文件只需要使用`-f`指定即可\n",
    "\n",
    "```bash\n",
    "sudo jupyterhub -f jupyterhub_config.py\n",
    "```\n",
    "\n",
    "要正常的运行需要修改配置文件如下:\n",
    "\n",
    "```python\n",
    "c.JupyterHub.admin_access = True # 让admin账号可以控制或者进入非admin账户\n",
    "c.Authenticator.whitelist = {<你当前的系统账号>} #将当前的系统账号设为白名单\n",
    "c.Authenticator.admin_users={<你当前的系统账号>}#将当前的系统账号设为admin账号\n",
    "c.JupyterHub.ip = '0.0.0.0'#设置外网可以访问\n",
    "c.JupyterHub.port = 5888#设置端口\n",
    "c.Spawner.cmd = ['/path/to/jupyterhub-singleuser']#将`jupyterhub-singleuser`写死\n",
    "c.JupyterHub.ssl_cert = ''#设置ssl的证书文件地址,不用https可以不设置\n",
    "c.JupyterHub.ssl_key = ''#设置ssl的证书的key文件地址,不用https可以不设置\n",
    "```\n",
    "\n",
    "之后运行即可.登录账号即为你当前的系统账号,密码为当前系统的登录密码"
   ]
  }
 ],
 "metadata": {
  "kernelspec": {
   "display_name": "Python 3 (ipykernel)",
   "language": "python",
   "name": "python3"
  },
  "language_info": {
   "codemirror_mode": {
    "name": "ipython",
    "version": 3
   },
   "file_extension": ".py",
   "mimetype": "text/x-python",
   "name": "python",
   "nbconvert_exporter": "python",
   "pygments_lexer": "ipython3",
   "version": "3.10.9"
  }
 },
 "nbformat": 4,
 "nbformat_minor": 5
}
