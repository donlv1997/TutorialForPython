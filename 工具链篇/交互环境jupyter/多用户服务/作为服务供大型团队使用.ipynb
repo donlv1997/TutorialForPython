{
 "cells": [
  {
   "cell_type": "markdown",
   "id": "8c21bf27-4f9e-4a65-972c-d479a038b248",
   "metadata": {},
   "source": [
    "# 作为服务供大型团队使用\n",
    "\n",
    "施工中..."
   ]
  }
 ],
 "metadata": {
  "kernelspec": {
   "display_name": "Python 3 (ipykernel)",
   "language": "python",
   "name": "python3"
  },
  "language_info": {
   "codemirror_mode": {
    "name": "ipython",
    "version": 3
   },
   "file_extension": ".py",
   "mimetype": "text/x-python",
   "name": "python",
   "nbconvert_exporter": "python",
   "pygments_lexer": "ipython3",
   "version": "3.10.11"
  }
 },
 "nbformat": 4,
 "nbformat_minor": 5
}
