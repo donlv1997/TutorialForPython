{
 "cells": [
  {
   "cell_type": "markdown",
   "id": "388c5652-b942-4bf7-aba5-507b8e9071cf",
   "metadata": {},
   "source": [
    "# 作为服务供小型团队使用\n",
    "\n",
    "小型团队指那种使用人数不高于100人且规模基本固定的团队.这种团队一般是小公司或大公司独立部门的研发团队.架设jupyterhub一般是为了共享工作站的算力资源,同时可以比较轻易的分享成果.\n",
    "\n",
    "我们以一台8显卡的工作站为例,假设一个工作站最多可以让20个人使用,那么也就只需要5个这样的工作站就可以支撑一个100人的研发团队.让他们在统一的jupyterhub平台进行研发既可以避免相互干扰弄坏环境,又可以统一工具避免不必要的沟通成本.\n",
    "\n",
    "部署的例子我放在[项目]()下\n",
    "\n",
    "## 使用docker隔离环境\n",
    "\n",
    "我们希望每个用户都在一个沙盒中运行自己的notebook,因此使用docker是一个相对比较靠谱的部署方案.我们只需要一个docker hub实例来进行分发,后面的每个spawner则是一个单独的docker容器即可,每个用户一个容器,做到充分隔离.为了便于扩展,我们可以使用`docker swarm`来部署这一整套.\n"
   ]
  },
  {
   "cell_type": "markdown",
   "id": "29491949-b044-45a0-91be-ed12a40895d8",
   "metadata": {},
   "source": [
    "## 使用dockerhub镜像构建dockerhub服务\n",
    "\n",
    "我们需要使用[dockerhub/dockerhub](https://hub.docker.com/r/jupyterhub/jupyterhub/tags)这个镜像作为基镜像([dockerfile](https://github.com/jupyterhub/jupyterhub/blob/main/Dockerfile)),然后在里面安装必要的其他工具并写好配置.\n",
    "\n",
    "我们主要要安装认证相关的库,毕竟多人使用还是要注意下安全性.以native方式为例,我们来写dockerfile:\n",
    "\n",
    "```dockerfile\n",
    "pip install jupyterhub-nativeauthenticator\n",
    "```"
   ]
  }
 ],
 "metadata": {
  "kernelspec": {
   "display_name": "Python 3 (ipykernel)",
   "language": "python",
   "name": "python3"
  },
  "language_info": {
   "codemirror_mode": {
    "name": "ipython",
    "version": 3
   },
   "file_extension": ".py",
   "mimetype": "text/x-python",
   "name": "python",
   "nbconvert_exporter": "python",
   "pygments_lexer": "ipython3",
   "version": "3.10.11"
  }
 },
 "nbformat": 4,
 "nbformat_minor": 5
}
