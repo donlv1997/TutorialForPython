{
 "cells": [
  {
   "cell_type": "markdown",
   "id": "34af52bf-80b5-4249-9a3f-ae8762cdeb89",
   "metadata": {},
   "source": [
    "# `*`自定义WrapperKernel\n",
    "\n",
    "使用[ipykernel](https://github.com/ipython/ipykernel)来自定义一个WrapperKernel是最简单的一种自建jupyter kernel的方式.这个包是基础,但实话说没有很好用,另一个第三方包[metakernel](https://github.com/Calysto/metakernel)是对它的封装,它自动提供了安装核心的功能.我们只要使用如下项目结构构造项目就可以了.\n",
    "\n",
    "```bash\n",
    "|--项目名\\\n",
    "|       |--images\\\n",
    "|       |         |--logo-32x32.png\n",
    "|       |         |--logo-64x64.png\n",
    "|       |         |--logg-svg.svg\n",
    "|       |\n",
    "|       |--kernel.json\n",
    "|       |--kernel.py\n",
    "|       |--__main__.py\n",
    "|       |--__init__.py\n",
    "|\n",
    "|--pyproject.toml\n",
    "```\n",
    "\n",
    "其中\n",
    "\n",
    "+ `images`放置要复制到核心文件夹的图片;\n",
    "+ `kernel.json`放置要复制到核心文件夹的配置文件\n",
    "+ `kernel.py`中放置一个继承了`metakernel.MetaKernel`的类,我们需要实现其中如下属性或方法:\n",
    "    + `magic_prefixes:Dict[str,str]`[可选],默认为`dict(magic='%', shell='!', help='?')`\n",
    "    + `help_suffix:str`[可选]默认为`?`\n",
    "    + `language_info:LanguageInfoDictType`[可选]返回语言信息,其中`LanguageInfoDictType`结构为\n",
    "        ```python\n",
    "        TypedDict(\n",
    "            'LanguageInfoDictType',\n",
    "            {\n",
    "                'mimetype': str,\n",
    "                'name': str,\n",
    "                'file_extension': str,\n",
    "                'version': str,\n",
    "                'help_links': List[HelpLinkDictType]\n",
    "            },\n",
    "            total=False\n",
    "        )\n",
    "        TypedDict(\n",
    "            'HelpLinkDictType',\n",
    "            {\n",
    "                \"text\": str,\n",
    "                \"url\": str\n",
    "            },\n",
    "            total=False\n",
    "        )\n",
    "        ```\n",
    "    + `get_usage()`[可选]用法说明信息\n",
    "    + `handle_plot_settings()`[可选]处理画图设置\n",
    "    + `get_local_magics_dir()`[可选]返回魔法命令保存路径,默认为`~/.ipython/metakernel/magics`\n",
    "    + `get_kernel_help_on(info: Mapping[str, str], level: int = 1, none_on_fail: bool = False) -> Optional[str]`,[可选]获取核心帮助信息\n",
    "    + `do_execute_direct(self, code: str, silent: bool = False) -> Optional[Union[RowsDisplay, ExceptionWrapper]]`,执行指令\n",
    "    + `do_execute_meta(self, code: str) -> ExceptionWrapper`,[可选]执行元指令\n",
    "    \n",
    "   \n",
    "\n",
    "+ `__main__.py`中固定写上\n",
    "    ```python\n",
    "    from .kernel import 你的Kernel类名\n",
    "    \n",
    "    if __name__ == '__main__':\n",
    "        你的Kernel类名.run_as_main()\n",
    "    ```\n",
    "\n",
    "使用这种方式构造的核心程序都可以只用`python -m 项目名 install`的方式安装核心.\n"
   ]
  },
  {
   "cell_type": "markdown",
   "id": "8df6ee10-f99a-4c67-8ad7-841cdb7e3157",
   "metadata": {},
   "source": [
    "## 自定义WrapperKernel的魔法命令.\n",
    "\n",
    "使用`metakernel`定义的自定义WrapperKernel会默认加载[`metakernel`定义的自带魔法命令](https://github.com/Calysto/metakernel/blob/main/metakernel/magics/README.md).这些命令基本和ipython自带的一致."
   ]
  },
  {
   "cell_type": "code",
   "execution_count": 2,
   "id": "14f25d18-50d8-4d25-aee7-de0f96e68cc7",
   "metadata": {},
   "outputs": [
    {
     "name": "stdout",
     "output_type": "stream",
     "text": [
      "Jupyter的多语言支持.ipynb\n",
      "README.md\n",
      "__pycache__\n",
      "count_file0.txt\n",
      "count_file1.txt\n",
      "count_file2.txt\n",
      "count_file3.txt\n",
      "count_file4.txt\n",
      "count_file5.txt\n",
      "count_file6.txt\n",
      "count_file7.txt\n",
      "count_file8.txt\n",
      "count_file9.txt\n",
      "hello.py\n",
      "myfib.py\n",
      "source\n",
      "在Ipython中的魔法命令.ipynb\n",
      "在Ipython中使用异步接口.ipynb\n",
      "在Ipython中的代码调试与优化.ipynb\n",
      "自定义WrapperKernel.ipynb\n",
      "多进程并行计算.ipynb\n",
      "\n"
     ]
    }
   ],
   "source": [
    "!ls"
   ]
  },
  {
   "cell_type": "markdown",
   "id": "0a042172-486a-450d-9cc3-51edf36155e6",
   "metadata": {},
   "source": [
    "除了这些外使用`metakernel`定义的自定义WrapperKernel允许加载`~/.ipython/metakernel/magics`中的所有文件以及项目下`magics`文件夹下的以`_magic.py`为后缀的文件作为魔法命令.激活的方式有两种:\n",
    "\n",
    "1. 在你的项目中一个必定会被import的文件中(通常是`kernel.py`)加上如下语句\n",
    "    ```python\n",
    "    from metakernel import register_ipython_magics\n",
    "    register_ipython_magics(*maigc_names:str)\n",
    "    ```\n",
    "   \n",
    "\n",
    "2. 在`~/.ipython/你的ipython配置文件夹/ipython_config.py`中最后加上\n",
    "\n",
    "    ```python\n",
    "    c = get_config()\n",
    "    startup = [\n",
    "       'from metakernel import register_ipython_magics',\n",
    "       'register_ipython_magics(*maigc_names:str)',\n",
    "    ]\n",
    "    c.InteractiveShellApp.exec_lines = startup\n",
    "    ```\n",
    "\n",
    "其中`maigc_names`就是本项目中希望加载的魔法命令名"
   ]
  }
 ],
 "metadata": {
  "kernelspec": {
   "display_name": "PostgreSQL",
   "language": "sql",
   "name": "postgresql"
  },
  "language_info": {
   "file_extension": ".sql",
   "help_links": [
    {
     "text": "PostgreSQL",
     "url": "http://www.postgres.cn/docs/12/index.html"
    },
    {
     "text": "SQL",
     "url": "https://blog.hszofficial.site/TutorialForSQL/#/"
    },
    {
     "text": "MetaKernel Magics",
     "url": "https://metakernel.readthedocs.io/en/latest/source/README.html"
    }
   ],
   "mimetype": "text/x-sql",
   "name": "sql",
   "version": "unknown"
  }
 },
 "nbformat": 4,
 "nbformat_minor": 5
}
