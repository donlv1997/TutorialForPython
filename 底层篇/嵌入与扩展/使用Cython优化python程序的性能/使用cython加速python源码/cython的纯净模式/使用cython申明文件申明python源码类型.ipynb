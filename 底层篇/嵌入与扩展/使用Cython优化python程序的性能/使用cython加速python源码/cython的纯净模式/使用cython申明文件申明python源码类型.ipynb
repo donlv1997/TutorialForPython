{
 "cells": [
  {
   "cell_type": "markdown",
   "metadata": {},
   "source": [
    "# Cython纯净模式\n",
    "\n",
    "所谓的纯净模式就是cython直接编译`.py`文件的模式.\n",
    "\n",
    "在某些情况下,希望加速Python代码,而不会失去与Python解释器一起运行的能力.可以使用Cython编译纯Python脚本,但通常只能以20％-50％的速度增长.\n",
    "\n",
    "为了超越此范围,Cython提供了语言结构,为Python模块添加静态类型和cythonic功能,使其在编译时运行得更快,同时仍然允许它被解释.有两种方案可以实现这一需求:\n",
    "\n",
    "\n",
    "+ 通过导入cython模块后使用其中的特殊功能和装饰器完成\n",
    "+ 通过扩展的`.pxd`文件\n",
    "\n",
    "尽管通常不建议在`.pyx`文件中直接编写Cython代码,但更容易的测试,可以方便的与纯Python开发人员的协作等特点也为其提供了合理性.\n",
    "\n",
    "在纯净python源文件下，你或多或少受限于在Python中的语法表达,如果希望跳过python语法,只能用具有扩展语言语法的`.pyx`文件完成,因为它依赖于`Cython`编译器的特性.\n",
    "\n",
    "cython可以使用`cython.compiled`来反射是否运行的是被编译的版本\n",
    "\n",
    "`.pxd`文件中可以申明使用`C/C++`扩展,因此可以在`.py`文件中根据需要使用`c/c++`的编写的函数.\n"
   ]
  },
  {
   "cell_type": "markdown",
   "metadata": {},
   "source": [
    "## 通过cython模块中的特殊功能和装饰器扩展\n",
    "\n",
    "这种方式相比前面的使用`pxd`申明扩展的方式更加方便,所有这些特殊功能和装饰器都是非侵入式的,加上去掉都不会影响原本`.py`源代码在python解释器中的工作.\n",
    "\n",
    "### 可用于申明的C类型\n",
    "\n",
    "\n",
    "cython中常用的C语言类型有:\n",
    "\n",
    "cython中类型|类型说明\n",
    "---|---\n",
    "cython.int| 整形\n",
    "cython.long|长整形\n",
    "cython.double|双精度浮点型\n",
    "cython.char|字符型\n",
    "\n",
    "\n",
    "其他的包括无符号整形之类的C语言中的基础类型也都有,这边不再复述.\n",
    "\n",
    "另外一个特殊的类型就是指针,cython中指针类型就是基础类型前面加上`p_`,如整形数指针就是`cython.p_int`\n",
    "\n",
    "\n",
    "### 常用的声明函数和装饰器有\n",
    "\n",
    "不同于`.pyx`文件,`.py`文件需要符合python语法,因此很多申明和关键字需要使用函数或者类等对象来代替,纯净模式更多的是静态化参数以此来提高效率.下面是用于申明的函数和装饰器\n",
    "\n",
    "+ `cython.declare(**kws)`\n",
    "\n",
    "    用于申明变量\n",
    "    \n",
    "+ `cython.struct(**kws)` \n",
    "\n",
    "    申明一个结构体\n",
    "    \n",
    "+ ` cython.union(**kws)`\n",
    "\n",
    "    申明一个联合体\n",
    "    \n",
    "+ `@cython.locals(**kws)`\n",
    "\n",
    "    用于声明函数或者方法的参数和内部变量,即便是python方法也可以声明变量类型,这样静态化也可以获得提速\n",
    "    \n",
    "+ `@cython.returns([cython_type])`\n",
    "\n",
    "    用于申明函数或者方法的参数和内部变量\n",
    "    \n",
    "+ `@cython.ccall`\n",
    "\n",
    "    申明可被python解释器调用的cython函数.相当于`.pyx`中的`cpdef`定义的函数或方法\n",
    "    \n",
    "+ `@cython.cfunc`\n",
    "\n",
    "    申明c/c++语言函数,这种函数会跳过运行时直接执行,而且隐藏在python解释器之下,只有模块中才可以调用\n",
    "    \n",
    "+ `@cython.inline`\n",
    "\n",
    "    申明函数为`inline`函数\n",
    "    \n",
    "### 常用的特殊函数\n",
    "\n",
    "处理C语言函数时,我们很有可能需要使用一些关于内存指针的操作,这些操作python自己是没有的,因此Cython也提供一些这种特殊的函数\n",
    "\n",
    "+ `cython.address(x)`\n",
    "\n",
    "    获取变量的指针地址\n",
    "\n",
    "+ `cython.sizeof(x)`\n",
    "\n",
    "    获取变量的地址空间大小\n",
    "\n",
    "+ `cython.typedef(x)`\n",
    "\n",
    "    用于获取一个给定指针名称下的变量类型的类型\n",
    "    \n",
    "+ `cython.cast(T,x,typecheck=True)`\n",
    "\n",
    "    用于将变量指定为某一类型,类似C/C++语言中的`<T>t`.注意这个函数是不安全的,容易内存泄漏.可选参数`typecheck=True`相当于`<T?>t`\n",
    "\n",
    "\n",
    "### 常用编译指示装饰器\n",
    "\n",
    "+ `@cython.boundscheck(bool)`\n",
    "\n",
    "    用于设定是否进行边界检查,默认值为True。\n",
    "    \n",
    "    \n",
    "+ `@cython.wraparound(bool)`\n",
    "\n",
    "    用于设定是否进行数组负索引检查,默认值为True。\n",
    "    \n",
    "    \n",
    "+ `@cython.initializedcheck(bool)`\n",
    "\n",
    "    用于设定访问或分配内存视图时是否检查它是否被初始化.默认值为True。\n",
    "    \n",
    "    \n",
    "+ `@cython.overflowcheck`\n",
    "\n",
    "    如果设置为True，当溢出的C整数算术运算上引发了异常时，会执行适度的运行时惩罚,但即便如此还是比python的int运算快很多,默认为False\n",
    "    \n",
    "    \n",
    "+ `@cython.overflowcheck.fold`\n",
    "\n",
    "    如果设置为True，并且overflowcheck为True，则检查嵌套的溢出位,和有副作用的算术表达式,而不是每个步骤都检查。 依赖于不同的编译器，体系结构和优化设置，这项选项可能有助于提高性能也可能损害性能。 默认值为True。\n",
    "    \n",
    "    \n",
    "+ `@cython.nonecheck`\n",
    "\n",
    "    如果设置为False，Cython可以自由地假定 对变量类型的本地字段访问为扩展类型,或者 当变量被设为None时,对缓冲区变量的缓冲区访问永远不会发生。否则插入一个检查并引发适当的异常。\n",
    "    \n",
    "这些装饰器可以放在函数上标记好\n",
    "\n",
    "### 常用的编译器指示注释\n",
    "\n",
    "编译器可以识别在源文件开始部分的注释为全局的编译器指示,常见的有\n",
    "\n",
    "+ `#cython: language_level=3`标记编译目标为python3\n",
    "+ `#cython: boundscheck = False`设置全局不进行边界检查\n",
    "\n",
    "编译器设置的参数可以在前面的Cython基本流程部分看到"
   ]
  },
  {
   "cell_type": "code",
   "execution_count": 1,
   "metadata": {},
   "outputs": [
    {
     "name": "stdout",
     "output_type": "stream",
     "text": [
      "Overwriting B.py\n"
     ]
    }
   ],
   "source": [
    "%%writefile B.py\n",
    "#cython: language_level=3\n",
    "import cython\n",
    "\n",
    "if cython.compiled:\n",
    "    print(\"Yep, I'm compiled.\")\n",
    "else:\n",
    "    print(\"Just a lowly interpreted script.\")\n",
    "    \n",
    "@cython.boundscheck(False)\n",
    "@cython.ccall\n",
    "@cython.returns(cython.int)\n",
    "@cython.locals(x=cython.int, y=cython.int,a = cython.int)\n",
    "def myfunction(x, y=2):\n",
    "    a = x-y\n",
    "    return a + x * y\n",
    "\n",
    "@cython.cfunc\n",
    "@cython.returns(cython.double)\n",
    "@cython.locals(a = cython.double)\n",
    "def _helper(a):\n",
    "    return a + 1\n",
    "\n",
    "@cython.cclass\n",
    "class A:\n",
    "    cython.declare(a=cython.int, b=cython.int)\n",
    "    def __init__(self, b=0):\n",
    "        self.a = 3\n",
    "        self.b = b\n",
    "    @cython.ccall\n",
    "    @cython.locals(x=cython.double)\n",
    "    def foo(self, x):\n",
    "        print(x + _helper(1.0))"
   ]
  },
  {
   "cell_type": "code",
   "execution_count": 2,
   "metadata": {},
   "outputs": [
    {
     "name": "stdout",
     "output_type": "stream",
     "text": [
      "Just a lowly interpreted script.\n"
     ]
    }
   ],
   "source": [
    "import B"
   ]
  },
  {
   "cell_type": "code",
   "execution_count": 3,
   "metadata": {},
   "outputs": [
    {
     "data": {
      "text/plain": [
       "28"
      ]
     },
     "execution_count": 3,
     "metadata": {},
     "output_type": "execute_result"
    }
   ],
   "source": [
    "B.myfunction(10)"
   ]
  },
  {
   "cell_type": "code",
   "execution_count": 4,
   "metadata": {},
   "outputs": [
    {
     "name": "stdout",
     "output_type": "stream",
     "text": [
      "4.7\n"
     ]
    }
   ],
   "source": [
    "a = B.A()\n",
    "a.foo(2.7)"
   ]
  },
  {
   "cell_type": "code",
   "execution_count": 5,
   "metadata": {},
   "outputs": [
    {
     "name": "stdout",
     "output_type": "stream",
     "text": [
      "Overwriting setup.py\n"
     ]
    }
   ],
   "source": [
    "%%writefile setup.py\n",
    "\n",
    "from distutils.core import setup\n",
    "from Cython.Build import cythonize\n",
    "from Cython.Distutils import build_ext\n",
    "setup(\n",
    "    cmdclass = {'build_ext': build_ext},\n",
    "    ext_modules = cythonize(\"B.py\",language=\"c++\")\n",
    ")"
   ]
  },
  {
   "cell_type": "code",
   "execution_count": 6,
   "metadata": {
    "scrolled": true
   },
   "outputs": [
    {
     "name": "stdout",
     "output_type": "stream",
     "text": [
      "Please put \"# distutils: language=c++\" in your .pyx or .pxd file(s)\n",
      "Compiling B.py because it changed.\n",
      "[1/1] Cythonizing B.py\n",
      "running build_ext\n",
      "building 'B' extension\n",
      "creating build\n",
      "creating build\\temp.win-amd64-3.6\n",
      "creating build\\temp.win-amd64-3.6\\Release\n",
      "C:\\Program Files (x86)\\Microsoft Visual Studio 14.0\\VC\\BIN\\x86_amd64\\cl.exe /c /nologo /Ox /W3 /GL /DNDEBUG /MD -IC:\\Users\\87\\Anaconda3\\include -IC:\\Users\\87\\Anaconda3\\include \"-IC:\\Program Files (x86)\\Microsoft Visual Studio 14.0\\VC\\INCLUDE\" \"-IC:\\Program Files (x86)\\Windows Kits\\10\\include\\10.0.10240.0\\ucrt\" \"-IC:\\Program Files (x86)\\Windows Kits\\8.1\\include\\shared\" \"-IC:\\Program Files (x86)\\Windows Kits\\8.1\\include\\um\" \"-IC:\\Program Files (x86)\\Windows Kits\\8.1\\include\\winrt\" /EHsc /TpB.cpp /Fobuild\\temp.win-amd64-3.6\\Release\\B.obj\n",
      "B.cpp\n",
      "C:\\Program Files (x86)\\Microsoft Visual Studio 14.0\\VC\\BIN\\x86_amd64\\link.exe /nologo /INCREMENTAL:NO /LTCG /DLL /MANIFEST:EMBED,ID=2 /MANIFESTUAC:NO /LIBPATH:C:\\Users\\87\\Anaconda3\\libs /LIBPATH:C:\\Users\\87\\Anaconda3\\PCbuild\\amd64 \"/LIBPATH:C:\\Program Files (x86)\\Microsoft Visual Studio 14.0\\VC\\LIB\\amd64\" \"/LIBPATH:C:\\Program Files (x86)\\Windows Kits\\10\\lib\\10.0.10240.0\\ucrt\\x64\" \"/LIBPATH:C:\\Program Files (x86)\\Windows Kits\\8.1\\lib\\winv6.3\\um\\x64\" /EXPORT:PyInit_B build\\temp.win-amd64-3.6\\Release\\B.obj /OUT:C:\\Users\\87\\Documents\\GitHub\\my\\TutorialForPython\\ipynbs\\python性能优化\\Cython纯净模式\\B.cp36-win_amd64.pyd /IMPLIB:build\\temp.win-amd64-3.6\\Release\\B.cp36-win_amd64.lib\n",
      "B.obj : warning LNK4197: export 'PyInit_B' specified multiple times; using first specification\n",
      "   Creating library build\\temp.win-amd64-3.6\\Release\\B.cp36-win_amd64.lib and object build\\temp.win-amd64-3.6\\Release\\B.cp36-win_amd64.exp\n",
      "Generating code\n",
      "Finished generating code\n"
     ]
    }
   ],
   "source": [
    "!python setup.py build_ext --inplace"
   ]
  },
  {
   "cell_type": "code",
   "execution_count": 1,
   "metadata": {},
   "outputs": [
    {
     "name": "stdout",
     "output_type": "stream",
     "text": [
      "Yep, I'm compiled.\n"
     ]
    }
   ],
   "source": [
    "import B"
   ]
  },
  {
   "cell_type": "code",
   "execution_count": 2,
   "metadata": {},
   "outputs": [
    {
     "data": {
      "text/plain": [
       "28"
      ]
     },
     "execution_count": 2,
     "metadata": {},
     "output_type": "execute_result"
    }
   ],
   "source": [
    "B.myfunction(10)"
   ]
  },
  {
   "cell_type": "code",
   "execution_count": 3,
   "metadata": {},
   "outputs": [
    {
     "name": "stdout",
     "output_type": "stream",
     "text": [
      "4.7\n"
     ]
    }
   ],
   "source": [
    "a = B.A()\n",
    "a.foo(2.7)"
   ]
  },
  {
   "cell_type": "code",
   "execution_count": 4,
   "metadata": {
    "collapsed": true
   },
   "outputs": [],
   "source": [
    "!cython -a B.py"
   ]
  },
  {
   "cell_type": "markdown",
   "metadata": {},
   "source": [
    "## cython纯净模式福利--类型自动转换\n",
    "\n",
    "C 类型|从pyhton中获得|返回到python中\n",
    "---|---|---\n",
    "[unsigned] char, [unsigned] short, int, long|int|\tint\n",
    "unsigned int, unsigned long, [unsigned] long long|int|int\n",
    "float, double, long double\t|int, float|float\n",
    "`char*`\t|bytes\t|bytes\n",
    "struct, union|--- |dict\n",
    "\n",
    "\n",
    "除此之外同构定长列表/元组可以与c中数组自动转化\n",
    "\n",
    "```python\n",
    "import cython\n",
    "\n",
    "@cython.locals(counts=cython.int[10], digit=cython.int)\n",
    "def count_digits(digits):\n",
    "    \"\"\"\n",
    "    >>> digits = '01112222333334445667788899'\n",
    "    >>> count_digits(map(int, digits))\n",
    "    [1, 3, 4, 5, 3, 1, 2, 2, 3, 2]\n",
    "    \"\"\"\n",
    "    counts = [0] * 10\n",
    "    for digit in digits:\n",
    "        assert 0 <= digit <= 9\n",
    "        counts[digit] += 1\n",
    "    return counts\n",
    "    \n",
    "```"
   ]
  },
  {
   "cell_type": "markdown",
   "metadata": {},
   "source": [
    "### 纯python文件扩展的局限性\n",
    "\n",
    "这种方式的缺点在于:\n",
    "\n",
    "+ 语法不优雅,堆叠3个装饰器来装饰一个函数看起来很不美观\n",
    "+ 默认无法使用`type hint`,测试结果看cython解释器无法支持`type hint`,这个特性会在后续的版本中改善"
   ]
  },
  {
   "cell_type": "markdown",
   "metadata": {},
   "source": [
    "## 使用`.pxd`申明要用的C/C++函数\n",
    "\n",
    "使用上面这种方式有个很大的缺陷就是无法使用C/C++写好的函数,要让这个可行需要有一个`.pxd`文件用于声明用到的函数,并将其包装为`cpdef`的形式"
   ]
  },
  {
   "cell_type": "code",
   "execution_count": 5,
   "metadata": {},
   "outputs": [
    {
     "name": "stdout",
     "output_type": "stream",
     "text": [
      "Overwriting C.py\n"
     ]
    }
   ],
   "source": [
    "%%writefile C.py\n",
    "#cython: language_level=3\n",
    "import cython\n",
    "\n",
    "if cython.compiled:\n",
    "    print(\"Yep, I'm compiled.\")\n",
    "else:\n",
    "    print(\"Just a lowly interpreted script.\")\n",
    "    from math import sin\n",
    "    \n",
    "@cython.boundscheck(False)\n",
    "@cython.ccall\n",
    "@cython.returns(cython.int)\n",
    "@cython.locals(x=cython.int, y=cython.int,a = cython.int)\n",
    "def myfunction(x, y=2):\n",
    "    a = x-y\n",
    "    return a + x * y\n",
    "\n",
    "@cython.cfunc\n",
    "@cython.returns(cython.double)\n",
    "@cython.locals(a = cython.double)\n",
    "def _helper(a):\n",
    "    return a + 1\n",
    "\n",
    "@cython.returns(cython.double)\n",
    "@cython.locals(x=cython.double)\n",
    "def echo_sin(x):\n",
    "    return sin(x)\n",
    "\n",
    "@cython.cclass\n",
    "class A:\n",
    "    cython.declare(a=cython.int, b=cython.int)\n",
    "    def __init__(self, b=0):\n",
    "        self.a = 3\n",
    "        self.b = b\n",
    "    @cython.ccall\n",
    "    @cython.locals(x=cython.double)\n",
    "    def foo(self, x):\n",
    "        print(x + _helper(1.0))"
   ]
  },
  {
   "cell_type": "code",
   "execution_count": 6,
   "metadata": {},
   "outputs": [
    {
     "name": "stdout",
     "output_type": "stream",
     "text": [
      "Overwriting C.pxd\n"
     ]
    }
   ],
   "source": [
    "%%writefile C.pxd\n",
    "#cython: language_level=3\n",
    "cdef extern from \"math.h\":\n",
    "    cpdef double sin(double x)\n"
   ]
  },
  {
   "cell_type": "code",
   "execution_count": 8,
   "metadata": {},
   "outputs": [
    {
     "name": "stdout",
     "output_type": "stream",
     "text": [
      "Just a lowly interpreted script.\n"
     ]
    }
   ],
   "source": [
    "import C"
   ]
  },
  {
   "cell_type": "code",
   "execution_count": 9,
   "metadata": {},
   "outputs": [
    {
     "name": "stdout",
     "output_type": "stream",
     "text": [
      "The slowest run took 26.72 times longer than the fastest. This could mean that an intermediate result is being cached.\n",
      "1000000 loops, best of 3: 249 ns per loop\n"
     ]
    }
   ],
   "source": [
    "%timeit C.echo_sin(3)"
   ]
  },
  {
   "cell_type": "code",
   "execution_count": 7,
   "metadata": {},
   "outputs": [
    {
     "name": "stdout",
     "output_type": "stream",
     "text": [
      "Overwriting setup.py\n"
     ]
    }
   ],
   "source": [
    "%%writefile setup.py\n",
    "\n",
    "from distutils.core import setup\n",
    "from Cython.Build import cythonize\n",
    "from Cython.Distutils import build_ext\n",
    "setup(\n",
    "    cmdclass = {'build_ext': build_ext},\n",
    "    ext_modules = cythonize(\"C.py\",language=\"c++\")\n",
    ")"
   ]
  },
  {
   "cell_type": "code",
   "execution_count": 10,
   "metadata": {},
   "outputs": [
    {
     "name": "stdout",
     "output_type": "stream",
     "text": [
      "Please put \"# distutils: language=c++\" in your .pyx or .pxd file(s)\n",
      "Compiling C.py because it changed.\n",
      "[1/1] Cythonizing C.py\n",
      "running build_ext\n",
      "building 'C' extension\n",
      "C:\\Program Files (x86)\\Microsoft Visual Studio 14.0\\VC\\BIN\\x86_amd64\\cl.exe /c /nologo /Ox /W3 /GL /DNDEBUG /MD -IC:\\Users\\87\\Anaconda3\\include -IC:\\Users\\87\\Anaconda3\\include \"-IC:\\Program Files (x86)\\Microsoft Visual Studio 14.0\\VC\\INCLUDE\" \"-IC:\\Program Files (x86)\\Windows Kits\\10\\include\\10.0.10240.0\\ucrt\" \"-IC:\\Program Files (x86)\\Windows Kits\\8.1\\include\\shared\" \"-IC:\\Program Files (x86)\\Windows Kits\\8.1\\include\\um\" \"-IC:\\Program Files (x86)\\Windows Kits\\8.1\\include\\winrt\" /EHsc /TpC.cpp /Fobuild\\temp.win-amd64-3.6\\Release\\C.obj\n",
      "C.cpp\n",
      "C:\\Program Files (x86)\\Microsoft Visual Studio 14.0\\VC\\BIN\\x86_amd64\\link.exe /nologo /INCREMENTAL:NO /LTCG /DLL /MANIFEST:EMBED,ID=2 /MANIFESTUAC:NO /LIBPATH:C:\\Users\\87\\Anaconda3\\libs /LIBPATH:C:\\Users\\87\\Anaconda3\\PCbuild\\amd64 \"/LIBPATH:C:\\Program Files (x86)\\Microsoft Visual Studio 14.0\\VC\\LIB\\amd64\" \"/LIBPATH:C:\\Program Files (x86)\\Windows Kits\\10\\lib\\10.0.10240.0\\ucrt\\x64\" \"/LIBPATH:C:\\Program Files (x86)\\Windows Kits\\8.1\\lib\\winv6.3\\um\\x64\" /EXPORT:PyInit_C build\\temp.win-amd64-3.6\\Release\\C.obj /OUT:C:\\Users\\87\\Documents\\GitHub\\my\\TutorialForPython\\ipynbs\\python性能优化\\Cython纯净模式\\C.cp36-win_amd64.pyd /IMPLIB:build\\temp.win-amd64-3.6\\Release\\C.cp36-win_amd64.lib\n",
      "C.obj : warning LNK4197: export 'PyInit_C' specified multiple times; using first specification\n",
      "   Creating library build\\temp.win-amd64-3.6\\Release\\C.cp36-win_amd64.lib and object build\\temp.win-amd64-3.6\\Release\\C.cp36-win_amd64.exp\n",
      "Generating code\n",
      "Finished generating code\n"
     ]
    }
   ],
   "source": [
    "!python setup.py build_ext --inplace"
   ]
  },
  {
   "cell_type": "code",
   "execution_count": 1,
   "metadata": {},
   "outputs": [
    {
     "name": "stdout",
     "output_type": "stream",
     "text": [
      "Yep, I'm compiled.\n"
     ]
    }
   ],
   "source": [
    "import C"
   ]
  },
  {
   "cell_type": "code",
   "execution_count": 3,
   "metadata": {},
   "outputs": [
    {
     "name": "stdout",
     "output_type": "stream",
     "text": [
      "The slowest run took 51.80 times longer than the fastest. This could mean that an intermediate result is being cached.\n",
      "10000000 loops, best of 3: 134 ns per loop\n"
     ]
    }
   ],
   "source": [
    "%timeit C.echo_sin(3)"
   ]
  },
  {
   "cell_type": "markdown",
   "metadata": {},
   "source": [
    "### 将所有申明迁移至`.pxd`文件\n",
    "\n",
    "\n",
    "像上面这种写法已经引入了一个新的文件,既然如此为什么不把申明用的这些个装饰器都移到`.pxd`文件中增加可读性呢\n",
    "\n",
    "下面是一个纯python源文件"
   ]
  },
  {
   "cell_type": "code",
   "execution_count": 4,
   "metadata": {},
   "outputs": [
    {
     "name": "stdout",
     "output_type": "stream",
     "text": [
      "Overwriting A.py\n"
     ]
    }
   ],
   "source": [
    "%%writefile A.py\n",
    "import cython\n",
    "\n",
    "if cython.compiled:\n",
    "    print(\"Yep, I'm compiled.\")\n",
    "    \n",
    "else:\n",
    "    print(\"Just a lowly interpreted script.\")\n",
    "    from math import sin\n",
    "\n",
    "\n",
    "def myfunction(x, y=2):\n",
    "    a = x-y\n",
    "    return a + x * y\n",
    "\n",
    "def echo_sin(x):\n",
    "    return sin(x)\n",
    "    \n",
    "def _helper(a):\n",
    "    return a + 1\n",
    "\n",
    "class A:\n",
    "    def __init__(self, b=0):\n",
    "        self.a = 3\n",
    "        self.b = b\n",
    "\n",
    "    def foo(self, x):\n",
    "        print(x + _helper(1.0))\n",
    "        "
   ]
  },
  {
   "cell_type": "code",
   "execution_count": 5,
   "metadata": {},
   "outputs": [
    {
     "name": "stdout",
     "output_type": "stream",
     "text": [
      "Just a lowly interpreted script.\n"
     ]
    }
   ],
   "source": [
    "import A"
   ]
  },
  {
   "cell_type": "code",
   "execution_count": 6,
   "metadata": {},
   "outputs": [
    {
     "data": {
      "text/plain": [
       "28"
      ]
     },
     "execution_count": 6,
     "metadata": {},
     "output_type": "execute_result"
    }
   ],
   "source": [
    "A.myfunction(10)"
   ]
  },
  {
   "cell_type": "code",
   "execution_count": 7,
   "metadata": {},
   "outputs": [
    {
     "name": "stdout",
     "output_type": "stream",
     "text": [
      "The slowest run took 25.54 times longer than the fastest. This could mean that an intermediate result is being cached.\n",
      "1000000 loops, best of 3: 225 ns per loop\n"
     ]
    }
   ],
   "source": [
    "%timeit A.echo_sin(2.7)"
   ]
  },
  {
   "cell_type": "markdown",
   "metadata": {},
   "source": [
    "使用`.pxd`为其申明"
   ]
  },
  {
   "cell_type": "code",
   "execution_count": 8,
   "metadata": {},
   "outputs": [
    {
     "name": "stdout",
     "output_type": "stream",
     "text": [
      "Overwriting A.pxd\n"
     ]
    }
   ],
   "source": [
    "%%writefile A.pxd\n",
    "#cython: language_level=3\n",
    "cdef extern from \"math.h\":\n",
    "    cpdef double sin(double x)\n",
    "\n",
    "cpdef int myfunction(int x, int y=*)\n",
    "\n",
    "cdef double _helper(double a)\n",
    "\n",
    "cdef class A:\n",
    "    cdef public int a,b\n",
    "    cpdef foo(self, double x)"
   ]
  },
  {
   "cell_type": "markdown",
   "metadata": {},
   "source": [
    "那么`Cython`将会将`A.py`编译成如下：\n",
    "\n",
    "```cython\n",
    "cdef extern from \"math.h\":\n",
    "    cpdef double sin(double x)\n",
    "\n",
    "cpdef int myfunction(int x, int y=2):\n",
    "    a = x-y\n",
    "    return a + x * y\n",
    "def double echo_sin(double x):\n",
    "    return sin(x)\n",
    "\n",
    "cdef double _helper(double a):\n",
    "    return a + 1\n",
    "\n",
    "cdef class A:\n",
    "    cdef public int a,b\n",
    "    def __init__(self, b=0):\n",
    "        self.a = 3\n",
    "        self.b = b\n",
    "\n",
    "    cpdef foo(self, double x):\n",
    "        print x + _helper(1.0)\n",
    "```\n",
    "\n",
    "注意:\n",
    "\n",
    "+ 使用`*`通配符可以将Python的参数默认值包装给`.pxd`中的定义，即可以从Python访问\n",
    "\n",
    "`cpdef int myfunction(int x, int y=*)`\n",
    "\n",
    "+ 内部函数的C函数签名可以声明为cdef\n",
    "\n",
    "`cdef double _helper(double a)`\n",
    "\n",
    "+ cdef class用于申明扩展类型\n",
    "\n",
    "+ 如果属性有读取/写入Python访问权限，则cdef类属性必须声明为cdef public，cdef readonly为只读Python访问，或者是纯Cdef为内部C级属性\n",
    "\n",
    "+ cdef class 中方法必须声明为\n",
    "\n",
    "    + cpdef Python可见方法\n",
    "    + cdef用于内部C方法"
   ]
  },
  {
   "cell_type": "code",
   "execution_count": 9,
   "metadata": {},
   "outputs": [
    {
     "name": "stdout",
     "output_type": "stream",
     "text": [
      "Overwriting setup.py\n"
     ]
    }
   ],
   "source": [
    "%%writefile setup.py\n",
    "\n",
    "from distutils.core import setup\n",
    "from Cython.Build import cythonize\n",
    "from Cython.Distutils import build_ext\n",
    "setup(\n",
    "    cmdclass = {'build_ext': build_ext},\n",
    "    ext_modules = cythonize(\"A.py\",language=\"c++\")\n",
    ")"
   ]
  },
  {
   "cell_type": "code",
   "execution_count": 10,
   "metadata": {
    "scrolled": true
   },
   "outputs": [
    {
     "name": "stdout",
     "output_type": "stream",
     "text": [
      "Please put \"# distutils: language=c++\" in your .pyx or .pxd file(s)\n",
      "Compiling A.py because it changed.\n",
      "[1/1] Cythonizing A.py\n",
      "running build_ext\n",
      "building 'A' extension\n",
      "C:\\Program Files (x86)\\Microsoft Visual Studio 14.0\\VC\\BIN\\x86_amd64\\cl.exe /c /nologo /Ox /W3 /GL /DNDEBUG /MD -IC:\\Users\\87\\Anaconda3\\include -IC:\\Users\\87\\Anaconda3\\include \"-IC:\\Program Files (x86)\\Microsoft Visual Studio 14.0\\VC\\INCLUDE\" \"-IC:\\Program Files (x86)\\Windows Kits\\10\\include\\10.0.10240.0\\ucrt\" \"-IC:\\Program Files (x86)\\Windows Kits\\8.1\\include\\shared\" \"-IC:\\Program Files (x86)\\Windows Kits\\8.1\\include\\um\" \"-IC:\\Program Files (x86)\\Windows Kits\\8.1\\include\\winrt\" /EHsc /TpA.cpp /Fobuild\\temp.win-amd64-3.6\\Release\\A.obj\n",
      "A.cpp\n",
      "C:\\Program Files (x86)\\Microsoft Visual Studio 14.0\\VC\\BIN\\x86_amd64\\link.exe /nologo /INCREMENTAL:NO /LTCG /DLL /MANIFEST:EMBED,ID=2 /MANIFESTUAC:NO /LIBPATH:C:\\Users\\87\\Anaconda3\\libs /LIBPATH:C:\\Users\\87\\Anaconda3\\PCbuild\\amd64 \"/LIBPATH:C:\\Program Files (x86)\\Microsoft Visual Studio 14.0\\VC\\LIB\\amd64\" \"/LIBPATH:C:\\Program Files (x86)\\Windows Kits\\10\\lib\\10.0.10240.0\\ucrt\\x64\" \"/LIBPATH:C:\\Program Files (x86)\\Windows Kits\\8.1\\lib\\winv6.3\\um\\x64\" /EXPORT:PyInit_A build\\temp.win-amd64-3.6\\Release\\A.obj /OUT:C:\\Users\\87\\Documents\\GitHub\\my\\TutorialForPython\\ipynbs\\python性能优化\\Cython纯净模式\\A.cp36-win_amd64.pyd /IMPLIB:build\\temp.win-amd64-3.6\\Release\\A.cp36-win_amd64.lib\n",
      "A.obj : warning LNK4197: export 'PyInit_A' specified multiple times; using first specification\n",
      "   Creating library build\\temp.win-amd64-3.6\\Release\\A.cp36-win_amd64.lib and object build\\temp.win-amd64-3.6\\Release\\A.cp36-win_amd64.exp\n",
      "Generating code\n",
      "Finished generating code\n"
     ]
    }
   ],
   "source": [
    "!python setup.py build_ext --inplace"
   ]
  },
  {
   "cell_type": "code",
   "execution_count": 1,
   "metadata": {},
   "outputs": [
    {
     "name": "stdout",
     "output_type": "stream",
     "text": [
      "Yep, I'm compiled.\n"
     ]
    }
   ],
   "source": [
    "import A"
   ]
  },
  {
   "cell_type": "code",
   "execution_count": 2,
   "metadata": {},
   "outputs": [
    {
     "data": {
      "text/plain": [
       "34"
      ]
     },
     "execution_count": 2,
     "metadata": {},
     "output_type": "execute_result"
    }
   ],
   "source": [
    "A.myfunction(12)"
   ]
  },
  {
   "cell_type": "code",
   "execution_count": 3,
   "metadata": {
    "scrolled": true
   },
   "outputs": [
    {
     "name": "stdout",
     "output_type": "stream",
     "text": [
      "The slowest run took 90.59 times longer than the fastest. This could mean that an intermediate result is being cached.\n",
      "10000000 loops, best of 3: 120 ns per loop\n"
     ]
    }
   ],
   "source": [
    "%timeit A.echo_sin(2.7)"
   ]
  },
  {
   "cell_type": "markdown",
   "metadata": {},
   "source": [
    "### 使用`.pxd`申明扩展纯python的局限性\n",
    "\n",
    "使用`.pxd`扩展`.py`源文件的方式最大的缺点在于可维护性,一旦有改动那么无论`.py`和`.pxd`文件都得改动.而且因为使用`cython`语法定义`.pxd`文件,所以对于不会cython的用户很不友好.\n",
    "\n",
    "另一局限性在于使用c/c++函数或者标准库时只能在`.pxd`文件下申明,因此必须在`.py`文件中判断是否被编译,而且必须实现一个同名的python对象来为纯python环境提供支持."
   ]
  },
  {
   "cell_type": "markdown",
   "metadata": {},
   "source": [
    "## 纯净模式的局限性\n",
    "\n",
    "无论是否要使用`.pxd`申明文件,纯净模式都无法在实现上使用C++中STL容器和算法,也有很多cython语言特性无法实现."
   ]
  },
  {
   "cell_type": "markdown",
   "metadata": {},
   "source": [
    "## 使用typehits申明静态类型\n",
    "\n",
    "在python3.5发布后,cython社区也提出了使用`type hint`来申明cython纯净模式的提议--\n",
    "[Python Typing Proposal](https://github.com/cython/cython/wiki/Python-Typing-Proposal).在0.27版本以后,cython已经完全支持这种静态类型申明的方式了.纯净模式代码可以比之前的优雅不少"
   ]
  },
  {
   "cell_type": "code",
   "execution_count": 4,
   "metadata": {},
   "outputs": [
    {
     "name": "stdout",
     "output_type": "stream",
     "text": [
      "Overwriting BB.py\n"
     ]
    }
   ],
   "source": [
    "%%writefile BB.py\n",
    "#cython: language_level=3\n",
    "import cython\n",
    "\n",
    "if cython.compiled:\n",
    "    print(\"Yep, I'm compiled.\")\n",
    "else:\n",
    "    print(\"Just a lowly interpreted script.\")\n",
    "    \n",
    "@cython.boundscheck(False)\n",
    "@cython.ccall\n",
    "def myfunction(x:cython.int, y:cython.int=2)->cython.int:\n",
    "    a:cython.int\n",
    "    a = x-y\n",
    "    return a + x * y\n",
    "\n",
    "@cython.cfunc\n",
    "def _helper(a:cython.double)->cython.double:\n",
    "    return a + 1\n",
    "\n",
    "@cython.cclass\n",
    "class A:\n",
    "    a:cython.int\n",
    "    b:cython.int\n",
    "    def __init__(self, b=0):\n",
    "        self.a = 3\n",
    "        self.b = b\n",
    "        \n",
    "    @cython.ccall\n",
    "    def foo(self, x:cython.double)->cython.double:\n",
    "        print(x + _helper(1.0))"
   ]
  },
  {
   "cell_type": "code",
   "execution_count": 5,
   "metadata": {},
   "outputs": [
    {
     "name": "stdout",
     "output_type": "stream",
     "text": [
      "Just a lowly interpreted script.\n"
     ]
    }
   ],
   "source": [
    "import BB"
   ]
  },
  {
   "cell_type": "code",
   "execution_count": 7,
   "metadata": {},
   "outputs": [
    {
     "data": {
      "text/plain": [
       "28"
      ]
     },
     "execution_count": 7,
     "metadata": {},
     "output_type": "execute_result"
    }
   ],
   "source": [
    "BB.myfunction(10)"
   ]
  },
  {
   "cell_type": "code",
   "execution_count": 9,
   "metadata": {},
   "outputs": [
    {
     "name": "stdout",
     "output_type": "stream",
     "text": [
      "4.7\n"
     ]
    }
   ],
   "source": [
    "a = BB.A()\n",
    "a.foo(2.7)"
   ]
  },
  {
   "cell_type": "code",
   "execution_count": 12,
   "metadata": {},
   "outputs": [
    {
     "name": "stdout",
     "output_type": "stream",
     "text": [
      "Compiling C:\\Users\\87\\Documents\\GitHub\\my\\TutorialForPython\\ipynbs\\使用Cython优化python程序的性能\\Cython纯净模式\\BB.py because it changed.\n",
      "[1/1] Cythonizing C:\\Users\\87\\Documents\\GitHub\\my\\TutorialForPython\\ipynbs\\使用Cython优化python程序的性能\\Cython纯净模式\\BB.py\n",
      "running build_ext\n",
      "building 'BB' extension\n",
      "creating C:\\Users\\87\\Documents\\GitHub\\my\\TutorialForPython\\ipynbs\\使用Cython优化python程序的性能\\Cython纯净模式\\tmpm5d7r9zk\\Release\n",
      "creating C:\\Users\\87\\Documents\\GitHub\\my\\TutorialForPython\\ipynbs\\使用Cython优化python程序的性能\\Cython纯净模式\\tmpm5d7r9zk\\Release\\Users\n",
      "creating C:\\Users\\87\\Documents\\GitHub\\my\\TutorialForPython\\ipynbs\\使用Cython优化python程序的性能\\Cython纯净模式\\tmpm5d7r9zk\\Release\\Users\\87\n",
      "creating C:\\Users\\87\\Documents\\GitHub\\my\\TutorialForPython\\ipynbs\\使用Cython优化python程序的性能\\Cython纯净模式\\tmpm5d7r9zk\\Release\\Users\\87\\Documents\n",
      "creating C:\\Users\\87\\Documents\\GitHub\\my\\TutorialForPython\\ipynbs\\使用Cython优化python程序的性能\\Cython纯净模式\\tmpm5d7r9zk\\Release\\Users\\87\\Documents\\GitHub\n",
      "creating C:\\Users\\87\\Documents\\GitHub\\my\\TutorialForPython\\ipynbs\\使用Cython优化python程序的性能\\Cython纯净模式\\tmpm5d7r9zk\\Release\\Users\\87\\Documents\\GitHub\\my\n",
      "creating C:\\Users\\87\\Documents\\GitHub\\my\\TutorialForPython\\ipynbs\\使用Cython优化python程序的性能\\Cython纯净模式\\tmpm5d7r9zk\\Release\\Users\\87\\Documents\\GitHub\\my\\TutorialForPython\n",
      "creating C:\\Users\\87\\Documents\\GitHub\\my\\TutorialForPython\\ipynbs\\使用Cython优化python程序的性能\\Cython纯净模式\\tmpm5d7r9zk\\Release\\Users\\87\\Documents\\GitHub\\my\\TutorialForPython\\ipynbs\n",
      "creating C:\\Users\\87\\Documents\\GitHub\\my\\TutorialForPython\\ipynbs\\使用Cython优化python程序的性能\\Cython纯净模式\\tmpm5d7r9zk\\Release\\Users\\87\\Documents\\GitHub\\my\\TutorialForPython\\ipynbs\\使用Cython优化python程序的性能\n",
      "creating C:\\Users\\87\\Documents\\GitHub\\my\\TutorialForPython\\ipynbs\\使用Cython优化python程序的性能\\Cython纯净模式\\tmpm5d7r9zk\\Release\\Users\\87\\Documents\\GitHub\\my\\TutorialForPython\\ipynbs\\使用Cython优化python程序的性能\\Cython纯净模式\n",
      "C:\\Program Files (x86)\\Microsoft Visual Studio 14.0\\VC\\BIN\\x86_amd64\\cl.exe /c /nologo /Ox /W3 /GL /DNDEBUG /MD -Ic:\\users\\87\\anaconda3\\include -Ic:\\users\\87\\anaconda3\\include \"-IC:\\Program Files (x86)\\Microsoft Visual Studio 14.0\\VC\\INCLUDE\" \"-IC:\\Program Files (x86)\\Windows Kits\\10\\include\\10.0.10240.0\\ucrt\" \"-IC:\\Program Files (x86)\\Windows Kits\\8.1\\include\\shared\" \"-IC:\\Program Files (x86)\\Windows Kits\\8.1\\include\\um\" \"-IC:\\Program Files (x86)\\Windows Kits\\8.1\\include\\winrt\" /TcC:\\Users\\87\\Documents\\GitHub\\my\\TutorialForPython\\ipynbs\\使用Cython优化python程序的性能\\Cython纯净模式\\BB.c /FoC:\\Users\\87\\Documents\\GitHub\\my\\TutorialForPython\\ipynbs\\使用Cython优化python程序的性能\\Cython纯净模式\\tmpm5d7r9zk\\Release\\Users\\87\\Documents\\GitHub\\my\\TutorialForPython\\ipynbs\\使用Cython优化python程序的性能\\Cython纯净模式\\BB.obj\n",
      "BB.c\n",
      "C:\\Program Files (x86)\\Microsoft Visual Studio 14.0\\VC\\BIN\\x86_amd64\\link.exe /nologo /INCREMENTAL:NO /LTCG /DLL /MANIFEST:EMBED,ID=2 /MANIFESTUAC:NO /LIBPATH:c:\\users\\87\\anaconda3\\libs /LIBPATH:c:\\users\\87\\anaconda3\\PCbuild\\amd64 \"/LIBPATH:C:\\Program Files (x86)\\Microsoft Visual Studio 14.0\\VC\\LIB\\amd64\" \"/LIBPATH:C:\\Program Files (x86)\\Windows Kits\\10\\lib\\10.0.10240.0\\ucrt\\x64\" \"/LIBPATH:C:\\Program Files (x86)\\Windows Kits\\8.1\\lib\\winv6.3\\um\\x64\" /EXPORT:PyInit_BB C:\\Users\\87\\Documents\\GitHub\\my\\TutorialForPython\\ipynbs\\使用Cython优化python程序的性能\\Cython纯净模式\\tmpm5d7r9zk\\Release\\Users\\87\\Documents\\GitHub\\my\\TutorialForPython\\ipynbs\\使用Cython优化python程序的性能\\Cython纯净模式\\BB.obj /OUT:C:\\Users\\87\\Documents\\GitHub\\my\\TutorialForPython\\ipynbs\\使用Cython优化python程序的性能\\Cython纯净模式\\BB.cp36-win_amd64.pyd /IMPLIB:C:\\Users\\87\\Documents\\GitHub\\my\\TutorialForPython\\ipynbs\\使用Cython优化python程序的性能\\Cython纯净模式\\tmpm5d7r9zk\\Release\\Users\\87\\Documents\\GitHub\\my\\TutorialForPython\\ipynbs\\使用Cython优化python程序的性能\\Cython纯净模式\\BB.cp36-win_amd64.lib\n",
      "BB.obj : warning LNK4197: export 'PyInit_BB' specified multiple times; using first specification\n",
      "   Creating library C:\\Users\\87\\Documents\\GitHub\\my\\TutorialForPython\\ipynbs\\使用Cython优化python程序的性能\\Cython纯净模式\\tmpm5d7r9zk\\Release\\Users\\87\\Documents\\GitHub\\my\\TutorialForPython\\ipynbs\\使用Cython优化python程序的性能\\Cython纯净模式\\BB.cp36-win_amd64.lib and object C:\\Users\\87\\Documents\\GitHub\\my\\TutorialForPython\\ipynbs\\使用Cython优化python程序的性能\\Cython纯净模式\\tmpm5d7r9zk\\Release\\Users\\87\\Documents\\GitHub\\my\\TutorialForPython\\ipynbs\\使用Cython优化python程序的性能\\Cython纯净模式\\BB.cp36-win_amd64.exp\n",
      "Generating code\n",
      "Finished generating code\n"
     ]
    }
   ],
   "source": [
    "!cythonize -i -3 -a BB.py"
   ]
  },
  {
   "cell_type": "code",
   "execution_count": 1,
   "metadata": {},
   "outputs": [
    {
     "name": "stdout",
     "output_type": "stream",
     "text": [
      "Yep, I'm compiled.\n"
     ]
    }
   ],
   "source": [
    "import BB"
   ]
  },
  {
   "cell_type": "code",
   "execution_count": 2,
   "metadata": {},
   "outputs": [
    {
     "data": {
      "text/plain": [
       "28"
      ]
     },
     "execution_count": 2,
     "metadata": {},
     "output_type": "execute_result"
    }
   ],
   "source": [
    "BB.myfunction(10)"
   ]
  },
  {
   "cell_type": "code",
   "execution_count": 3,
   "metadata": {},
   "outputs": [
    {
     "name": "stdout",
     "output_type": "stream",
     "text": [
      "4.7\n"
     ]
    },
    {
     "data": {
      "text/plain": [
       "0.0"
      ]
     },
     "execution_count": 3,
     "metadata": {},
     "output_type": "execute_result"
    }
   ],
   "source": [
    "a = BB.A()\n",
    "a.foo(2.7)"
   ]
  },
  {
   "cell_type": "code",
   "execution_count": null,
   "metadata": {
    "collapsed": true
   },
   "outputs": [],
   "source": []
  }
 ],
 "metadata": {
  "kernelspec": {
   "display_name": "Python 3",
   "language": "python",
   "name": "python3"
  },
  "language_info": {
   "codemirror_mode": {
    "name": "ipython",
    "version": 3
   },
   "file_extension": ".py",
   "mimetype": "text/x-python",
   "name": "python",
   "nbconvert_exporter": "python",
   "pygments_lexer": "ipython3",
   "version": "3.7.3"
  }
 },
 "nbformat": 4,
 "nbformat_minor": 2
}
