{
 "cells": [
  {
   "cell_type": "markdown",
   "metadata": {},
   "source": [
    "# 定时任务\n",
    "\n",
    "我们当然可以[使用crontab或者airflow](http://blog.hszofficial.site/introduce/2017/05/10/%E5%AE%9A%E6%97%B6%E4%BB%BB%E5%8A%A1%E7%AE%A1%E7%90%86/)来执行定时任务,但如果我们希望不依赖其他工具只用python实现定时任务,那就需要使用第三方库来实现了,目前我知道的比较好用的定时任务库有两个:\n",
    "\n",
    "+ `apscheduler`支持最多的底层实现方式,因此比较重,同时定时语法可读性不高\n",
    "+ `schedule`只支持线程模型,但定时语法可读性比较高,接口也较为简单\n",
    "\n",
    "我个人比较建议使用线程模型就用`schedule`,使用协程模型就用`apscheduler`"
   ]
  },
  {
   "cell_type": "markdown",
   "metadata": {},
   "source": [
    "## 使用schedule做基于线程的定时任务\n",
    "\n",
    "\n",
    "[schedule](https://github.com/dbader/schedule)这个库.\n",
    "\n",
    "这个库有两种用法:\n",
    "\n",
    "1. 起一个进行做定时任务\n",
    "2. 结合其他服务,挂在后台做定时任务\n",
    "\n",
    "一个基本的定时任务结构如下:"
   ]
  },
  {
   "cell_type": "code",
   "execution_count": 3,
   "metadata": {},
   "outputs": [
    {
     "name": "stdout",
     "output_type": "stream",
     "text": [
      "I'm working...\n",
      "I'm working...\n",
      "I'm working...\n"
     ]
    }
   ],
   "source": [
    "import schedule\n",
    "import time\n",
    "\n",
    "def job():\n",
    "    print(\"I'm working...\")\n",
    "\n",
    "schedule.every(10).seconds.do(job)\n",
    "\n",
    "count=0#\n",
    "while True:\n",
    "    if count >= 15:#\n",
    "        break#\n",
    "    schedule.run_pending()\n",
    "    time.sleep(1)\n",
    "    count+=1"
   ]
  },
  {
   "cell_type": "markdown",
   "metadata": {},
   "source": [
    "打注释的部分是不用的,通常我们需要维持主线程是一个死循环.\n",
    "\n",
    "上面的代码中实际执行的部分在`job`函数中.而定义日程表则使用的`schedule`对象\n",
    "\n",
    "如果要让主进程不用堵塞(通常用在服务上),我们可以为其打个补丁"
   ]
  },
  {
   "cell_type": "code",
   "execution_count": 4,
   "metadata": {},
   "outputs": [],
   "source": [
    "from types import MethodType\n",
    "import schedule\n",
    "import time\n",
    "import threading\n",
    "\n",
    "def run_continuously(self, interval=1):\n",
    "    \"\"\"Continuously run, while executing pending jobs at each elapsed\n",
    "    time interval.\n",
    "    @return cease_continuous_run: threading.Event which can be set to\n",
    "    cease continuous run.\n",
    "    Please note that it is *intended behavior that run_continuously()\n",
    "    does not run missed jobs*. For example, if you've registered a job\n",
    "    that should run every minute and you set a continuous run interval\n",
    "    of one hour then your job won't be run 60 times at each interval but\n",
    "    only once.\n",
    "    \"\"\"\n",
    "    cease_continuous_run = threading.Event()\n",
    "\n",
    "    class ScheduleThread(threading.Thread):\n",
    "        @classmethod\n",
    "        def run(cls):\n",
    "            while not cease_continuous_run.is_set():\n",
    "                self.run_pending()\n",
    "                time.sleep(interval)\n",
    "\n",
    "    continuous_thread = ScheduleThread()\n",
    "    continuous_thread.start()\n",
    "    return cease_continuous_run\n",
    "\n",
    "schedule.default_scheduler.run_continuously = MethodType(run_continuously, schedule.default_scheduler)\n",
    "\n",
    "def run_continuously(interval=1):\n",
    "    \"\"\"Continuously run, while executing pending jobs at each elapsed\n",
    "    time interval.\n",
    "    @return cease_continuous_run: threading.Event which can be set to\n",
    "    cease continuous run.\n",
    "    Please note that it is *intended behavior that run_continuously()\n",
    "    does not run missed jobs*. For example, if you've registered a job\n",
    "    that should run every minute and you set a continuous run interval\n",
    "    of one hour then your job won't be run 60 times at each interval but\n",
    "    only once.\n",
    "    \"\"\"\n",
    "    return schedule.default_scheduler.run_continuously(interval)\n",
    "\n",
    "\n",
    "schedule.run_continuously = run_continuously"
   ]
  },
  {
   "cell_type": "code",
   "execution_count": 5,
   "metadata": {},
   "outputs": [
    {
     "name": "stdout",
     "output_type": "stream",
     "text": [
      "I'm working...\n"
     ]
    },
    {
     "data": {
      "text/plain": [
       "<threading.Event at 0x108eff358>"
      ]
     },
     "execution_count": 5,
     "metadata": {},
     "output_type": "execute_result"
    },
    {
     "name": "stdout",
     "output_type": "stream",
     "text": [
      "I'm working...\n",
      "I'm working...\n",
      "I'm working...\n",
      "I'm working...\n",
      "I'm working...\n",
      "I'm working...\n"
     ]
    }
   ],
   "source": [
    "def job():\n",
    "    print(\"I'm working...\")\n",
    "schedule.every(10).seconds.do(job)\n",
    "schedule.run_continuously()"
   ]
  },
  {
   "cell_type": "markdown",
   "metadata": {},
   "source": [
    "## 使用apscheduler做基于协程的定时任务\n",
    "\n",
    "[apscheduler](https://github.com/agronholm/apscheduler)的使用方式也简单,将job封装成协程函数,放入scheduler中,设置好间隔时间就行"
   ]
  },
  {
   "cell_type": "code",
   "execution_count": 3,
   "metadata": {},
   "outputs": [
    {
     "name": "stdout",
     "output_type": "stream",
     "text": [
      "I'm working...\n",
      "I'm working...\n"
     ]
    }
   ],
   "source": [
    "from apscheduler.schedulers.asyncio import AsyncIOScheduler\n",
    "scheduler = AsyncIOScheduler()\n",
    "\n",
    "async def job():\n",
    "    print(\"I'm working...\")\n",
    "\n",
    "\n",
    "scheduler.add_job(job, 'interval', seconds=3)\n",
    "scheduler.start()"
   ]
  },
  {
   "cell_type": "code",
   "execution_count": 4,
   "metadata": {},
   "outputs": [],
   "source": [
    "scheduler.pause()"
   ]
  }
 ],
 "metadata": {
  "kernelspec": {
   "display_name": "Python 3",
   "language": "python",
   "name": "python3"
  },
  "language_info": {
   "codemirror_mode": {
    "name": "ipython",
    "version": 3
   },
   "file_extension": ".py",
   "mimetype": "text/x-python",
   "name": "python",
   "nbconvert_exporter": "python",
   "pygments_lexer": "ipython3",
   "version": "3.7.2"
  }
 },
 "nbformat": 4,
 "nbformat_minor": 2
}
