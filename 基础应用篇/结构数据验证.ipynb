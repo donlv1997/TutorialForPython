{
 "cells": [
  {
   "cell_type": "markdown",
   "metadata": {},
   "source": [
    "# 结构数据验证\n",
    "\n",
    "我们的程序往往需要从外部获取数据,比如服务请求都是外部输入数据,比如程序启动可以导入外部设定的配置.通常我们使用json(或者yaml)或者是python中的字典作为外部数据的标准格式.结构数据验证无非是验证字段是否存在,字段值是否符合要求.一个比较通用的数据描述协议是[jsonschema](http://json-schema.org/)其python实现是包[jsonschema](https://github.com/Julian/jsonschema).\n",
    "\n",
    "一个比较好的语法描述是[Json Schema 快速入门](https://www.jianshu.com/p/8278eb2458c4?winzoom=1),更加详细的可以看[understanding-json-schema](https://json-schema.org/understanding-json-schema/index.html)\n",
    "\n",
    "## 例子:\n",
    "\n",
    "我们来验证如下的json格式描述的用户\n",
    "\n",
    "```json\n",
    "{\n",
    "    \"name\": \"Emily\",\n",
    "    \"age\": 123,\n",
    "    \"email\":\"emily@gmail.com\"\n",
    "    \"gender\": \"female\",\n",
    "    \"like_film\":[\"a\",\"b\"]\n",
    "}\n",
    "```"
   ]
  },
  {
   "cell_type": "markdown",
   "metadata": {},
   "source": [
    "> 定义结构"
   ]
  },
  {
   "cell_type": "code",
   "execution_count": 23,
   "metadata": {},
   "outputs": [],
   "source": [
    "schema = {\n",
    "    \"$schema\": \"http://json-schema.org/draft-07/schema#\",\n",
    "    \"$id\": \"http://yourdomain.com/schemas/user-schema.json\",\n",
    "    \"title\": \"User\",\n",
    "    \"description\": \"用户\",\n",
    "    \"type\" : \"object\",\n",
    "    \"properties\" : {\n",
    "        \"name\" : {\n",
    "            \"description\": \"user name\",\n",
    "            \"type\" : \"string\"\n",
    "        },\"age\" : {\n",
    "            \"description\": \"user age\",\n",
    "            \"type\" : \"integer\",\n",
    "            \"minimum\": 0,\n",
    "            \"maximum\":140,\n",
    "            \"exclusiveMaximum\": True\n",
    "        },\"gender\":{\n",
    "            \"description\": \"user gender\",\n",
    "            \"type\": \"string\", \n",
    "            \"enum\": [\"male\", \"female\"]\n",
    "        },\"email\":{\n",
    "            \"description\": \"user email\",\n",
    "            \"type\" : \"string\",\n",
    "            \"pattern\":r\"^(\\w)+(\\.\\w+)*@(\\w)+((\\.\\w+)+)$\"\n",
    "        },\"like_film\":{\n",
    "            \"description\": \"user like file's name\",\n",
    "            \"type\": \"array\",\n",
    "            \"items\": {\n",
    "                \"type\": \"string\"\n",
    "            },\n",
    "        }\n",
    "    },\n",
    "    \"required\": [ \"name\", \"age\", \"gender\" ]\n",
    "}"
   ]
  },
  {
   "cell_type": "markdown",
   "metadata": {},
   "source": [
    "> 验证字典是否满足结构"
   ]
  },
  {
   "cell_type": "code",
   "execution_count": 16,
   "metadata": {},
   "outputs": [],
   "source": [
    "from jsonschema import validate"
   ]
  },
  {
   "cell_type": "code",
   "execution_count": 17,
   "metadata": {},
   "outputs": [],
   "source": [
    "validate(instance={\n",
    "    \"name\": \"Emily\",\n",
    "    \"age\": 123,\n",
    "    \"gender\": \"female\",\n",
    "    \"like_film\":[\"a\",\"b\"]\n",
    "}, schema=schema)"
   ]
  },
  {
   "cell_type": "code",
   "execution_count": 18,
   "metadata": {},
   "outputs": [],
   "source": [
    "validate(instance={\n",
    "    \"name\": \"Emily\",\n",
    "    \"age\": 123,\n",
    "    \"gender\": \"female\",\n",
    "    \"email\":\"emily@gmail.com\"\n",
    "}, schema=schema)"
   ]
  },
  {
   "cell_type": "code",
   "execution_count": 22,
   "metadata": {},
   "outputs": [],
   "source": [
    "validate(instance={\n",
    "    \"name\": \"Emily\",\n",
    "    \"age\": 123,\n",
    "    \"gender\": \"female\",\n",
    "    \"email\":\"emily@gmail.com\"\n",
    "}, schema=schema)"
   ]
  },
  {
   "cell_type": "code",
   "execution_count": 6,
   "metadata": {},
   "outputs": [
    {
     "ename": "ValidationError",
     "evalue": "'age' is a required property\n\nFailed validating 'required' in schema:\n    {'description': '用户',\n     'properties': {'age': {'description': 'user age',\n                            'exclusiveMaximum': True,\n                            'maximum': 140,\n                            'minimum': 0,\n                            'type': 'integer'},\n                    'email': {'description': 'user email',\n                              'pattern': '^(\\\\w)+(\\\\.\\\\w+)*@(\\\\w)+((\\\\.\\\\w+)+)$',\n                              'type': 'string'},\n                    'gender': {'description': 'user gender',\n                               'enum': ['male', 'female'],\n                               'type': 'string'},\n                    'like_film': {'description': \"user like file's name\",\n                                  'items': {'type': 'string'},\n                                  'type': 'array'},\n                    'name': {'description': 'user name', 'type': 'string'}},\n     'required': ['name', 'age', 'gender'],\n     'title': 'User',\n     'type': 'object'}\n\nOn instance:\n    {'name': 'Eggs', 'price': 'Invalid'}",
     "output_type": "error",
     "traceback": [
      "\u001b[0;31m---------------------------------------------------------------------------\u001b[0m",
      "\u001b[0;31mValidationError\u001b[0m                           Traceback (most recent call last)",
      "\u001b[0;32m<ipython-input-6-075aa0c4612f>\u001b[0m in \u001b[0;36m<module>\u001b[0;34m\u001b[0m\n\u001b[1;32m      1\u001b[0m validate(\n\u001b[0;32m----> 2\u001b[0;31m \u001b[0minstance\u001b[0m\u001b[0;34m=\u001b[0m\u001b[0;34m{\u001b[0m\u001b[0;34m\"name\"\u001b[0m \u001b[0;34m:\u001b[0m \u001b[0;34m\"Eggs\"\u001b[0m\u001b[0;34m,\u001b[0m \u001b[0;34m\"price\"\u001b[0m \u001b[0;34m:\u001b[0m \u001b[0;34m\"Invalid\"\u001b[0m\u001b[0;34m}\u001b[0m\u001b[0;34m,\u001b[0m \u001b[0mschema\u001b[0m\u001b[0;34m=\u001b[0m\u001b[0mschema\u001b[0m\u001b[0;34m,\u001b[0m\u001b[0;34m\u001b[0m\u001b[0;34m\u001b[0m\u001b[0m\n\u001b[0m\u001b[1;32m      3\u001b[0m )     \n",
      "\u001b[0;32m~/Lib/conda/anaconda3/lib/python3.7/site-packages/jsonschema/validators.py\u001b[0m in \u001b[0;36mvalidate\u001b[0;34m(instance, schema, cls, *args, **kwargs)\u001b[0m\n\u001b[1;32m    539\u001b[0m         \u001b[0mcls\u001b[0m \u001b[0;34m=\u001b[0m \u001b[0mvalidator_for\u001b[0m\u001b[0;34m(\u001b[0m\u001b[0mschema\u001b[0m\u001b[0;34m)\u001b[0m\u001b[0;34m\u001b[0m\u001b[0;34m\u001b[0m\u001b[0m\n\u001b[1;32m    540\u001b[0m     \u001b[0mcls\u001b[0m\u001b[0;34m.\u001b[0m\u001b[0mcheck_schema\u001b[0m\u001b[0;34m(\u001b[0m\u001b[0mschema\u001b[0m\u001b[0;34m)\u001b[0m\u001b[0;34m\u001b[0m\u001b[0;34m\u001b[0m\u001b[0m\n\u001b[0;32m--> 541\u001b[0;31m     \u001b[0mcls\u001b[0m\u001b[0;34m(\u001b[0m\u001b[0mschema\u001b[0m\u001b[0;34m,\u001b[0m \u001b[0;34m*\u001b[0m\u001b[0margs\u001b[0m\u001b[0;34m,\u001b[0m \u001b[0;34m**\u001b[0m\u001b[0mkwargs\u001b[0m\u001b[0;34m)\u001b[0m\u001b[0;34m.\u001b[0m\u001b[0mvalidate\u001b[0m\u001b[0;34m(\u001b[0m\u001b[0minstance\u001b[0m\u001b[0;34m)\u001b[0m\u001b[0;34m\u001b[0m\u001b[0;34m\u001b[0m\u001b[0m\n\u001b[0m",
      "\u001b[0;32m~/Lib/conda/anaconda3/lib/python3.7/site-packages/jsonschema/validators.py\u001b[0m in \u001b[0;36mvalidate\u001b[0;34m(self, *args, **kwargs)\u001b[0m\n\u001b[1;32m    128\u001b[0m         \u001b[0;32mdef\u001b[0m \u001b[0mvalidate\u001b[0m\u001b[0;34m(\u001b[0m\u001b[0mself\u001b[0m\u001b[0;34m,\u001b[0m \u001b[0;34m*\u001b[0m\u001b[0margs\u001b[0m\u001b[0;34m,\u001b[0m \u001b[0;34m**\u001b[0m\u001b[0mkwargs\u001b[0m\u001b[0;34m)\u001b[0m\u001b[0;34m:\u001b[0m\u001b[0;34m\u001b[0m\u001b[0;34m\u001b[0m\u001b[0m\n\u001b[1;32m    129\u001b[0m             \u001b[0;32mfor\u001b[0m \u001b[0merror\u001b[0m \u001b[0;32min\u001b[0m \u001b[0mself\u001b[0m\u001b[0;34m.\u001b[0m\u001b[0miter_errors\u001b[0m\u001b[0;34m(\u001b[0m\u001b[0;34m*\u001b[0m\u001b[0margs\u001b[0m\u001b[0;34m,\u001b[0m \u001b[0;34m**\u001b[0m\u001b[0mkwargs\u001b[0m\u001b[0;34m)\u001b[0m\u001b[0;34m:\u001b[0m\u001b[0;34m\u001b[0m\u001b[0;34m\u001b[0m\u001b[0m\n\u001b[0;32m--> 130\u001b[0;31m                 \u001b[0;32mraise\u001b[0m \u001b[0merror\u001b[0m\u001b[0;34m\u001b[0m\u001b[0;34m\u001b[0m\u001b[0m\n\u001b[0m\u001b[1;32m    131\u001b[0m \u001b[0;34m\u001b[0m\u001b[0m\n\u001b[1;32m    132\u001b[0m         \u001b[0;32mdef\u001b[0m \u001b[0mis_type\u001b[0m\u001b[0;34m(\u001b[0m\u001b[0mself\u001b[0m\u001b[0;34m,\u001b[0m \u001b[0minstance\u001b[0m\u001b[0;34m,\u001b[0m \u001b[0mtype\u001b[0m\u001b[0;34m)\u001b[0m\u001b[0;34m:\u001b[0m\u001b[0;34m\u001b[0m\u001b[0;34m\u001b[0m\u001b[0m\n",
      "\u001b[0;31mValidationError\u001b[0m: 'age' is a required property\n\nFailed validating 'required' in schema:\n    {'description': '用户',\n     'properties': {'age': {'description': 'user age',\n                            'exclusiveMaximum': True,\n                            'maximum': 140,\n                            'minimum': 0,\n                            'type': 'integer'},\n                    'email': {'description': 'user email',\n                              'pattern': '^(\\\\w)+(\\\\.\\\\w+)*@(\\\\w)+((\\\\.\\\\w+)+)$',\n                              'type': 'string'},\n                    'gender': {'description': 'user gender',\n                               'enum': ['male', 'female'],\n                               'type': 'string'},\n                    'like_film': {'description': \"user like file's name\",\n                                  'items': {'type': 'string'},\n                                  'type': 'array'},\n                    'name': {'description': 'user name', 'type': 'string'}},\n     'required': ['name', 'age', 'gender'],\n     'title': 'User',\n     'type': 'object'}\n\nOn instance:\n    {'name': 'Eggs', 'price': 'Invalid'}"
     ]
    }
   ],
   "source": [
    "validate(\n",
    "instance={\"name\" : \"Eggs\", \"price\" : \"Invalid\"}, schema=schema,\n",
    ")     "
   ]
  },
  {
   "cell_type": "markdown",
   "metadata": {},
   "source": [
    "jsonschema最大的优点是跨语言,使用同一套描述规范可以在c,cpp,go,js,python之间进行传递,这个类似protobuf,可以做到代码即文件,同时它支持继承,可以维护一个统一的服务用语描述schema,同时支持使用`$id`描述自身的维护地址,使用`$ref`来引用外部或者别处定义的对象."
   ]
  }
 ],
 "metadata": {
  "kernelspec": {
   "display_name": "Python 3",
   "language": "python",
   "name": "python3"
  },
  "language_info": {
   "codemirror_mode": {
    "name": "ipython",
    "version": 3
   },
   "file_extension": ".py",
   "mimetype": "text/x-python",
   "name": "python",
   "nbconvert_exporter": "python",
   "pygments_lexer": "ipython3",
   "version": "3.7.2"
  }
 },
 "nbformat": 4,
 "nbformat_minor": 2
}
