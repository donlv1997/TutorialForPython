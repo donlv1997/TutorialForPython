{
 "cells": [
  {
   "cell_type": "markdown",
   "metadata": {},
   "source": [
    "# 压缩归档\n",
    "\n",
    "如果是用于归档文件,那我们最好的选择就是使用压缩工具,python的标准库自带zipfile和tarfile用来压缩归档文件,还有gzip用来为单一文件进行压缩,另外github上还有一个归档为rar的工具[rarfile](https://github.com/markokr/rarfile)."
   ]
  },
  {
   "cell_type": "markdown",
   "metadata": {},
   "source": [
    "## zipfile\n",
    "\n",
    "\n",
    "\n",
    "zip文件格式由三个部分组成：压缩源文件数据区+压缩源文件目录区+压缩源文件目录结束标志 \n",
    "\n",
    "> 压缩源文件数据区 \n",
    "\n",
    "在这个数据区中每一个压缩的源文件/目录都是一条记录，记录的格式如下： [文件头+ 文件数据 + 数据描述符]\n",
    "    \n",
    "+ 文件头结构 \n",
    "\n",
    "组成| 长度 \n",
    "---|---\n",
    "文件头标记| 4 bytes (0x04034b50) \n",
    "解压文件所需 pkware 版本 |2 bytes \n",
    "全局方式位标记 |2 bytes \n",
    "压缩方式 |2 bytes \n",
    "最后修改文件时间 |2 bytes \n",
    "最后修改文件日期 |2 bytes \n",
    "CRC-32校验 |4 bytes \n",
    "压缩后尺寸 |4 bytes \n",
    "未压缩尺寸 |4 bytes \n",
    "文件名长度 |2 bytes \n",
    "扩展记录长度 |2 bytes \n",
    "文件名 |（不定长度） \n",
    "扩展字段 |（不定长度）\n",
    "       \n",
    "+ 文件数据 \n",
    "    \n",
    "+ 数据描述符 \n",
    "    \n",
    "组成 |长度 \n",
    "---|---\n",
    "CRC-32校验 |4 bytes \n",
    "压缩后尺寸 |4 bytes \n",
    "未压缩尺寸 |4 bytes \n",
    "\n",
    "这个数据描述符只在全局方式位标记的第３位设为１时才存在，紧接在压缩数据的最后一个字节后。这个数据描述符只用在不能对输出的 ZIP 文件进行检索时使用。例如：在一个不能检索的驱动器（如：磁带机上）上的 ZIP 文件中。如果是磁盘上的ZIP文件一般没有这个数据描述符。 \n",
    "\n",
    "\n",
    "> 压缩源文件目录区 \n",
    "\n",
    "在这个数据区中每一条纪录对应在压缩源文件数据区中的一条数据 \n",
    "\n",
    " 组成 |长度 \n",
    " ---|---\n",
    "目录中文件文件头标记| 4 bytes (0x02014b50) \n",
    "压缩使用的pkware 版本| 2 bytes \n",
    "解压文件所需 pkware 版本| 2 bytes \n",
    "全局方式位标记 |2 bytes \n",
    "压缩方式| 2 bytes \n",
    "最后修改文件时间| 2 bytes \n",
    "最后修改文件日期 |2 bytes \n",
    "ＣＲＣ－３２校验 |4 bytes \n",
    "压缩后尺寸| 4 bytes \n",
    "未压缩尺寸| 4 bytes \n",
    "文件名长度 |2 bytes \n",
    "扩展字段长度| 2 bytes \n",
    "文件注释长度 |2 bytes \n",
    "磁盘开始号 |2 bytes \n",
    "内部文件属性 |2 bytes \n",
    "外部文件属性 |4 bytes \n",
    "局部头部偏移量 |4 bytes \n",
    "文件名 |（不定长度） \n",
    "扩展字段 |（不定长度） \n",
    "文件注释 |（不定长度） \n",
    "\n",
    "\n",
    "> 压缩源文件目录结束标志 \n",
    "\n",
    "组成 |长度 \n",
    "---|---\n",
    "目录结束标记 |4 bytes (0x02014b50) \n",
    "当前磁盘编号 |2 bytes \n",
    "目录区开始磁盘编号| 2 bytes \n",
    "本磁盘上纪录总数 |2 bytes \n",
    "目录区中纪录总数| 2 bytes \n",
    "目录区尺寸大小 |4 bytes \n",
    "目录区对第一张磁盘的偏移量| 4 bytes \n",
    "ZIP 文件注释长度 |2 bytes \n",
    "ZIP 文件注释 |（不定长度）"
   ]
  },
  {
   "cell_type": "code",
   "execution_count": 1,
   "metadata": {
    "collapsed": true
   },
   "outputs": [],
   "source": [
    "import zipfile"
   ]
  },
  {
   "cell_type": "markdown",
   "metadata": {},
   "source": [
    "### 创建归档"
   ]
  },
  {
   "cell_type": "markdown",
   "metadata": {},
   "source": [
    "+ #### 创建一个文件的zip归档"
   ]
  },
  {
   "cell_type": "code",
   "execution_count": 2,
   "metadata": {
    "collapsed": true
   },
   "outputs": [],
   "source": [
    "with zipfile.ZipFile('source/output/笑傲江湖.zip', 'w',zipfile.ZIP_DEFLATED) as f:\n",
    "    f.write(\"source/input/笑傲江湖.txt\")"
   ]
  },
  {
   "cell_type": "markdown",
   "metadata": {},
   "source": [
    "+ #### 创建字符串的归档"
   ]
  },
  {
   "cell_type": "code",
   "execution_count": 3,
   "metadata": {
    "collapsed": true
   },
   "outputs": [],
   "source": [
    "with open(\"source/input/iris.csv\",\"r\") as f:\n",
    "    content = f.read()"
   ]
  },
  {
   "cell_type": "code",
   "execution_count": 4,
   "metadata": {
    "collapsed": true
   },
   "outputs": [],
   "source": [
    "with zipfile.ZipFile('source/output/iris_str.zip', 'w',zipfile.ZIP_DEFLATED) as f:\n",
    "    f.writestr( 'iris_str.csv',content)"
   ]
  },
  {
   "cell_type": "markdown",
   "metadata": {},
   "source": [
    "+ #### 创建一个多文件归档\n",
    "\n",
    "在归档大量文件时,我们可以用`allowZip64=True`来指定支持超过2Gb的归档"
   ]
  },
  {
   "cell_type": "code",
   "execution_count": 5,
   "metadata": {
    "collapsed": true
   },
   "outputs": [],
   "source": [
    "with zipfile.ZipFile('source/output/all_input.zip', 'w',zipfile.ZIP_DEFLATED,allowZip64=True) as f:\n",
    "    f.write(\"source/input/笑傲江湖.txt\")\n",
    "    f.write(\"source/input/iris.csv\")\n",
    "    f.write(\"source/input/people.json\")"
   ]
  },
  {
   "cell_type": "markdown",
   "metadata": {},
   "source": [
    "### 查看压缩文件信息"
   ]
  },
  {
   "cell_type": "code",
   "execution_count": 6,
   "metadata": {},
   "outputs": [
    {
     "data": {
      "text/plain": [
       "True"
      ]
     },
     "execution_count": 6,
     "metadata": {},
     "output_type": "execute_result"
    }
   ],
   "source": [
    "#查看是不是zip压缩文件\n",
    "zipfile.is_zipfile(\"source/output/all_input.zip\") "
   ]
  },
  {
   "cell_type": "code",
   "execution_count": 7,
   "metadata": {},
   "outputs": [
    {
     "name": "stdout",
     "output_type": "stream",
     "text": [
      "['source/input/笑傲江湖.txt', 'source/input/iris.csv', 'source/input/people.json']\n"
     ]
    }
   ],
   "source": [
    "# 查看zip中的文件列表\n",
    "with zipfile.ZipFile('source/output/all_input.zip', 'r',zipfile.ZIP_DEFLATED) as f:\n",
    "    print(f.namelist())"
   ]
  },
  {
   "cell_type": "code",
   "execution_count": 8,
   "metadata": {},
   "outputs": [
    {
     "name": "stdout",
     "output_type": "stream",
     "text": [
      "[{\"name\":\"Michael\"},{\"name\":\"Andy\", \"age\":30},{\"name\":\"Justin\", \"age\":19}]\n",
      "\n"
     ]
    }
   ],
   "source": [
    "# 打开zip中某个文件\n",
    "with zipfile.ZipFile('source/output/all_input.zip', 'r',zipfile.ZIP_DEFLATED) as f:\n",
    "    print(f.open('source/input/people.json').read().decode(\"utf-8\"))"
   ]
  },
  {
   "cell_type": "code",
   "execution_count": 9,
   "metadata": {},
   "outputs": [
    {
     "name": "stdout",
     "output_type": "stream",
     "text": [
      "[<ZipInfo filename='source/input/笑傲江湖.txt' compress_type=deflate filemode='-rwxr-xr-x' file_size=2989594 compress_size=1269072>, <ZipInfo filename='source/input/iris.csv' compress_type=deflate filemode='-rwxr-xr-x' file_size=4606 compress_size=873>, <ZipInfo filename='source/input/people.json' compress_type=deflate filemode='-rwxr-xr-x' file_size=75 compress_size=52>]\n"
     ]
    }
   ],
   "source": [
    "# 查看zip文件的信息列表\n",
    "with zipfile.ZipFile('source/output/all_input.zip', 'r',zipfile.ZIP_DEFLATED) as f:\n",
    "    print(f.infolist())"
   ]
  },
  {
   "cell_type": "code",
   "execution_count": 10,
   "metadata": {},
   "outputs": [
    {
     "name": "stdout",
     "output_type": "stream",
     "text": [
      "File Name                                             Modified             Size\n",
      "source/input/笑傲江湖.txt                          2016-12-23 23:17:44      2989594\n",
      "source/input/iris.csv                          2016-12-23 23:17:44         4606\n",
      "source/input/people.json                       2016-12-23 23:17:44           75\n",
      "None\n"
     ]
    }
   ],
   "source": [
    "# 查看压缩信息\n",
    "with zipfile.ZipFile('source/output/all_input.zip', 'r',zipfile.ZIP_DEFLATED) as f:\n",
    "    print(f.printdir())"
   ]
  },
  {
   "cell_type": "code",
   "execution_count": 11,
   "metadata": {},
   "outputs": [
    {
     "name": "stdout",
     "output_type": "stream",
     "text": [
      "<ZipInfo filename='source/input/people.json' compress_type=deflate filemode='-rwxr-xr-x' file_size=75 compress_size=52>\n"
     ]
    }
   ],
   "source": [
    "# 查看zip中某文件的信息\n",
    "with zipfile.ZipFile('source/output/all_input.zip', 'r',zipfile.ZIP_DEFLATED) as f:\n",
    "    info = f.getinfo('source/input/people.json')\n",
    "    print(info)"
   ]
  },
  {
   "cell_type": "code",
   "execution_count": 12,
   "metadata": {},
   "outputs": [
    {
     "name": "stdout",
     "output_type": "stream",
     "text": [
      "(2016, 12, 23, 23, 17, 44)\n"
     ]
    }
   ],
   "source": [
    "# 查看创建时间\n",
    "\n",
    "with zipfile.ZipFile('source/output/all_input.zip', 'r',zipfile.ZIP_DEFLATED) as f:\n",
    "    info = f.getinfo('source/input/people.json')\n",
    "    print(info.date_time)"
   ]
  },
  {
   "cell_type": "code",
   "execution_count": 13,
   "metadata": {},
   "outputs": [
    {
     "name": "stdout",
     "output_type": "stream",
     "text": [
      "None\n"
     ]
    }
   ],
   "source": [
    "# 检查zip中每个文件的CRC,有错误会返回对应文件作为列表成员\n",
    "with zipfile.ZipFile('source/output/all_input.zip', 'r',zipfile.ZIP_DEFLATED) as f:\n",
    "    print(f.testzip())"
   ]
  },
  {
   "cell_type": "markdown",
   "metadata": {},
   "source": [
    "### 解压文件\n",
    "\n",
    "+ #### 全部解压"
   ]
  },
  {
   "cell_type": "code",
   "execution_count": 14,
   "metadata": {
    "collapsed": true
   },
   "outputs": [],
   "source": [
    "with zipfile.ZipFile('source/output/all_input.zip', 'r',zipfile.ZIP_DEFLATED) as f:\n",
    "    f.extractall(\"source/extract\")"
   ]
  },
  {
   "cell_type": "markdown",
   "metadata": {},
   "source": [
    "+ #### 单独解压一个"
   ]
  },
  {
   "cell_type": "code",
   "execution_count": 15,
   "metadata": {
    "collapsed": true
   },
   "outputs": [],
   "source": [
    "with zipfile.ZipFile('source/output/all_input.zip', 'r',zipfile.ZIP_DEFLATED) as f:\n",
    "    f.extract(\"source/input/iris.csv\",\"source/exone\")"
   ]
  },
  {
   "cell_type": "markdown",
   "metadata": {},
   "source": [
    "### 密码处理\n",
    "\n",
    "zipfile只能解压带密码的zip包,并不支持创建加密的zip归档,要使用密码只要像这个样:\n",
    "\n",
    "```python\n",
    "\n",
    "with zipfile.ZipFile('source/output/all_input.zip', 'r',zipfile.ZIP_DEFLATED) as f:\n",
    "    f.setpassword(<pwd>)\n",
    "    f.extract(\"source/input/iris.csv\",\"source/exone\")\n",
    "```\n",
    "\n",
    "即可"
   ]
  },
  {
   "cell_type": "markdown",
   "metadata": {},
   "source": [
    "## tarfile\n",
    "\n",
    "tar是linux下是常见的归档格式,常见的后缀有tar,tar.bz,tar.gz三种后缀,分别对应三种不同的压缩算法,\n",
    "\n",
    "tarfile的归档用法也与zipfile类似,只是接口有些变化\n"
   ]
  },
  {
   "cell_type": "code",
   "execution_count": 16,
   "metadata": {
    "collapsed": true
   },
   "outputs": [],
   "source": [
    "import tarfile"
   ]
  },
  {
   "cell_type": "code",
   "execution_count": 17,
   "metadata": {
    "collapsed": true
   },
   "outputs": [],
   "source": [
    "with tarfile.TarFile('source/output/all_input.tar', 'w') as f:\n",
    "    f.add(\"source/input/笑傲江湖.txt\")\n",
    "    f.add(\"source/input/iris.csv\")\n",
    "    f.add(\"source/input/people.json\")"
   ]
  },
  {
   "cell_type": "code",
   "execution_count": 18,
   "metadata": {},
   "outputs": [
    {
     "data": {
      "text/plain": [
       "True"
      ]
     },
     "execution_count": 18,
     "metadata": {},
     "output_type": "execute_result"
    }
   ],
   "source": [
    "#查看是不是zip压缩文件\n",
    "tarfile.is_tarfile(\"source/output/all_input.tar\") "
   ]
  },
  {
   "cell_type": "code",
   "execution_count": 19,
   "metadata": {},
   "outputs": [
    {
     "name": "stdout",
     "output_type": "stream",
     "text": [
      "?rwxr-xr-x huangsizhe/staff    2989594 2016-12-23 23:17:44 source/input/笑傲江湖.txt \n",
      "?rwxr-xr-x huangsizhe/staff       4606 2016-12-23 23:17:44 source/input/iris.csv \n",
      "?rwxr-xr-x huangsizhe/staff         75 2016-12-23 23:17:44 source/input/people.json \n",
      "None\n"
     ]
    }
   ],
   "source": [
    "#查看压缩信息\n",
    "with tarfile.TarFile('source/output/all_input.tar', 'r') as f:\n",
    "    print(f.list())"
   ]
  },
  {
   "cell_type": "code",
   "execution_count": 20,
   "metadata": {},
   "outputs": [
    {
     "name": "stdout",
     "output_type": "stream",
     "text": [
      "['source/input/笑傲江湖.txt', 'source/input/iris.csv', 'source/input/people.json']\n"
     ]
    }
   ],
   "source": [
    "# 查看zip中的文件列表\n",
    "with tarfile.TarFile('source/output/all_input.tar', 'r') as f:\n",
    "    print(f.getnames())"
   ]
  },
  {
   "cell_type": "code",
   "execution_count": 21,
   "metadata": {},
   "outputs": [
    {
     "name": "stdout",
     "output_type": "stream",
     "text": [
      "[<TarInfo 'source/input/笑傲江湖.txt' at 0x10e66db38>, <TarInfo 'source/input/iris.csv' at 0x10e66da70>, <TarInfo 'source/input/people.json' at 0x10e66de58>]\n"
     ]
    }
   ],
   "source": [
    "# 查看zip文件的信息列表\n",
    "with tarfile.TarFile('source/output/all_input.tar', 'r') as f:\n",
    "    print(f.getmembers())"
   ]
  },
  {
   "cell_type": "code",
   "execution_count": 22,
   "metadata": {
    "scrolled": true
   },
   "outputs": [
    {
     "name": "stdout",
     "output_type": "stream",
     "text": [
      "1482506264\n"
     ]
    }
   ],
   "source": [
    "# 查看zip中某文件的信息,比如修改时间戳\n",
    "with tarfile.TarFile('source/output/all_input.tar', 'r') as f:\n",
    "    print(f.getmember(\"source/input/iris.csv\").mtime)"
   ]
  },
  {
   "cell_type": "markdown",
   "metadata": {},
   "source": [
    "如果要结合gz或者bz压缩,那么就不能使用这个类,而要使用`tarfile.open(name=None, mode='r', fileobj=None, bufsize=10240, **kwargs)`函数\n",
    "\n",
    "其中mode=可选的有:\n",
    "\n",
    "mode|说明\n",
    "---|---\n",
    "`'r' or 'r:*'`|使用透明压缩读打开\n",
    "`'r:'`|无压缩读打开\n",
    "`'r:gz'`|gzip压缩读打开\n",
    "`'r:bz2'`|bzip2压缩读打开\n",
    "`'a' or 'a:'`|无需压缩append写打开。如果文件不存在，则创建该文件。\n",
    "`'w' or 'w:'`|无压缩写\n",
    "`'w:gz'`|gzip写打开\n",
    "`'w:bz2'`|bzip2写打开"
   ]
  },
  {
   "cell_type": "markdown",
   "metadata": {},
   "source": [
    "+ #### 创建压缩归档"
   ]
  },
  {
   "cell_type": "code",
   "execution_count": 23,
   "metadata": {
    "collapsed": true
   },
   "outputs": [],
   "source": [
    "import os\n",
    "with tarfile.open(\"source/output/all_input.tar.gz\",\"w:gz\") as tar:\n",
    "    for root,dir,files in os.walk(\"source/input\"):\n",
    "        for file in files:\n",
    "            fullpath = os.path.join(root,file)\n",
    "            tar.add(fullpath)\n",
    "\n"
   ]
  },
  {
   "cell_type": "markdown",
   "metadata": {},
   "source": [
    "+ #### 解压压缩归档"
   ]
  },
  {
   "cell_type": "code",
   "execution_count": 24,
   "metadata": {
    "collapsed": true
   },
   "outputs": [],
   "source": [
    "with tarfile.open(\"source/output/all_input.tar.gz\",\"r:gz\") as tar:\n",
    "    names = tar.getnames()\n",
    "    for name in names:\n",
    "        tar.extract(name,path=\"source/ex_tar\")"
   ]
  },
  {
   "cell_type": "markdown",
   "metadata": {},
   "source": [
    "## [rarfile](https://github.com/markokr/rarfile)\n",
    "\n",
    "python标准库并不支持rar格式的归档,但有个rarfile可以通过pip安装,他的接口与zipfile一样,只是不能写只能读\n",
    "\n"
   ]
  }
 ],
 "metadata": {
  "kernelspec": {
   "display_name": "Python 3",
   "language": "python",
   "name": "python3"
  },
  "language_info": {
   "codemirror_mode": {
    "name": "ipython",
    "version": 3
   },
   "file_extension": ".py",
   "mimetype": "text/x-python",
   "name": "python",
   "nbconvert_exporter": "python",
   "pygments_lexer": "ipython3",
   "version": "3.6.4"
  }
 },
 "nbformat": 4,
 "nbformat_minor": 1
}
