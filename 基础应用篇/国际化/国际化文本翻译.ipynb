{
 "cells": [
  {
   "cell_type": "markdown",
   "metadata": {},
   "source": [
    "# 国际化文本翻译\n",
    "\n",
    "我们写app希望可以适应本地化需求,也就是当换一种语言的时候可以自动转成翻译好的对应文本.我们当然可以每个语言些一个版本,代码相同只是修改其中的文本.\n",
    "\n",
    "一个简单的解决方案是使用一个函数包裹字符串,让函数负责找到对应翻译.比如\n"
   ]
  },
  {
   "cell_type": "code",
   "execution_count": 1,
   "metadata": {},
   "outputs": [],
   "source": [
    "\n",
    "spanishStrings = {'Hello world!': 'Hola Mundo!'}\n",
    "frenchStrings = {'Hello world!': 'Bonjour le monde!'}\n",
    "germanStrings = {'Hello world!': 'Hallo Welt!'}\n",
    "  "
   ]
  },
  {
   "cell_type": "code",
   "execution_count": 2,
   "metadata": {
    "collapsed": true
   },
   "outputs": [],
   "source": [
    "def trans(s):\n",
    "    if LANGUAGE == 'English':\n",
    "        return s\n",
    "    if LANGUAGE == 'Spanish':\n",
    "        return spanishStrings.get(s)\n",
    "    if LANGUAGE == 'French':\n",
    "        return frenchStrings.get(s)\n",
    "    if LANGUAGE == 'German':\n",
    "        return germanStrings.get(s)"
   ]
  },
  {
   "cell_type": "code",
   "execution_count": 3,
   "metadata": {},
   "outputs": [
    {
     "name": "stdout",
     "output_type": "stream",
     "text": [
      "Bonjour le monde!\n"
     ]
    }
   ],
   "source": [
    "LANGUAGE = 'French'\n",
    "print(trans(\"Hello world!\"))"
   ]
  },
  {
   "cell_type": "markdown",
   "metadata": {},
   "source": [
    "但是很明显,一旦文本量变大了就会无法管理了~"
   ]
  },
  {
   "cell_type": "markdown",
   "metadata": {},
   "source": [
    "Python提供了gettext模块用于解决这类问题"
   ]
  },
  {
   "cell_type": "markdown",
   "metadata": {},
   "source": [
    "\n",
    "## gettext的使用\n",
    "\n",
    "> 创建国际化文档的文件夹目录\n",
    "\n",
    "\n",
    "    ----|\n",
    "        |-src-|\n",
    "              |-locale-|\n",
    "                       |-en-|\n",
    "                       |    |-LC_MESSAGES\n",
    "                       |\n",
    "                       |-cn-|\n",
    "                       |    |-LC_MESSAGES\n",
    "                       |\n",
    "                       |-fr-|\n",
    "                            |-LC_MESSAGES\n",
    "        "
   ]
  },
  {
   "cell_type": "markdown",
   "metadata": {},
   "source": [
    "> gettext初始化\n",
    "\n",
    "使用脚本工具`pygettext`初始化gettext设置(如果安装的python中没有的话可以来[这里下载](./src/pygettext.py))"
   ]
  },
  {
   "cell_type": "code",
   "execution_count": 4,
   "metadata": {},
   "outputs": [
    {
     "name": "stdout",
     "output_type": "stream",
     "text": [
      "  File \"src/pygettext.py\", line 516\r\n",
      "    except getopt.error, msg:\r\n",
      "                       ^\r\n",
      "SyntaxError: invalid syntax\r\n"
     ]
    }
   ],
   "source": [
    "!src/pygettext.py -p src/"
   ]
  },
  {
   "cell_type": "code",
   "execution_count": 5,
   "metadata": {},
   "outputs": [
    {
     "name": "stdout",
     "output_type": "stream",
     "text": [
      "# SOME DESCRIPTIVE TITLE.\r\n",
      "# Copyright (C) YEAR ORGANIZATION\r\n",
      "# FIRST AUTHOR <EMAIL@ADDRESS>, YEAR.\r\n",
      "#\r\n",
      "msgid \"\"\r\n",
      "msgstr \"\"\r\n",
      "\"Project-Id-Version: PACKAGE VERSION\\n\"\r\n",
      "\"POT-Creation-Date: 2016-12-08 20:34+CST\\n\"\r\n",
      "\"PO-Revision-Date: YEAR-MO-DA HO:MI+ZONE\\n\"\r\n",
      "\"Last-Translator: FULL NAME <EMAIL@ADDRESS>\\n\"\r\n",
      "\"Language-Team: LANGUAGE <LL@li.org>\\n\"\r\n",
      "\"MIME-Version: 1.0\\n\"\r\n",
      "\"Content-Type: text/plain; charset=CHARSET\\n\"\r\n",
      "\"Content-Transfer-Encoding: ENCODING\\n\"\r\n",
      "\"Generated-By: pygettext.py 1.5\\n\"\r\n",
      "\r\n",
      "\r\n"
     ]
    }
   ],
   "source": [
    "!cat src/messages.pot"
   ]
  },
  {
   "cell_type": "markdown",
   "metadata": {},
   "source": [
    "我们修改它的\n",
    "\n",
    "\"Content-Type: text/plain; charset=CHARSET\\n\"\n",
    "\"Content-Transfer-Encoding: ENCODING\\n\"\n",
    "\n",
    "两个字段,并为其添加要翻译的内容"
   ]
  },
  {
   "cell_type": "code",
   "execution_count": 6,
   "metadata": {},
   "outputs": [
    {
     "name": "stdout",
     "output_type": "stream",
     "text": [
      "Overwriting src/transfor.pot\n"
     ]
    }
   ],
   "source": [
    "%%writefile src/transfor.pot\n",
    "\n",
    "# SOME DESCRIPTIVE TITLE.\n",
    "# Copyright (C) YEAR ORGANIZATION\n",
    "# FIRST AUTHOR <EMAIL@ADDRESS>, YEAR.\n",
    "#\n",
    "msgid \"\"\n",
    "msgstr \"\"\n",
    "\"Project-Id-Version: PACKAGE VERSION\\n\"\n",
    "\"POT-Creation-Date: 2016-12-08 20:34+CST\\n\"\n",
    "\"PO-Revision-Date: YEAR-MO-DA HO:MI+ZONE\\n\"\n",
    "\"Last-Translator: FULL NAME <EMAIL@ADDRESS>\\n\"\n",
    "\"Language-Team: LANGUAGE <LL@li.org>\\n\"\n",
    "\"MIME-Version: 1.0\\n\"\n",
    "\"Content-Type: text/plain; charset=gb2312\\n\"\n",
    "\"Content-Transfer-Encoding: utf-8\\n\"\n",
    "\"Generated-By: pygettext.py 1.5\\n\"\n",
    "\n",
    "\n",
    "msgid \"hello\"\n",
    "msgstr \"\"\n",
    "\n",
    "msgid \"Python now\"\n",
    "msgstr \"\"\n"
   ]
  },
  {
   "cell_type": "markdown",
   "metadata": {},
   "source": [
    "接着我们就可以使用[poedit](https://poedit.net/)来逐条翻译了这边有一个[基本教程操作](http://teliute.laxjyj.com/TeacHtm/TePoedit/index.html)"
   ]
  },
  {
   "cell_type": "markdown",
   "metadata": {},
   "source": [
    "我们用`poedit`为写一份中文的翻译,放在locale/cn/LC_MESSAGES中,其中包含两份文件,zh_CN.po和zh_CN.mo,同样的也弄一份英文的"
   ]
  },
  {
   "cell_type": "code",
   "execution_count": 7,
   "metadata": {},
   "outputs": [
    {
     "name": "stdout",
     "output_type": "stream",
     "text": [
      "cat: src/locale/cn/zh_CN.po: No such file or directory\r\n"
     ]
    }
   ],
   "source": [
    "!cat src/locale/cn/zh_CN.po"
   ]
  },
  {
   "cell_type": "markdown",
   "metadata": {},
   "source": [
    "> 注册国际化文本"
   ]
  },
  {
   "cell_type": "code",
   "execution_count": 8,
   "metadata": {},
   "outputs": [
    {
     "name": "stdout",
     "output_type": "stream",
     "text": [
      "Overwriting src/transfer.py\n"
     ]
    }
   ],
   "source": [
    "%%writefile src/transfer.py\n",
    "#!/usr/bin/env python\n",
    "# -*- coding: utf-8 -*-\n",
    "import gettext\n",
    "langen = gettext.translation('en', './src/locale', languages=['en'])\n",
    "langcn = gettext.translation('zh_CN', './src/locale', languages=['cn'])"
   ]
  },
  {
   "cell_type": "markdown",
   "metadata": {},
   "source": [
    "其中:\n",
    "\n",
    "+ `gettext_te.py`是要翻译模块或app名\n",
    "+ `./locale`是存放翻译文件的路径,\n",
    "+ `languages`参数指定要使用的语言存放的子目录,这里cn表示使用`./locale/cn/LC_MESSAGES/`路径下的翻译文件.\n",
    "\n",
    "这样我们就有了一个`_()`方法来翻译文本"
   ]
  },
  {
   "cell_type": "markdown",
   "metadata": {},
   "source": [
    "> 编辑主模块"
   ]
  },
  {
   "cell_type": "code",
   "execution_count": 9,
   "metadata": {},
   "outputs": [
    {
     "name": "stdout",
     "output_type": "stream",
     "text": [
      "Overwriting src/gettext_te.py\n"
     ]
    }
   ],
   "source": [
    "%%writefile src/gettext_te.py\n",
    "#!/usr/bin/env python\n",
    "# -*- coding: utf-8 -*-\n",
    "from __future__ import print_function\n",
    "from transfer import *\n",
    "langcn.install()\n",
    "print(_(\"Hello world!\"))\n",
    "langen.install()\n",
    "print(_(\"Hello world!\"))"
   ]
  },
  {
   "cell_type": "code",
   "execution_count": 10,
   "metadata": {},
   "outputs": [
    {
     "name": "stdout",
     "output_type": "stream",
     "text": [
      "Hello world!\n",
      "Hello world!\n"
     ]
    }
   ],
   "source": [
    "%run src/gettext_te.py"
   ]
  },
  {
   "cell_type": "markdown",
   "metadata": {},
   "source": [
    "这样每次只要修改对应文件夹的`mo`文件就可以实现本地化翻译了"
   ]
  }
 ],
 "metadata": {
  "kernelspec": {
   "display_name": "Python 3",
   "language": "python",
   "name": "python3"
  },
  "language_info": {
   "codemirror_mode": {
    "name": "ipython",
    "version": 3
   },
   "file_extension": ".py",
   "mimetype": "text/x-python",
   "name": "python",
   "nbconvert_exporter": "python",
   "pygments_lexer": "ipython3",
   "version": "3.6.4"
  }
 },
 "nbformat": 4,
 "nbformat_minor": 1
}
