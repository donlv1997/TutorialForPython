{
 "cells": [
  {
   "cell_type": "markdown",
   "metadata": {},
   "source": [
    "# 调用子进程\n",
    "\n",
    "python经常用于写脚本,写脚本就离不开调用外部程序,这个被称作子进程调用,python原生支持我们可以使用标准库[subprocess](https://docs.python.org/zh-cn/3/library/subprocess.html),如果我们需要异步的使用子进程,还可以使用[asyncio.create_subprocess_shell](https://docs.python.org/zh-cn/3/library/asyncio-subprocess.html)"
   ]
  },
  {
   "cell_type": "markdown",
   "metadata": {},
   "source": [
    "## 使用subprocess\n",
    "\n",
    "我们调用接口`subprocess.run(args, *, stdin=None, input=None, stdout=None, stderr=None, capture_output=False, shell=False, cwd=None, timeout=None, check=False, encoding=None, errors=None, text=None, env=None, universal_newlines=None)`来执行子进程的调用,通常我们会比较关注下面几个参数:\n",
    "\n",
    "+ `args`要执行的命令行命令,最好使用字符串,也支持字符串组成的序列,\n",
    "+ `capture_output`标明是否要捕获子进程的输出\n",
    "+ `timeout`表示如果子进程多久没有执行完成会被杀死\n",
    "+ `check`表示当子进程报错时这个run函数的执行也会报`CalledProcessError`\n",
    "+ `shell`指定是否使用shell执行程序\n",
    "+ `cwd`指定工作的路径,如果是None则在执行脚本所在路径上执行\n",
    "+ `env`参数的值只能是字典或者None,用于设定执行时用的环境变量\n",
    "+ `input`用于传入执行时的输入,如果有`text`参数或者使用`encoding`指定了字符串编码,则传入的是字符串,否则传入的只能是字节串"
   ]
  },
  {
   "cell_type": "code",
   "execution_count": 1,
   "metadata": {},
   "outputs": [],
   "source": [
    "import subprocess"
   ]
  },
  {
   "cell_type": "code",
   "execution_count": 7,
   "metadata": {},
   "outputs": [],
   "source": [
    "cp = subprocess.run(\"ls -la\",capture_output=True, shell=True, check=True)"
   ]
  },
  {
   "cell_type": "code",
   "execution_count": 8,
   "metadata": {},
   "outputs": [
    {
     "data": {
      "text/plain": [
       "0"
      ]
     },
     "execution_count": 8,
     "metadata": {},
     "output_type": "execute_result"
    }
   ],
   "source": [
    "cp.returncode"
   ]
  },
  {
   "cell_type": "code",
   "execution_count": 12,
   "metadata": {},
   "outputs": [
    {
     "name": "stdout",
     "output_type": "stream",
     "text": [
      "total 88\n",
      "drwxr-xr-x  14 huangsizhe  staff    448  6 22 16:12 .\n",
      "drwxr-xr-x  17 huangsizhe  staff    544  6  6 10:39 ..\n",
      "-rw-r--r--@  1 huangsizhe  staff   6148  5 15 20:18 .DS_Store\n",
      "drwxr-xr-x  14 huangsizhe  staff    448  6 21 23:49 .git\n",
      "-rw-r--r--   1 huangsizhe  staff   1203  4  9 00:57 .gitignore\n",
      "drwxr-xr-x   5 huangsizhe  staff    160  6 22 15:58 .ipynb_checkpoints\n",
      "-rw-r--r--   1 huangsizhe  staff   1074  4  9 00:57 LICENSE\n",
      "-rw-r--r--   1 huangsizhe  staff    494  5 15 18:50 README.md\n",
      "drwxr-xr-x   2 huangsizhe  staff     64  4  9 01:40 img\n",
      "drwxr-xr-x  11 huangsizhe  staff    352  4  9 00:57 国际化\n",
      "-rw-r--r--   1 huangsizhe  staff   6745  6 22 15:57 定时任务.ipynb\n",
      "-rw-r--r--   1 huangsizhe  staff   2643  6 22 16:12 调用子进程.ipynb\n",
      "-rw-r--r--   1 huangsizhe  staff  11066  6 21 23:46 结构数据验证.ipynb\n",
      "drwxr-xr-x   9 huangsizhe  staff    288  4  9 00:57 数据压缩与归档\n",
      "\n"
     ]
    }
   ],
   "source": [
    "print(cp.stdout.decode(\"utf-8\"))"
   ]
  },
  {
   "cell_type": "markdown",
   "metadata": {},
   "source": [
    "## 使用asyncio来执行子进程\n",
    "\n",
    "和`subprocess`类似,asyncio有一个异步实现的`subprocess`"
   ]
  },
  {
   "cell_type": "code",
   "execution_count": 15,
   "metadata": {},
   "outputs": [
    {
     "name": "stdout",
     "output_type": "stream",
     "text": [
      "['ls -la' exited with 0]\n",
      "[stdout]\n",
      "total 96\n",
      "drwxr-xr-x  14 huangsizhe  staff    448  6 22 16:30 .\n",
      "drwxr-xr-x  17 huangsizhe  staff    544  6  6 10:39 ..\n",
      "-rw-r--r--@  1 huangsizhe  staff   6148  5 15 20:18 .DS_Store\n",
      "drwxr-xr-x  14 huangsizhe  staff    448  6 21 23:49 .git\n",
      "-rw-r--r--   1 huangsizhe  staff   1203  4  9 00:57 .gitignore\n",
      "drwxr-xr-x   5 huangsizhe  staff    160  6 22 15:58 .ipynb_checkpoints\n",
      "-rw-r--r--   1 huangsizhe  staff   1074  4  9 00:57 LICENSE\n",
      "-rw-r--r--   1 huangsizhe  staff    494  5 15 18:50 README.md\n",
      "drwxr-xr-x   2 huangsizhe  staff     64  4  9 01:40 img\n",
      "drwxr-xr-x  11 huangsizhe  staff    352  4  9 00:57 国际化\n",
      "-rw-r--r--   1 huangsizhe  staff   6745  6 22 15:57 定时任务.ipynb\n",
      "-rw-r--r--   1 huangsizhe  staff   5042  6 22 16:30 调用子进程.ipynb\n",
      "-rw-r--r--   1 huangsizhe  staff  11066  6 21 23:46 结构数据验证.ipynb\n",
      "drwxr-xr-x   9 huangsizhe  staff    288  4  9 00:57 数据压缩与归档\n",
      "\n"
     ]
    }
   ],
   "source": [
    "import asyncio\n",
    "cmd = \"ls -la\"\n",
    "proc = await asyncio.create_subprocess_shell(\n",
    "    cmd,\n",
    "    stdout=asyncio.subprocess.PIPE,\n",
    "    stderr=asyncio.subprocess.PIPE\n",
    ")\n",
    "\n",
    "stdout, stderr = await proc.communicate()\n",
    "\n",
    "print(f'[{cmd!r} exited with {proc.returncode}]')\n",
    "if stdout:\n",
    "    print(f'[stdout]\\n{stdout.decode()}')\n",
    "if stderr:\n",
    "    print(f'[stderr]\\n{stderr.decode()}')"
   ]
  }
 ],
 "metadata": {
  "kernelspec": {
   "display_name": "Python 3",
   "language": "python",
   "name": "python3"
  },
  "language_info": {
   "codemirror_mode": {
    "name": "ipython",
    "version": 3
   },
   "file_extension": ".py",
   "mimetype": "text/x-python",
   "name": "python",
   "nbconvert_exporter": "python",
   "pygments_lexer": "ipython3",
   "version": "3.7.2"
  }
 },
 "nbformat": 4,
 "nbformat_minor": 2
}
